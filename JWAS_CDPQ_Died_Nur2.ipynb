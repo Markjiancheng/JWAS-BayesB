{
 "cells": [
  {
   "cell_type": "code",
   "execution_count": 9,
   "metadata": {},
   "outputs": [],
   "source": [
    "#using Pkg\n",
    "#Pkg.add(PackageSpec(name=\"JWAS\",rev=\"master\"))\n",
    "#Pkg.add(\"RecipesBase\")\n",
    "#using RecipesBase"
   ]
  },
  {
   "cell_type": "code",
   "execution_count": 10,
   "metadata": {},
   "outputs": [
    {
     "name": "stdout",
     "output_type": "stream",
     "text": [
      "\u001b[32m\u001b[1m  Building\u001b[22m\u001b[39m GR → `/opt/julia/packages/GR/f1Iqi/deps/build.log`\n"
     ]
    }
   ],
   "source": [
    "# make plot work\n",
    "#ENV[\"GRDIR\"]=\"\"\n",
    "#Pkg.build(\"GR\")"
   ]
  },
  {
   "cell_type": "code",
   "execution_count": null,
   "metadata": {},
   "outputs": [],
   "source": [
    "#methods(add_genotypes)"
   ]
  },
  {
   "cell_type": "code",
   "execution_count": 1,
   "metadata": {},
   "outputs": [
    {
     "name": "stderr",
     "output_type": "stream",
     "text": [
      "┌ Info: Recompiling stale cache file /opt/julia/compiled/v1.1/JWAS/tbeXw.ji for JWAS [c9a035f4-d403-5e6b-8649-6be755bc4798]\n",
      "└ @ Base loading.jl:1184\n",
      "┌ Info: Recompiling stale cache file /opt/julia/compiled/v1.1/Plots/ld3vC.ji for Plots [91a5bcdd-55d7-5caf-9e0b-520d859cae80]\n",
      "└ @ Base loading.jl:1184\n"
     ]
    }
   ],
   "source": [
    "using DataFrames              # package for working with data sets\n",
    "using JWAS                    # package for Bayesian regression analyses, including BayesB and BayesCπ        \n",
    "#using JWAS:misc               # utility functions\n",
    "using JWAS.Datasets\n",
    "using Distributions       \n",
    "using Plots                   # package for plotting \n",
    "using CSV\n",
    "using LinearAlgebra,Statistics,Random,DelimitedFiles, DataFrames"
   ]
  },
  {
   "cell_type": "code",
   "execution_count": 5,
   "metadata": {},
   "outputs": [
    {
     "data": {
      "text/html": [
       "<table class=\"data-frame\"><thead><tr><th></th><th>ID</th><th>Cycle</th><th>BatchNum</th><th>Batch</th><th>Company</th><th>SowID</th><th>NurEnrich</th><th>QNurPenBatch</th><th>NurPenBatch</th></tr><tr><th></th><th>String</th><th>Int64</th><th>Int64</th><th>String</th><th>String</th><th>String</th><th>Bool</th><th>String</th><th>String?</th></tr></thead><tbody><p>3,205 rows × 49 columns (omitted printing of 40 columns)</p><tr><th>1</th><td>0001</td><td>1</td><td>1</td><td>1B</td><td>A</td><td>1B_1715</td><td>false</td><td>1B_D04</td><td>1B_D04</td></tr><tr><th>2</th><td>0002</td><td>1</td><td>1</td><td>1B</td><td>A</td><td>1B_1642</td><td>false</td><td>1B_D04</td><td>1B_D04</td></tr><tr><th>3</th><td>0004</td><td>1</td><td>1</td><td>1B</td><td>A</td><td>1B_2150</td><td>false</td><td>1B_D04</td><td>1B_D04</td></tr><tr><th>4</th><td>0005</td><td>1</td><td>1</td><td>1B</td><td>A</td><td>1B_1980</td><td>false</td><td>1B_D04</td><td>1B_D04</td></tr><tr><th>5</th><td>0006</td><td>1</td><td>1</td><td>1B</td><td>A</td><td>1B_1902</td><td>false</td><td>1B_D04</td><td>1B_D04</td></tr><tr><th>6</th><td>0007</td><td>1</td><td>1</td><td>1B</td><td>A</td><td>1B_2150</td><td>false</td><td>1B_D04</td><td>1B_D04</td></tr><tr><th>7</th><td>0009</td><td>1</td><td>1</td><td>1B</td><td>A</td><td>1B_1902</td><td>false</td><td>1B_D02</td><td>1B_D02</td></tr><tr><th>8</th><td>0010</td><td>1</td><td>1</td><td>1B</td><td>A</td><td>1B_1885</td><td>false</td><td>1B_D02</td><td>1B_D02</td></tr><tr><th>9</th><td>0011</td><td>1</td><td>1</td><td>1B</td><td>A</td><td>1B_2097</td><td>false</td><td>1B_D02</td><td>1B_D02</td></tr><tr><th>10</th><td>0012</td><td>1</td><td>1</td><td>1B</td><td>A</td><td>1B_1902</td><td>false</td><td>1B_D02</td><td>1B_D02</td></tr><tr><th>11</th><td>0013</td><td>1</td><td>1</td><td>1B</td><td>A</td><td>1B_1643</td><td>false</td><td>1B_D02</td><td>1B_D02</td></tr><tr><th>12</th><td>0014</td><td>1</td><td>1</td><td>1B</td><td>A</td><td>1B_2150</td><td>false</td><td>1B_D02</td><td>1B_D02</td></tr><tr><th>13</th><td>0015</td><td>1</td><td>1</td><td>1B</td><td>A</td><td>1B_1980</td><td>false</td><td>1B_B06</td><td>1B_B06</td></tr><tr><th>14</th><td>0016</td><td>1</td><td>1</td><td>1B</td><td>A</td><td>1B_1980</td><td>false</td><td>1B_B06</td><td>1B_B06</td></tr><tr><th>15</th><td>0017</td><td>1</td><td>1</td><td>1B</td><td>A</td><td>1B_2048</td><td>false</td><td>1B_B06</td><td>1B_B06</td></tr><tr><th>16</th><td>0018</td><td>1</td><td>1</td><td>1B</td><td>A</td><td>1B_1642</td><td>false</td><td>1B_B06</td><td>1B_B06</td></tr><tr><th>17</th><td>0019</td><td>1</td><td>1</td><td>1B</td><td>A</td><td>1B_2223</td><td>false</td><td>1B_B06</td><td>1B_B06</td></tr><tr><th>18</th><td>0020</td><td>1</td><td>1</td><td>1B</td><td>A</td><td>1B_1486</td><td>false</td><td>1B_B06</td><td>1B_B06</td></tr><tr><th>19</th><td>0021</td><td>1</td><td>1</td><td>1B</td><td>A</td><td>1B_1643</td><td>false</td><td>1B_B06</td><td>1B_B06</td></tr><tr><th>20</th><td>0022</td><td>1</td><td>1</td><td>1B</td><td>A</td><td>1B_2223</td><td>false</td><td>1B_B04</td><td>1B_B04</td></tr><tr><th>21</th><td>0023</td><td>1</td><td>1</td><td>1B</td><td>A</td><td>1B_2154</td><td>false</td><td>1B_B04</td><td>1B_B04</td></tr><tr><th>22</th><td>0024</td><td>1</td><td>1</td><td>1B</td><td>A</td><td>1B_2223</td><td>false</td><td>1B_B04</td><td>1B_B04</td></tr><tr><th>23</th><td>0025</td><td>1</td><td>1</td><td>1B</td><td>A</td><td>1B_1870</td><td>false</td><td>1B_B04</td><td>1B_B04</td></tr><tr><th>24</th><td>0026</td><td>1</td><td>1</td><td>1B</td><td>A</td><td>1B_2065</td><td>false</td><td>1B_B04</td><td>1B_B04</td></tr><tr><th>25</th><td>0027</td><td>1</td><td>1</td><td>1B</td><td>A</td><td>1B_2239</td><td>false</td><td>1B_B04</td><td>1B_B04</td></tr><tr><th>26</th><td>0028</td><td>1</td><td>1</td><td>1B</td><td>A</td><td>1B_1486</td><td>false</td><td>1B_B04</td><td>1B_B04</td></tr><tr><th>27</th><td>0029</td><td>1</td><td>1</td><td>1B</td><td>A</td><td>1B_2149</td><td>false</td><td>1B_B09</td><td>1B_B09</td></tr><tr><th>28</th><td>0030</td><td>1</td><td>1</td><td>1B</td><td>A</td><td>1B_1520</td><td>false</td><td>1B_B09</td><td>1B_B09</td></tr><tr><th>29</th><td>0031</td><td>1</td><td>1</td><td>1B</td><td>A</td><td>1B_1784</td><td>false</td><td>1B_B09</td><td>1B_B09</td></tr><tr><th>30</th><td>0032</td><td>1</td><td>1</td><td>1B</td><td>A</td><td>1B_2048</td><td>false</td><td>1B_B09</td><td>1B_B09</td></tr><tr><th>&vellip;</th><td>&vellip;</td><td>&vellip;</td><td>&vellip;</td><td>&vellip;</td><td>&vellip;</td><td>&vellip;</td><td>&vellip;</td><td>&vellip;</td><td>&vellip;</td></tr></tbody></table>"
      ],
      "text/latex": [
       "\\begin{tabular}{r|cccccccccc}\n",
       "\t& ID & Cycle & BatchNum & Batch & Company & SowID & NurEnrich & QNurPenBatch & NurPenBatch & \\\\\n",
       "\t\\hline\n",
       "\t& String & Int64 & Int64 & String & String & String & Bool & String & String? & \\\\\n",
       "\t\\hline\n",
       "\t1 & 0001 & 1 & 1 & 1B & A & 1B\\_1715 & false & 1B\\_D04 & 1B\\_D04 & $\\dots$ \\\\\n",
       "\t2 & 0002 & 1 & 1 & 1B & A & 1B\\_1642 & false & 1B\\_D04 & 1B\\_D04 & $\\dots$ \\\\\n",
       "\t3 & 0004 & 1 & 1 & 1B & A & 1B\\_2150 & false & 1B\\_D04 & 1B\\_D04 & $\\dots$ \\\\\n",
       "\t4 & 0005 & 1 & 1 & 1B & A & 1B\\_1980 & false & 1B\\_D04 & 1B\\_D04 & $\\dots$ \\\\\n",
       "\t5 & 0006 & 1 & 1 & 1B & A & 1B\\_1902 & false & 1B\\_D04 & 1B\\_D04 & $\\dots$ \\\\\n",
       "\t6 & 0007 & 1 & 1 & 1B & A & 1B\\_2150 & false & 1B\\_D04 & 1B\\_D04 & $\\dots$ \\\\\n",
       "\t7 & 0009 & 1 & 1 & 1B & A & 1B\\_1902 & false & 1B\\_D02 & 1B\\_D02 & $\\dots$ \\\\\n",
       "\t8 & 0010 & 1 & 1 & 1B & A & 1B\\_1885 & false & 1B\\_D02 & 1B\\_D02 & $\\dots$ \\\\\n",
       "\t9 & 0011 & 1 & 1 & 1B & A & 1B\\_2097 & false & 1B\\_D02 & 1B\\_D02 & $\\dots$ \\\\\n",
       "\t10 & 0012 & 1 & 1 & 1B & A & 1B\\_1902 & false & 1B\\_D02 & 1B\\_D02 & $\\dots$ \\\\\n",
       "\t11 & 0013 & 1 & 1 & 1B & A & 1B\\_1643 & false & 1B\\_D02 & 1B\\_D02 & $\\dots$ \\\\\n",
       "\t12 & 0014 & 1 & 1 & 1B & A & 1B\\_2150 & false & 1B\\_D02 & 1B\\_D02 & $\\dots$ \\\\\n",
       "\t13 & 0015 & 1 & 1 & 1B & A & 1B\\_1980 & false & 1B\\_B06 & 1B\\_B06 & $\\dots$ \\\\\n",
       "\t14 & 0016 & 1 & 1 & 1B & A & 1B\\_1980 & false & 1B\\_B06 & 1B\\_B06 & $\\dots$ \\\\\n",
       "\t15 & 0017 & 1 & 1 & 1B & A & 1B\\_2048 & false & 1B\\_B06 & 1B\\_B06 & $\\dots$ \\\\\n",
       "\t16 & 0018 & 1 & 1 & 1B & A & 1B\\_1642 & false & 1B\\_B06 & 1B\\_B06 & $\\dots$ \\\\\n",
       "\t17 & 0019 & 1 & 1 & 1B & A & 1B\\_2223 & false & 1B\\_B06 & 1B\\_B06 & $\\dots$ \\\\\n",
       "\t18 & 0020 & 1 & 1 & 1B & A & 1B\\_1486 & false & 1B\\_B06 & 1B\\_B06 & $\\dots$ \\\\\n",
       "\t19 & 0021 & 1 & 1 & 1B & A & 1B\\_1643 & false & 1B\\_B06 & 1B\\_B06 & $\\dots$ \\\\\n",
       "\t20 & 0022 & 1 & 1 & 1B & A & 1B\\_2223 & false & 1B\\_B04 & 1B\\_B04 & $\\dots$ \\\\\n",
       "\t21 & 0023 & 1 & 1 & 1B & A & 1B\\_2154 & false & 1B\\_B04 & 1B\\_B04 & $\\dots$ \\\\\n",
       "\t22 & 0024 & 1 & 1 & 1B & A & 1B\\_2223 & false & 1B\\_B04 & 1B\\_B04 & $\\dots$ \\\\\n",
       "\t23 & 0025 & 1 & 1 & 1B & A & 1B\\_1870 & false & 1B\\_B04 & 1B\\_B04 & $\\dots$ \\\\\n",
       "\t24 & 0026 & 1 & 1 & 1B & A & 1B\\_2065 & false & 1B\\_B04 & 1B\\_B04 & $\\dots$ \\\\\n",
       "\t25 & 0027 & 1 & 1 & 1B & A & 1B\\_2239 & false & 1B\\_B04 & 1B\\_B04 & $\\dots$ \\\\\n",
       "\t26 & 0028 & 1 & 1 & 1B & A & 1B\\_1486 & false & 1B\\_B04 & 1B\\_B04 & $\\dots$ \\\\\n",
       "\t27 & 0029 & 1 & 1 & 1B & A & 1B\\_2149 & false & 1B\\_B09 & 1B\\_B09 & $\\dots$ \\\\\n",
       "\t28 & 0030 & 1 & 1 & 1B & A & 1B\\_1520 & false & 1B\\_B09 & 1B\\_B09 & $\\dots$ \\\\\n",
       "\t29 & 0031 & 1 & 1 & 1B & A & 1B\\_1784 & false & 1B\\_B09 & 1B\\_B09 & $\\dots$ \\\\\n",
       "\t30 & 0032 & 1 & 1 & 1B & A & 1B\\_2048 & false & 1B\\_B09 & 1B\\_B09 & $\\dots$ \\\\\n",
       "\t$\\dots$ & $\\dots$ & $\\dots$ & $\\dots$ & $\\dots$ & $\\dots$ & $\\dots$ & $\\dots$ & $\\dots$ & $\\dots$ &  \\\\\n",
       "\\end{tabular}\n"
      ],
      "text/plain": [
       "3205×49 DataFrame. Omitted printing of 42 columns\n",
       "│ Row  │ ID     │ Cycle │ BatchNum │ Batch  │ Company │ SowID   │ NurEnrich │\n",
       "│      │ \u001b[90mString\u001b[39m │ \u001b[90mInt64\u001b[39m │ \u001b[90mInt64\u001b[39m    │ \u001b[90mString\u001b[39m │ \u001b[90mString\u001b[39m  │ \u001b[90mString\u001b[39m  │ \u001b[90mBool\u001b[39m      │\n",
       "├──────┼────────┼───────┼──────────┼────────┼─────────┼─────────┼───────────┤\n",
       "│ 1    │ 0001   │ 1     │ 1        │ 1B     │ A       │ 1B_1715 │ false     │\n",
       "│ 2    │ 0002   │ 1     │ 1        │ 1B     │ A       │ 1B_1642 │ false     │\n",
       "│ 3    │ 0004   │ 1     │ 1        │ 1B     │ A       │ 1B_2150 │ false     │\n",
       "│ 4    │ 0005   │ 1     │ 1        │ 1B     │ A       │ 1B_1980 │ false     │\n",
       "│ 5    │ 0006   │ 1     │ 1        │ 1B     │ A       │ 1B_1902 │ false     │\n",
       "│ 6    │ 0007   │ 1     │ 1        │ 1B     │ A       │ 1B_2150 │ false     │\n",
       "│ 7    │ 0009   │ 1     │ 1        │ 1B     │ A       │ 1B_1902 │ false     │\n",
       "│ 8    │ 0010   │ 1     │ 1        │ 1B     │ A       │ 1B_1885 │ false     │\n",
       "│ 9    │ 0011   │ 1     │ 1        │ 1B     │ A       │ 1B_2097 │ false     │\n",
       "│ 10   │ 0012   │ 1     │ 1        │ 1B     │ A       │ 1B_1902 │ false     │\n",
       "⋮\n",
       "│ 3195 │ 3284   │ 7     │ 50       │ 7H     │ B       │ 74      │ false     │\n",
       "│ 3196 │ 3285   │ 7     │ 50       │ 7H     │ B       │ 40      │ false     │\n",
       "│ 3197 │ 3286   │ 7     │ 50       │ 7H     │ B       │ 24      │ false     │\n",
       "│ 3198 │ 3287   │ 7     │ 50       │ 7H     │ B       │ 29      │ true      │\n",
       "│ 3199 │ 3288   │ 7     │ 50       │ 7H     │ B       │ 26      │ true      │\n",
       "│ 3200 │ 3289   │ 7     │ 50       │ 7H     │ B       │ 42      │ true      │\n",
       "│ 3201 │ 3290   │ 7     │ 50       │ 7H     │ B       │ 67      │ true      │\n",
       "│ 3202 │ 3291   │ 7     │ 50       │ 7H     │ B       │ 76      │ false     │\n",
       "│ 3203 │ 3292   │ 7     │ 50       │ 7H     │ B       │ 15      │ false     │\n",
       "│ 3204 │ 3293   │ 7     │ 50       │ 7H     │ B       │ 1       │ false     │\n",
       "│ 3205 │ 3294   │ 7     │ 50       │ 7H     │ B       │ 5       │ false     │"
      ]
     },
     "execution_count": 5,
     "metadata": {},
     "output_type": "execute_result"
    }
   ],
   "source": [
    "phenotypes = CSV.read(\"/home/jovyan/mark/JWAS_CDPQ/CDPQ_all_data/production_1_7_Exp_0.75_Complete.dat\", types=Dict(:ID => String), delim = ' ',header=true, missingstrings=[\"NA\"] )\n",
    "#first(phenotypes,10)"
   ]
  },
  {
   "cell_type": "code",
   "execution_count": 6,
   "metadata": {},
   "outputs": [
    {
     "data": {
      "text/plain": [
       "3175-element Array{Int64,1}:\n",
       " 1\n",
       " 1\n",
       " 1\n",
       " 1\n",
       " 1\n",
       " 1\n",
       " 1\n",
       " 1\n",
       " 1\n",
       " 1\n",
       " 1\n",
       " 1\n",
       " 1\n",
       " ⋮\n",
       " 2\n",
       " 2\n",
       " 2\n",
       " 2\n",
       " 2\n",
       " 2\n",
       " 2\n",
       " 2\n",
       " 2\n",
       " 2\n",
       " 2\n",
       " 2"
      ]
     },
     "execution_count": 6,
     "metadata": {},
     "output_type": "execute_result"
    }
   ],
   "source": [
    "phenotypes= dropmissing(phenotypes, :NurPenBatch)\n",
    "phenotypes= dropmissing(phenotypes, :Died_Nur2)\n",
    "phenotypes[!,:Died_Nur2]=phenotypes[!,:Died_Nur2] .+ 1\n",
    "\n",
    "sort(phenotypes[!,:Died_Nur2])"
   ]
  },
  {
   "cell_type": "code",
   "execution_count": 7,
   "metadata": {},
   "outputs": [],
   "source": [
    "Died_Nur2_model_equations = \"Died_Nur2 = intercept + Batch + EntryAge + NurPenBatch\"\n",
    "Died_Nur2_R=1.00000\n",
    "Died_Nur2_model=build_model(Died_Nur2_model_equations,Died_Nur2_R);"
   ]
  },
  {
   "cell_type": "code",
   "execution_count": 8,
   "metadata": {},
   "outputs": [
    {
     "data": {
      "text/plain": [
       "1-element Array{Symbol,1}:\n",
       " :EntryAge"
      ]
     },
     "execution_count": 8,
     "metadata": {},
     "output_type": "execute_result"
    }
   ],
   "source": [
    "set_covariate(Died_Nur2_model,\"EntryAge\")"
   ]
  },
  {
   "cell_type": "code",
   "execution_count": 9,
   "metadata": {},
   "outputs": [],
   "source": [
    "Died_Nur2_G1=0.535908E-01\n",
    "set_random(Died_Nur2_model,\"NurPenBatch\",Died_Nur2_G1)"
   ]
  },
  {
   "cell_type": "code",
   "execution_count": 2,
   "metadata": {},
   "outputs": [
    {
     "name": "stdout",
     "output_type": "stream",
     "text": [
      " 18.307029 seconds (37.77 k allocations: 10.393 GiB, 0.10% gc time)\n"
     ]
    },
    {
     "data": {
      "text/plain": [
       "3205×435172 Array{Float64,2}:\n",
       " 0.0  2.0  0.0  2.0  2.0  0.0  2.0  2.0  …  0.0  2.0  0.0  2.0  2.0  2.0  2.0\n",
       " 1.0  2.0  0.0  2.0  2.0  0.0  1.0  2.0     0.0  2.0  1.0  2.0  2.0  2.0  2.0\n",
       " 0.0  2.0  0.0  1.0  2.0  0.0  1.0  2.0     0.0  2.0  0.0  2.0  2.0  2.0  2.0\n",
       " 1.0  2.0  0.0  1.0  2.0  0.0  1.0  2.0     0.0  2.0  1.0  2.0  2.0  2.0  2.0\n",
       " 0.0  2.0  0.0  2.0  2.0  0.0  2.0  2.0     0.0  2.0  0.0  2.0  2.0  2.0  2.0\n",
       " 1.0  1.0  1.0  0.0  1.0  1.0  0.0  1.0  …  0.0  2.0  0.0  2.0  2.0  2.0  2.0\n",
       " 0.0  2.0  0.0  1.0  2.0  0.0  1.0  2.0     0.0  2.0  0.0  2.0  2.0  2.0  2.0\n",
       " 0.0  2.0  0.0  0.0  2.0  0.0  0.0  2.0     0.0  2.0  0.0  2.0  2.0  2.0  2.0\n",
       " 1.0  2.0  0.0  0.0  2.0  0.0  0.0  2.0     0.0  2.0  0.0  2.0  2.0  2.0  2.0\n",
       " 0.0  2.0  0.0  2.0  2.0  0.0  2.0  2.0     0.0  2.0  1.0  2.0  2.0  2.0  2.0\n",
       " 1.0  1.0  0.0  1.0  2.0  0.0  0.0  2.0  …  0.0  2.0  0.0  2.0  2.0  2.0  2.0\n",
       " 0.0  2.0  0.0  0.0  2.0  0.0  0.0  2.0     0.0  2.0  0.0  2.0  2.0  2.0  2.0\n",
       " 1.0  1.0  1.0  1.0  1.0  1.0  1.0  1.0     0.0  2.0  1.0  2.0  2.0  2.0  2.0\n",
       " ⋮                        ⋮              ⋱  ⋮                        ⋮       \n",
       " 0.0  2.0  0.0  0.0  2.0  0.0  0.0  2.0     1.0  2.0  0.0  2.0  2.0  2.0  2.0\n",
       " 1.0  2.0  0.0  1.0  2.0  0.0  0.0  2.0     1.0  2.0  0.0  2.0  2.0  2.0  2.0\n",
       " 2.0  2.0  0.0  2.0  2.0  0.0  0.0  2.0  …  1.0  2.0  0.0  2.0  2.0  2.0  2.0\n",
       " 2.0  1.0  1.0  1.0  1.0  1.0  0.0  1.0     1.0  2.0  0.0  2.0  2.0  2.0  2.0\n",
       " 2.0  2.0  0.0  2.0  2.0  0.0  0.0  2.0     0.0  2.0  0.0  2.0  2.0  2.0  2.0\n",
       " 2.0  2.0  0.0  2.0  2.0  0.0  0.0  2.0     1.0  2.0  0.0  2.0  2.0  2.0  2.0\n",
       " 1.0  1.0  1.0  0.0  1.0  1.0  0.0  1.0     0.0  2.0  0.0  2.0  2.0  2.0  2.0\n",
       " 2.0  0.0  2.0  0.0  0.0  2.0  0.0  0.0  …  1.0  2.0  0.0  2.0  2.0  2.0  2.0\n",
       " 0.0  2.0  0.0  1.0  2.0  0.0  1.0  2.0     1.0  2.0  0.0  2.0  2.0  2.0  2.0\n",
       " 1.0  1.0  1.0  1.0  1.0  1.0  1.0  1.0     1.0  2.0  0.0  2.0  2.0  2.0  2.0\n",
       " 0.0  2.0  0.0  1.0  2.0  0.0  1.0  2.0     1.0  2.0  0.0  2.0  2.0  2.0  2.0\n",
       " 1.0  2.0  0.0  1.0  2.0  0.0  0.0  2.0     1.0  2.0  0.0  2.0  2.0  2.0  2.0"
      ]
     },
     "execution_count": 2,
     "metadata": {},
     "output_type": "execute_result"
    }
   ],
   "source": [
    "function readMatBin(fileName)\n",
    "    genStr = open(fileName)\n",
    "    n = read(genStr,Int64)\n",
    "    p = read(genStr,Int64)\n",
    "    M = zeros(n,p)\n",
    "    for j in 1:p\n",
    "        for i in 1:n\n",
    "            M[i,j] = read(genStr,Float64)\n",
    "        end\n",
    "    end\n",
    "    close(genStr)\n",
    "    return M\n",
    "end\n",
    "@time M = readMatBin(\"/home/jovyan/mark/JWAS_CDPQ/CDPQ_all_data/ALGP2_Cycle_1_7_Geno_Complete_Impute_JWAS.bin.gen.bin\")"
   ]
  },
  {
   "cell_type": "code",
   "execution_count": 11,
   "metadata": {},
   "outputs": [
    {
     "data": {
      "text/plain": [
       "3205-element Array{String,1}:\n",
       " \"0001\"\n",
       " \"0002\"\n",
       " \"0004\"\n",
       " \"0005\"\n",
       " \"0006\"\n",
       " \"0007\"\n",
       " \"0009\"\n",
       " \"0010\"\n",
       " \"0011\"\n",
       " \"0012\"\n",
       " \"0013\"\n",
       " \"0014\"\n",
       " \"0015\"\n",
       " ⋮     \n",
       " \"3283\"\n",
       " \"3284\"\n",
       " \"3285\"\n",
       " \"3286\"\n",
       " \"3287\"\n",
       " \"3288\"\n",
       " \"3289\"\n",
       " \"3290\"\n",
       " \"3291\"\n",
       " \"3292\"\n",
       " \"3293\"\n",
       " \"3294\""
      ]
     },
     "execution_count": 11,
     "metadata": {},
     "output_type": "execute_result"
    }
   ],
   "source": [
    "rowID = vec(readdlm(\"/home/jovyan/mark/JWAS_CDPQ/CDPQ_all_data/ALGP2_Cycle_1_7_Geno_Complete_Impute_JWAS.bin.ids.txt\",String))"
   ]
  },
  {
   "cell_type": "code",
   "execution_count": 12,
   "metadata": {},
   "outputs": [
    {
     "name": "stdout",
     "output_type": "stream",
     "text": [
      "\u001b[0m\u001b[1mThe marker IDs are set to 1,2,...,#markers\u001b[22m\n",
      "#markers: 435172; #individuals: 3205\n",
      " 15.705166 seconds (7.96 M allocations: 15.981 GiB, 1.49% gc time)\n"
     ]
    },
    {
     "data": {
      "text/plain": [
       "4.0f0"
      ]
     },
     "execution_count": 12,
     "metadata": {},
     "output_type": "execute_result"
    }
   ],
   "source": [
    "Died_Nur2_G3=0.541156E-01\n",
    "@time add_genotypes(Died_Nur2_model,M,Died_Nur2_G3,header=false, rowID=rowID)\n",
    "#@time add_genotypes(Nur2ADG_model,\"Geno_JWAS_impute.txt\",Nur2ADG_G3,separator=' ')"
   ]
  },
  {
   "cell_type": "code",
   "execution_count": 42,
   "metadata": {},
   "outputs": [
    {
     "data": {
      "text/plain": [
       "0.04885373958297975"
      ]
     },
     "execution_count": 42,
     "metadata": {},
     "output_type": "execute_result"
    }
   ],
   "source": [
    "h2=Died_Nur2_G3/(Died_Nur2_G3+Died_Nur2_G1+ Died_Nur2_R)"
   ]
  },
  {
   "cell_type": "code",
   "execution_count": 43,
   "metadata": {},
   "outputs": [
    {
     "name": "stdout",
     "output_type": "stream",
     "text": [
      "\u001b[32mChecking phenotypes...\u001b[39m\n",
      "\u001b[32mIndividual IDs (strings) are provided in the first column of the phenotypic data.\u001b[39m\n",
      "\n",
      "The prior for marker effects variance is calculated from the genetic variance and π.\n",
      "The mean of the prior for the marker effects variance is: 0.0\n",
      "\n",
      "\n",
      "\n",
      "\u001b[0m\u001b[1mA Linear Mixed Model was build using model equations:\u001b[22m\n",
      "\n",
      "Died_Nur2 = intercept + Batch + EntryAge + NurPenBatch\n",
      "\n",
      "\u001b[0m\u001b[1mModel Information:\u001b[22m\n",
      "\n",
      "Term            C/F          F/R            nLevels\n",
      "intercept       factor       fixed                1\n",
      "Batch           factor       fixed               50\n",
      "EntryAge        covariate    fixed                1\n",
      "NurPenBatch     factor       random             436\n",
      "\n",
      "\u001b[0m\u001b[1mMCMC Information:\u001b[22m\n",
      "\n",
      "methods                                      BayesC\n",
      "                              complete genomic data\n",
      "                   (i.e., non-single-step analysis)\n",
      "chain_length                                  50000\n",
      "burnin                                         5000\n",
      "estimatePi                                    false\n",
      "estimateScale                                 false\n",
      "starting_value                                false\n",
      "printout_frequency                            50001\n",
      "output_samples_frequency                        100\n",
      "constraint                                    false\n",
      "missing_phenotypes                             true\n",
      "update_priors_frequency                           0\n",
      "seed                                          false\n",
      "\n",
      "\u001b[0m\u001b[1mHyper-parameters Information:\u001b[22m\n",
      "\n",
      "random effect variances (NurPenBatch):              [0.054]\n",
      "residual variances:                           1.000\n",
      "genetic variances (genomic):                  0.054\n",
      "marker effect variances:                      0.000\n",
      "π                                               0.0\n",
      "\n",
      "\u001b[0m\u001b[1mDegree of freedom for hyper-parameters:\u001b[22m\n",
      "\n",
      "residual variances:                           4.000\n",
      "iid random effect variances:                  5.000\n",
      "marker effect variances:                      4.000\n",
      "\n",
      "\n",
      "\n",
      "\u001b[31mThe file MCMC_samples_residual_variance.txt already exists!!! It is overwritten by the new output.\u001b[39m\n",
      "\u001b[31mThe file MCMC_samples_marker_effects_Died_Nur2.txt already exists!!! It is overwritten by the new output.\u001b[39m\n",
      "\u001b[31mThe file MCMC_samples_marker_effects_variances.txt already exists!!! It is overwritten by the new output.\u001b[39m\n",
      "\u001b[31mThe file MCMC_samples_pi.txt already exists!!! It is overwritten by the new output.\u001b[39m\n",
      "\u001b[31mThe file MCMC_samples_NurPenBatch_variances.txt already exists!!! It is overwritten by the new output.\u001b[39m\n",
      "\u001b[31mThe file MCMC_samples_EBV_Died_Nur2.txt already exists!!! It is overwritten by the new output.\u001b[39m\n",
      "\u001b[31mThe file MCMC_samples_genetic_variance.txt already exists!!! It is overwritten by the new output.\u001b[39m\n",
      "\u001b[31mThe file MCMC_samples_heritability.txt already exists!!! It is overwritten by the new output.\u001b[39m\n"
     ]
    },
    {
     "name": "stderr",
     "output_type": "stream",
     "text": [
      "\u001b[32mrunning MCMC for BayesC...100%|█████████████████████████| Time: 16:18:36\u001b[39m\n"
     ]
    },
    {
     "name": "stdout",
     "output_type": "stream",
     "text": [
      "\n",
      "\n",
      "\u001b[0m\u001b[1mThe version of Julia and Platform in use:\u001b[22m\n",
      "\n",
      "Julia Version 1.1.0\n",
      "Commit 80516ca202 (2019-01-21 21:24 UTC)\n",
      "Platform Info:\n",
      "  OS: Linux (x86_64-pc-linux-gnu)\n",
      "  CPU: Intel(R) Core(TM) i7-5960X CPU @ 3.00GHz\n",
      "  WORD_SIZE: 64\n",
      "  LIBM: libopenlibm\n",
      "  LLVM: libLLVM-6.0.1 (ORCJIT, haswell)\n",
      "Environment:\n",
      "  JULIA_DEPOT_PATH = /opt/julia\n",
      "  JULIA_PKGDIR = /opt/julia\n",
      "  JULIA_VERSION = 1.1.0\n",
      "\n",
      "\n",
      "\u001b[0m\u001b[1mThe analysis has finished. Results are saved in the returned \u001b[22m\u001b[0m\u001b[1mvariable and text files. MCMC samples are saved in text files.\u001b[22m\n",
      "\n",
      "\n",
      "58738.955738 seconds (2.73 G allocations: 132.467 GiB, 0.07% gc time)\n"
     ]
    },
    {
     "data": {
      "text/plain": [
       "Dict{Any,Any} with 7 entries:\n",
       "  \"marker effects\"          => 435172×5 DataFrame…\n",
       "  \"heritability\"            => 1×3 DataFrame…\n",
       "  \"location parameters\"     => 488×5 DataFrame…\n",
       "  \"residual variance\"       => 1×3 DataFrame…\n",
       "  \"EBV_Died_Nur2\"           => 3205×3 DataFrame…\n",
       "  \"genetic_variance\"        => 1×3 DataFrame…\n",
       "  \"marker effects variance\" => 1×3 DataFrame…"
      ]
     },
     "execution_count": 43,
     "metadata": {},
     "output_type": "execute_result"
    }
   ],
   "source": [
    "@time Died_Nur2_outCPi=runMCMC(Died_Nur2_model,phenotypes,methods=\"BayesC\", missing_phenotypes=true,  categorical_trait = true, chain_length=50000,burnin = 5000,output_heritability=true,  output_samples_frequency=100)"
   ]
  },
  {
   "cell_type": "code",
   "execution_count": 47,
   "metadata": {},
   "outputs": [
    {
     "data": {
      "text/plain": [
       "0.038717287695909756"
      ]
     },
     "execution_count": 47,
     "metadata": {},
     "output_type": "execute_result"
    }
   ],
   "source": [
    "h2=CSV.read(\"MCMC_samples_heritability.txt\",delim = ' ',header=true)\n",
    "insertcols!(h2, 1, :iteration => 1:450) # Add a column called iteration\n",
    "mean(h2[!,:2])"
   ]
  },
  {
   "cell_type": "code",
   "execution_count": 45,
   "metadata": {},
   "outputs": [
    {
     "data": {
      "image/svg+xml": [
       "<?xml version=\"1.0\" encoding=\"utf-8\"?>\n",
       "<svg xmlns=\"http://www.w3.org/2000/svg\" xmlns:xlink=\"http://www.w3.org/1999/xlink\" width=\"600\" height=\"400\" viewBox=\"0 0 2400 1600\">\n",
       "<defs>\n",
       "  <clipPath id=\"clip1100\">\n",
       "    <rect x=\"0\" y=\"0\" width=\"2400\" height=\"1600\"/>\n",
       "  </clipPath>\n",
       "</defs>\n",
       "<path clip-path=\"url(#clip1100)\" d=\"\n",
       "M0 1600 L2400 1600 L2400 0 L0 0  Z\n",
       "  \" fill=\"#ffffff\" fill-rule=\"evenodd\" fill-opacity=\"1\"/>\n",
       "<defs>\n",
       "  <clipPath id=\"clip1101\">\n",
       "    <rect x=\"480\" y=\"0\" width=\"1681\" height=\"1600\"/>\n",
       "  </clipPath>\n",
       "</defs>\n",
       "<path clip-path=\"url(#clip1100)\" d=\"\n",
       "M242.516 1425.62 L2352.76 1425.62 L2352.76 121.675 L242.516 121.675  Z\n",
       "  \" fill=\"#ffffff\" fill-rule=\"evenodd\" fill-opacity=\"1\"/>\n",
       "<defs>\n",
       "  <clipPath id=\"clip1102\">\n",
       "    <rect x=\"242\" y=\"121\" width=\"2111\" height=\"1305\"/>\n",
       "  </clipPath>\n",
       "</defs>\n",
       "<polyline clip-path=\"url(#clip1102)\" style=\"stroke:#000000; stroke-width:2; stroke-opacity:0.1; fill:none\" points=\"\n",
       "  297.806,1425.62 297.806,121.675 \n",
       "  \"/>\n",
       "<polyline clip-path=\"url(#clip1102)\" style=\"stroke:#000000; stroke-width:2; stroke-opacity:0.1; fill:none\" points=\"\n",
       "  741.19,1425.62 741.19,121.675 \n",
       "  \"/>\n",
       "<polyline clip-path=\"url(#clip1102)\" style=\"stroke:#000000; stroke-width:2; stroke-opacity:0.1; fill:none\" points=\"\n",
       "  1184.57,1425.62 1184.57,121.675 \n",
       "  \"/>\n",
       "<polyline clip-path=\"url(#clip1102)\" style=\"stroke:#000000; stroke-width:2; stroke-opacity:0.1; fill:none\" points=\"\n",
       "  1627.96,1425.62 1627.96,121.675 \n",
       "  \"/>\n",
       "<polyline clip-path=\"url(#clip1102)\" style=\"stroke:#000000; stroke-width:2; stroke-opacity:0.1; fill:none\" points=\"\n",
       "  2071.34,1425.62 2071.34,121.675 \n",
       "  \"/>\n",
       "<polyline clip-path=\"url(#clip1102)\" style=\"stroke:#000000; stroke-width:2; stroke-opacity:0.1; fill:none\" points=\"\n",
       "  242.516,1305.63 2352.76,1305.63 \n",
       "  \"/>\n",
       "<polyline clip-path=\"url(#clip1102)\" style=\"stroke:#000000; stroke-width:2; stroke-opacity:0.1; fill:none\" points=\"\n",
       "  242.516,1083.94 2352.76,1083.94 \n",
       "  \"/>\n",
       "<polyline clip-path=\"url(#clip1102)\" style=\"stroke:#000000; stroke-width:2; stroke-opacity:0.1; fill:none\" points=\"\n",
       "  242.516,862.246 2352.76,862.246 \n",
       "  \"/>\n",
       "<polyline clip-path=\"url(#clip1102)\" style=\"stroke:#000000; stroke-width:2; stroke-opacity:0.1; fill:none\" points=\"\n",
       "  242.516,640.556 2352.76,640.556 \n",
       "  \"/>\n",
       "<polyline clip-path=\"url(#clip1102)\" style=\"stroke:#000000; stroke-width:2; stroke-opacity:0.1; fill:none\" points=\"\n",
       "  242.516,418.866 2352.76,418.866 \n",
       "  \"/>\n",
       "<polyline clip-path=\"url(#clip1102)\" style=\"stroke:#000000; stroke-width:2; stroke-opacity:0.1; fill:none\" points=\"\n",
       "  242.516,197.177 2352.76,197.177 \n",
       "  \"/>\n",
       "<polyline clip-path=\"url(#clip1100)\" style=\"stroke:#000000; stroke-width:4; stroke-opacity:1; fill:none\" points=\"\n",
       "  242.516,1425.62 2352.76,1425.62 \n",
       "  \"/>\n",
       "<polyline clip-path=\"url(#clip1100)\" style=\"stroke:#000000; stroke-width:4; stroke-opacity:1; fill:none\" points=\"\n",
       "  242.516,1425.62 242.516,121.675 \n",
       "  \"/>\n",
       "<polyline clip-path=\"url(#clip1100)\" style=\"stroke:#000000; stroke-width:4; stroke-opacity:1; fill:none\" points=\"\n",
       "  297.806,1425.62 297.806,1406.06 \n",
       "  \"/>\n",
       "<polyline clip-path=\"url(#clip1100)\" style=\"stroke:#000000; stroke-width:4; stroke-opacity:1; fill:none\" points=\"\n",
       "  741.19,1425.62 741.19,1406.06 \n",
       "  \"/>\n",
       "<polyline clip-path=\"url(#clip1100)\" style=\"stroke:#000000; stroke-width:4; stroke-opacity:1; fill:none\" points=\"\n",
       "  1184.57,1425.62 1184.57,1406.06 \n",
       "  \"/>\n",
       "<polyline clip-path=\"url(#clip1100)\" style=\"stroke:#000000; stroke-width:4; stroke-opacity:1; fill:none\" points=\"\n",
       "  1627.96,1425.62 1627.96,1406.06 \n",
       "  \"/>\n",
       "<polyline clip-path=\"url(#clip1100)\" style=\"stroke:#000000; stroke-width:4; stroke-opacity:1; fill:none\" points=\"\n",
       "  2071.34,1425.62 2071.34,1406.06 \n",
       "  \"/>\n",
       "<polyline clip-path=\"url(#clip1100)\" style=\"stroke:#000000; stroke-width:4; stroke-opacity:1; fill:none\" points=\"\n",
       "  242.516,1305.63 274.17,1305.63 \n",
       "  \"/>\n",
       "<polyline clip-path=\"url(#clip1100)\" style=\"stroke:#000000; stroke-width:4; stroke-opacity:1; fill:none\" points=\"\n",
       "  242.516,1083.94 274.17,1083.94 \n",
       "  \"/>\n",
       "<polyline clip-path=\"url(#clip1100)\" style=\"stroke:#000000; stroke-width:4; stroke-opacity:1; fill:none\" points=\"\n",
       "  242.516,862.246 274.17,862.246 \n",
       "  \"/>\n",
       "<polyline clip-path=\"url(#clip1100)\" style=\"stroke:#000000; stroke-width:4; stroke-opacity:1; fill:none\" points=\"\n",
       "  242.516,640.556 274.17,640.556 \n",
       "  \"/>\n",
       "<polyline clip-path=\"url(#clip1100)\" style=\"stroke:#000000; stroke-width:4; stroke-opacity:1; fill:none\" points=\"\n",
       "  242.516,418.866 274.17,418.866 \n",
       "  \"/>\n",
       "<polyline clip-path=\"url(#clip1100)\" style=\"stroke:#000000; stroke-width:4; stroke-opacity:1; fill:none\" points=\"\n",
       "  242.516,197.177 274.17,197.177 \n",
       "  \"/>\n",
       "<g clip-path=\"url(#clip1100)\">\n",
       "<text style=\"fill:#000000; fill-opacity:1; font-family:Arial,Helvetica Neue,Helvetica,sans-serif; font-size:48px; text-anchor:middle;\" transform=\"rotate(0, 297.806, 1479.62)\" x=\"297.806\" y=\"1479.62\">0</text>\n",
       "</g>\n",
       "<g clip-path=\"url(#clip1100)\">\n",
       "<text style=\"fill:#000000; fill-opacity:1; font-family:Arial,Helvetica Neue,Helvetica,sans-serif; font-size:48px; text-anchor:middle;\" transform=\"rotate(0, 741.19, 1479.62)\" x=\"741.19\" y=\"1479.62\">100</text>\n",
       "</g>\n",
       "<g clip-path=\"url(#clip1100)\">\n",
       "<text style=\"fill:#000000; fill-opacity:1; font-family:Arial,Helvetica Neue,Helvetica,sans-serif; font-size:48px; text-anchor:middle;\" transform=\"rotate(0, 1184.57, 1479.62)\" x=\"1184.57\" y=\"1479.62\">200</text>\n",
       "</g>\n",
       "<g clip-path=\"url(#clip1100)\">\n",
       "<text style=\"fill:#000000; fill-opacity:1; font-family:Arial,Helvetica Neue,Helvetica,sans-serif; font-size:48px; text-anchor:middle;\" transform=\"rotate(0, 1627.96, 1479.62)\" x=\"1627.96\" y=\"1479.62\">300</text>\n",
       "</g>\n",
       "<g clip-path=\"url(#clip1100)\">\n",
       "<text style=\"fill:#000000; fill-opacity:1; font-family:Arial,Helvetica Neue,Helvetica,sans-serif; font-size:48px; text-anchor:middle;\" transform=\"rotate(0, 2071.34, 1479.62)\" x=\"2071.34\" y=\"1479.62\">400</text>\n",
       "</g>\n",
       "<g clip-path=\"url(#clip1100)\">\n",
       "<text style=\"fill:#000000; fill-opacity:1; font-family:Arial,Helvetica Neue,Helvetica,sans-serif; font-size:48px; text-anchor:end;\" transform=\"rotate(0, 218.516, 1323.13)\" x=\"218.516\" y=\"1323.13\">0.02</text>\n",
       "</g>\n",
       "<g clip-path=\"url(#clip1100)\">\n",
       "<text style=\"fill:#000000; fill-opacity:1; font-family:Arial,Helvetica Neue,Helvetica,sans-serif; font-size:48px; text-anchor:end;\" transform=\"rotate(0, 218.516, 1101.44)\" x=\"218.516\" y=\"1101.44\">0.03</text>\n",
       "</g>\n",
       "<g clip-path=\"url(#clip1100)\">\n",
       "<text style=\"fill:#000000; fill-opacity:1; font-family:Arial,Helvetica Neue,Helvetica,sans-serif; font-size:48px; text-anchor:end;\" transform=\"rotate(0, 218.516, 879.746)\" x=\"218.516\" y=\"879.746\">0.04</text>\n",
       "</g>\n",
       "<g clip-path=\"url(#clip1100)\">\n",
       "<text style=\"fill:#000000; fill-opacity:1; font-family:Arial,Helvetica Neue,Helvetica,sans-serif; font-size:48px; text-anchor:end;\" transform=\"rotate(0, 218.516, 658.056)\" x=\"218.516\" y=\"658.056\">0.05</text>\n",
       "</g>\n",
       "<g clip-path=\"url(#clip1100)\">\n",
       "<text style=\"fill:#000000; fill-opacity:1; font-family:Arial,Helvetica Neue,Helvetica,sans-serif; font-size:48px; text-anchor:end;\" transform=\"rotate(0, 218.516, 436.366)\" x=\"218.516\" y=\"436.366\">0.06</text>\n",
       "</g>\n",
       "<g clip-path=\"url(#clip1100)\">\n",
       "<text style=\"fill:#000000; fill-opacity:1; font-family:Arial,Helvetica Neue,Helvetica,sans-serif; font-size:48px; text-anchor:end;\" transform=\"rotate(0, 218.516, 214.677)\" x=\"218.516\" y=\"214.677\">0.07</text>\n",
       "</g>\n",
       "<g clip-path=\"url(#clip1100)\">\n",
       "<text style=\"fill:#000000; fill-opacity:1; font-family:Arial,Helvetica Neue,Helvetica,sans-serif; font-size:84px; text-anchor:middle;\" transform=\"rotate(0, 1297.64, 73.2)\" x=\"1297.64\" y=\"73.2\">h2 trace plot</text>\n",
       "</g>\n",
       "<g clip-path=\"url(#clip1100)\">\n",
       "<text style=\"fill:#000000; fill-opacity:1; font-family:Arial,Helvetica Neue,Helvetica,sans-serif; font-size:66px; text-anchor:middle;\" transform=\"rotate(0, 1297.64, 1559.48)\" x=\"1297.64\" y=\"1559.48\">iteration</text>\n",
       "</g>\n",
       "<g clip-path=\"url(#clip1100)\">\n",
       "<text style=\"fill:#000000; fill-opacity:1; font-family:Arial,Helvetica Neue,Helvetica,sans-serif; font-size:66px; text-anchor:middle;\" transform=\"rotate(-90, 89.2861, 773.647)\" x=\"89.2861\" y=\"773.647\">h2</text>\n",
       "</g>\n",
       "<polyline clip-path=\"url(#clip1102)\" style=\"stroke:#009af9; stroke-width:4; stroke-opacity:1; fill:none\" points=\"\n",
       "  302.24,661.325 306.674,733.641 311.108,625.425 315.542,551.892 319.976,741.71 324.409,587.929 328.843,599.702 333.277,637.15 337.711,738.303 342.145,655.812 \n",
       "  346.579,720.942 351.012,735.559 355.446,653.966 359.88,715.669 364.314,523.656 368.748,591.168 373.182,543.577 377.615,537.757 382.049,589.942 386.483,592.776 \n",
       "  390.917,540.108 395.351,586.895 399.785,511.18 404.218,731.652 408.652,490.228 413.086,473.314 417.52,605.311 421.954,693.112 426.388,586.103 430.821,571.582 \n",
       "  435.255,557.675 439.689,592.446 444.123,681.248 448.557,658.855 452.991,585.464 457.424,567.537 461.858,649.957 466.292,782.84 470.726,791.463 475.16,578.014 \n",
       "  479.594,733.17 484.027,612.596 488.461,773.894 492.895,694.115 497.329,743.283 501.763,813.52 506.197,649.408 510.63,622.094 515.064,705.575 519.498,691.586 \n",
       "  523.932,712.686 528.366,660.933 532.8,729.375 537.233,712.661 541.667,719.732 546.101,800.496 550.535,723.925 554.969,632.446 559.403,618.033 563.836,562.87 \n",
       "  568.27,656.788 572.704,769.8 577.138,655.516 581.572,666.821 586.006,733.359 590.439,755.227 594.873,729.026 599.307,610.451 603.741,589.94 608.175,623.724 \n",
       "  612.609,158.579 617.042,540.951 621.476,535.492 625.91,528.353 630.344,631.773 634.778,385.575 639.212,633.716 643.645,633.746 648.079,670.242 652.513,602.751 \n",
       "  656.947,640.458 661.381,709.506 665.815,389.614 670.248,610.811 674.682,666.324 679.116,684.754 683.55,564.093 687.984,665.542 692.418,424.19 696.852,334.986 \n",
       "  701.285,605.694 705.719,597.805 710.153,679.27 714.587,677.364 719.021,744.973 723.455,727.029 727.888,683.076 732.322,731.705 736.756,615.391 741.19,830.213 \n",
       "  745.624,834.391 750.058,787.329 754.491,729.82 758.925,770.428 763.359,919.328 767.793,770.125 772.227,807.257 776.661,850.636 781.094,816.424 785.528,688.932 \n",
       "  789.962,848.665 794.396,745.783 798.83,632.66 803.264,761.304 807.697,695.082 812.131,872.368 816.565,898.087 820.999,834.655 825.433,755.386 829.867,737.558 \n",
       "  834.3,724.517 838.734,792.002 843.168,847.963 847.602,732.3 852.036,739.124 856.47,672.283 860.903,773.53 865.337,677.294 869.771,665.646 874.205,825.863 \n",
       "  878.639,670.065 883.073,665.148 887.506,757.162 891.94,749.767 896.374,513.689 900.808,449.513 905.242,623.598 909.676,538.641 914.109,647.899 918.543,519.925 \n",
       "  922.977,588.169 927.411,555.697 931.845,622.019 936.279,432.562 940.712,537.778 945.146,616.036 949.58,507.719 954.014,703.88 958.448,565.333 962.882,518.011 \n",
       "  967.315,614.682 971.749,450.7 976.183,229.324 980.617,211.023 985.051,375.419 989.485,638.704 993.918,590.038 998.352,625.835 1002.79,658.83 1007.22,694.5 \n",
       "  1011.65,580.927 1016.09,544.299 1020.52,382.555 1024.96,624.997 1029.39,714.261 1033.82,708.462 1038.26,741.722 1042.69,790.704 1047.12,718.784 1051.56,608.226 \n",
       "  1055.99,591.225 1060.43,686.849 1064.86,611.02 1069.29,327.322 1073.73,738.361 1078.16,615.237 1082.6,606.046 1087.03,545.284 1091.46,719.358 1095.9,727.047 \n",
       "  1100.33,628.75 1104.76,740.758 1109.2,740.757 1113.63,788.899 1118.07,667.419 1122.5,706.499 1126.93,780.363 1131.37,747.277 1135.8,786.494 1140.24,788.613 \n",
       "  1144.67,853.803 1149.1,800.966 1153.54,898.927 1157.97,698.166 1162.4,717.495 1166.84,714.763 1171.27,697.832 1175.71,577.806 1180.14,706.021 1184.57,727.451 \n",
       "  1189.01,661.273 1193.44,635.292 1197.87,719.945 1202.31,889.168 1206.74,800.054 1211.18,656.565 1215.61,673.93 1220.04,690.455 1224.48,679.72 1228.91,620.833 \n",
       "  1233.35,578.036 1237.78,787.06 1242.21,532.888 1246.65,811.461 1251.08,769.668 1255.51,745.018 1259.95,767.631 1264.38,773.186 1268.82,861.839 1273.25,805.362 \n",
       "  1277.68,785.165 1282.12,809.521 1286.55,701.589 1290.99,630.627 1295.42,659.966 1299.85,800.095 1304.29,571.1 1308.72,553.597 1313.15,844.237 1317.59,851.565 \n",
       "  1322.02,861.349 1326.46,693.556 1330.89,827.774 1335.32,749.191 1339.76,703.918 1344.19,823.978 1348.63,696.126 1353.06,761.884 1357.49,828.852 1361.93,740.856 \n",
       "  1366.36,726.185 1370.79,858.155 1375.23,699.105 1379.66,598.425 1384.1,740.478 1388.53,693.252 1392.96,743.303 1397.4,663.624 1401.83,829.906 1406.27,796.337 \n",
       "  1410.7,757.659 1415.13,694.268 1419.57,701.044 1424,750.861 1428.43,874.022 1432.87,888.342 1437.3,862.276 1441.74,890.053 1446.17,834.233 1450.6,795.123 \n",
       "  1455.04,766.156 1459.47,772.339 1463.9,910.754 1468.34,921.923 1472.77,815.431 1477.21,797.301 1481.64,885.476 1486.07,866.406 1490.51,833.918 1494.94,911.217 \n",
       "  1499.38,947.428 1503.81,826.255 1508.24,923.454 1512.68,838.243 1517.11,746.681 1521.54,916.042 1525.98,1023.58 1530.41,1005.2 1534.85,871.981 1539.28,703.769 \n",
       "  1543.71,840.199 1548.15,734.223 1552.58,785.211 1557.02,882.013 1561.45,808.456 1565.88,625.777 1570.32,796.853 1574.75,827.08 1579.18,784.778 1583.62,926.755 \n",
       "  1588.05,1010.26 1592.49,928.688 1596.92,1022.8 1601.35,1004.5 1605.79,1017.86 1610.22,965.999 1614.66,1077.97 1619.09,993.791 1623.52,1056.22 1627.96,1036.94 \n",
       "  1632.39,1104.81 1636.82,1190.88 1641.26,1030.74 1645.69,1180.28 1650.13,1206.76 1654.56,1179.35 1658.99,1174.66 1663.43,1189.56 1667.86,1218.47 1672.3,1157.95 \n",
       "  1676.73,1011.88 1681.16,1053.57 1685.6,1148.68 1690.03,1100.8 1694.46,1211.8 1698.9,1190.77 1703.33,1113.4 1707.77,1242.58 1712.2,1181.84 1716.63,1228.17 \n",
       "  1721.07,1234.82 1725.5,1230.66 1729.94,1142.02 1734.37,1272.52 1738.8,1300.88 1743.24,1200.14 1747.67,1192.32 1752.1,1263.63 1756.54,1279.64 1760.97,1280.47 \n",
       "  1765.41,1310.18 1769.84,1260.52 1774.27,1322.61 1778.71,1289.41 1783.14,1309.86 1787.57,1182.85 1792.01,1286.02 1796.44,1254.41 1800.88,1313.33 1805.31,1284.73 \n",
       "  1809.74,1357.25 1814.18,1300.75 1818.61,1354.59 1823.05,1379.18 1827.48,1308.01 1831.91,1320.42 1836.35,1310.39 1840.78,1311.17 1845.21,1385.36 1849.65,1332.32 \n",
       "  1854.08,1326.8 1858.52,1294.17 1862.95,1295.6 1867.38,1272.37 1871.82,1229.56 1876.25,1379.73 1880.69,1356.21 1885.12,1329.81 1889.55,1281.72 1893.99,1265.98 \n",
       "  1898.42,1352.04 1902.85,1327.12 1907.29,1301.3 1911.72,1379.89 1916.16,1388.71 1920.59,1355.12 1925.02,1297.86 1929.46,1294.79 1933.89,1219.05 1938.33,1355.13 \n",
       "  1942.76,1357.51 1947.19,1371.43 1951.63,1376.74 1956.06,1336.97 1960.49,1274.92 1964.93,1329.83 1969.36,1301.41 1973.8,1370.72 1978.23,1367.97 1982.66,1368.39 \n",
       "  1987.1,1376.59 1991.53,1357.94 1995.97,1309.15 2000.4,1344.98 2004.83,1300.25 2009.27,1319.35 2013.7,1256.17 2018.13,1301.86 2022.57,1330.62 2027,1327.77 \n",
       "  2031.44,1374.12 2035.87,1263.04 2040.3,1286.06 2044.74,1278.05 2049.17,1318.5 2053.61,1251.44 2058.04,1284.02 2062.47,1270.59 2066.91,1327.75 2071.34,1231.21 \n",
       "  2075.77,1325.02 2080.21,1230.27 2084.64,1274.34 2089.08,1259.88 2093.51,1236.46 2097.94,1159.57 2102.38,1285.98 2106.81,1200.57 2111.24,1140.16 2115.68,1185.1 \n",
       "  2120.11,1239.23 2124.55,1212.72 2128.98,1220.27 2133.41,1203.33 2137.85,1266.2 2142.28,1209.65 2146.72,1140.38 2151.15,1230.19 2155.58,1224.04 2160.02,1221.42 \n",
       "  2164.45,1225.43 2168.88,1232.66 2173.32,1224.19 2177.75,1271.1 2182.19,1240.04 2186.62,1221.22 2191.05,1224.94 2195.49,1159.37 2199.92,1231.91 2204.36,1290.41 \n",
       "  2208.79,1270.61 2213.22,1233.61 2217.66,1162.64 2222.09,1263.55 2226.52,1248.98 2230.96,1284.31 2235.39,1231.33 2239.83,1229.14 2244.26,1261.18 2248.69,1326.1 \n",
       "  2253.13,1287.09 2257.56,1300.38 2262,1265.57 2266.43,1283.89 2270.86,1326.18 2275.3,1291.04 2279.73,1218.49 2284.16,1278.59 2288.6,1277.19 2293.03,1254.32 \n",
       "  \n",
       "  \"/>\n",
       "<path clip-path=\"url(#clip1100)\" d=\"\n",
       "M1989.93 326.155 L2280.76 326.155 L2280.76 205.195 L1989.93 205.195  Z\n",
       "  \" fill=\"#ffffff\" fill-rule=\"evenodd\" fill-opacity=\"1\"/>\n",
       "<polyline clip-path=\"url(#clip1100)\" style=\"stroke:#000000; stroke-width:4; stroke-opacity:1; fill:none\" points=\"\n",
       "  1989.93,326.155 2280.76,326.155 2280.76,205.195 1989.93,205.195 1989.93,326.155 \n",
       "  \"/>\n",
       "<polyline clip-path=\"url(#clip1100)\" style=\"stroke:#009af9; stroke-width:4; stroke-opacity:1; fill:none\" points=\"\n",
       "  2013.93,265.675 2157.93,265.675 \n",
       "  \"/>\n",
       "<g clip-path=\"url(#clip1100)\">\n",
       "<text style=\"fill:#000000; fill-opacity:1; font-family:Arial,Helvetica Neue,Helvetica,sans-serif; font-size:48px; text-anchor:start;\" transform=\"rotate(0, 2181.93, 283.175)\" x=\"2181.93\" y=\"283.175\">y1</text>\n",
       "</g>\n",
       "</svg>\n"
      ]
     },
     "execution_count": 45,
     "metadata": {},
     "output_type": "execute_result"
    }
   ],
   "source": [
    "using Plots\n",
    "x = h2[!,1]; y = h2[!,2]; # These are the plotting data\n",
    "plot(x,y, title = \"h2 trace plot\",\n",
    "        xlabel = \"iteration\", ylabel = \"h2\")"
   ]
  },
  {
   "cell_type": "code",
   "execution_count": 11,
   "metadata": {
    "scrolled": false
   },
   "outputs": [
    {
     "name": "stdout",
     "output_type": "stream",
     "text": [
      "\u001b[32mChecking phenotypes...\u001b[39m\n",
      "\u001b[32mIndividual IDs (strings) are provided in the first column of the phenotypic data.\u001b[39m\n"
     ]
    },
    {
     "name": "stderr",
     "output_type": "stream",
     "text": [
      "┌ Warning: `T` is deprecated, use `nonmissingtype` instead.\n",
      "│   caller = recode at recode.jl:354 [inlined]\n",
      "└ @ Core /opt/julia/packages/CategoricalArrays/xjesC/src/recode.jl:354\n"
     ]
    },
    {
     "name": "stdout",
     "output_type": "stream",
     "text": [
      "\n",
      "The prior for marker effects variance is calculated from the genetic variance and π.\n",
      "The mean of the prior for the marker effects variance is: 0.001593\n",
      "\n",
      "\n",
      "\n",
      "\u001b[0m\u001b[1mA Linear Mixed Model was build using model equations:\u001b[22m\n",
      "\n",
      "Died_Nur2 = intercept + Batch + EntryAge + NurPenBatch\n",
      "\n",
      "\u001b[0m\u001b[1mModel Information:\u001b[22m\n",
      "\n",
      "Term            C/F          F/R            nLevels\n",
      "intercept       factor       fixed                1\n",
      "Batch           factor       fixed               50\n",
      "EntryAge        covariate    fixed                1\n",
      "NurPenBatch     factor       random             436\n",
      "\n",
      "\u001b[0m\u001b[1mMCMC Information:\u001b[22m\n",
      "\n",
      "methods                                      BayesC\n",
      "                              complete genomic data\n",
      "                   (i.e., non-single-step analysis)\n",
      "chain_length                                  50000\n",
      "burnin                                         5000\n",
      "estimatePi                                     true\n",
      "estimateScale                                  true\n",
      "starting_value                                false\n",
      "printout_frequency                            50001\n",
      "output_samples_frequency                        100\n",
      "constraint                                    false\n",
      "missing_phenotypes                             true\n",
      "update_priors_frequency                           0\n",
      "seed                                          false\n",
      "\n",
      "\u001b[0m\u001b[1mHyper-parameters Information:\u001b[22m\n",
      "\n",
      "random effect variances (NurPenBatch):              [0.185]\n",
      "residual variances:                           1.000\n",
      "genetic variances (genomic):                  0.265\n",
      "marker effect variances:                      0.002\n",
      "π                                             0.999\n",
      "\n",
      "\u001b[0m\u001b[1mDegree of freedom for hyper-parameters:\u001b[22m\n",
      "\n",
      "residual variances:                           4.000\n",
      "iid random effect variances:                  5.000\n",
      "marker effect variances:                      4.000\n",
      "\n",
      "\n",
      "\n",
      "\u001b[31mThe file MCMC_samples_residual_variance.txt already exists!!! It is overwritten by the new output.\u001b[39m\n",
      "\u001b[31mThe file MCMC_samples_marker_effects_Died_Nur2.txt already exists!!! It is overwritten by the new output.\u001b[39m\n",
      "\u001b[31mThe file MCMC_samples_marker_effects_variances.txt already exists!!! It is overwritten by the new output.\u001b[39m\n",
      "\u001b[31mThe file MCMC_samples_pi.txt already exists!!! It is overwritten by the new output.\u001b[39m\n",
      "\u001b[31mThe file MCMC_samples_NurPenBatch_variances.txt already exists!!! It is overwritten by the new output.\u001b[39m\n",
      "\u001b[31mThe file MCMC_samples_EBV_Died_Nur2.txt already exists!!! It is overwritten by the new output.\u001b[39m\n",
      "\u001b[31mThe file MCMC_samples_genetic_variance.txt already exists!!! It is overwritten by the new output.\u001b[39m\n",
      "\u001b[31mThe file MCMC_samples_heritability.txt already exists!!! It is overwritten by the new output.\u001b[39m\n"
     ]
    },
    {
     "name": "stderr",
     "output_type": "stream",
     "text": [
      "\u001b[32mrunning MCMC for BayesC...100%|█████████████████████████| Time: 12:00:07\u001b[39m\n"
     ]
    },
    {
     "name": "stdout",
     "output_type": "stream",
     "text": [
      "\n",
      "\n",
      "\u001b[0m\u001b[1mThe version of Julia and Platform in use:\u001b[22m\n",
      "\n",
      "Julia Version 1.1.0\n",
      "Commit 80516ca202 (2019-01-21 21:24 UTC)\n",
      "Platform Info:\n",
      "  OS: Linux (x86_64-pc-linux-gnu)\n",
      "  CPU: Intel(R) Core(TM) i7-5960X CPU @ 3.00GHz\n",
      "  WORD_SIZE: 64\n",
      "  LIBM: libopenlibm\n",
      "  LLVM: libLLVM-6.0.1 (ORCJIT, haswell)\n",
      "Environment:\n",
      "  JULIA_DEPOT_PATH = /opt/julia\n",
      "  JULIA_PKGDIR = /opt/julia\n",
      "  JULIA_VERSION = 1.1.0\n",
      "\n",
      "\n",
      "\u001b[0m\u001b[1mThe analysis has finished. Results are saved in the returned \u001b[22m\u001b[0m\u001b[1mvariable and text files. MCMC samples are saved in text files.\u001b[22m\n",
      "\n",
      "\n",
      "43259.172699 seconds (1.68 G allocations: 110.953 GiB, 0.09% gc time)\n"
     ]
    },
    {
     "data": {
      "text/plain": [
       "Dict{Any,Any} with 9 entries:\n",
       "  \"marker effects\"          => 435172×5 DataFrame…\n",
       "  \"Pi\"                      => 1×3 DataFrame…\n",
       "  \"heritability\"            => 1×3 DataFrame…\n",
       "  \"location parameters\"     => 488×5 DataFrame…\n",
       "  \"residual variance\"       => 1×3 DataFrame…\n",
       "  \"EBV_Died_Nur2\"           => 3205×3 DataFrame…\n",
       "  \"ScaleEffectVar\"          => 1×3 DataFrame…\n",
       "  \"genetic_variance\"        => 1×3 DataFrame…\n",
       "  \"marker effects variance\" => 1×3 DataFrame…"
      ]
     },
     "execution_count": 11,
     "metadata": {},
     "output_type": "execute_result"
    }
   ],
   "source": [
    "@time Died_Nur2_outCPi=runMCMC(Died_Nur2_model,phenotypes,methods=\"BayesC\", missing_phenotypes=true, Pi= 0.999, categorical_trait = true, estimatePi=true, estimateScale=true, chain_length=50000,burnin = 5000,output_heritability=true,  output_samples_frequency=100)"
   ]
  },
  {
   "cell_type": "code",
   "execution_count": 37,
   "metadata": {},
   "outputs": [
    {
     "data": {
      "text/plain": [
       "Base.KeySet for a Dict{Any,Any} with 7 entries. Keys:\n",
       "  \"marker effects\"\n",
       "  \"heritability\"\n",
       "  \"location parameters\"\n",
       "  \"residual variance\"\n",
       "  \"EBV_Died_Nur2\"\n",
       "  \"genetic_variance\"\n",
       "  \"marker effects variance\""
      ]
     },
     "execution_count": 37,
     "metadata": {},
     "output_type": "execute_result"
    }
   ],
   "source": [
    "keys(Died_Nur2_outCPi)"
   ]
  },
  {
   "cell_type": "code",
   "execution_count": 29,
   "metadata": {},
   "outputs": [
    {
     "data": {
      "text/plain": [
       "0.27746399883347106"
      ]
     },
     "execution_count": 29,
     "metadata": {},
     "output_type": "execute_result"
    }
   ],
   "source": [
    "marker=CSV.read(\"MCMC_samples_genetic_variance.txt\",delim = ' ',header=true)\n",
    "Va=mean(marker[!, 1])"
   ]
  },
  {
   "cell_type": "code",
   "execution_count": 30,
   "metadata": {},
   "outputs": [
    {
     "data": {
      "text/plain": [
       "0.1599952974660908"
      ]
     },
     "execution_count": 30,
     "metadata": {},
     "output_type": "execute_result"
    }
   ],
   "source": [
    "pen=CSV.read(\"MCMC_samples_NurPenBatch_variances.txt\",delim = ' ',header=true)\n",
    "Vs=mean(pen[!, 1])"
   ]
  },
  {
   "cell_type": "code",
   "execution_count": 31,
   "metadata": {},
   "outputs": [
    {
     "data": {
      "text/plain": [
       "1.0"
      ]
     },
     "execution_count": 31,
     "metadata": {},
     "output_type": "execute_result"
    }
   ],
   "source": [
    "Res=CSV.read(\"MCMC_samples_residual_variance.txt\",delim = ' ',header=true)\n",
    "Ve=mean(Res[!, 1])"
   ]
  },
  {
   "cell_type": "code",
   "execution_count": 32,
   "metadata": {},
   "outputs": [
    {
     "data": {
      "text/plain": [
       "0.1930238995620565"
      ]
     },
     "execution_count": 32,
     "metadata": {},
     "output_type": "execute_result"
    }
   ],
   "source": [
    "h2=Va/(Va+Vs+Ve)"
   ]
  },
  {
   "cell_type": "code",
   "execution_count": 36,
   "metadata": {},
   "outputs": [
    {
     "ename": "KeyError",
     "evalue": "KeyError: key \"Pi\" not found",
     "output_type": "error",
     "traceback": [
      "KeyError: key \"Pi\" not found",
      "",
      "Stacktrace:",
      " [1] getindex(::Dict{Any,Any}, ::String) at ./dict.jl:478",
      " [2] top-level scope at In[36]:1"
     ]
    }
   ],
   "source": [
    "Pi=Died_Nur2_outCPi[\"Pi\"]"
   ]
  },
  {
   "cell_type": "code",
   "execution_count": 34,
   "metadata": {},
   "outputs": [
    {
     "data": {
      "text/html": [
       "<table class=\"data-frame\"><thead><tr><th></th><th>iteration</th><th>Column1</th></tr><tr><th></th><th>Int64</th><th>Float64</th></tr></thead><tbody><p>450 rows × 2 columns</p><tr><th>1</th><td>1</td><td>0.0</td></tr><tr><th>2</th><td>2</td><td>0.0</td></tr><tr><th>3</th><td>3</td><td>0.0</td></tr><tr><th>4</th><td>4</td><td>0.0</td></tr><tr><th>5</th><td>5</td><td>0.0</td></tr><tr><th>6</th><td>6</td><td>0.0</td></tr><tr><th>7</th><td>7</td><td>0.0</td></tr><tr><th>8</th><td>8</td><td>0.0</td></tr><tr><th>9</th><td>9</td><td>0.0</td></tr><tr><th>10</th><td>10</td><td>0.0</td></tr><tr><th>11</th><td>11</td><td>0.0</td></tr><tr><th>12</th><td>12</td><td>0.0</td></tr><tr><th>13</th><td>13</td><td>0.0</td></tr><tr><th>14</th><td>14</td><td>0.0</td></tr><tr><th>15</th><td>15</td><td>0.0</td></tr><tr><th>16</th><td>16</td><td>0.0</td></tr><tr><th>17</th><td>17</td><td>0.0</td></tr><tr><th>18</th><td>18</td><td>0.0</td></tr><tr><th>19</th><td>19</td><td>0.0</td></tr><tr><th>20</th><td>20</td><td>0.0</td></tr><tr><th>21</th><td>21</td><td>0.0</td></tr><tr><th>22</th><td>22</td><td>0.0</td></tr><tr><th>23</th><td>23</td><td>0.0</td></tr><tr><th>24</th><td>24</td><td>0.0</td></tr><tr><th>25</th><td>25</td><td>0.0</td></tr><tr><th>26</th><td>26</td><td>0.0</td></tr><tr><th>27</th><td>27</td><td>0.0</td></tr><tr><th>28</th><td>28</td><td>0.0</td></tr><tr><th>29</th><td>29</td><td>0.0</td></tr><tr><th>30</th><td>30</td><td>0.0</td></tr><tr><th>&vellip;</th><td>&vellip;</td><td>&vellip;</td></tr></tbody></table>"
      ],
      "text/latex": [
       "\\begin{tabular}{r|cc}\n",
       "\t& iteration & Column1\\\\\n",
       "\t\\hline\n",
       "\t& Int64 & Float64\\\\\n",
       "\t\\hline\n",
       "\t1 & 1 & 0.0 \\\\\n",
       "\t2 & 2 & 0.0 \\\\\n",
       "\t3 & 3 & 0.0 \\\\\n",
       "\t4 & 4 & 0.0 \\\\\n",
       "\t5 & 5 & 0.0 \\\\\n",
       "\t6 & 6 & 0.0 \\\\\n",
       "\t7 & 7 & 0.0 \\\\\n",
       "\t8 & 8 & 0.0 \\\\\n",
       "\t9 & 9 & 0.0 \\\\\n",
       "\t10 & 10 & 0.0 \\\\\n",
       "\t11 & 11 & 0.0 \\\\\n",
       "\t12 & 12 & 0.0 \\\\\n",
       "\t13 & 13 & 0.0 \\\\\n",
       "\t14 & 14 & 0.0 \\\\\n",
       "\t15 & 15 & 0.0 \\\\\n",
       "\t16 & 16 & 0.0 \\\\\n",
       "\t17 & 17 & 0.0 \\\\\n",
       "\t18 & 18 & 0.0 \\\\\n",
       "\t19 & 19 & 0.0 \\\\\n",
       "\t20 & 20 & 0.0 \\\\\n",
       "\t21 & 21 & 0.0 \\\\\n",
       "\t22 & 22 & 0.0 \\\\\n",
       "\t23 & 23 & 0.0 \\\\\n",
       "\t24 & 24 & 0.0 \\\\\n",
       "\t25 & 25 & 0.0 \\\\\n",
       "\t26 & 26 & 0.0 \\\\\n",
       "\t27 & 27 & 0.0 \\\\\n",
       "\t28 & 28 & 0.0 \\\\\n",
       "\t29 & 29 & 0.0 \\\\\n",
       "\t30 & 30 & 0.0 \\\\\n",
       "\t$\\dots$ & $\\dots$ & $\\dots$ \\\\\n",
       "\\end{tabular}\n"
      ],
      "text/plain": [
       "450×2 DataFrame\n",
       "│ Row │ iteration │ Column1 │\n",
       "│     │ \u001b[90mInt64\u001b[39m     │ \u001b[90mFloat64\u001b[39m │\n",
       "├─────┼───────────┼─────────┤\n",
       "│ 1   │ 1         │ 0.0     │\n",
       "│ 2   │ 2         │ 0.0     │\n",
       "│ 3   │ 3         │ 0.0     │\n",
       "│ 4   │ 4         │ 0.0     │\n",
       "│ 5   │ 5         │ 0.0     │\n",
       "│ 6   │ 6         │ 0.0     │\n",
       "│ 7   │ 7         │ 0.0     │\n",
       "│ 8   │ 8         │ 0.0     │\n",
       "│ 9   │ 9         │ 0.0     │\n",
       "│ 10  │ 10        │ 0.0     │\n",
       "⋮\n",
       "│ 440 │ 440       │ 0.0     │\n",
       "│ 441 │ 441       │ 0.0     │\n",
       "│ 442 │ 442       │ 0.0     │\n",
       "│ 443 │ 443       │ 0.0     │\n",
       "│ 444 │ 444       │ 0.0     │\n",
       "│ 445 │ 445       │ 0.0     │\n",
       "│ 446 │ 446       │ 0.0     │\n",
       "│ 447 │ 447       │ 0.0     │\n",
       "│ 448 │ 448       │ 0.0     │\n",
       "│ 449 │ 449       │ 0.0     │\n",
       "│ 450 │ 450       │ 0.0     │"
      ]
     },
     "execution_count": 34,
     "metadata": {},
     "output_type": "execute_result"
    }
   ],
   "source": [
    "Pi=CSV.read(\"MCMC_samples_pi.txt\",delim = ' ',header=false)\n",
    "insertcols!(Pi, 1, :iteration => 1:450) # Add a column called iteration"
   ]
  },
  {
   "cell_type": "code",
   "execution_count": 35,
   "metadata": {},
   "outputs": [
    {
     "data": {
      "image/svg+xml": [
       "<?xml version=\"1.0\" encoding=\"utf-8\"?>\n",
       "<svg xmlns=\"http://www.w3.org/2000/svg\" xmlns:xlink=\"http://www.w3.org/1999/xlink\" width=\"600\" height=\"400\" viewBox=\"0 0 2400 1600\">\n",
       "<defs>\n",
       "  <clipPath id=\"clip0700\">\n",
       "    <rect x=\"0\" y=\"0\" width=\"2400\" height=\"1600\"/>\n",
       "  </clipPath>\n",
       "</defs>\n",
       "<path clip-path=\"url(#clip0700)\" d=\"\n",
       "M0 1600 L2400 1600 L2400 0 L0 0  Z\n",
       "  \" fill=\"#ffffff\" fill-rule=\"evenodd\" fill-opacity=\"1\"/>\n",
       "<defs>\n",
       "  <clipPath id=\"clip0701\">\n",
       "    <rect x=\"480\" y=\"0\" width=\"1681\" height=\"1600\"/>\n",
       "  </clipPath>\n",
       "</defs>\n",
       "<path clip-path=\"url(#clip0700)\" d=\"\n",
       "M242.516 1425.62 L2352.76 1425.62 L2352.76 121.675 L242.516 121.675  Z\n",
       "  \" fill=\"#ffffff\" fill-rule=\"evenodd\" fill-opacity=\"1\"/>\n",
       "<defs>\n",
       "  <clipPath id=\"clip0702\">\n",
       "    <rect x=\"242\" y=\"121\" width=\"2111\" height=\"1305\"/>\n",
       "  </clipPath>\n",
       "</defs>\n",
       "<polyline clip-path=\"url(#clip0702)\" style=\"stroke:#000000; stroke-width:2; stroke-opacity:0.1; fill:none\" points=\"\n",
       "  297.806,1425.62 297.806,121.675 \n",
       "  \"/>\n",
       "<polyline clip-path=\"url(#clip0702)\" style=\"stroke:#000000; stroke-width:2; stroke-opacity:0.1; fill:none\" points=\"\n",
       "  741.19,1425.62 741.19,121.675 \n",
       "  \"/>\n",
       "<polyline clip-path=\"url(#clip0702)\" style=\"stroke:#000000; stroke-width:2; stroke-opacity:0.1; fill:none\" points=\"\n",
       "  1184.57,1425.62 1184.57,121.675 \n",
       "  \"/>\n",
       "<polyline clip-path=\"url(#clip0702)\" style=\"stroke:#000000; stroke-width:2; stroke-opacity:0.1; fill:none\" points=\"\n",
       "  1627.96,1425.62 1627.96,121.675 \n",
       "  \"/>\n",
       "<polyline clip-path=\"url(#clip0702)\" style=\"stroke:#000000; stroke-width:2; stroke-opacity:0.1; fill:none\" points=\"\n",
       "  2071.34,1425.62 2071.34,121.675 \n",
       "  \"/>\n",
       "<polyline clip-path=\"url(#clip0702)\" style=\"stroke:#000000; stroke-width:2; stroke-opacity:0.1; fill:none\" points=\"\n",
       "  242.516,1388.71 2352.76,1388.71 \n",
       "  \"/>\n",
       "<polyline clip-path=\"url(#clip0702)\" style=\"stroke:#000000; stroke-width:2; stroke-opacity:0.1; fill:none\" points=\"\n",
       "  242.516,1081.18 2352.76,1081.18 \n",
       "  \"/>\n",
       "<polyline clip-path=\"url(#clip0702)\" style=\"stroke:#000000; stroke-width:2; stroke-opacity:0.1; fill:none\" points=\"\n",
       "  242.516,773.647 2352.76,773.647 \n",
       "  \"/>\n",
       "<polyline clip-path=\"url(#clip0702)\" style=\"stroke:#000000; stroke-width:2; stroke-opacity:0.1; fill:none\" points=\"\n",
       "  242.516,466.113 2352.76,466.113 \n",
       "  \"/>\n",
       "<polyline clip-path=\"url(#clip0702)\" style=\"stroke:#000000; stroke-width:2; stroke-opacity:0.1; fill:none\" points=\"\n",
       "  242.516,158.579 2352.76,158.579 \n",
       "  \"/>\n",
       "<polyline clip-path=\"url(#clip0700)\" style=\"stroke:#000000; stroke-width:4; stroke-opacity:1; fill:none\" points=\"\n",
       "  242.516,1425.62 2352.76,1425.62 \n",
       "  \"/>\n",
       "<polyline clip-path=\"url(#clip0700)\" style=\"stroke:#000000; stroke-width:4; stroke-opacity:1; fill:none\" points=\"\n",
       "  242.516,1425.62 242.516,121.675 \n",
       "  \"/>\n",
       "<polyline clip-path=\"url(#clip0700)\" style=\"stroke:#000000; stroke-width:4; stroke-opacity:1; fill:none\" points=\"\n",
       "  297.806,1425.62 297.806,1406.06 \n",
       "  \"/>\n",
       "<polyline clip-path=\"url(#clip0700)\" style=\"stroke:#000000; stroke-width:4; stroke-opacity:1; fill:none\" points=\"\n",
       "  741.19,1425.62 741.19,1406.06 \n",
       "  \"/>\n",
       "<polyline clip-path=\"url(#clip0700)\" style=\"stroke:#000000; stroke-width:4; stroke-opacity:1; fill:none\" points=\"\n",
       "  1184.57,1425.62 1184.57,1406.06 \n",
       "  \"/>\n",
       "<polyline clip-path=\"url(#clip0700)\" style=\"stroke:#000000; stroke-width:4; stroke-opacity:1; fill:none\" points=\"\n",
       "  1627.96,1425.62 1627.96,1406.06 \n",
       "  \"/>\n",
       "<polyline clip-path=\"url(#clip0700)\" style=\"stroke:#000000; stroke-width:4; stroke-opacity:1; fill:none\" points=\"\n",
       "  2071.34,1425.62 2071.34,1406.06 \n",
       "  \"/>\n",
       "<polyline clip-path=\"url(#clip0700)\" style=\"stroke:#000000; stroke-width:4; stroke-opacity:1; fill:none\" points=\"\n",
       "  242.516,1388.71 274.17,1388.71 \n",
       "  \"/>\n",
       "<polyline clip-path=\"url(#clip0700)\" style=\"stroke:#000000; stroke-width:4; stroke-opacity:1; fill:none\" points=\"\n",
       "  242.516,1081.18 274.17,1081.18 \n",
       "  \"/>\n",
       "<polyline clip-path=\"url(#clip0700)\" style=\"stroke:#000000; stroke-width:4; stroke-opacity:1; fill:none\" points=\"\n",
       "  242.516,773.647 274.17,773.647 \n",
       "  \"/>\n",
       "<polyline clip-path=\"url(#clip0700)\" style=\"stroke:#000000; stroke-width:4; stroke-opacity:1; fill:none\" points=\"\n",
       "  242.516,466.113 274.17,466.113 \n",
       "  \"/>\n",
       "<polyline clip-path=\"url(#clip0700)\" style=\"stroke:#000000; stroke-width:4; stroke-opacity:1; fill:none\" points=\"\n",
       "  242.516,158.579 274.17,158.579 \n",
       "  \"/>\n",
       "<g clip-path=\"url(#clip0700)\">\n",
       "<text style=\"fill:#000000; fill-opacity:1; font-family:Arial,Helvetica Neue,Helvetica,sans-serif; font-size:48px; text-anchor:middle;\" transform=\"rotate(0, 297.806, 1479.62)\" x=\"297.806\" y=\"1479.62\">0</text>\n",
       "</g>\n",
       "<g clip-path=\"url(#clip0700)\">\n",
       "<text style=\"fill:#000000; fill-opacity:1; font-family:Arial,Helvetica Neue,Helvetica,sans-serif; font-size:48px; text-anchor:middle;\" transform=\"rotate(0, 741.19, 1479.62)\" x=\"741.19\" y=\"1479.62\">100</text>\n",
       "</g>\n",
       "<g clip-path=\"url(#clip0700)\">\n",
       "<text style=\"fill:#000000; fill-opacity:1; font-family:Arial,Helvetica Neue,Helvetica,sans-serif; font-size:48px; text-anchor:middle;\" transform=\"rotate(0, 1184.57, 1479.62)\" x=\"1184.57\" y=\"1479.62\">200</text>\n",
       "</g>\n",
       "<g clip-path=\"url(#clip0700)\">\n",
       "<text style=\"fill:#000000; fill-opacity:1; font-family:Arial,Helvetica Neue,Helvetica,sans-serif; font-size:48px; text-anchor:middle;\" transform=\"rotate(0, 1627.96, 1479.62)\" x=\"1627.96\" y=\"1479.62\">300</text>\n",
       "</g>\n",
       "<g clip-path=\"url(#clip0700)\">\n",
       "<text style=\"fill:#000000; fill-opacity:1; font-family:Arial,Helvetica Neue,Helvetica,sans-serif; font-size:48px; text-anchor:middle;\" transform=\"rotate(0, 2071.34, 1479.62)\" x=\"2071.34\" y=\"1479.62\">400</text>\n",
       "</g>\n",
       "<g clip-path=\"url(#clip0700)\">\n",
       "<text style=\"fill:#000000; fill-opacity:1; font-family:Arial,Helvetica Neue,Helvetica,sans-serif; font-size:48px; text-anchor:end;\" transform=\"rotate(0, 218.516, 1406.21)\" x=\"218.516\" y=\"1406.21\">0.00</text>\n",
       "</g>\n",
       "<g clip-path=\"url(#clip0700)\">\n",
       "<text style=\"fill:#000000; fill-opacity:1; font-family:Arial,Helvetica Neue,Helvetica,sans-serif; font-size:48px; text-anchor:end;\" transform=\"rotate(0, 218.516, 1098.68)\" x=\"218.516\" y=\"1098.68\">0.25</text>\n",
       "</g>\n",
       "<g clip-path=\"url(#clip0700)\">\n",
       "<text style=\"fill:#000000; fill-opacity:1; font-family:Arial,Helvetica Neue,Helvetica,sans-serif; font-size:48px; text-anchor:end;\" transform=\"rotate(0, 218.516, 791.147)\" x=\"218.516\" y=\"791.147\">0.50</text>\n",
       "</g>\n",
       "<g clip-path=\"url(#clip0700)\">\n",
       "<text style=\"fill:#000000; fill-opacity:1; font-family:Arial,Helvetica Neue,Helvetica,sans-serif; font-size:48px; text-anchor:end;\" transform=\"rotate(0, 218.516, 483.613)\" x=\"218.516\" y=\"483.613\">0.75</text>\n",
       "</g>\n",
       "<g clip-path=\"url(#clip0700)\">\n",
       "<text style=\"fill:#000000; fill-opacity:1; font-family:Arial,Helvetica Neue,Helvetica,sans-serif; font-size:48px; text-anchor:end;\" transform=\"rotate(0, 218.516, 176.079)\" x=\"218.516\" y=\"176.079\">1.00</text>\n",
       "</g>\n",
       "<g clip-path=\"url(#clip0700)\">\n",
       "<text style=\"fill:#000000; fill-opacity:1; font-family:Arial,Helvetica Neue,Helvetica,sans-serif; font-size:84px; text-anchor:middle;\" transform=\"rotate(0, 1297.64, 73.2)\" x=\"1297.64\" y=\"73.2\">Pi trace plot</text>\n",
       "</g>\n",
       "<g clip-path=\"url(#clip0700)\">\n",
       "<text style=\"fill:#000000; fill-opacity:1; font-family:Arial,Helvetica Neue,Helvetica,sans-serif; font-size:66px; text-anchor:middle;\" transform=\"rotate(0, 1297.64, 1559.48)\" x=\"1297.64\" y=\"1559.48\">iteration</text>\n",
       "</g>\n",
       "<g clip-path=\"url(#clip0700)\">\n",
       "<text style=\"fill:#000000; fill-opacity:1; font-family:Arial,Helvetica Neue,Helvetica,sans-serif; font-size:66px; text-anchor:middle;\" transform=\"rotate(-90, 89.2861, 773.647)\" x=\"89.2861\" y=\"773.647\">Pi</text>\n",
       "</g>\n",
       "<polyline clip-path=\"url(#clip0702)\" style=\"stroke:#009af9; stroke-width:4; stroke-opacity:1; fill:none\" points=\"\n",
       "  302.24,1388.71 306.674,1388.71 311.108,1388.71 315.542,1388.71 319.976,1388.71 324.409,1388.71 328.843,1388.71 333.277,1388.71 337.711,1388.71 342.145,1388.71 \n",
       "  346.579,1388.71 351.012,1388.71 355.446,1388.71 359.88,1388.71 364.314,1388.71 368.748,1388.71 373.182,1388.71 377.615,1388.71 382.049,1388.71 386.483,1388.71 \n",
       "  390.917,1388.71 395.351,1388.71 399.785,1388.71 404.218,1388.71 408.652,1388.71 413.086,1388.71 417.52,1388.71 421.954,1388.71 426.388,1388.71 430.821,1388.71 \n",
       "  435.255,1388.71 439.689,1388.71 444.123,1388.71 448.557,1388.71 452.991,1388.71 457.424,1388.71 461.858,1388.71 466.292,1388.71 470.726,1388.71 475.16,1388.71 \n",
       "  479.594,1388.71 484.027,1388.71 488.461,1388.71 492.895,1388.71 497.329,1388.71 501.763,1388.71 506.197,1388.71 510.63,1388.71 515.064,1388.71 519.498,1388.71 \n",
       "  523.932,1388.71 528.366,1388.71 532.8,1388.71 537.233,1388.71 541.667,1388.71 546.101,1388.71 550.535,1388.71 554.969,1388.71 559.403,1388.71 563.836,1388.71 \n",
       "  568.27,1388.71 572.704,1388.71 577.138,1388.71 581.572,1388.71 586.006,1388.71 590.439,1388.71 594.873,1388.71 599.307,1388.71 603.741,1388.71 608.175,1388.71 \n",
       "  612.609,1388.71 617.042,1388.71 621.476,1388.71 625.91,1388.71 630.344,1388.71 634.778,1388.71 639.212,1388.71 643.645,1388.71 648.079,1388.71 652.513,1388.71 \n",
       "  656.947,1388.71 661.381,1388.71 665.815,1388.71 670.248,1388.71 674.682,1388.71 679.116,1388.71 683.55,1388.71 687.984,1388.71 692.418,1388.71 696.852,1388.71 \n",
       "  701.285,1388.71 705.719,1388.71 710.153,1388.71 714.587,1388.71 719.021,1388.71 723.455,1388.71 727.888,1388.71 732.322,1388.71 736.756,1388.71 741.19,1388.71 \n",
       "  745.624,1388.71 750.058,1388.71 754.491,1388.71 758.925,1388.71 763.359,1388.71 767.793,1388.71 772.227,1388.71 776.661,1388.71 781.094,1388.71 785.528,1388.71 \n",
       "  789.962,1388.71 794.396,1388.71 798.83,1388.71 803.264,1388.71 807.697,1388.71 812.131,1388.71 816.565,1388.71 820.999,1388.71 825.433,1388.71 829.867,1388.71 \n",
       "  834.3,1388.71 838.734,1388.71 843.168,1388.71 847.602,1388.71 852.036,1388.71 856.47,1388.71 860.903,1388.71 865.337,1388.71 869.771,1388.71 874.205,1388.71 \n",
       "  878.639,1388.71 883.073,1388.71 887.506,1388.71 891.94,1388.71 896.374,1388.71 900.808,1388.71 905.242,1388.71 909.676,1388.71 914.109,1388.71 918.543,1388.71 \n",
       "  922.977,1388.71 927.411,1388.71 931.845,1388.71 936.279,1388.71 940.712,1388.71 945.146,1388.71 949.58,1388.71 954.014,1388.71 958.448,1388.71 962.882,1388.71 \n",
       "  967.315,1388.71 971.749,1388.71 976.183,1388.71 980.617,1388.71 985.051,1388.71 989.485,1388.71 993.918,1388.71 998.352,1388.71 1002.79,1388.71 1007.22,1388.71 \n",
       "  1011.65,1388.71 1016.09,1388.71 1020.52,1388.71 1024.96,1388.71 1029.39,1388.71 1033.82,1388.71 1038.26,1388.71 1042.69,1388.71 1047.12,1388.71 1051.56,1388.71 \n",
       "  1055.99,1388.71 1060.43,1388.71 1064.86,1388.71 1069.29,1388.71 1073.73,1388.71 1078.16,1388.71 1082.6,1388.71 1087.03,1388.71 1091.46,1388.71 1095.9,1388.71 \n",
       "  1100.33,1388.71 1104.76,1388.71 1109.2,1388.71 1113.63,1388.71 1118.07,1388.71 1122.5,1388.71 1126.93,1388.71 1131.37,1388.71 1135.8,1388.71 1140.24,1388.71 \n",
       "  1144.67,1388.71 1149.1,1388.71 1153.54,1388.71 1157.97,1388.71 1162.4,1388.71 1166.84,1388.71 1171.27,1388.71 1175.71,1388.71 1180.14,1388.71 1184.57,1388.71 \n",
       "  1189.01,1388.71 1193.44,1388.71 1197.87,1388.71 1202.31,1388.71 1206.74,1388.71 1211.18,1388.71 1215.61,1388.71 1220.04,1388.71 1224.48,1388.71 1228.91,1388.71 \n",
       "  1233.35,1388.71 1237.78,1388.71 1242.21,1388.71 1246.65,1388.71 1251.08,1388.71 1255.51,1388.71 1259.95,1388.71 1264.38,1388.71 1268.82,1388.71 1273.25,1388.71 \n",
       "  1277.68,1388.71 1282.12,1388.71 1286.55,1388.71 1290.99,1388.71 1295.42,1388.71 1299.85,1388.71 1304.29,1388.71 1308.72,1388.71 1313.15,1388.71 1317.59,1388.71 \n",
       "  1322.02,1388.71 1326.46,1388.71 1330.89,1388.71 1335.32,1388.71 1339.76,1388.71 1344.19,1388.71 1348.63,1388.71 1353.06,1388.71 1357.49,1388.71 1361.93,1388.71 \n",
       "  1366.36,1388.71 1370.79,1388.71 1375.23,1388.71 1379.66,1388.71 1384.1,1388.71 1388.53,1388.71 1392.96,1388.71 1397.4,1388.71 1401.83,1388.71 1406.27,1388.71 \n",
       "  1410.7,1388.71 1415.13,1388.71 1419.57,1388.71 1424,1388.71 1428.43,1388.71 1432.87,1388.71 1437.3,1388.71 1441.74,1388.71 1446.17,1388.71 1450.6,1388.71 \n",
       "  1455.04,1388.71 1459.47,1388.71 1463.9,1388.71 1468.34,1388.71 1472.77,1388.71 1477.21,1388.71 1481.64,1388.71 1486.07,1388.71 1490.51,1388.71 1494.94,1388.71 \n",
       "  1499.38,1388.71 1503.81,1388.71 1508.24,1388.71 1512.68,1388.71 1517.11,1388.71 1521.54,1388.71 1525.98,1388.71 1530.41,1388.71 1534.85,1388.71 1539.28,1388.71 \n",
       "  1543.71,1388.71 1548.15,1388.71 1552.58,1388.71 1557.02,1388.71 1561.45,1388.71 1565.88,1388.71 1570.32,1388.71 1574.75,1388.71 1579.18,1388.71 1583.62,1388.71 \n",
       "  1588.05,1388.71 1592.49,1388.71 1596.92,1388.71 1601.35,1388.71 1605.79,1388.71 1610.22,1388.71 1614.66,1388.71 1619.09,1388.71 1623.52,1388.71 1627.96,1388.71 \n",
       "  1632.39,1388.71 1636.82,1388.71 1641.26,1388.71 1645.69,1388.71 1650.13,1388.71 1654.56,1388.71 1658.99,1388.71 1663.43,1388.71 1667.86,1388.71 1672.3,1388.71 \n",
       "  1676.73,1388.71 1681.16,1388.71 1685.6,1388.71 1690.03,1388.71 1694.46,1388.71 1698.9,1388.71 1703.33,1388.71 1707.77,1388.71 1712.2,1388.71 1716.63,1388.71 \n",
       "  1721.07,1388.71 1725.5,1388.71 1729.94,1388.71 1734.37,1388.71 1738.8,1388.71 1743.24,1388.71 1747.67,1388.71 1752.1,1388.71 1756.54,1388.71 1760.97,1388.71 \n",
       "  1765.41,1388.71 1769.84,1388.71 1774.27,1388.71 1778.71,1388.71 1783.14,1388.71 1787.57,1388.71 1792.01,1388.71 1796.44,1388.71 1800.88,1388.71 1805.31,1388.71 \n",
       "  1809.74,1388.71 1814.18,1388.71 1818.61,1388.71 1823.05,1388.71 1827.48,1388.71 1831.91,1388.71 1836.35,1388.71 1840.78,1388.71 1845.21,1388.71 1849.65,1388.71 \n",
       "  1854.08,1388.71 1858.52,1388.71 1862.95,1388.71 1867.38,1388.71 1871.82,1388.71 1876.25,1388.71 1880.69,1388.71 1885.12,1388.71 1889.55,1388.71 1893.99,1388.71 \n",
       "  1898.42,1388.71 1902.85,1388.71 1907.29,1388.71 1911.72,1388.71 1916.16,1388.71 1920.59,1388.71 1925.02,1388.71 1929.46,1388.71 1933.89,1388.71 1938.33,1388.71 \n",
       "  1942.76,1388.71 1947.19,1388.71 1951.63,1388.71 1956.06,1388.71 1960.49,1388.71 1964.93,1388.71 1969.36,1388.71 1973.8,1388.71 1978.23,1388.71 1982.66,1388.71 \n",
       "  1987.1,1388.71 1991.53,1388.71 1995.97,1388.71 2000.4,1388.71 2004.83,1388.71 2009.27,1388.71 2013.7,1388.71 2018.13,1388.71 2022.57,1388.71 2027,1388.71 \n",
       "  2031.44,1388.71 2035.87,1388.71 2040.3,1388.71 2044.74,1388.71 2049.17,1388.71 2053.61,1388.71 2058.04,1388.71 2062.47,1388.71 2066.91,1388.71 2071.34,1388.71 \n",
       "  2075.77,1388.71 2080.21,1388.71 2084.64,1388.71 2089.08,1388.71 2093.51,1388.71 2097.94,1388.71 2102.38,1388.71 2106.81,1388.71 2111.24,1388.71 2115.68,1388.71 \n",
       "  2120.11,1388.71 2124.55,1388.71 2128.98,1388.71 2133.41,1388.71 2137.85,1388.71 2142.28,1388.71 2146.72,1388.71 2151.15,1388.71 2155.58,1388.71 2160.02,1388.71 \n",
       "  2164.45,1388.71 2168.88,1388.71 2173.32,1388.71 2177.75,1388.71 2182.19,1388.71 2186.62,1388.71 2191.05,1388.71 2195.49,1388.71 2199.92,1388.71 2204.36,1388.71 \n",
       "  2208.79,1388.71 2213.22,1388.71 2217.66,1388.71 2222.09,1388.71 2226.52,1388.71 2230.96,1388.71 2235.39,1388.71 2239.83,1388.71 2244.26,1388.71 2248.69,1388.71 \n",
       "  2253.13,1388.71 2257.56,1388.71 2262,1388.71 2266.43,1388.71 2270.86,1388.71 2275.3,1388.71 2279.73,1388.71 2284.16,1388.71 2288.6,1388.71 2293.03,1388.71 \n",
       "  \n",
       "  \"/>\n",
       "<path clip-path=\"url(#clip0700)\" d=\"\n",
       "M1989.93 326.155 L2280.76 326.155 L2280.76 205.195 L1989.93 205.195  Z\n",
       "  \" fill=\"#ffffff\" fill-rule=\"evenodd\" fill-opacity=\"1\"/>\n",
       "<polyline clip-path=\"url(#clip0700)\" style=\"stroke:#000000; stroke-width:4; stroke-opacity:1; fill:none\" points=\"\n",
       "  1989.93,326.155 2280.76,326.155 2280.76,205.195 1989.93,205.195 1989.93,326.155 \n",
       "  \"/>\n",
       "<polyline clip-path=\"url(#clip0700)\" style=\"stroke:#009af9; stroke-width:4; stroke-opacity:1; fill:none\" points=\"\n",
       "  2013.93,265.675 2157.93,265.675 \n",
       "  \"/>\n",
       "<g clip-path=\"url(#clip0700)\">\n",
       "<text style=\"fill:#000000; fill-opacity:1; font-family:Arial,Helvetica Neue,Helvetica,sans-serif; font-size:48px; text-anchor:start;\" transform=\"rotate(0, 2181.93, 283.175)\" x=\"2181.93\" y=\"283.175\">y1</text>\n",
       "</g>\n",
       "</svg>\n"
      ]
     },
     "execution_count": 35,
     "metadata": {},
     "output_type": "execute_result"
    }
   ],
   "source": [
    "using Plots\n",
    "x = Pi[!,1]; y = Pi[!,2]; # These are the plotting data\n",
    "plot(x,y, title = \"Pi trace plot\",\n",
    "        xlabel = \"iteration\", ylabel = \"Pi\")"
   ]
  },
  {
   "cell_type": "code",
   "execution_count": 20,
   "metadata": {},
   "outputs": [
    {
     "data": {
      "text/html": [
       "<table class=\"data-frame\"><thead><tr><th></th><th>iteration</th><th>Died_Nur2</th></tr><tr><th></th><th>Int64</th><th>Float64</th></tr></thead><tbody><p>450 rows × 2 columns</p><tr><th>1</th><td>1</td><td>0.299582</td></tr><tr><th>2</th><td>2</td><td>0.278641</td></tr><tr><th>3</th><td>3</td><td>0.297677</td></tr><tr><th>4</th><td>4</td><td>0.245859</td></tr><tr><th>5</th><td>5</td><td>0.248851</td></tr><tr><th>6</th><td>6</td><td>0.306797</td></tr><tr><th>7</th><td>7</td><td>0.327538</td></tr><tr><th>8</th><td>8</td><td>0.307601</td></tr><tr><th>9</th><td>9</td><td>0.284969</td></tr><tr><th>10</th><td>10</td><td>0.284399</td></tr><tr><th>11</th><td>11</td><td>0.230152</td></tr><tr><th>12</th><td>12</td><td>0.229476</td></tr><tr><th>13</th><td>13</td><td>0.192952</td></tr><tr><th>14</th><td>14</td><td>0.182172</td></tr><tr><th>15</th><td>15</td><td>0.165482</td></tr><tr><th>16</th><td>16</td><td>0.265283</td></tr><tr><th>17</th><td>17</td><td>0.275992</td></tr><tr><th>18</th><td>18</td><td>0.230584</td></tr><tr><th>19</th><td>19</td><td>0.208776</td></tr><tr><th>20</th><td>20</td><td>0.237982</td></tr><tr><th>21</th><td>21</td><td>0.171135</td></tr><tr><th>22</th><td>22</td><td>0.253181</td></tr><tr><th>23</th><td>23</td><td>0.440521</td></tr><tr><th>24</th><td>24</td><td>0.420436</td></tr><tr><th>25</th><td>25</td><td>0.450373</td></tr><tr><th>26</th><td>26</td><td>0.457537</td></tr><tr><th>27</th><td>27</td><td>0.518491</td></tr><tr><th>28</th><td>28</td><td>0.560953</td></tr><tr><th>29</th><td>29</td><td>0.504835</td></tr><tr><th>30</th><td>30</td><td>0.4785</td></tr><tr><th>&vellip;</th><td>&vellip;</td><td>&vellip;</td></tr></tbody></table>"
      ],
      "text/latex": [
       "\\begin{tabular}{r|cc}\n",
       "\t& iteration & Died\\_Nur2\\\\\n",
       "\t\\hline\n",
       "\t& Int64 & Float64\\\\\n",
       "\t\\hline\n",
       "\t1 & 1 & 0.299582 \\\\\n",
       "\t2 & 2 & 0.278641 \\\\\n",
       "\t3 & 3 & 0.297677 \\\\\n",
       "\t4 & 4 & 0.245859 \\\\\n",
       "\t5 & 5 & 0.248851 \\\\\n",
       "\t6 & 6 & 0.306797 \\\\\n",
       "\t7 & 7 & 0.327538 \\\\\n",
       "\t8 & 8 & 0.307601 \\\\\n",
       "\t9 & 9 & 0.284969 \\\\\n",
       "\t10 & 10 & 0.284399 \\\\\n",
       "\t11 & 11 & 0.230152 \\\\\n",
       "\t12 & 12 & 0.229476 \\\\\n",
       "\t13 & 13 & 0.192952 \\\\\n",
       "\t14 & 14 & 0.182172 \\\\\n",
       "\t15 & 15 & 0.165482 \\\\\n",
       "\t16 & 16 & 0.265283 \\\\\n",
       "\t17 & 17 & 0.275992 \\\\\n",
       "\t18 & 18 & 0.230584 \\\\\n",
       "\t19 & 19 & 0.208776 \\\\\n",
       "\t20 & 20 & 0.237982 \\\\\n",
       "\t21 & 21 & 0.171135 \\\\\n",
       "\t22 & 22 & 0.253181 \\\\\n",
       "\t23 & 23 & 0.440521 \\\\\n",
       "\t24 & 24 & 0.420436 \\\\\n",
       "\t25 & 25 & 0.450373 \\\\\n",
       "\t26 & 26 & 0.457537 \\\\\n",
       "\t27 & 27 & 0.518491 \\\\\n",
       "\t28 & 28 & 0.560953 \\\\\n",
       "\t29 & 29 & 0.504835 \\\\\n",
       "\t30 & 30 & 0.4785 \\\\\n",
       "\t$\\dots$ & $\\dots$ & $\\dots$ \\\\\n",
       "\\end{tabular}\n"
      ],
      "text/plain": [
       "450×2 DataFrame\n",
       "│ Row │ iteration │ Died_Nur2 │\n",
       "│     │ \u001b[90mInt64\u001b[39m     │ \u001b[90mFloat64\u001b[39m   │\n",
       "├─────┼───────────┼───────────┤\n",
       "│ 1   │ 1         │ 0.299582  │\n",
       "│ 2   │ 2         │ 0.278641  │\n",
       "│ 3   │ 3         │ 0.297677  │\n",
       "│ 4   │ 4         │ 0.245859  │\n",
       "│ 5   │ 5         │ 0.248851  │\n",
       "│ 6   │ 6         │ 0.306797  │\n",
       "│ 7   │ 7         │ 0.327538  │\n",
       "│ 8   │ 8         │ 0.307601  │\n",
       "│ 9   │ 9         │ 0.284969  │\n",
       "│ 10  │ 10        │ 0.284399  │\n",
       "⋮\n",
       "│ 440 │ 440       │ 0.305448  │\n",
       "│ 441 │ 441       │ 0.316823  │\n",
       "│ 442 │ 442       │ 0.324391  │\n",
       "│ 443 │ 443       │ 0.326232  │\n",
       "│ 444 │ 444       │ 0.309657  │\n",
       "│ 445 │ 445       │ 0.298401  │\n",
       "│ 446 │ 446       │ 0.288599  │\n",
       "│ 447 │ 447       │ 0.271373  │\n",
       "│ 448 │ 448       │ 0.299249  │\n",
       "│ 449 │ 449       │ 0.296976  │\n",
       "│ 450 │ 450       │ 0.260466  │"
      ]
     },
     "execution_count": 20,
     "metadata": {},
     "output_type": "execute_result"
    }
   ],
   "source": [
    "h2=CSV.read(\"MCMC_samples_heritability.txt\",delim = ' ',header=true)\n",
    "insertcols!(h2, 1, :iteration => 1:450) # Add a column called iteration"
   ]
  },
  {
   "cell_type": "code",
   "execution_count": 21,
   "metadata": {},
   "outputs": [
    {
     "data": {
      "image/svg+xml": [
       "<?xml version=\"1.0\" encoding=\"utf-8\"?>\n",
       "<svg xmlns=\"http://www.w3.org/2000/svg\" xmlns:xlink=\"http://www.w3.org/1999/xlink\" width=\"600\" height=\"400\" viewBox=\"0 0 2400 1600\">\n",
       "<defs>\n",
       "  <clipPath id=\"clip0300\">\n",
       "    <rect x=\"0\" y=\"0\" width=\"2400\" height=\"1600\"/>\n",
       "  </clipPath>\n",
       "</defs>\n",
       "<path clip-path=\"url(#clip0300)\" d=\"\n",
       "M0 1600 L2400 1600 L2400 0 L0 0  Z\n",
       "  \" fill=\"#ffffff\" fill-rule=\"evenodd\" fill-opacity=\"1\"/>\n",
       "<defs>\n",
       "  <clipPath id=\"clip0301\">\n",
       "    <rect x=\"480\" y=\"0\" width=\"1681\" height=\"1600\"/>\n",
       "  </clipPath>\n",
       "</defs>\n",
       "<path clip-path=\"url(#clip0300)\" d=\"\n",
       "M215.754 1425.62 L2352.76 1425.62 L2352.76 121.675 L215.754 121.675  Z\n",
       "  \" fill=\"#ffffff\" fill-rule=\"evenodd\" fill-opacity=\"1\"/>\n",
       "<defs>\n",
       "  <clipPath id=\"clip0302\">\n",
       "    <rect x=\"215\" y=\"121\" width=\"2138\" height=\"1305\"/>\n",
       "  </clipPath>\n",
       "</defs>\n",
       "<polyline clip-path=\"url(#clip0302)\" style=\"stroke:#000000; stroke-width:2; stroke-opacity:0.1; fill:none\" points=\"\n",
       "  271.745,1425.62 271.745,121.675 \n",
       "  \"/>\n",
       "<polyline clip-path=\"url(#clip0302)\" style=\"stroke:#000000; stroke-width:2; stroke-opacity:0.1; fill:none\" points=\"\n",
       "  720.752,1425.62 720.752,121.675 \n",
       "  \"/>\n",
       "<polyline clip-path=\"url(#clip0302)\" style=\"stroke:#000000; stroke-width:2; stroke-opacity:0.1; fill:none\" points=\"\n",
       "  1169.76,1425.62 1169.76,121.675 \n",
       "  \"/>\n",
       "<polyline clip-path=\"url(#clip0302)\" style=\"stroke:#000000; stroke-width:2; stroke-opacity:0.1; fill:none\" points=\"\n",
       "  1618.76,1425.62 1618.76,121.675 \n",
       "  \"/>\n",
       "<polyline clip-path=\"url(#clip0302)\" style=\"stroke:#000000; stroke-width:2; stroke-opacity:0.1; fill:none\" points=\"\n",
       "  2067.77,1425.62 2067.77,121.675 \n",
       "  \"/>\n",
       "<polyline clip-path=\"url(#clip0302)\" style=\"stroke:#000000; stroke-width:2; stroke-opacity:0.1; fill:none\" points=\"\n",
       "  215.754,1191.77 2352.76,1191.77 \n",
       "  \"/>\n",
       "<polyline clip-path=\"url(#clip0302)\" style=\"stroke:#000000; stroke-width:2; stroke-opacity:0.1; fill:none\" points=\"\n",
       "  215.754,934.856 2352.76,934.856 \n",
       "  \"/>\n",
       "<polyline clip-path=\"url(#clip0302)\" style=\"stroke:#000000; stroke-width:2; stroke-opacity:0.1; fill:none\" points=\"\n",
       "  215.754,677.942 2352.76,677.942 \n",
       "  \"/>\n",
       "<polyline clip-path=\"url(#clip0302)\" style=\"stroke:#000000; stroke-width:2; stroke-opacity:0.1; fill:none\" points=\"\n",
       "  215.754,421.028 2352.76,421.028 \n",
       "  \"/>\n",
       "<polyline clip-path=\"url(#clip0302)\" style=\"stroke:#000000; stroke-width:2; stroke-opacity:0.1; fill:none\" points=\"\n",
       "  215.754,164.114 2352.76,164.114 \n",
       "  \"/>\n",
       "<polyline clip-path=\"url(#clip0300)\" style=\"stroke:#000000; stroke-width:4; stroke-opacity:1; fill:none\" points=\"\n",
       "  215.754,1425.62 2352.76,1425.62 \n",
       "  \"/>\n",
       "<polyline clip-path=\"url(#clip0300)\" style=\"stroke:#000000; stroke-width:4; stroke-opacity:1; fill:none\" points=\"\n",
       "  215.754,1425.62 215.754,121.675 \n",
       "  \"/>\n",
       "<polyline clip-path=\"url(#clip0300)\" style=\"stroke:#000000; stroke-width:4; stroke-opacity:1; fill:none\" points=\"\n",
       "  271.745,1425.62 271.745,1406.06 \n",
       "  \"/>\n",
       "<polyline clip-path=\"url(#clip0300)\" style=\"stroke:#000000; stroke-width:4; stroke-opacity:1; fill:none\" points=\"\n",
       "  720.752,1425.62 720.752,1406.06 \n",
       "  \"/>\n",
       "<polyline clip-path=\"url(#clip0300)\" style=\"stroke:#000000; stroke-width:4; stroke-opacity:1; fill:none\" points=\"\n",
       "  1169.76,1425.62 1169.76,1406.06 \n",
       "  \"/>\n",
       "<polyline clip-path=\"url(#clip0300)\" style=\"stroke:#000000; stroke-width:4; stroke-opacity:1; fill:none\" points=\"\n",
       "  1618.76,1425.62 1618.76,1406.06 \n",
       "  \"/>\n",
       "<polyline clip-path=\"url(#clip0300)\" style=\"stroke:#000000; stroke-width:4; stroke-opacity:1; fill:none\" points=\"\n",
       "  2067.77,1425.62 2067.77,1406.06 \n",
       "  \"/>\n",
       "<polyline clip-path=\"url(#clip0300)\" style=\"stroke:#000000; stroke-width:4; stroke-opacity:1; fill:none\" points=\"\n",
       "  215.754,1191.77 247.809,1191.77 \n",
       "  \"/>\n",
       "<polyline clip-path=\"url(#clip0300)\" style=\"stroke:#000000; stroke-width:4; stroke-opacity:1; fill:none\" points=\"\n",
       "  215.754,934.856 247.809,934.856 \n",
       "  \"/>\n",
       "<polyline clip-path=\"url(#clip0300)\" style=\"stroke:#000000; stroke-width:4; stroke-opacity:1; fill:none\" points=\"\n",
       "  215.754,677.942 247.809,677.942 \n",
       "  \"/>\n",
       "<polyline clip-path=\"url(#clip0300)\" style=\"stroke:#000000; stroke-width:4; stroke-opacity:1; fill:none\" points=\"\n",
       "  215.754,421.028 247.809,421.028 \n",
       "  \"/>\n",
       "<polyline clip-path=\"url(#clip0300)\" style=\"stroke:#000000; stroke-width:4; stroke-opacity:1; fill:none\" points=\"\n",
       "  215.754,164.114 247.809,164.114 \n",
       "  \"/>\n",
       "<g clip-path=\"url(#clip0300)\">\n",
       "<text style=\"fill:#000000; fill-opacity:1; font-family:Arial,Helvetica Neue,Helvetica,sans-serif; font-size:48px; text-anchor:middle;\" transform=\"rotate(0, 271.745, 1479.62)\" x=\"271.745\" y=\"1479.62\">0</text>\n",
       "</g>\n",
       "<g clip-path=\"url(#clip0300)\">\n",
       "<text style=\"fill:#000000; fill-opacity:1; font-family:Arial,Helvetica Neue,Helvetica,sans-serif; font-size:48px; text-anchor:middle;\" transform=\"rotate(0, 720.752, 1479.62)\" x=\"720.752\" y=\"1479.62\">100</text>\n",
       "</g>\n",
       "<g clip-path=\"url(#clip0300)\">\n",
       "<text style=\"fill:#000000; fill-opacity:1; font-family:Arial,Helvetica Neue,Helvetica,sans-serif; font-size:48px; text-anchor:middle;\" transform=\"rotate(0, 1169.76, 1479.62)\" x=\"1169.76\" y=\"1479.62\">200</text>\n",
       "</g>\n",
       "<g clip-path=\"url(#clip0300)\">\n",
       "<text style=\"fill:#000000; fill-opacity:1; font-family:Arial,Helvetica Neue,Helvetica,sans-serif; font-size:48px; text-anchor:middle;\" transform=\"rotate(0, 1618.76, 1479.62)\" x=\"1618.76\" y=\"1479.62\">300</text>\n",
       "</g>\n",
       "<g clip-path=\"url(#clip0300)\">\n",
       "<text style=\"fill:#000000; fill-opacity:1; font-family:Arial,Helvetica Neue,Helvetica,sans-serif; font-size:48px; text-anchor:middle;\" transform=\"rotate(0, 2067.77, 1479.62)\" x=\"2067.77\" y=\"1479.62\">400</text>\n",
       "</g>\n",
       "<g clip-path=\"url(#clip0300)\">\n",
       "<text style=\"fill:#000000; fill-opacity:1; font-family:Arial,Helvetica Neue,Helvetica,sans-serif; font-size:48px; text-anchor:end;\" transform=\"rotate(0, 191.754, 1209.27)\" x=\"191.754\" y=\"1209.27\">0.2</text>\n",
       "</g>\n",
       "<g clip-path=\"url(#clip0300)\">\n",
       "<text style=\"fill:#000000; fill-opacity:1; font-family:Arial,Helvetica Neue,Helvetica,sans-serif; font-size:48px; text-anchor:end;\" transform=\"rotate(0, 191.754, 952.356)\" x=\"191.754\" y=\"952.356\">0.3</text>\n",
       "</g>\n",
       "<g clip-path=\"url(#clip0300)\">\n",
       "<text style=\"fill:#000000; fill-opacity:1; font-family:Arial,Helvetica Neue,Helvetica,sans-serif; font-size:48px; text-anchor:end;\" transform=\"rotate(0, 191.754, 695.442)\" x=\"191.754\" y=\"695.442\">0.4</text>\n",
       "</g>\n",
       "<g clip-path=\"url(#clip0300)\">\n",
       "<text style=\"fill:#000000; fill-opacity:1; font-family:Arial,Helvetica Neue,Helvetica,sans-serif; font-size:48px; text-anchor:end;\" transform=\"rotate(0, 191.754, 438.528)\" x=\"191.754\" y=\"438.528\">0.5</text>\n",
       "</g>\n",
       "<g clip-path=\"url(#clip0300)\">\n",
       "<text style=\"fill:#000000; fill-opacity:1; font-family:Arial,Helvetica Neue,Helvetica,sans-serif; font-size:48px; text-anchor:end;\" transform=\"rotate(0, 191.754, 181.614)\" x=\"191.754\" y=\"181.614\">0.6</text>\n",
       "</g>\n",
       "<g clip-path=\"url(#clip0300)\">\n",
       "<text style=\"fill:#000000; fill-opacity:1; font-family:Arial,Helvetica Neue,Helvetica,sans-serif; font-size:84px; text-anchor:middle;\" transform=\"rotate(0, 1284.25, 73.2)\" x=\"1284.25\" y=\"73.2\">h2 trace plot</text>\n",
       "</g>\n",
       "<g clip-path=\"url(#clip0300)\">\n",
       "<text style=\"fill:#000000; fill-opacity:1; font-family:Arial,Helvetica Neue,Helvetica,sans-serif; font-size:66px; text-anchor:middle;\" transform=\"rotate(0, 1284.25, 1559.48)\" x=\"1284.25\" y=\"1559.48\">iteration</text>\n",
       "</g>\n",
       "<g clip-path=\"url(#clip0300)\">\n",
       "<text style=\"fill:#000000; fill-opacity:1; font-family:Arial,Helvetica Neue,Helvetica,sans-serif; font-size:66px; text-anchor:middle;\" transform=\"rotate(-90, 89.2861, 773.647)\" x=\"89.2861\" y=\"773.647\">h2</text>\n",
       "</g>\n",
       "<polyline clip-path=\"url(#clip0302)\" style=\"stroke:#009af9; stroke-width:4; stroke-opacity:1; fill:none\" points=\"\n",
       "  276.235,935.93 280.725,989.731 285.215,940.824 289.705,1073.95 294.196,1066.27 298.686,917.394 303.176,864.108 307.666,915.327 312.156,973.473 316.646,974.938 \n",
       "  321.136,1114.31 325.626,1116.04 330.116,1209.88 334.606,1237.57 339.096,1280.45 343.586,1024.05 348.076,996.537 352.566,1113.19 357.056,1169.22 361.547,1094.19 \n",
       "  366.037,1265.93 370.527,1055.14 375.017,573.837 379.507,625.439 383.997,548.526 388.487,530.122 392.977,373.521 397.467,264.431 401.957,408.606 406.447,476.266 \n",
       "  410.937,574.026 415.427,552.29 419.917,606.414 424.407,485.192 428.897,468.048 433.388,385.441 437.878,532.686 442.368,483.707 446.858,363.878 451.348,253.382 \n",
       "  455.838,456.047 460.328,240.717 464.818,425.685 469.308,488.121 473.798,456.18 478.288,414.637 482.778,625.084 487.268,922.284 491.758,877.466 496.248,954.97 \n",
       "  500.739,1088.36 505.229,1064.82 509.719,1004.97 514.209,987.503 518.699,902.808 523.189,737.097 527.679,715.623 532.169,686.284 536.659,910.47 541.149,854.924 \n",
       "  545.639,713.718 550.129,622.179 554.619,757.376 559.109,962.734 563.599,777.307 568.09,660.877 572.58,703.272 577.07,703.315 581.56,868.135 586.05,894.656 \n",
       "  590.54,729.771 595.03,893.72 599.52,917.464 604.01,694.705 608.5,809.018 612.99,732.802 617.48,879.603 621.97,924.917 626.46,975.38 630.95,1053.29 \n",
       "  635.441,1251.94 639.931,1127.12 644.421,989.092 648.911,981.433 653.401,886.064 657.891,852.414 662.381,1029.25 666.871,612.163 671.361,728.258 675.851,700.768 \n",
       "  680.341,764.074 684.831,723.717 689.321,805.168 693.811,921.419 698.301,974.471 702.792,657.288 707.282,729.844 711.772,443.63 716.262,670.582 720.752,855.99 \n",
       "  725.242,895.512 729.732,856.381 734.222,826.333 738.712,799.876 743.202,821.714 747.692,587.016 752.182,689.38 756.672,718.312 761.162,839.01 765.652,789.596 \n",
       "  770.142,773.621 774.633,893.104 779.123,906.304 783.613,1140.46 788.103,1036.5 792.593,853.32 797.083,973.713 801.573,974.379 806.063,1016.95 810.553,995.203 \n",
       "  815.043,953.24 819.533,907.577 824.023,1045.23 828.513,1178.78 833.003,1106.01 837.493,876.17 841.984,976.768 846.474,981.991 850.964,837.669 855.454,1179.15 \n",
       "  859.944,1249.04 864.434,1176.42 868.924,1024.25 873.414,996.39 877.904,844.142 882.394,835.534 886.884,797.695 891.374,920.832 895.864,818.784 900.354,884.21 \n",
       "  904.844,764.911 909.335,719.247 913.825,846.082 918.315,744.875 922.805,509.272 927.295,566.258 931.785,358.894 936.275,463.778 940.765,232.699 945.255,237.483 \n",
       "  949.745,158.579 954.235,224.61 958.725,315.029 963.215,349.387 967.705,437.197 972.195,424.212 976.686,441.564 981.176,684.794 985.666,634.348 990.156,716.881 \n",
       "  994.646,766.253 999.136,745.537 1003.63,790.513 1008.12,849.613 1012.61,740.94 1017.1,868.757 1021.59,740.681 1026.08,896.608 1030.57,913.631 1035.06,883.57 \n",
       "  1039.55,913.546 1044.04,1023.94 1048.53,899.844 1053.02,957.571 1057.51,656.349 1062,622.206 1066.49,686.82 1070.98,699.952 1075.47,939.675 1079.96,937.258 \n",
       "  1084.45,1032.55 1088.94,1006.16 1093.43,1214.92 1097.92,1088.08 1102.41,988.227 1106.9,927.309 1111.39,966.435 1115.88,839.509 1120.37,816.438 1124.86,876.924 \n",
       "  1129.35,1033.79 1133.84,819.173 1138.33,1152.99 1142.82,995.98 1147.31,1078.91 1151.8,1079.46 1156.29,1195.37 1160.78,1174.94 1165.27,1131.06 1169.76,932.291 \n",
       "  1174.25,840.087 1178.74,629.343 1183.23,602.317 1187.72,919.667 1192.21,1005.21 1196.7,1186.06 1201.19,678.695 1205.68,747.486 1210.17,793.702 1214.66,806.193 \n",
       "  1219.15,786.319 1223.64,1095.58 1228.13,966.626 1232.62,864.606 1237.11,716.53 1241.6,435.017 1246.09,577.103 1250.58,504.829 1255.07,818.567 1259.56,805.79 \n",
       "  1264.05,995.07 1268.54,1156.27 1273.03,1078.36 1277.52,1147.36 1282.01,1026.29 1286.5,1198.44 1290.99,1186.6 1295.48,1197.47 1299.97,1155.89 1304.46,1037.19 \n",
       "  1308.95,964.762 1313.44,953.66 1317.93,898.887 1322.42,775.787 1326.91,819.101 1331.4,726.43 1335.89,914.282 1340.38,870.584 1344.87,1103.2 1349.36,970.821 \n",
       "  1353.85,1290.47 1358.34,1260.2 1362.83,1238.72 1367.32,1089.67 1371.81,1243.56 1376.3,1033.15 1380.79,1272.5 1385.28,1105.55 1389.77,1016.73 1394.26,1075.72 \n",
       "  1398.75,1148.39 1403.24,1197.8 1407.73,1135.42 1412.22,1177.66 1416.71,1013.4 1421.2,884.843 1425.69,794.442 1430.18,592.04 1434.67,673.261 1439.16,873.732 \n",
       "  1443.65,1051.91 1448.14,759.333 1452.63,847.178 1457.12,841.674 1461.61,1054.09 1466.1,1028.46 1470.59,1150.24 1475.08,1140.79 1479.57,1231.87 1484.06,1179.89 \n",
       "  1488.55,1105.96 1493.04,1073.02 1497.53,1090.21 1502.02,936.319 1506.51,1053.97 1511,953.122 1515.49,879.856 1519.98,886.852 1524.47,969.185 1528.96,887.729 \n",
       "  1533.45,1037.38 1537.94,1017.54 1542.43,1152.13 1546.92,981.362 1551.41,862.181 1555.9,710.62 1560.39,803.507 1564.88,850.342 1569.37,962.882 1573.86,929.381 \n",
       "  1578.35,919.902 1582.84,914.509 1587.33,716.348 1591.82,966.204 1596.31,1011.62 1600.8,1047.97 1605.29,1199.89 1609.78,1122.42 1614.27,1112.1 1618.76,1016.56 \n",
       "  1623.25,1014.73 1627.75,988.797 1632.24,948.612 1636.73,705.415 1641.22,837.332 1645.71,841.402 1650.2,943.16 1654.69,1138.34 1659.18,1140.18 1663.67,1059.77 \n",
       "  1668.16,971.525 1672.65,1060.61 1677.14,1044.31 1681.63,779.621 1686.12,967.667 1690.61,858.943 1695.1,819.138 1699.59,695.169 1704.08,864.755 1708.57,916.592 \n",
       "  1713.06,884.634 1717.55,892.315 1722.04,971.179 1726.53,1029.22 1731.02,1027.86 1735.51,1010.95 1740,1051.12 1744.49,988.756 1748.98,917.02 1753.47,916.968 \n",
       "  1757.96,1020.78 1762.45,957.61 1766.94,980.933 1771.43,1044.53 1775.92,992.368 1780.41,1083.04 1784.9,981.202 1789.39,1023.54 1793.88,1102.44 1798.37,1049.18 \n",
       "  1802.86,1128.92 1807.35,1014.32 1811.84,1100.54 1816.33,1084.79 1820.82,1104.97 1825.31,1001.04 1829.8,1071.99 1834.29,1013.86 1838.78,1081.9 1843.27,1019.37 \n",
       "  1847.76,1071.14 1852.25,1151.74 1856.74,1051.21 1861.23,1055.43 1865.72,1018.86 1870.21,1074.62 1874.7,1155.99 1879.19,1160.02 1883.68,1132.18 1888.17,1194.36 \n",
       "  1892.66,1201.25 1897.15,1109.82 1901.64,1237.7 1906.13,1189.3 1910.62,1241.97 1915.11,1126.52 1919.6,1154.95 1924.09,1171.19 1928.58,1065.75 1933.07,1178.3 \n",
       "  1937.56,1192.95 1942.05,1181.56 1946.54,1131.1 1951.03,1190 1955.52,1127.3 1960.01,1175.71 1964.5,1276.03 1968.99,1271.36 1973.48,1295.99 1977.97,1304.73 \n",
       "  1982.46,1388.71 1986.95,1328.68 1991.44,1283.61 1995.93,1302.24 2000.42,1313.41 2004.91,1341.67 2009.4,1373.37 2013.89,1307.4 2018.38,1279.78 2022.87,1309.25 \n",
       "  2027.36,1314.28 2031.85,1243.68 2036.34,1232.68 2040.83,1241.75 2045.32,1194.52 2049.81,1136.22 2054.3,1201.11 2058.79,1262.81 2063.28,1163.26 2067.77,1078.01 \n",
       "  2072.26,1143.93 2076.75,1109.61 2081.24,1046.85 2085.73,1195.84 2090.22,1118.48 2094.71,1072.45 2099.2,1067.86 2103.69,999.423 2108.18,1133.68 2112.67,1165.78 \n",
       "  2117.16,1100.98 2121.65,995.162 2126.14,970.743 2130.63,751.355 2135.12,964.32 2139.61,1015.97 2144.1,1143.89 2148.59,1075.46 2153.08,1089.15 2157.57,1118.82 \n",
       "  2162.06,1115.7 2166.55,1061.52 2171.04,1075.38 2175.53,895.287 2180.02,956.237 2184.51,970.623 2189,849.692 2193.49,912.452 2197.98,861.382 2202.47,988.286 \n",
       "  2206.96,934.919 2211.45,918.358 2215.94,813.169 2220.43,846.335 2224.92,783.158 2229.41,911.956 2233.9,936.215 2238.39,702.318 2242.88,947.526 2247.37,920.858 \n",
       "  2251.86,891.637 2256.35,872.191 2260.84,867.462 2265.33,910.045 2269.82,938.964 2274.31,964.146 2278.8,1008.4 2283.29,936.784 2287.78,942.626 2292.27,1036.43 \n",
       "  \n",
       "  \"/>\n",
       "<path clip-path=\"url(#clip0300)\" d=\"\n",
       "M1989.93 326.155 L2280.76 326.155 L2280.76 205.195 L1989.93 205.195  Z\n",
       "  \" fill=\"#ffffff\" fill-rule=\"evenodd\" fill-opacity=\"1\"/>\n",
       "<polyline clip-path=\"url(#clip0300)\" style=\"stroke:#000000; stroke-width:4; stroke-opacity:1; fill:none\" points=\"\n",
       "  1989.93,326.155 2280.76,326.155 2280.76,205.195 1989.93,205.195 1989.93,326.155 \n",
       "  \"/>\n",
       "<polyline clip-path=\"url(#clip0300)\" style=\"stroke:#009af9; stroke-width:4; stroke-opacity:1; fill:none\" points=\"\n",
       "  2013.93,265.675 2157.93,265.675 \n",
       "  \"/>\n",
       "<g clip-path=\"url(#clip0300)\">\n",
       "<text style=\"fill:#000000; fill-opacity:1; font-family:Arial,Helvetica Neue,Helvetica,sans-serif; font-size:48px; text-anchor:start;\" transform=\"rotate(0, 2181.93, 283.175)\" x=\"2181.93\" y=\"283.175\">y1</text>\n",
       "</g>\n",
       "</svg>\n"
      ]
     },
     "execution_count": 21,
     "metadata": {},
     "output_type": "execute_result"
    }
   ],
   "source": [
    "using Plots\n",
    "x = h2[!,1]; y = h2[!,2]; # These are the plotting data\n",
    "plot(x,y, title = \"h2 trace plot\",\n",
    "        xlabel = \"iteration\", ylabel = \"h2\")"
   ]
  },
  {
   "cell_type": "code",
   "execution_count": 52,
   "metadata": {},
   "outputs": [
    {
     "name": "stdout",
     "output_type": "stream",
     "text": [
      "\u001b[32mChecking phenotypes...\u001b[39m\n",
      "\u001b[32mIndividual IDs (strings) are provided in the first column of the phenotypic data.\u001b[39m\n",
      "\n",
      "The prior for marker effects variance is calculated from the genetic variance and π.\n",
      "The mean of the prior for the marker effects variance is: 0.000325\n",
      "\n",
      "\n",
      "\n",
      "\u001b[0m\u001b[1mA Linear Mixed Model was build using model equations:\u001b[22m\n",
      "\n",
      "Died_Nur2 = intercept + Batch + EntryAge + NurPenBatch\n",
      "\n",
      "\u001b[0m\u001b[1mModel Information:\u001b[22m\n",
      "\n",
      "Term            C/F          F/R            nLevels\n",
      "intercept       factor       fixed                1\n",
      "Batch           factor       fixed               50\n",
      "EntryAge        covariate    fixed                1\n",
      "NurPenBatch     factor       random             436\n",
      "\n",
      "\u001b[0m\u001b[1mMCMC Information:\u001b[22m\n",
      "\n",
      "methods                                      BayesB\n",
      "                              complete genomic data\n",
      "                   (i.e., non-single-step analysis)\n",
      "chain_length                                  50000\n",
      "burnin                                         5000\n",
      "estimatePi                                    false\n",
      "estimateScale                                  true\n",
      "starting_value                                false\n",
      "printout_frequency                            50001\n",
      "output_samples_frequency                        100\n",
      "constraint                                    false\n",
      "missing_phenotypes                             true\n",
      "update_priors_frequency                           0\n",
      "seed                                          false\n",
      "\n",
      "\u001b[0m\u001b[1mHyper-parameters Information:\u001b[22m\n",
      "\n",
      "random effect variances (NurPenBatch):              [0.054]\n",
      "residual variances:                           1.000\n",
      "genetic variances (genomic):                  0.054\n",
      "marker effect variances:                      0.000\n",
      "π                                             0.999\n",
      "\n",
      "\u001b[0m\u001b[1mDegree of freedom for hyper-parameters:\u001b[22m\n",
      "\n",
      "residual variances:                           4.000\n",
      "iid random effect variances:                  5.000\n",
      "marker effect variances:                      4.000\n",
      "\n",
      "\n",
      "\n",
      "\u001b[31mThe file MCMC_samples_residual_variance.txt already exists!!! It is overwritten by the new output.\u001b[39m\n",
      "\u001b[31mThe file MCMC_samples_marker_effects_Died_Nur2.txt already exists!!! It is overwritten by the new output.\u001b[39m\n",
      "\u001b[31mThe file MCMC_samples_marker_effects_variances.txt already exists!!! It is overwritten by the new output.\u001b[39m\n",
      "\u001b[31mThe file MCMC_samples_pi.txt already exists!!! It is overwritten by the new output.\u001b[39m\n",
      "\u001b[31mThe file MCMC_samples_NurPenBatch_variances.txt already exists!!! It is overwritten by the new output.\u001b[39m\n",
      "\u001b[31mThe file MCMC_samples_EBV_Died_Nur2.txt already exists!!! It is overwritten by the new output.\u001b[39m\n",
      "\u001b[31mThe file MCMC_samples_genetic_variance.txt already exists!!! It is overwritten by the new output.\u001b[39m\n",
      "\u001b[31mThe file MCMC_samples_heritability.txt already exists!!! It is overwritten by the new output.\u001b[39m\n"
     ]
    },
    {
     "name": "stderr",
     "output_type": "stream",
     "text": [
      "\u001b[32mrunning MCMC for BayesB...100%|█████████████████████████| Time: 12:30:03\u001b[39m\n"
     ]
    },
    {
     "name": "stdout",
     "output_type": "stream",
     "text": [
      "\n",
      "\n",
      "\u001b[0m\u001b[1mThe version of Julia and Platform in use:\u001b[22m\n",
      "\n",
      "Julia Version 1.1.0\n",
      "Commit 80516ca202 (2019-01-21 21:24 UTC)\n",
      "Platform Info:\n",
      "  OS: Linux (x86_64-pc-linux-gnu)\n",
      "  CPU: Intel(R) Core(TM) i7-5960X CPU @ 3.00GHz\n",
      "  WORD_SIZE: 64\n",
      "  LIBM: libopenlibm\n",
      "  LLVM: libLLVM-6.0.1 (ORCJIT, haswell)\n",
      "Environment:\n",
      "  JULIA_DEPOT_PATH = /opt/julia\n",
      "  JULIA_PKGDIR = /opt/julia\n",
      "  JULIA_VERSION = 1.1.0\n",
      "\n",
      "\n",
      "\u001b[0m\u001b[1mThe analysis has finished. Results are saved in the returned \u001b[22m\u001b[0m\u001b[1mvariable and text files. MCMC samples are saved in text files.\u001b[22m\n",
      "\n",
      "\n",
      "45022.508324 seconds (113.15 G allocations: 2.372 TiB, 0.84% gc time)\n"
     ]
    },
    {
     "data": {
      "text/plain": [
       "Dict{Any,Any} with 8 entries:\n",
       "  \"marker effects\"          => 435172×5 DataFrame…\n",
       "  \"heritability\"            => 1×3 DataFrame…\n",
       "  \"location parameters\"     => 488×5 DataFrame…\n",
       "  \"residual variance\"       => 1×3 DataFrame…\n",
       "  \"EBV_Died_Nur2\"           => 3205×3 DataFrame…\n",
       "  \"ScaleEffectVar\"          => 1×3 DataFrame…\n",
       "  \"genetic_variance\"        => 1×3 DataFrame…\n",
       "  \"marker effects variance\" => 1×3 DataFrame…"
      ]
     },
     "execution_count": 52,
     "metadata": {},
     "output_type": "execute_result"
    }
   ],
   "source": [
    "@time Died_Nur2_outB=runMCMC(Died_Nur2_model,phenotypes,methods=\"BayesB\", missing_phenotypes=true, \n",
    "    Pi=0.999,estimateScale=true, categorical_trait = true, chain_length=50000,burnin = 5000,output_heritability=true,  output_samples_frequency=100)"
   ]
  },
  {
   "cell_type": "code",
   "execution_count": 53,
   "metadata": {},
   "outputs": [
    {
     "data": {
      "text/plain": [
       "0.04828242307585472"
      ]
     },
     "execution_count": 53,
     "metadata": {},
     "output_type": "execute_result"
    }
   ],
   "source": [
    "marker=CSV.read(\"MCMC_samples_genetic_variance.txt\",delim = ' ',header=true)\n",
    "Va=mean(marker[!, 1])"
   ]
  },
  {
   "cell_type": "code",
   "execution_count": 54,
   "metadata": {},
   "outputs": [
    {
     "data": {
      "text/plain": [
       "0.08794989037702151"
      ]
     },
     "execution_count": 54,
     "metadata": {},
     "output_type": "execute_result"
    }
   ],
   "source": [
    "pen=CSV.read(\"MCMC_samples_NurPenBatch_variances.txt\",delim = ' ',header=true)\n",
    "Vs=mean(pen[!, 1])"
   ]
  },
  {
   "cell_type": "code",
   "execution_count": 55,
   "metadata": {},
   "outputs": [
    {
     "data": {
      "text/plain": [
       "1.0"
      ]
     },
     "execution_count": 55,
     "metadata": {},
     "output_type": "execute_result"
    }
   ],
   "source": [
    "Res=CSV.read(\"MCMC_samples_residual_variance.txt\",delim = ' ',header=true)\n",
    "Ve=mean(Res[!, 1])"
   ]
  },
  {
   "cell_type": "code",
   "execution_count": 56,
   "metadata": {},
   "outputs": [
    {
     "data": {
      "text/plain": [
       "0.0460586021600793"
      ]
     },
     "execution_count": 56,
     "metadata": {},
     "output_type": "execute_result"
    }
   ],
   "source": [
    "h2=Va/(Va+Ve)"
   ]
  },
  {
   "cell_type": "code",
   "execution_count": 57,
   "metadata": {},
   "outputs": [
    {
     "data": {
      "text/html": [
       "<table class=\"data-frame\"><thead><tr><th></th><th>iteration</th><th>Died_Nur2</th></tr><tr><th></th><th>Int64</th><th>Float64</th></tr></thead><tbody><p>450 rows × 2 columns</p><tr><th>1</th><td>1</td><td>0.0456331</td></tr><tr><th>2</th><td>2</td><td>0.0526936</td></tr><tr><th>3</th><td>3</td><td>0.0403324</td></tr><tr><th>4</th><td>4</td><td>0.0858351</td></tr><tr><th>5</th><td>5</td><td>0.0424438</td></tr><tr><th>6</th><td>6</td><td>0.0459923</td></tr><tr><th>7</th><td>7</td><td>0.0472068</td></tr><tr><th>8</th><td>8</td><td>0.0393309</td></tr><tr><th>9</th><td>9</td><td>0.0576713</td></tr><tr><th>10</th><td>10</td><td>0.042864</td></tr><tr><th>11</th><td>11</td><td>0.0556539</td></tr><tr><th>12</th><td>12</td><td>0.054752</td></tr><tr><th>13</th><td>13</td><td>0.0534919</td></tr><tr><th>14</th><td>14</td><td>0.0507465</td></tr><tr><th>15</th><td>15</td><td>0.0558703</td></tr><tr><th>16</th><td>16</td><td>0.0478476</td></tr><tr><th>17</th><td>17</td><td>0.0538374</td></tr><tr><th>18</th><td>18</td><td>0.0398033</td></tr><tr><th>19</th><td>19</td><td>0.0614761</td></tr><tr><th>20</th><td>20</td><td>0.0540397</td></tr><tr><th>21</th><td>21</td><td>0.0429742</td></tr><tr><th>22</th><td>22</td><td>0.0496488</td></tr><tr><th>23</th><td>23</td><td>0.0423314</td></tr><tr><th>24</th><td>24</td><td>0.0454783</td></tr><tr><th>25</th><td>25</td><td>0.0363056</td></tr><tr><th>26</th><td>26</td><td>0.0402906</td></tr><tr><th>27</th><td>27</td><td>0.0344527</td></tr><tr><th>28</th><td>28</td><td>0.0579695</td></tr><tr><th>29</th><td>29</td><td>0.0363892</td></tr><tr><th>30</th><td>30</td><td>0.0390521</td></tr><tr><th>&vellip;</th><td>&vellip;</td><td>&vellip;</td></tr></tbody></table>"
      ],
      "text/latex": [
       "\\begin{tabular}{r|cc}\n",
       "\t& iteration & Died\\_Nur2\\\\\n",
       "\t\\hline\n",
       "\t& Int64 & Float64\\\\\n",
       "\t\\hline\n",
       "\t1 & 1 & 0.0456331 \\\\\n",
       "\t2 & 2 & 0.0526936 \\\\\n",
       "\t3 & 3 & 0.0403324 \\\\\n",
       "\t4 & 4 & 0.0858351 \\\\\n",
       "\t5 & 5 & 0.0424438 \\\\\n",
       "\t6 & 6 & 0.0459923 \\\\\n",
       "\t7 & 7 & 0.0472068 \\\\\n",
       "\t8 & 8 & 0.0393309 \\\\\n",
       "\t9 & 9 & 0.0576713 \\\\\n",
       "\t10 & 10 & 0.042864 \\\\\n",
       "\t11 & 11 & 0.0556539 \\\\\n",
       "\t12 & 12 & 0.054752 \\\\\n",
       "\t13 & 13 & 0.0534919 \\\\\n",
       "\t14 & 14 & 0.0507465 \\\\\n",
       "\t15 & 15 & 0.0558703 \\\\\n",
       "\t16 & 16 & 0.0478476 \\\\\n",
       "\t17 & 17 & 0.0538374 \\\\\n",
       "\t18 & 18 & 0.0398033 \\\\\n",
       "\t19 & 19 & 0.0614761 \\\\\n",
       "\t20 & 20 & 0.0540397 \\\\\n",
       "\t21 & 21 & 0.0429742 \\\\\n",
       "\t22 & 22 & 0.0496488 \\\\\n",
       "\t23 & 23 & 0.0423314 \\\\\n",
       "\t24 & 24 & 0.0454783 \\\\\n",
       "\t25 & 25 & 0.0363056 \\\\\n",
       "\t26 & 26 & 0.0402906 \\\\\n",
       "\t27 & 27 & 0.0344527 \\\\\n",
       "\t28 & 28 & 0.0579695 \\\\\n",
       "\t29 & 29 & 0.0363892 \\\\\n",
       "\t30 & 30 & 0.0390521 \\\\\n",
       "\t$\\dots$ & $\\dots$ & $\\dots$ \\\\\n",
       "\\end{tabular}\n"
      ],
      "text/plain": [
       "450×2 DataFrame\n",
       "│ Row │ iteration │ Died_Nur2 │\n",
       "│     │ \u001b[90mInt64\u001b[39m     │ \u001b[90mFloat64\u001b[39m   │\n",
       "├─────┼───────────┼───────────┤\n",
       "│ 1   │ 1         │ 0.0456331 │\n",
       "│ 2   │ 2         │ 0.0526936 │\n",
       "│ 3   │ 3         │ 0.0403324 │\n",
       "│ 4   │ 4         │ 0.0858351 │\n",
       "│ 5   │ 5         │ 0.0424438 │\n",
       "│ 6   │ 6         │ 0.0459923 │\n",
       "│ 7   │ 7         │ 0.0472068 │\n",
       "│ 8   │ 8         │ 0.0393309 │\n",
       "│ 9   │ 9         │ 0.0576713 │\n",
       "│ 10  │ 10        │ 0.042864  │\n",
       "⋮\n",
       "│ 440 │ 440       │ 0.048783  │\n",
       "│ 441 │ 441       │ 0.0518488 │\n",
       "│ 442 │ 442       │ 0.0522423 │\n",
       "│ 443 │ 443       │ 0.0427103 │\n",
       "│ 444 │ 444       │ 0.0599284 │\n",
       "│ 445 │ 445       │ 0.0418527 │\n",
       "│ 446 │ 446       │ 0.0450769 │\n",
       "│ 447 │ 447       │ 0.0379583 │\n",
       "│ 448 │ 448       │ 0.047467  │\n",
       "│ 449 │ 449       │ 0.0515823 │\n",
       "│ 450 │ 450       │ 0.0600372 │"
      ]
     },
     "execution_count": 57,
     "metadata": {},
     "output_type": "execute_result"
    }
   ],
   "source": [
    "h2=CSV.read(\"MCMC_samples_heritability.txt\",delim = ' ',header=true)\n",
    "insertcols!(h2, 1, :iteration => 1:450) # Add a column called iteration"
   ]
  },
  {
   "cell_type": "code",
   "execution_count": 58,
   "metadata": {
    "scrolled": true
   },
   "outputs": [
    {
     "data": {
      "image/svg+xml": [
       "<?xml version=\"1.0\" encoding=\"utf-8\"?>\n",
       "<svg xmlns=\"http://www.w3.org/2000/svg\" xmlns:xlink=\"http://www.w3.org/1999/xlink\" width=\"600\" height=\"400\" viewBox=\"0 0 2400 1600\">\n",
       "<defs>\n",
       "  <clipPath id=\"clip1500\">\n",
       "    <rect x=\"0\" y=\"0\" width=\"2400\" height=\"1600\"/>\n",
       "  </clipPath>\n",
       "</defs>\n",
       "<path clip-path=\"url(#clip1500)\" d=\"\n",
       "M0 1600 L2400 1600 L2400 0 L0 0  Z\n",
       "  \" fill=\"#ffffff\" fill-rule=\"evenodd\" fill-opacity=\"1\"/>\n",
       "<defs>\n",
       "  <clipPath id=\"clip1501\">\n",
       "    <rect x=\"480\" y=\"0\" width=\"1681\" height=\"1600\"/>\n",
       "  </clipPath>\n",
       "</defs>\n",
       "<path clip-path=\"url(#clip1500)\" d=\"\n",
       "M242.516 1425.62 L2352.76 1425.62 L2352.76 121.675 L242.516 121.675  Z\n",
       "  \" fill=\"#ffffff\" fill-rule=\"evenodd\" fill-opacity=\"1\"/>\n",
       "<defs>\n",
       "  <clipPath id=\"clip1502\">\n",
       "    <rect x=\"242\" y=\"121\" width=\"2111\" height=\"1305\"/>\n",
       "  </clipPath>\n",
       "</defs>\n",
       "<polyline clip-path=\"url(#clip1502)\" style=\"stroke:#000000; stroke-width:2; stroke-opacity:0.1; fill:none\" points=\"\n",
       "  297.806,1425.62 297.806,121.675 \n",
       "  \"/>\n",
       "<polyline clip-path=\"url(#clip1502)\" style=\"stroke:#000000; stroke-width:2; stroke-opacity:0.1; fill:none\" points=\"\n",
       "  741.19,1425.62 741.19,121.675 \n",
       "  \"/>\n",
       "<polyline clip-path=\"url(#clip1502)\" style=\"stroke:#000000; stroke-width:2; stroke-opacity:0.1; fill:none\" points=\"\n",
       "  1184.57,1425.62 1184.57,121.675 \n",
       "  \"/>\n",
       "<polyline clip-path=\"url(#clip1502)\" style=\"stroke:#000000; stroke-width:2; stroke-opacity:0.1; fill:none\" points=\"\n",
       "  1627.96,1425.62 1627.96,121.675 \n",
       "  \"/>\n",
       "<polyline clip-path=\"url(#clip1502)\" style=\"stroke:#000000; stroke-width:2; stroke-opacity:0.1; fill:none\" points=\"\n",
       "  2071.34,1425.62 2071.34,121.675 \n",
       "  \"/>\n",
       "<polyline clip-path=\"url(#clip1502)\" style=\"stroke:#000000; stroke-width:2; stroke-opacity:0.1; fill:none\" points=\"\n",
       "  242.516,1142.31 2352.76,1142.31 \n",
       "  \"/>\n",
       "<polyline clip-path=\"url(#clip1502)\" style=\"stroke:#000000; stroke-width:2; stroke-opacity:0.1; fill:none\" points=\"\n",
       "  242.516,833.445 2352.76,833.445 \n",
       "  \"/>\n",
       "<polyline clip-path=\"url(#clip1502)\" style=\"stroke:#000000; stroke-width:2; stroke-opacity:0.1; fill:none\" points=\"\n",
       "  242.516,524.585 2352.76,524.585 \n",
       "  \"/>\n",
       "<polyline clip-path=\"url(#clip1502)\" style=\"stroke:#000000; stroke-width:2; stroke-opacity:0.1; fill:none\" points=\"\n",
       "  242.516,215.724 2352.76,215.724 \n",
       "  \"/>\n",
       "<polyline clip-path=\"url(#clip1500)\" style=\"stroke:#000000; stroke-width:4; stroke-opacity:1; fill:none\" points=\"\n",
       "  242.516,1425.62 2352.76,1425.62 \n",
       "  \"/>\n",
       "<polyline clip-path=\"url(#clip1500)\" style=\"stroke:#000000; stroke-width:4; stroke-opacity:1; fill:none\" points=\"\n",
       "  242.516,1425.62 242.516,121.675 \n",
       "  \"/>\n",
       "<polyline clip-path=\"url(#clip1500)\" style=\"stroke:#000000; stroke-width:4; stroke-opacity:1; fill:none\" points=\"\n",
       "  297.806,1425.62 297.806,1406.06 \n",
       "  \"/>\n",
       "<polyline clip-path=\"url(#clip1500)\" style=\"stroke:#000000; stroke-width:4; stroke-opacity:1; fill:none\" points=\"\n",
       "  741.19,1425.62 741.19,1406.06 \n",
       "  \"/>\n",
       "<polyline clip-path=\"url(#clip1500)\" style=\"stroke:#000000; stroke-width:4; stroke-opacity:1; fill:none\" points=\"\n",
       "  1184.57,1425.62 1184.57,1406.06 \n",
       "  \"/>\n",
       "<polyline clip-path=\"url(#clip1500)\" style=\"stroke:#000000; stroke-width:4; stroke-opacity:1; fill:none\" points=\"\n",
       "  1627.96,1425.62 1627.96,1406.06 \n",
       "  \"/>\n",
       "<polyline clip-path=\"url(#clip1500)\" style=\"stroke:#000000; stroke-width:4; stroke-opacity:1; fill:none\" points=\"\n",
       "  2071.34,1425.62 2071.34,1406.06 \n",
       "  \"/>\n",
       "<polyline clip-path=\"url(#clip1500)\" style=\"stroke:#000000; stroke-width:4; stroke-opacity:1; fill:none\" points=\"\n",
       "  242.516,1142.31 274.17,1142.31 \n",
       "  \"/>\n",
       "<polyline clip-path=\"url(#clip1500)\" style=\"stroke:#000000; stroke-width:4; stroke-opacity:1; fill:none\" points=\"\n",
       "  242.516,833.445 274.17,833.445 \n",
       "  \"/>\n",
       "<polyline clip-path=\"url(#clip1500)\" style=\"stroke:#000000; stroke-width:4; stroke-opacity:1; fill:none\" points=\"\n",
       "  242.516,524.585 274.17,524.585 \n",
       "  \"/>\n",
       "<polyline clip-path=\"url(#clip1500)\" style=\"stroke:#000000; stroke-width:4; stroke-opacity:1; fill:none\" points=\"\n",
       "  242.516,215.724 274.17,215.724 \n",
       "  \"/>\n",
       "<g clip-path=\"url(#clip1500)\">\n",
       "<text style=\"fill:#000000; fill-opacity:1; font-family:Arial,Helvetica Neue,Helvetica,sans-serif; font-size:48px; text-anchor:middle;\" transform=\"rotate(0, 297.806, 1479.62)\" x=\"297.806\" y=\"1479.62\">0</text>\n",
       "</g>\n",
       "<g clip-path=\"url(#clip1500)\">\n",
       "<text style=\"fill:#000000; fill-opacity:1; font-family:Arial,Helvetica Neue,Helvetica,sans-serif; font-size:48px; text-anchor:middle;\" transform=\"rotate(0, 741.19, 1479.62)\" x=\"741.19\" y=\"1479.62\">100</text>\n",
       "</g>\n",
       "<g clip-path=\"url(#clip1500)\">\n",
       "<text style=\"fill:#000000; fill-opacity:1; font-family:Arial,Helvetica Neue,Helvetica,sans-serif; font-size:48px; text-anchor:middle;\" transform=\"rotate(0, 1184.57, 1479.62)\" x=\"1184.57\" y=\"1479.62\">200</text>\n",
       "</g>\n",
       "<g clip-path=\"url(#clip1500)\">\n",
       "<text style=\"fill:#000000; fill-opacity:1; font-family:Arial,Helvetica Neue,Helvetica,sans-serif; font-size:48px; text-anchor:middle;\" transform=\"rotate(0, 1627.96, 1479.62)\" x=\"1627.96\" y=\"1479.62\">300</text>\n",
       "</g>\n",
       "<g clip-path=\"url(#clip1500)\">\n",
       "<text style=\"fill:#000000; fill-opacity:1; font-family:Arial,Helvetica Neue,Helvetica,sans-serif; font-size:48px; text-anchor:middle;\" transform=\"rotate(0, 2071.34, 1479.62)\" x=\"2071.34\" y=\"1479.62\">400</text>\n",
       "</g>\n",
       "<g clip-path=\"url(#clip1500)\">\n",
       "<text style=\"fill:#000000; fill-opacity:1; font-family:Arial,Helvetica Neue,Helvetica,sans-serif; font-size:48px; text-anchor:end;\" transform=\"rotate(0, 218.516, 1159.81)\" x=\"218.516\" y=\"1159.81\">0.04</text>\n",
       "</g>\n",
       "<g clip-path=\"url(#clip1500)\">\n",
       "<text style=\"fill:#000000; fill-opacity:1; font-family:Arial,Helvetica Neue,Helvetica,sans-serif; font-size:48px; text-anchor:end;\" transform=\"rotate(0, 218.516, 850.945)\" x=\"218.516\" y=\"850.945\">0.06</text>\n",
       "</g>\n",
       "<g clip-path=\"url(#clip1500)\">\n",
       "<text style=\"fill:#000000; fill-opacity:1; font-family:Arial,Helvetica Neue,Helvetica,sans-serif; font-size:48px; text-anchor:end;\" transform=\"rotate(0, 218.516, 542.085)\" x=\"218.516\" y=\"542.085\">0.08</text>\n",
       "</g>\n",
       "<g clip-path=\"url(#clip1500)\">\n",
       "<text style=\"fill:#000000; fill-opacity:1; font-family:Arial,Helvetica Neue,Helvetica,sans-serif; font-size:48px; text-anchor:end;\" transform=\"rotate(0, 218.516, 233.224)\" x=\"218.516\" y=\"233.224\">0.10</text>\n",
       "</g>\n",
       "<g clip-path=\"url(#clip1500)\">\n",
       "<text style=\"fill:#000000; fill-opacity:1; font-family:Arial,Helvetica Neue,Helvetica,sans-serif; font-size:84px; text-anchor:middle;\" transform=\"rotate(0, 1297.64, 73.2)\" x=\"1297.64\" y=\"73.2\">h2 trace plot</text>\n",
       "</g>\n",
       "<g clip-path=\"url(#clip1500)\">\n",
       "<text style=\"fill:#000000; fill-opacity:1; font-family:Arial,Helvetica Neue,Helvetica,sans-serif; font-size:66px; text-anchor:middle;\" transform=\"rotate(0, 1297.64, 1559.48)\" x=\"1297.64\" y=\"1559.48\">iteration</text>\n",
       "</g>\n",
       "<g clip-path=\"url(#clip1500)\">\n",
       "<text style=\"fill:#000000; fill-opacity:1; font-family:Arial,Helvetica Neue,Helvetica,sans-serif; font-size:66px; text-anchor:middle;\" transform=\"rotate(-90, 89.2861, 773.647)\" x=\"89.2861\" y=\"773.647\">h2</text>\n",
       "</g>\n",
       "<polyline clip-path=\"url(#clip1502)\" style=\"stroke:#009af9; stroke-width:4; stroke-opacity:1; fill:none\" points=\"\n",
       "  302.24,1055.31 306.674,946.278 311.108,1137.17 315.542,434.473 319.976,1104.57 324.409,1049.77 328.843,1031.01 333.277,1152.64 337.711,869.407 342.145,1098.08 \n",
       "  346.579,900.562 351.012,914.489 355.446,933.949 359.88,976.346 364.314,897.219 368.748,1021.11 373.182,928.613 377.615,1145.34 382.049,810.649 386.483,925.49 \n",
       "  390.917,1096.38 395.351,993.299 399.785,1106.3 404.218,1057.7 408.652,1199.36 413.086,1137.82 417.52,1227.97 421.954,864.802 426.388,1198.07 430.821,1156.94 \n",
       "  435.255,1088.28 439.689,1134.56 444.123,1029.72 448.557,1088.99 452.991,988.833 457.424,1118.67 461.858,945.886 466.292,1144.37 470.726,1014.95 475.16,1131.06 \n",
       "  479.594,740.101 484.027,1133.14 488.461,874.001 492.895,1164.64 497.329,975.879 501.763,1066.48 506.197,1099.71 510.63,1139.18 515.064,1162.63 519.498,819.607 \n",
       "  523.932,846.267 528.366,1068.39 532.8,1013.94 537.233,868.046 541.667,1072.8 546.101,1076.25 550.535,1114.06 554.969,749.495 559.403,998.132 563.836,921.138 \n",
       "  568.27,834.144 572.704,1023.79 577.138,989.059 581.572,1109.33 586.006,1007.7 590.439,1088.47 594.873,1088.86 599.307,1100.77 603.741,1220.95 608.175,1022.11 \n",
       "  612.609,938.192 617.042,971.028 621.476,946.79 625.91,1049.11 630.344,1015.57 634.778,958.359 639.212,1058.45 643.645,836.091 648.079,1133.65 652.513,1070.27 \n",
       "  656.947,972.296 661.381,596.133 665.815,958.19 670.248,816.967 674.682,967.323 679.116,777.204 683.55,869.643 687.984,960.272 692.418,569.267 696.852,1101.83 \n",
       "  701.285,1054.82 705.719,1159.82 710.153,1069.5 714.587,544.135 719.021,1028.73 723.455,992.963 727.888,1169.16 732.322,1123.5 736.756,892.233 741.19,1114.05 \n",
       "  745.624,1106.04 750.058,1150.51 754.491,1058.51 758.925,1153.43 763.359,1190.7 767.793,997.794 772.227,1102.31 776.661,1140.64 781.094,1142.11 785.528,1102.18 \n",
       "  789.962,969.823 794.396,1196.8 798.83,1094.22 803.264,638.764 807.697,938.491 812.131,1184.66 816.565,761.882 820.999,1151.88 825.433,839.995 829.867,1071.9 \n",
       "  834.3,1090.6 838.734,861.899 843.168,934.938 847.602,1180.52 852.036,1195.99 856.47,1075.94 860.903,1174.01 865.337,1011.02 869.771,1276.08 874.205,1113.1 \n",
       "  878.639,950 883.073,986.847 887.506,1095.46 891.94,1200.13 896.374,1084.24 900.808,1174.86 905.242,1077.46 909.676,1035.92 914.109,977.341 918.543,1097.95 \n",
       "  922.977,1119.83 927.411,1209.84 931.845,990.137 936.279,1081.41 940.712,988.848 945.146,1176.48 949.58,1101.87 954.014,1157.75 958.448,825.219 962.882,915.816 \n",
       "  967.315,955.274 971.749,1297.73 976.183,1156.75 980.617,1121.18 985.051,1210.48 989.485,917.166 993.918,937.585 998.352,999.96 1002.79,876.999 1007.22,796.163 \n",
       "  1011.65,1118.1 1016.09,949.648 1020.52,985.931 1024.96,1145.71 1029.39,799.149 1033.82,909.751 1038.26,1079.81 1042.69,1017.04 1047.12,1176.1 1051.56,996.241 \n",
       "  1055.99,836.29 1060.43,852.078 1064.86,715.28 1069.29,1056.89 1073.73,921.64 1078.16,1034.74 1082.6,1182.47 1087.03,818.163 1091.46,1205.23 1095.9,764.03 \n",
       "  1100.33,1035.96 1104.76,1059.98 1109.2,1141.51 1113.63,882.44 1118.07,943.188 1122.5,1221.99 1126.93,797.241 1131.37,900.702 1135.8,971.847 1140.24,1009.94 \n",
       "  1144.67,1053.71 1149.1,769.575 1153.54,995.007 1157.97,1087.62 1162.4,1182.08 1166.84,1072.63 1171.27,1048.73 1175.71,1184.67 1180.14,1079.56 1184.57,1155.24 \n",
       "  1189.01,1240.83 1193.44,1109.96 1197.87,1106.83 1202.31,1056.91 1206.74,1026.04 1211.18,938.678 1215.61,1041.88 1220.04,1245.25 1224.48,1186.51 1228.91,1153.39 \n",
       "  1233.35,1081.66 1237.78,1187.96 1242.21,598.216 1246.65,1011.28 1251.08,847.487 1255.51,940.672 1259.95,895.995 1264.38,995.985 1268.82,1073.65 1273.25,1104.27 \n",
       "  1277.68,1119.42 1282.12,1146.4 1286.55,1097.96 1290.99,920.785 1295.42,864.878 1299.85,1099.89 1304.29,1113.26 1308.72,1081.09 1313.15,1089.6 1317.59,932.526 \n",
       "  1322.02,1063.94 1326.46,1236.33 1330.89,1118.54 1335.32,869.033 1339.76,1130.66 1344.19,802.277 1348.63,1150.86 1353.06,1161.9 1357.49,969.466 1361.93,1109.94 \n",
       "  1366.36,905.835 1370.79,1041.05 1375.23,1190.03 1379.66,874.634 1384.1,984.547 1388.53,1148.14 1392.96,1233.31 1397.4,1170.84 1401.83,1133.96 1406.27,980.218 \n",
       "  1410.7,1025.92 1415.13,1044.21 1419.57,944.557 1424,1086.61 1428.43,688.22 1432.87,980.315 1437.3,1142.76 1441.74,1147.12 1446.17,1061.55 1450.6,950.616 \n",
       "  1455.04,1055.7 1459.47,1263.35 1463.9,1022.17 1468.34,1116.27 1472.77,1089.49 1477.21,1135.32 1481.64,1068.47 1486.07,994.054 1490.51,1042.42 1494.94,939.15 \n",
       "  1499.38,1147.96 1503.81,1125.36 1508.24,824.852 1512.68,1167.78 1517.11,1111.25 1521.54,1153.78 1525.98,1127.47 1530.41,1087.99 1534.85,1111.53 1539.28,1182.91 \n",
       "  1543.71,1101.29 1548.15,1100.58 1552.58,1199.89 1557.02,1157.84 1561.45,1114.39 1565.88,1157.44 1570.32,1236.54 1574.75,1170.18 1579.18,1105.12 1583.62,1278.63 \n",
       "  1588.05,953.328 1592.49,962.57 1596.92,1023.68 1601.35,1084.02 1605.79,1084.24 1610.22,1030.96 1614.66,856.181 1619.09,1068.12 1623.52,1148.43 1627.96,1148.05 \n",
       "  1632.39,1250.43 1636.82,1073.51 1641.26,1029.86 1645.69,1147.94 1650.13,1181.83 1654.56,1128.6 1658.99,1125.21 1663.43,1067.32 1667.86,1100.92 1672.3,1258.73 \n",
       "  1676.73,759.652 1681.16,1222.21 1685.6,1164.36 1690.03,1095.7 1694.46,1233.97 1698.9,1195.27 1703.33,1212.35 1707.77,1226.84 1712.2,1111.04 1716.63,1126.15 \n",
       "  1721.07,1299.5 1725.5,1102.38 1729.94,1329.36 1734.37,1247.14 1738.8,1228.42 1743.24,837.708 1747.67,1186.25 1752.1,1165.07 1756.54,1006.27 1760.97,1113.24 \n",
       "  1765.41,1044.34 1769.84,1170.37 1774.27,1276.29 1778.71,1019.54 1783.14,1152.87 1787.57,1094.15 1792.01,1072.52 1796.44,1182.79 1800.88,1237.81 1805.31,1099.5 \n",
       "  1809.74,1145.34 1814.18,1222.98 1818.61,1170.46 1823.05,1294.2 1827.48,1088.51 1831.91,1388.71 1836.35,1229.62 1840.78,1211.32 1845.21,1077.36 1849.65,1164.23 \n",
       "  1854.08,1216.43 1858.52,1283.68 1862.95,1051.48 1867.38,1190.26 1871.82,1168.08 1876.25,1236.73 1880.69,1084.22 1885.12,1243.09 1889.55,1210.71 1893.99,1339.47 \n",
       "  1898.42,1110.19 1902.85,1100.43 1907.29,933.929 1911.72,1233.63 1916.16,1112.16 1920.59,1296.72 1925.02,1117.13 1929.46,1220.4 1933.89,1116.7 1938.33,1216.66 \n",
       "  1942.76,1112.8 1947.19,1015.37 1951.63,1211.31 1956.06,1076.93 1960.49,980.82 1964.93,965.884 1969.36,898.249 1973.8,942.87 1978.23,1016.4 1982.66,952.682 \n",
       "  1987.1,1163.91 1991.53,1077.11 1995.97,1036.54 2000.4,887.277 2004.83,1103.27 2009.27,995.08 2013.7,954.115 2018.13,158.579 2022.57,1127.8 2027,923.192 \n",
       "  2031.44,807.669 2035.87,965.137 2040.3,1058.44 2044.74,1268.23 2049.17,867.101 2053.61,1049.54 2058.04,1166.39 2062.47,896.038 2066.91,1074.16 2071.34,1186.47 \n",
       "  2075.77,1083.7 2080.21,1155.41 2084.64,853.756 2089.08,903.379 2093.51,1069.79 2097.94,1035.61 2102.38,1013.83 2106.81,1036.61 2111.24,1131.54 2115.68,1104.9 \n",
       "  2120.11,942.833 2124.55,1197.35 2128.98,1037.22 2133.41,885.293 2137.85,1263.49 2142.28,1048.86 2146.72,1058.88 2151.15,1108.17 2155.58,1187.5 2160.02,817.808 \n",
       "  2164.45,996.597 2168.88,1029.34 2173.32,1030.77 2177.75,1134.95 2182.19,886.672 2186.62,814.43 2191.05,948.39 2195.49,1117.08 2199.92,912.747 2204.36,1092.23 \n",
       "  2208.79,1142.45 2213.22,1201.86 2217.66,1077.55 2222.09,787.509 2226.52,1022.74 2230.96,1189.47 2235.39,1170.88 2239.83,903.313 2244.26,998.876 2248.69,1006.67 \n",
       "  2253.13,959.324 2257.56,953.247 2262,1100.45 2266.43,834.551 2270.86,1113.69 2275.3,1063.9 2279.73,1173.83 2284.16,1026.99 2288.6,963.439 2293.03,832.87 \n",
       "  \n",
       "  \"/>\n",
       "<path clip-path=\"url(#clip1500)\" d=\"\n",
       "M1989.93 326.155 L2280.76 326.155 L2280.76 205.195 L1989.93 205.195  Z\n",
       "  \" fill=\"#ffffff\" fill-rule=\"evenodd\" fill-opacity=\"1\"/>\n",
       "<polyline clip-path=\"url(#clip1500)\" style=\"stroke:#000000; stroke-width:4; stroke-opacity:1; fill:none\" points=\"\n",
       "  1989.93,326.155 2280.76,326.155 2280.76,205.195 1989.93,205.195 1989.93,326.155 \n",
       "  \"/>\n",
       "<polyline clip-path=\"url(#clip1500)\" style=\"stroke:#009af9; stroke-width:4; stroke-opacity:1; fill:none\" points=\"\n",
       "  2013.93,265.675 2157.93,265.675 \n",
       "  \"/>\n",
       "<g clip-path=\"url(#clip1500)\">\n",
       "<text style=\"fill:#000000; fill-opacity:1; font-family:Arial,Helvetica Neue,Helvetica,sans-serif; font-size:48px; text-anchor:start;\" transform=\"rotate(0, 2181.93, 283.175)\" x=\"2181.93\" y=\"283.175\">y1</text>\n",
       "</g>\n",
       "</svg>\n"
      ]
     },
     "execution_count": 58,
     "metadata": {},
     "output_type": "execute_result"
    }
   ],
   "source": [
    "using Plots\n",
    "x = h2[!,1]; y = h2[!,2]; # These are the plotting data\n",
    "plot(x,y, title = \"h2 trace plot\",\n",
    "        xlabel = \"iteration\", ylabel = \"h2\")"
   ]
  },
  {
   "cell_type": "code",
   "execution_count": 3,
   "metadata": {},
   "outputs": [
    {
     "name": "stdout",
     "output_type": "stream",
     "text": [
      "Compute the posterior probability of association of the genomic window that explains more than 0.001 of the total genetic variance.\n"
     ]
    },
    {
     "name": "stderr",
     "output_type": "stream",
     "text": [
      "\u001b[32mrunning GWAS...100%|████████████████████████████████████| Time: 0:35:24\u001b[39m\n"
     ]
    },
    {
     "name": "stdout",
     "output_type": "stream",
     "text": [
      "2176.778424 seconds (657.79 M allocations: 4.689 TiB, 11.49% gc time)\n"
     ]
    },
    {
     "data": {
      "text/plain": [
       "(9375×13 DataFrame. Omitted printing of 7 columns\n",
       "│ Row  │ trait │ window │ chr    │ wStart    │ wEnd      │ start_SNP │\n",
       "│      │ \u001b[90mInt64\u001b[39m │ \u001b[90mInt64\u001b[39m  │ \u001b[90mString\u001b[39m │ \u001b[90mInt64\u001b[39m     │ \u001b[90mInt64\u001b[39m     │ \u001b[90mInt64\u001b[39m     │\n",
       "├──────┼───────┼────────┼────────┼───────────┼───────────┼───────────┤\n",
       "│ 1    │ 1     │ 7321   │ 14     │ 46750000  │ 47000000  │ 46752865  │\n",
       "│ 2    │ 1     │ 7319   │ 14     │ 46250000  │ 46500000  │ 46250370  │\n",
       "│ 3    │ 1     │ 7324   │ 14     │ 47500000  │ 47750000  │ 47505397  │\n",
       "│ 4    │ 1     │ 3190   │ 6      │ 2750000   │ 3000000   │ 2750136   │\n",
       "│ 5    │ 1     │ 7207   │ 14     │ 18250000  │ 18500000  │ 18254655  │\n",
       "│ 6    │ 1     │ 5523   │ 10     │ 15500000  │ 15750000  │ 15502709  │\n",
       "│ 7    │ 1     │ 7314   │ 14     │ 45000000  │ 45250000  │ 45001414  │\n",
       "│ 8    │ 1     │ 287    │ 1      │ 71500000  │ 71750000  │ 71500926  │\n",
       "│ 9    │ 1     │ 5005   │ 9      │ 25250000  │ 25500000  │ 25253728  │\n",
       "│ 10   │ 1     │ 7320   │ 14     │ 46500000  │ 46750000  │ 46501477  │\n",
       "⋮\n",
       "│ 9365 │ 1     │ 9363   │ 19     │ 120250000 │ 120500000 │ 120379052 │\n",
       "│ 9366 │ 1     │ 9365   │ 19     │ 120750000 │ 121000000 │ 120970844 │\n",
       "│ 9367 │ 1     │ 9366   │ 19     │ 121000000 │ 121250000 │ 121097039 │\n",
       "│ 9368 │ 1     │ 9367   │ 19     │ 121500000 │ 121750000 │ 121588364 │\n",
       "│ 9369 │ 1     │ 9369   │ 19     │ 122000000 │ 122250000 │ 122129641 │\n",
       "│ 9370 │ 1     │ 9370   │ 19     │ 123000000 │ 123250000 │ 123114154 │\n",
       "│ 9371 │ 1     │ 9371   │ 19     │ 123500000 │ 123750000 │ 123634609 │\n",
       "│ 9372 │ 1     │ 9372   │ 19     │ 123750000 │ 124000000 │ 123980725 │\n",
       "│ 9373 │ 1     │ 9373   │ 19     │ 124000000 │ 124250000 │ 124091310 │\n",
       "│ 9374 │ 1     │ 9374   │ 19     │ 124500000 │ 124750000 │ 124725806 │\n",
       "│ 9375 │ 1     │ 9375   │ 19     │ 125500000 │ 125750000 │ 125621888 │,)"
      ]
     },
     "execution_count": 3,
     "metadata": {},
     "output_type": "execute_result"
    }
   ],
   "source": [
    "@time Died_Nur2_outB = GWAS(\"MCMC_samples_marker_effects_Died_Nur2.txt\",\n",
    "    \"/home/jovyan/mark/JWAS_CDPQ/CDPQ_all_data/ChrInfo_map_1_7_Complete_JWAS.txt\",\n",
    "    M;header=true,window_size=\"0.25 Mb\",threshold=0.001)"
   ]
  },
  {
   "cell_type": "code",
   "execution_count": 4,
   "metadata": {},
   "outputs": [
    {
     "data": {
      "text/html": [
       "<table class=\"data-frame\"><thead><tr><th></th><th>trait</th><th>window</th><th>chr</th><th>wStart</th><th>wEnd</th><th>start_SNP</th><th>end_SNP</th><th>numSNP</th><th>estimateGenVar</th></tr><tr><th></th><th>Int64</th><th>Int64</th><th>String</th><th>Int64</th><th>Int64</th><th>Int64</th><th>Int64</th><th>Int64</th><th>Float64</th></tr></thead><tbody><p>9,375 rows × 13 columns (omitted printing of 4 columns)</p><tr><th>1</th><td>1</td><td>7321</td><td>14</td><td>46750000</td><td>47000000</td><td>46752865</td><td>46998737</td><td>55</td><td>7.65708e-5</td></tr><tr><th>2</th><td>1</td><td>7319</td><td>14</td><td>46250000</td><td>46500000</td><td>46250370</td><td>46499201</td><td>61</td><td>0.000117878</td></tr><tr><th>3</th><td>1</td><td>7324</td><td>14</td><td>47500000</td><td>47750000</td><td>47505397</td><td>47744426</td><td>50</td><td>3.82653e-5</td></tr><tr><th>4</th><td>1</td><td>3190</td><td>6</td><td>2750000</td><td>3000000</td><td>2750136</td><td>2999538</td><td>83</td><td>1.26505e-5</td></tr><tr><th>5</th><td>1</td><td>7207</td><td>14</td><td>18250000</td><td>18500000</td><td>18254655</td><td>18496949</td><td>64</td><td>1.71514e-5</td></tr><tr><th>6</th><td>1</td><td>5523</td><td>10</td><td>15500000</td><td>15750000</td><td>15502709</td><td>15745543</td><td>65</td><td>4.10549e-5</td></tr><tr><th>7</th><td>1</td><td>7314</td><td>14</td><td>45000000</td><td>45250000</td><td>45001414</td><td>45240098</td><td>59</td><td>0.000148733</td></tr><tr><th>8</th><td>1</td><td>287</td><td>1</td><td>71500000</td><td>71750000</td><td>71500926</td><td>71746605</td><td>69</td><td>1.45263e-5</td></tr><tr><th>9</th><td>1</td><td>5005</td><td>9</td><td>25250000</td><td>25500000</td><td>25253728</td><td>25499833</td><td>81</td><td>3.79926e-5</td></tr><tr><th>10</th><td>1</td><td>7320</td><td>14</td><td>46500000</td><td>46750000</td><td>46501477</td><td>46744709</td><td>63</td><td>6.5986e-5</td></tr><tr><th>11</th><td>1</td><td>7325</td><td>14</td><td>47750000</td><td>48000000</td><td>47750613</td><td>47999414</td><td>75</td><td>0.000174492</td></tr><tr><th>12</th><td>1</td><td>2743</td><td>4</td><td>126750000</td><td>127000000</td><td>126751259</td><td>126996149</td><td>96</td><td>2.63013e-5</td></tr><tr><th>13</th><td>1</td><td>3155</td><td>5</td><td>98750000</td><td>99000000</td><td>98751602</td><td>98998425</td><td>59</td><td>1.0456e-5</td></tr><tr><th>14</th><td>1</td><td>7162</td><td>14</td><td>7000000</td><td>7250000</td><td>7001829</td><td>7248925</td><td>70</td><td>3.97689e-5</td></tr><tr><th>15</th><td>1</td><td>7361</td><td>14</td><td>56750000</td><td>57000000</td><td>56754209</td><td>56995943</td><td>68</td><td>1.85848e-5</td></tr><tr><th>16</th><td>1</td><td>7711</td><td>15</td><td>2500000</td><td>2750000</td><td>2503728</td><td>2743894</td><td>73</td><td>1.22011e-5</td></tr><tr><th>17</th><td>1</td><td>8710</td><td>17</td><td>32000000</td><td>32250000</td><td>32000858</td><td>32245574</td><td>62</td><td>1.254e-5</td></tr><tr><th>18</th><td>1</td><td>5495</td><td>10</td><td>8500000</td><td>8750000</td><td>8500372</td><td>8743431</td><td>78</td><td>1.39963e-5</td></tr><tr><th>19</th><td>1</td><td>5834</td><td>11</td><td>23750000</td><td>24000000</td><td>23752119</td><td>23997546</td><td>72</td><td>8.78274e-6</td></tr><tr><th>20</th><td>1</td><td>6727</td><td>13</td><td>106250000</td><td>106500000</td><td>106253138</td><td>106498872</td><td>58</td><td>1.19288e-5</td></tr><tr><th>21</th><td>1</td><td>6741</td><td>13</td><td>109750000</td><td>110000000</td><td>109751206</td><td>109999581</td><td>72</td><td>9.57122e-6</td></tr><tr><th>22</th><td>1</td><td>8216</td><td>15</td><td>129000000</td><td>129250000</td><td>129002403</td><td>129244932</td><td>72</td><td>8.56505e-6</td></tr><tr><th>23</th><td>1</td><td>8793</td><td>17</td><td>52750000</td><td>53000000</td><td>52750520</td><td>52999509</td><td>81</td><td>3.22107e-5</td></tr><tr><th>24</th><td>1</td><td>1697</td><td>2</td><td>150250000</td><td>150500000</td><td>150250881</td><td>150498662</td><td>73</td><td>1.1466e-5</td></tr><tr><th>25</th><td>1</td><td>1727</td><td>3</td><td>5750000</td><td>6000000</td><td>5750822</td><td>5997754</td><td>76</td><td>3.15495e-5</td></tr><tr><th>26</th><td>1</td><td>3461</td><td>6</td><td>71000000</td><td>71250000</td><td>71001289</td><td>71249002</td><td>73</td><td>6.11859e-6</td></tr><tr><th>27</th><td>1</td><td>3654</td><td>6</td><td>119250000</td><td>119500000</td><td>119250995</td><td>119497214</td><td>57</td><td>1.33264e-5</td></tr><tr><th>28</th><td>1</td><td>3788</td><td>6</td><td>153000000</td><td>153250000</td><td>153001762</td><td>153247477</td><td>70</td><td>9.11558e-6</td></tr><tr><th>29</th><td>1</td><td>3930</td><td>7</td><td>17500000</td><td>17750000</td><td>17509702</td><td>17748012</td><td>74</td><td>9.88934e-6</td></tr><tr><th>30</th><td>1</td><td>4398</td><td>8</td><td>12500000</td><td>12750000</td><td>12501830</td><td>12745731</td><td>73</td><td>7.09189e-5</td></tr><tr><th>&vellip;</th><td>&vellip;</td><td>&vellip;</td><td>&vellip;</td><td>&vellip;</td><td>&vellip;</td><td>&vellip;</td><td>&vellip;</td><td>&vellip;</td><td>&vellip;</td></tr></tbody></table>"
      ],
      "text/latex": [
       "\\begin{tabular}{r|cccccccccc}\n",
       "\t& trait & window & chr & wStart & wEnd & start\\_SNP & end\\_SNP & numSNP & estimateGenVar & \\\\\n",
       "\t\\hline\n",
       "\t& Int64 & Int64 & String & Int64 & Int64 & Int64 & Int64 & Int64 & Float64 & \\\\\n",
       "\t\\hline\n",
       "\t1 & 1 & 7321 & 14 & 46750000 & 47000000 & 46752865 & 46998737 & 55 & 7.65708e-5 & $\\dots$ \\\\\n",
       "\t2 & 1 & 7319 & 14 & 46250000 & 46500000 & 46250370 & 46499201 & 61 & 0.000117878 & $\\dots$ \\\\\n",
       "\t3 & 1 & 7324 & 14 & 47500000 & 47750000 & 47505397 & 47744426 & 50 & 3.82653e-5 & $\\dots$ \\\\\n",
       "\t4 & 1 & 3190 & 6 & 2750000 & 3000000 & 2750136 & 2999538 & 83 & 1.26505e-5 & $\\dots$ \\\\\n",
       "\t5 & 1 & 7207 & 14 & 18250000 & 18500000 & 18254655 & 18496949 & 64 & 1.71514e-5 & $\\dots$ \\\\\n",
       "\t6 & 1 & 5523 & 10 & 15500000 & 15750000 & 15502709 & 15745543 & 65 & 4.10549e-5 & $\\dots$ \\\\\n",
       "\t7 & 1 & 7314 & 14 & 45000000 & 45250000 & 45001414 & 45240098 & 59 & 0.000148733 & $\\dots$ \\\\\n",
       "\t8 & 1 & 287 & 1 & 71500000 & 71750000 & 71500926 & 71746605 & 69 & 1.45263e-5 & $\\dots$ \\\\\n",
       "\t9 & 1 & 5005 & 9 & 25250000 & 25500000 & 25253728 & 25499833 & 81 & 3.79926e-5 & $\\dots$ \\\\\n",
       "\t10 & 1 & 7320 & 14 & 46500000 & 46750000 & 46501477 & 46744709 & 63 & 6.5986e-5 & $\\dots$ \\\\\n",
       "\t11 & 1 & 7325 & 14 & 47750000 & 48000000 & 47750613 & 47999414 & 75 & 0.000174492 & $\\dots$ \\\\\n",
       "\t12 & 1 & 2743 & 4 & 126750000 & 127000000 & 126751259 & 126996149 & 96 & 2.63013e-5 & $\\dots$ \\\\\n",
       "\t13 & 1 & 3155 & 5 & 98750000 & 99000000 & 98751602 & 98998425 & 59 & 1.0456e-5 & $\\dots$ \\\\\n",
       "\t14 & 1 & 7162 & 14 & 7000000 & 7250000 & 7001829 & 7248925 & 70 & 3.97689e-5 & $\\dots$ \\\\\n",
       "\t15 & 1 & 7361 & 14 & 56750000 & 57000000 & 56754209 & 56995943 & 68 & 1.85848e-5 & $\\dots$ \\\\\n",
       "\t16 & 1 & 7711 & 15 & 2500000 & 2750000 & 2503728 & 2743894 & 73 & 1.22011e-5 & $\\dots$ \\\\\n",
       "\t17 & 1 & 8710 & 17 & 32000000 & 32250000 & 32000858 & 32245574 & 62 & 1.254e-5 & $\\dots$ \\\\\n",
       "\t18 & 1 & 5495 & 10 & 8500000 & 8750000 & 8500372 & 8743431 & 78 & 1.39963e-5 & $\\dots$ \\\\\n",
       "\t19 & 1 & 5834 & 11 & 23750000 & 24000000 & 23752119 & 23997546 & 72 & 8.78274e-6 & $\\dots$ \\\\\n",
       "\t20 & 1 & 6727 & 13 & 106250000 & 106500000 & 106253138 & 106498872 & 58 & 1.19288e-5 & $\\dots$ \\\\\n",
       "\t21 & 1 & 6741 & 13 & 109750000 & 110000000 & 109751206 & 109999581 & 72 & 9.57122e-6 & $\\dots$ \\\\\n",
       "\t22 & 1 & 8216 & 15 & 129000000 & 129250000 & 129002403 & 129244932 & 72 & 8.56505e-6 & $\\dots$ \\\\\n",
       "\t23 & 1 & 8793 & 17 & 52750000 & 53000000 & 52750520 & 52999509 & 81 & 3.22107e-5 & $\\dots$ \\\\\n",
       "\t24 & 1 & 1697 & 2 & 150250000 & 150500000 & 150250881 & 150498662 & 73 & 1.1466e-5 & $\\dots$ \\\\\n",
       "\t25 & 1 & 1727 & 3 & 5750000 & 6000000 & 5750822 & 5997754 & 76 & 3.15495e-5 & $\\dots$ \\\\\n",
       "\t26 & 1 & 3461 & 6 & 71000000 & 71250000 & 71001289 & 71249002 & 73 & 6.11859e-6 & $\\dots$ \\\\\n",
       "\t27 & 1 & 3654 & 6 & 119250000 & 119500000 & 119250995 & 119497214 & 57 & 1.33264e-5 & $\\dots$ \\\\\n",
       "\t28 & 1 & 3788 & 6 & 153000000 & 153250000 & 153001762 & 153247477 & 70 & 9.11558e-6 & $\\dots$ \\\\\n",
       "\t29 & 1 & 3930 & 7 & 17500000 & 17750000 & 17509702 & 17748012 & 74 & 9.88934e-6 & $\\dots$ \\\\\n",
       "\t30 & 1 & 4398 & 8 & 12500000 & 12750000 & 12501830 & 12745731 & 73 & 7.09189e-5 & $\\dots$ \\\\\n",
       "\t$\\dots$ & $\\dots$ & $\\dots$ & $\\dots$ & $\\dots$ & $\\dots$ & $\\dots$ & $\\dots$ & $\\dots$ & $\\dots$ &  \\\\\n",
       "\\end{tabular}\n"
      ],
      "text/plain": [
       "9375×13 DataFrame. Omitted printing of 7 columns\n",
       "│ Row  │ trait │ window │ chr    │ wStart    │ wEnd      │ start_SNP │\n",
       "│      │ \u001b[90mInt64\u001b[39m │ \u001b[90mInt64\u001b[39m  │ \u001b[90mString\u001b[39m │ \u001b[90mInt64\u001b[39m     │ \u001b[90mInt64\u001b[39m     │ \u001b[90mInt64\u001b[39m     │\n",
       "├──────┼───────┼────────┼────────┼───────────┼───────────┼───────────┤\n",
       "│ 1    │ 1     │ 7321   │ 14     │ 46750000  │ 47000000  │ 46752865  │\n",
       "│ 2    │ 1     │ 7319   │ 14     │ 46250000  │ 46500000  │ 46250370  │\n",
       "│ 3    │ 1     │ 7324   │ 14     │ 47500000  │ 47750000  │ 47505397  │\n",
       "│ 4    │ 1     │ 3190   │ 6      │ 2750000   │ 3000000   │ 2750136   │\n",
       "│ 5    │ 1     │ 7207   │ 14     │ 18250000  │ 18500000  │ 18254655  │\n",
       "│ 6    │ 1     │ 5523   │ 10     │ 15500000  │ 15750000  │ 15502709  │\n",
       "│ 7    │ 1     │ 7314   │ 14     │ 45000000  │ 45250000  │ 45001414  │\n",
       "│ 8    │ 1     │ 287    │ 1      │ 71500000  │ 71750000  │ 71500926  │\n",
       "│ 9    │ 1     │ 5005   │ 9      │ 25250000  │ 25500000  │ 25253728  │\n",
       "│ 10   │ 1     │ 7320   │ 14     │ 46500000  │ 46750000  │ 46501477  │\n",
       "⋮\n",
       "│ 9365 │ 1     │ 9363   │ 19     │ 120250000 │ 120500000 │ 120379052 │\n",
       "│ 9366 │ 1     │ 9365   │ 19     │ 120750000 │ 121000000 │ 120970844 │\n",
       "│ 9367 │ 1     │ 9366   │ 19     │ 121000000 │ 121250000 │ 121097039 │\n",
       "│ 9368 │ 1     │ 9367   │ 19     │ 121500000 │ 121750000 │ 121588364 │\n",
       "│ 9369 │ 1     │ 9369   │ 19     │ 122000000 │ 122250000 │ 122129641 │\n",
       "│ 9370 │ 1     │ 9370   │ 19     │ 123000000 │ 123250000 │ 123114154 │\n",
       "│ 9371 │ 1     │ 9371   │ 19     │ 123500000 │ 123750000 │ 123634609 │\n",
       "│ 9372 │ 1     │ 9372   │ 19     │ 123750000 │ 124000000 │ 123980725 │\n",
       "│ 9373 │ 1     │ 9373   │ 19     │ 124000000 │ 124250000 │ 124091310 │\n",
       "│ 9374 │ 1     │ 9374   │ 19     │ 124500000 │ 124750000 │ 124725806 │\n",
       "│ 9375 │ 1     │ 9375   │ 19     │ 125500000 │ 125750000 │ 125621888 │"
      ]
     },
     "execution_count": 4,
     "metadata": {},
     "output_type": "execute_result"
    }
   ],
   "source": [
    "Died_Nur2_outB= Died_Nur2_outB[:1]"
   ]
  },
  {
   "cell_type": "code",
   "execution_count": 44,
   "metadata": {},
   "outputs": [
    {
     "ename": "ArgumentError",
     "evalue": "ArgumentError: Column prGenVar2 is already present in the data frame which is not allowed when `makeunique=true`",
     "output_type": "error",
     "traceback": [
      "ArgumentError: Column prGenVar2 is already present in the data frame which is not allowed when `makeunique=true`",
      "",
      "Stacktrace:",
      " [1] #insertcols!#156(::Bool, ::Bool, ::Function, ::DataFrame, ::Int64, ::Pair{Symbol,Array{Float64,1}}) at /opt/julia/packages/DataFrames/lfoTw/src/dataframe/dataframe.jl:733",
      " [2] insertcols!(::DataFrame, ::Int64, ::Pair{Symbol,Array{Float64,1}}) at /opt/julia/packages/DataFrames/lfoTw/src/dataframe/dataframe.jl:721",
      " [3] top-level scope at In[44]:1"
     ]
    }
   ],
   "source": [
    "insertcols!(Died_Nur2_outB, 11, :prGenVar2 => Died_Nur2_outB[!, 9]/sum(Died_Nur2_outB[!, 9]))"
   ]
  },
  {
   "cell_type": "code",
   "execution_count": 39,
   "metadata": {},
   "outputs": [
    {
     "name": "stderr",
     "output_type": "stream",
     "text": [
      "┌ Warning: `getindex(df::DataFrame, col_inds::Union{AbstractVector, Regex, Not})` is deprecated, use `df[:, col_inds]` instead.\n",
      "│   caller = top-level scope at In[39]:1\n",
      "└ @ Core In[39]:1\n"
     ]
    },
    {
     "data": {
      "text/html": [
       "<table class=\"data-frame\"><thead><tr><th></th><th>estimateGenVar</th><th>stdGenVar</th><th>prGenVar2</th><th>prGenVar</th></tr><tr><th></th><th>Float64</th><th>Float64</th><th>Float64</th><th>Float64</th></tr></thead><tbody><p>2,395 rows × 4 columns</p><tr><th>1</th><td>0.000283717</td><td>0.00130545</td><td>0.00587536</td><td>0.52</td></tr><tr><th>2</th><td>0.000284919</td><td>0.00154922</td><td>0.00590025</td><td>0.52</td></tr><tr><th>3</th><td>5.39914e-5</td><td>0.000218769</td><td>0.00111808</td><td>0.12</td></tr><tr><th>4</th><td>4.36978e-5</td><td>0.000169831</td><td>0.000904915</td><td>0.09</td></tr><tr><th>5</th><td>7.65268e-5</td><td>0.000334849</td><td>0.00158476</td><td>0.15</td></tr><tr><th>6</th><td>6.43784e-5</td><td>0.000296814</td><td>0.00133318</td><td>0.14</td></tr><tr><th>7</th><td>4.05699e-5</td><td>0.000160289</td><td>0.000840142</td><td>0.09</td></tr><tr><th>8</th><td>3.20932e-5</td><td>0.000115971</td><td>0.000664601</td><td>0.07</td></tr><tr><th>9</th><td>9.1843e-5</td><td>0.000697634</td><td>0.00190193</td><td>0.18</td></tr><tr><th>10</th><td>4.06482e-5</td><td>0.000154104</td><td>0.000841763</td><td>0.09</td></tr><tr><th>11</th><td>3.39234e-5</td><td>0.000163954</td><td>0.000702502</td><td>0.07</td></tr><tr><th>12</th><td>3.47142e-5</td><td>0.000195706</td><td>0.000718879</td><td>0.07</td></tr><tr><th>13</th><td>3.63192e-5</td><td>0.000154623</td><td>0.000752115</td><td>0.07</td></tr><tr><th>14</th><td>2.67898e-5</td><td>7.70025e-5</td><td>0.000554777</td><td>0.06</td></tr><tr><th>15</th><td>5.07179e-5</td><td>0.000235149</td><td>0.00105029</td><td>0.1</td></tr><tr><th>16</th><td>3.48459e-5</td><td>0.000138677</td><td>0.000721605</td><td>0.07</td></tr><tr><th>17</th><td>5.0646e-5</td><td>0.000291373</td><td>0.0010488</td><td>0.11</td></tr><tr><th>18</th><td>3.42393e-5</td><td>0.00011283</td><td>0.000709044</td><td>0.07</td></tr><tr><th>19</th><td>3.74863e-5</td><td>0.0001781</td><td>0.000776285</td><td>0.08</td></tr><tr><th>20</th><td>4.95247e-5</td><td>0.000241981</td><td>0.00102558</td><td>0.11</td></tr><tr><th>21</th><td>3.12579e-5</td><td>0.000107839</td><td>0.000647305</td><td>0.07</td></tr><tr><th>22</th><td>7.9133e-5</td><td>0.000588627</td><td>0.00163873</td><td>0.16</td></tr><tr><th>23</th><td>3.58952e-5</td><td>0.000149724</td><td>0.000743336</td><td>0.08</td></tr><tr><th>24</th><td>2.68897e-5</td><td>9.28089e-5</td><td>0.000556846</td><td>0.06</td></tr><tr><th>25</th><td>4.59387e-5</td><td>0.000205483</td><td>0.000951321</td><td>0.09</td></tr><tr><th>26</th><td>3.78865e-5</td><td>0.00016726</td><td>0.000784572</td><td>0.09</td></tr><tr><th>27</th><td>4.028e-5</td><td>0.0001729</td><td>0.000834138</td><td>0.09</td></tr><tr><th>28</th><td>3.26641e-5</td><td>0.000139495</td><td>0.000676424</td><td>0.06</td></tr><tr><th>29</th><td>3.23912e-5</td><td>0.000118054</td><td>0.000670774</td><td>0.07</td></tr><tr><th>30</th><td>2.67345e-5</td><td>9.1324e-5</td><td>0.000553632</td><td>0.06</td></tr><tr><th>&vellip;</th><td>&vellip;</td><td>&vellip;</td><td>&vellip;</td><td>&vellip;</td></tr></tbody></table>"
      ],
      "text/latex": [
       "\\begin{tabular}{r|cccc}\n",
       "\t& estimateGenVar & stdGenVar & prGenVar2 & prGenVar\\\\\n",
       "\t\\hline\n",
       "\t& Float64 & Float64 & Float64 & Float64\\\\\n",
       "\t\\hline\n",
       "\t1 & 0.000283717 & 0.00130545 & 0.00587536 & 0.52 \\\\\n",
       "\t2 & 0.000284919 & 0.00154922 & 0.00590025 & 0.52 \\\\\n",
       "\t3 & 5.39914e-5 & 0.000218769 & 0.00111808 & 0.12 \\\\\n",
       "\t4 & 4.36978e-5 & 0.000169831 & 0.000904915 & 0.09 \\\\\n",
       "\t5 & 7.65268e-5 & 0.000334849 & 0.00158476 & 0.15 \\\\\n",
       "\t6 & 6.43784e-5 & 0.000296814 & 0.00133318 & 0.14 \\\\\n",
       "\t7 & 4.05699e-5 & 0.000160289 & 0.000840142 & 0.09 \\\\\n",
       "\t8 & 3.20932e-5 & 0.000115971 & 0.000664601 & 0.07 \\\\\n",
       "\t9 & 9.1843e-5 & 0.000697634 & 0.00190193 & 0.18 \\\\\n",
       "\t10 & 4.06482e-5 & 0.000154104 & 0.000841763 & 0.09 \\\\\n",
       "\t11 & 3.39234e-5 & 0.000163954 & 0.000702502 & 0.07 \\\\\n",
       "\t12 & 3.47142e-5 & 0.000195706 & 0.000718879 & 0.07 \\\\\n",
       "\t13 & 3.63192e-5 & 0.000154623 & 0.000752115 & 0.07 \\\\\n",
       "\t14 & 2.67898e-5 & 7.70025e-5 & 0.000554777 & 0.06 \\\\\n",
       "\t15 & 5.07179e-5 & 0.000235149 & 0.00105029 & 0.1 \\\\\n",
       "\t16 & 3.48459e-5 & 0.000138677 & 0.000721605 & 0.07 \\\\\n",
       "\t17 & 5.0646e-5 & 0.000291373 & 0.0010488 & 0.11 \\\\\n",
       "\t18 & 3.42393e-5 & 0.00011283 & 0.000709044 & 0.07 \\\\\n",
       "\t19 & 3.74863e-5 & 0.0001781 & 0.000776285 & 0.08 \\\\\n",
       "\t20 & 4.95247e-5 & 0.000241981 & 0.00102558 & 0.11 \\\\\n",
       "\t21 & 3.12579e-5 & 0.000107839 & 0.000647305 & 0.07 \\\\\n",
       "\t22 & 7.9133e-5 & 0.000588627 & 0.00163873 & 0.16 \\\\\n",
       "\t23 & 3.58952e-5 & 0.000149724 & 0.000743336 & 0.08 \\\\\n",
       "\t24 & 2.68897e-5 & 9.28089e-5 & 0.000556846 & 0.06 \\\\\n",
       "\t25 & 4.59387e-5 & 0.000205483 & 0.000951321 & 0.09 \\\\\n",
       "\t26 & 3.78865e-5 & 0.00016726 & 0.000784572 & 0.09 \\\\\n",
       "\t27 & 4.028e-5 & 0.0001729 & 0.000834138 & 0.09 \\\\\n",
       "\t28 & 3.26641e-5 & 0.000139495 & 0.000676424 & 0.06 \\\\\n",
       "\t29 & 3.23912e-5 & 0.000118054 & 0.000670774 & 0.07 \\\\\n",
       "\t30 & 2.67345e-5 & 9.1324e-5 & 0.000553632 & 0.06 \\\\\n",
       "\t$\\dots$ & $\\dots$ & $\\dots$ & $\\dots$ & $\\dots$ \\\\\n",
       "\\end{tabular}\n"
      ],
      "text/plain": [
       "2395×4 DataFrame\n",
       "│ Row  │ estimateGenVar │ stdGenVar   │ prGenVar2   │ prGenVar │\n",
       "│      │ \u001b[90mFloat64\u001b[39m        │ \u001b[90mFloat64\u001b[39m     │ \u001b[90mFloat64\u001b[39m     │ \u001b[90mFloat64\u001b[39m  │\n",
       "├──────┼────────────────┼─────────────┼─────────────┼──────────┤\n",
       "│ 1    │ 0.000283717    │ 0.00130545  │ 0.00587536  │ 0.52     │\n",
       "│ 2    │ 0.000284919    │ 0.00154922  │ 0.00590025  │ 0.52     │\n",
       "│ 3    │ 5.39914e-5     │ 0.000218769 │ 0.00111808  │ 0.12     │\n",
       "│ 4    │ 4.36978e-5     │ 0.000169831 │ 0.000904915 │ 0.09     │\n",
       "│ 5    │ 7.65268e-5     │ 0.000334849 │ 0.00158476  │ 0.15     │\n",
       "│ 6    │ 6.43784e-5     │ 0.000296814 │ 0.00133318  │ 0.14     │\n",
       "│ 7    │ 4.05699e-5     │ 0.000160289 │ 0.000840142 │ 0.09     │\n",
       "│ 8    │ 3.20932e-5     │ 0.000115971 │ 0.000664601 │ 0.07     │\n",
       "│ 9    │ 9.1843e-5      │ 0.000697634 │ 0.00190193  │ 0.18     │\n",
       "│ 10   │ 4.06482e-5     │ 0.000154104 │ 0.000841763 │ 0.09     │\n",
       "⋮\n",
       "│ 2385 │ 6.01012e-10    │ 1.27494e-8  │ 1.24461e-8  │ 0.0      │\n",
       "│ 2386 │ 3.73886e-8     │ 3.75575e-7  │ 7.74262e-7  │ 0.0      │\n",
       "│ 2387 │ 1.64614e-8     │ 2.94572e-7  │ 3.40891e-7  │ 0.0      │\n",
       "│ 2388 │ 1.35381e-8     │ 1.84631e-7  │ 2.80353e-7  │ 0.0      │\n",
       "│ 2389 │ 0.0            │ 0.0         │ 0.0         │ 0.0      │\n",
       "│ 2390 │ 7.51545e-8     │ 1.49431e-6  │ 1.55634e-6  │ 0.0      │\n",
       "│ 2391 │ 4.78412e-9     │ 6.09438e-8  │ 9.9072e-8   │ 0.0      │\n",
       "│ 2392 │ 0.0            │ 0.0         │ 0.0         │ 0.0      │\n",
       "│ 2393 │ 4.8469e-8      │ 1.02485e-6  │ 1.00372e-6  │ 0.0      │\n",
       "│ 2394 │ 2.33706e-8     │ 3.28066e-7  │ 4.83969e-7  │ 0.0      │\n",
       "│ 2395 │ 0.0            │ 0.0         │ 0.0         │ 0.0      │"
      ]
     },
     "execution_count": 39,
     "metadata": {},
     "output_type": "execute_result"
    }
   ],
   "source": [
    "Died_Nur2_outB[:9:12]"
   ]
  },
  {
   "cell_type": "code",
   "execution_count": 5,
   "metadata": {},
   "outputs": [
    {
     "data": {
      "text/plain": [
       "\"MCMC_samples_0.25Mb_window_VarProps_Died_Nur2.txt\""
      ]
     },
     "execution_count": 5,
     "metadata": {},
     "output_type": "execute_result"
    }
   ],
   "source": [
    "CSV.write(\"MCMC_samples_0.25Mb_window_VarProps_Died_Nur2.txt\", Died_Nur2_outB)"
   ]
  },
  {
   "cell_type": "code",
   "execution_count": null,
   "metadata": {},
   "outputs": [],
   "source": [
    "#marker_effects = GWAS(\"MCMC_samples_marker_effects_FinADG.txt\";header=true) # probability of inclusion"
   ]
  },
  {
   "cell_type": "code",
   "execution_count": null,
   "metadata": {},
   "outputs": [],
   "source": [
    "#Nur2_ADG_outBPi = GWAS(\"MCMC_samples_marker_effects_Nur2ADG.txt\",Nur2ADG_model;header=true,window_size=20,threshold=0.001,output_winVarProps=false)  # No map"
   ]
  },
  {
   "cell_type": "code",
   "execution_count": null,
   "metadata": {
    "scrolled": false
   },
   "outputs": [],
   "source": [
    "#using DelimitedFiles\n",
    "#VL_winVarProps=readdlm(\"JWAS-WG/Haplotype/MCMC_samples_1MbwindowVarProps_Haplotype_WG-BayesB.txt\", '\\t',header=false)"
   ]
  },
  {
   "cell_type": "code",
   "execution_count": null,
   "metadata": {},
   "outputs": [],
   "source": [
    "#res = VL_winVarProps .> 2/2400\n",
    "#ppa = sum(res,dims=1)./450"
   ]
  },
  {
   "cell_type": "code",
   "execution_count": null,
   "metadata": {},
   "outputs": [],
   "source": [
    "#ppa[1, [261 755 1352 2185]]"
   ]
  },
  {
   "cell_type": "code",
   "execution_count": null,
   "metadata": {
    "scrolled": true
   },
   "outputs": [],
   "source": [
    "#sort(vec(ppa))"
   ]
  }
 ],
 "metadata": {
  "kernelspec": {
   "display_name": "Julia 1.1.0",
   "language": "julia",
   "name": "julia-1.1"
  },
  "language_info": {
   "file_extension": ".jl",
   "mimetype": "application/julia",
   "name": "julia",
   "version": "1.1.0"
  }
 },
 "nbformat": 4,
 "nbformat_minor": 2
}
