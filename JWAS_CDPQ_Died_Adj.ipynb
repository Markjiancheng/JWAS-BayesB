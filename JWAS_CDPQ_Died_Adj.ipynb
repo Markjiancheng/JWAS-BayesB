{
 "cells": [
  {
   "cell_type": "code",
   "execution_count": 2,
   "metadata": {},
   "outputs": [],
   "source": [
    "#using Pkg\n",
    "#Pkg.add(PackageSpec(name=\"JWAS\",rev=\"master\"))\n",
    "#Pkg.add(\"RecipesBase\")\n",
    "#using RecipesBase"
   ]
  },
  {
   "cell_type": "code",
   "execution_count": 3,
   "metadata": {},
   "outputs": [],
   "source": [
    "# make plot work\n",
    "#ENV[\"GRDIR\"]=\"\"\n",
    "#Pkg.build(\"GR\")"
   ]
  },
  {
   "cell_type": "code",
   "execution_count": 4,
   "metadata": {},
   "outputs": [],
   "source": [
    "#methods(add_genotypes)"
   ]
  },
  {
   "cell_type": "code",
   "execution_count": 1,
   "metadata": {},
   "outputs": [],
   "source": [
    "using DataFrames              # package for working with data sets\n",
    "using JWAS                    # package for Bayesian regression analyses, including BayesB and BayesCπ        \n",
    "#using JWAS:misc               # utility functions\n",
    "using JWAS.Datasets\n",
    "using Distributions       \n",
    "using Plots                   # package for plotting \n",
    "using CSV\n",
    "using LinearAlgebra,Statistics,Random,DelimitedFiles, DataFrames"
   ]
  },
  {
   "cell_type": "code",
   "execution_count": 2,
   "metadata": {},
   "outputs": [
    {
     "data": {
      "text/html": [
       "<table class=\"data-frame\"><thead><tr><th></th><th>ID</th><th>Cycle</th><th>BatchNum</th><th>Batch</th><th>Company</th><th>SowID</th><th>NurEnrich</th><th>QNurPenBatch</th><th>NurPenBatch</th></tr><tr><th></th><th>String</th><th>Int64</th><th>Int64</th><th>String</th><th>String</th><th>String</th><th>Bool</th><th>String</th><th>String?</th></tr></thead><tbody><p>10 rows × 50 columns (omitted printing of 41 columns)</p><tr><th>1</th><td>0001</td><td>1</td><td>1</td><td>1B</td><td>A</td><td>1B_1715</td><td>false</td><td>1B_D04</td><td>1B_D04</td></tr><tr><th>2</th><td>0002</td><td>1</td><td>1</td><td>1B</td><td>A</td><td>1B_1642</td><td>false</td><td>1B_D04</td><td>1B_D04</td></tr><tr><th>3</th><td>0004</td><td>1</td><td>1</td><td>1B</td><td>A</td><td>1B_2150</td><td>false</td><td>1B_D04</td><td>1B_D04</td></tr><tr><th>4</th><td>0005</td><td>1</td><td>1</td><td>1B</td><td>A</td><td>1B_1980</td><td>false</td><td>1B_D04</td><td>1B_D04</td></tr><tr><th>5</th><td>0006</td><td>1</td><td>1</td><td>1B</td><td>A</td><td>1B_1902</td><td>false</td><td>1B_D04</td><td>1B_D04</td></tr><tr><th>6</th><td>0007</td><td>1</td><td>1</td><td>1B</td><td>A</td><td>1B_2150</td><td>false</td><td>1B_D04</td><td>1B_D04</td></tr><tr><th>7</th><td>0009</td><td>1</td><td>1</td><td>1B</td><td>A</td><td>1B_1902</td><td>false</td><td>1B_D02</td><td>1B_D02</td></tr><tr><th>8</th><td>0010</td><td>1</td><td>1</td><td>1B</td><td>A</td><td>1B_1885</td><td>false</td><td>1B_D02</td><td>1B_D02</td></tr><tr><th>9</th><td>0011</td><td>1</td><td>1</td><td>1B</td><td>A</td><td>1B_2097</td><td>false</td><td>1B_D02</td><td>1B_D02</td></tr><tr><th>10</th><td>0012</td><td>1</td><td>1</td><td>1B</td><td>A</td><td>1B_1902</td><td>false</td><td>1B_D02</td><td>1B_D02</td></tr></tbody></table>"
      ],
      "text/latex": [
       "\\begin{tabular}{r|cccccccccc}\n",
       "\t& ID & Cycle & BatchNum & Batch & Company & SowID & NurEnrich & QNurPenBatch & NurPenBatch & \\\\\n",
       "\t\\hline\n",
       "\t& String & Int64 & Int64 & String & String & String & Bool & String & String? & \\\\\n",
       "\t\\hline\n",
       "\t1 & 0001 & 1 & 1 & 1B & A & 1B\\_1715 & false & 1B\\_D04 & 1B\\_D04 & $\\dots$ \\\\\n",
       "\t2 & 0002 & 1 & 1 & 1B & A & 1B\\_1642 & false & 1B\\_D04 & 1B\\_D04 & $\\dots$ \\\\\n",
       "\t3 & 0004 & 1 & 1 & 1B & A & 1B\\_2150 & false & 1B\\_D04 & 1B\\_D04 & $\\dots$ \\\\\n",
       "\t4 & 0005 & 1 & 1 & 1B & A & 1B\\_1980 & false & 1B\\_D04 & 1B\\_D04 & $\\dots$ \\\\\n",
       "\t5 & 0006 & 1 & 1 & 1B & A & 1B\\_1902 & false & 1B\\_D04 & 1B\\_D04 & $\\dots$ \\\\\n",
       "\t6 & 0007 & 1 & 1 & 1B & A & 1B\\_2150 & false & 1B\\_D04 & 1B\\_D04 & $\\dots$ \\\\\n",
       "\t7 & 0009 & 1 & 1 & 1B & A & 1B\\_1902 & false & 1B\\_D02 & 1B\\_D02 & $\\dots$ \\\\\n",
       "\t8 & 0010 & 1 & 1 & 1B & A & 1B\\_1885 & false & 1B\\_D02 & 1B\\_D02 & $\\dots$ \\\\\n",
       "\t9 & 0011 & 1 & 1 & 1B & A & 1B\\_2097 & false & 1B\\_D02 & 1B\\_D02 & $\\dots$ \\\\\n",
       "\t10 & 0012 & 1 & 1 & 1B & A & 1B\\_1902 & false & 1B\\_D02 & 1B\\_D02 & $\\dots$ \\\\\n",
       "\\end{tabular}\n"
      ],
      "text/plain": [
       "10×50 DataFrame. Omitted printing of 43 columns\n",
       "│ Row │ ID     │ Cycle │ BatchNum │ Batch  │ Company │ SowID   │ NurEnrich │\n",
       "│     │ \u001b[90mString\u001b[39m │ \u001b[90mInt64\u001b[39m │ \u001b[90mInt64\u001b[39m    │ \u001b[90mString\u001b[39m │ \u001b[90mString\u001b[39m  │ \u001b[90mString\u001b[39m  │ \u001b[90mBool\u001b[39m      │\n",
       "├─────┼────────┼───────┼──────────┼────────┼─────────┼─────────┼───────────┤\n",
       "│ 1   │ 0001   │ 1     │ 1        │ 1B     │ A       │ 1B_1715 │ false     │\n",
       "│ 2   │ 0002   │ 1     │ 1        │ 1B     │ A       │ 1B_1642 │ false     │\n",
       "│ 3   │ 0004   │ 1     │ 1        │ 1B     │ A       │ 1B_2150 │ false     │\n",
       "│ 4   │ 0005   │ 1     │ 1        │ 1B     │ A       │ 1B_1980 │ false     │\n",
       "│ 5   │ 0006   │ 1     │ 1        │ 1B     │ A       │ 1B_1902 │ false     │\n",
       "│ 6   │ 0007   │ 1     │ 1        │ 1B     │ A       │ 1B_2150 │ false     │\n",
       "│ 7   │ 0009   │ 1     │ 1        │ 1B     │ A       │ 1B_1902 │ false     │\n",
       "│ 8   │ 0010   │ 1     │ 1        │ 1B     │ A       │ 1B_1885 │ false     │\n",
       "│ 9   │ 0011   │ 1     │ 1        │ 1B     │ A       │ 1B_2097 │ false     │\n",
       "│ 10  │ 0012   │ 1     │ 1        │ 1B     │ A       │ 1B_1902 │ false     │"
      ]
     },
     "execution_count": 2,
     "metadata": {},
     "output_type": "execute_result"
    }
   ],
   "source": [
    "phenotypes = CSV.read(\"/home/jovyan/mark/JWAS_CDPQ/CDPQ_all_data/production_1_7_Exp_0.75_Complete_Adj.dat\", types=Dict(:ID => String), delim = ' ',header=true, missingstrings=[\"NA\"] )\n",
    "first(phenotypes,10)"
   ]
  },
  {
   "cell_type": "code",
   "execution_count": 3,
   "metadata": {},
   "outputs": [
    {
     "data": {
      "text/html": [
       "<table class=\"data-frame\"><thead><tr><th></th><th>ID</th><th>Cycle</th><th>BatchNum</th><th>Batch</th><th>Company</th><th>SowID</th><th>NurEnrich</th><th>QNurPenBatch</th><th>NurPenBatch</th></tr><tr><th></th><th>String</th><th>Int64</th><th>Int64</th><th>String</th><th>String</th><th>String</th><th>Bool</th><th>String</th><th>String</th></tr></thead><tbody><p>3,181 rows × 50 columns (omitted printing of 41 columns)</p><tr><th>1</th><td>0001</td><td>1</td><td>1</td><td>1B</td><td>A</td><td>1B_1715</td><td>false</td><td>1B_D04</td><td>1B_D04</td></tr><tr><th>2</th><td>0002</td><td>1</td><td>1</td><td>1B</td><td>A</td><td>1B_1642</td><td>false</td><td>1B_D04</td><td>1B_D04</td></tr><tr><th>3</th><td>0004</td><td>1</td><td>1</td><td>1B</td><td>A</td><td>1B_2150</td><td>false</td><td>1B_D04</td><td>1B_D04</td></tr><tr><th>4</th><td>0005</td><td>1</td><td>1</td><td>1B</td><td>A</td><td>1B_1980</td><td>false</td><td>1B_D04</td><td>1B_D04</td></tr><tr><th>5</th><td>0006</td><td>1</td><td>1</td><td>1B</td><td>A</td><td>1B_1902</td><td>false</td><td>1B_D04</td><td>1B_D04</td></tr><tr><th>6</th><td>0007</td><td>1</td><td>1</td><td>1B</td><td>A</td><td>1B_2150</td><td>false</td><td>1B_D04</td><td>1B_D04</td></tr><tr><th>7</th><td>0009</td><td>1</td><td>1</td><td>1B</td><td>A</td><td>1B_1902</td><td>false</td><td>1B_D02</td><td>1B_D02</td></tr><tr><th>8</th><td>0010</td><td>1</td><td>1</td><td>1B</td><td>A</td><td>1B_1885</td><td>false</td><td>1B_D02</td><td>1B_D02</td></tr><tr><th>9</th><td>0011</td><td>1</td><td>1</td><td>1B</td><td>A</td><td>1B_2097</td><td>false</td><td>1B_D02</td><td>1B_D02</td></tr><tr><th>10</th><td>0012</td><td>1</td><td>1</td><td>1B</td><td>A</td><td>1B_1902</td><td>false</td><td>1B_D02</td><td>1B_D02</td></tr><tr><th>11</th><td>0013</td><td>1</td><td>1</td><td>1B</td><td>A</td><td>1B_1643</td><td>false</td><td>1B_D02</td><td>1B_D02</td></tr><tr><th>12</th><td>0014</td><td>1</td><td>1</td><td>1B</td><td>A</td><td>1B_2150</td><td>false</td><td>1B_D02</td><td>1B_D02</td></tr><tr><th>13</th><td>0015</td><td>1</td><td>1</td><td>1B</td><td>A</td><td>1B_1980</td><td>false</td><td>1B_B06</td><td>1B_B06</td></tr><tr><th>14</th><td>0016</td><td>1</td><td>1</td><td>1B</td><td>A</td><td>1B_1980</td><td>false</td><td>1B_B06</td><td>1B_B06</td></tr><tr><th>15</th><td>0017</td><td>1</td><td>1</td><td>1B</td><td>A</td><td>1B_2048</td><td>false</td><td>1B_B06</td><td>1B_B06</td></tr><tr><th>16</th><td>0018</td><td>1</td><td>1</td><td>1B</td><td>A</td><td>1B_1642</td><td>false</td><td>1B_B06</td><td>1B_B06</td></tr><tr><th>17</th><td>0019</td><td>1</td><td>1</td><td>1B</td><td>A</td><td>1B_2223</td><td>false</td><td>1B_B06</td><td>1B_B06</td></tr><tr><th>18</th><td>0020</td><td>1</td><td>1</td><td>1B</td><td>A</td><td>1B_1486</td><td>false</td><td>1B_B06</td><td>1B_B06</td></tr><tr><th>19</th><td>0021</td><td>1</td><td>1</td><td>1B</td><td>A</td><td>1B_1643</td><td>false</td><td>1B_B06</td><td>1B_B06</td></tr><tr><th>20</th><td>0022</td><td>1</td><td>1</td><td>1B</td><td>A</td><td>1B_2223</td><td>false</td><td>1B_B04</td><td>1B_B04</td></tr><tr><th>21</th><td>0023</td><td>1</td><td>1</td><td>1B</td><td>A</td><td>1B_2154</td><td>false</td><td>1B_B04</td><td>1B_B04</td></tr><tr><th>22</th><td>0024</td><td>1</td><td>1</td><td>1B</td><td>A</td><td>1B_2223</td><td>false</td><td>1B_B04</td><td>1B_B04</td></tr><tr><th>23</th><td>0025</td><td>1</td><td>1</td><td>1B</td><td>A</td><td>1B_1870</td><td>false</td><td>1B_B04</td><td>1B_B04</td></tr><tr><th>24</th><td>0026</td><td>1</td><td>1</td><td>1B</td><td>A</td><td>1B_2065</td><td>false</td><td>1B_B04</td><td>1B_B04</td></tr><tr><th>25</th><td>0027</td><td>1</td><td>1</td><td>1B</td><td>A</td><td>1B_2239</td><td>false</td><td>1B_B04</td><td>1B_B04</td></tr><tr><th>26</th><td>0028</td><td>1</td><td>1</td><td>1B</td><td>A</td><td>1B_1486</td><td>false</td><td>1B_B04</td><td>1B_B04</td></tr><tr><th>27</th><td>0029</td><td>1</td><td>1</td><td>1B</td><td>A</td><td>1B_2149</td><td>false</td><td>1B_B09</td><td>1B_B09</td></tr><tr><th>28</th><td>0030</td><td>1</td><td>1</td><td>1B</td><td>A</td><td>1B_1520</td><td>false</td><td>1B_B09</td><td>1B_B09</td></tr><tr><th>29</th><td>0031</td><td>1</td><td>1</td><td>1B</td><td>A</td><td>1B_1784</td><td>false</td><td>1B_B09</td><td>1B_B09</td></tr><tr><th>30</th><td>0032</td><td>1</td><td>1</td><td>1B</td><td>A</td><td>1B_2048</td><td>false</td><td>1B_B09</td><td>1B_B09</td></tr><tr><th>&vellip;</th><td>&vellip;</td><td>&vellip;</td><td>&vellip;</td><td>&vellip;</td><td>&vellip;</td><td>&vellip;</td><td>&vellip;</td><td>&vellip;</td><td>&vellip;</td></tr></tbody></table>"
      ],
      "text/latex": [
       "\\begin{tabular}{r|cccccccccc}\n",
       "\t& ID & Cycle & BatchNum & Batch & Company & SowID & NurEnrich & QNurPenBatch & NurPenBatch & \\\\\n",
       "\t\\hline\n",
       "\t& String & Int64 & Int64 & String & String & String & Bool & String & String & \\\\\n",
       "\t\\hline\n",
       "\t1 & 0001 & 1 & 1 & 1B & A & 1B\\_1715 & false & 1B\\_D04 & 1B\\_D04 & $\\dots$ \\\\\n",
       "\t2 & 0002 & 1 & 1 & 1B & A & 1B\\_1642 & false & 1B\\_D04 & 1B\\_D04 & $\\dots$ \\\\\n",
       "\t3 & 0004 & 1 & 1 & 1B & A & 1B\\_2150 & false & 1B\\_D04 & 1B\\_D04 & $\\dots$ \\\\\n",
       "\t4 & 0005 & 1 & 1 & 1B & A & 1B\\_1980 & false & 1B\\_D04 & 1B\\_D04 & $\\dots$ \\\\\n",
       "\t5 & 0006 & 1 & 1 & 1B & A & 1B\\_1902 & false & 1B\\_D04 & 1B\\_D04 & $\\dots$ \\\\\n",
       "\t6 & 0007 & 1 & 1 & 1B & A & 1B\\_2150 & false & 1B\\_D04 & 1B\\_D04 & $\\dots$ \\\\\n",
       "\t7 & 0009 & 1 & 1 & 1B & A & 1B\\_1902 & false & 1B\\_D02 & 1B\\_D02 & $\\dots$ \\\\\n",
       "\t8 & 0010 & 1 & 1 & 1B & A & 1B\\_1885 & false & 1B\\_D02 & 1B\\_D02 & $\\dots$ \\\\\n",
       "\t9 & 0011 & 1 & 1 & 1B & A & 1B\\_2097 & false & 1B\\_D02 & 1B\\_D02 & $\\dots$ \\\\\n",
       "\t10 & 0012 & 1 & 1 & 1B & A & 1B\\_1902 & false & 1B\\_D02 & 1B\\_D02 & $\\dots$ \\\\\n",
       "\t11 & 0013 & 1 & 1 & 1B & A & 1B\\_1643 & false & 1B\\_D02 & 1B\\_D02 & $\\dots$ \\\\\n",
       "\t12 & 0014 & 1 & 1 & 1B & A & 1B\\_2150 & false & 1B\\_D02 & 1B\\_D02 & $\\dots$ \\\\\n",
       "\t13 & 0015 & 1 & 1 & 1B & A & 1B\\_1980 & false & 1B\\_B06 & 1B\\_B06 & $\\dots$ \\\\\n",
       "\t14 & 0016 & 1 & 1 & 1B & A & 1B\\_1980 & false & 1B\\_B06 & 1B\\_B06 & $\\dots$ \\\\\n",
       "\t15 & 0017 & 1 & 1 & 1B & A & 1B\\_2048 & false & 1B\\_B06 & 1B\\_B06 & $\\dots$ \\\\\n",
       "\t16 & 0018 & 1 & 1 & 1B & A & 1B\\_1642 & false & 1B\\_B06 & 1B\\_B06 & $\\dots$ \\\\\n",
       "\t17 & 0019 & 1 & 1 & 1B & A & 1B\\_2223 & false & 1B\\_B06 & 1B\\_B06 & $\\dots$ \\\\\n",
       "\t18 & 0020 & 1 & 1 & 1B & A & 1B\\_1486 & false & 1B\\_B06 & 1B\\_B06 & $\\dots$ \\\\\n",
       "\t19 & 0021 & 1 & 1 & 1B & A & 1B\\_1643 & false & 1B\\_B06 & 1B\\_B06 & $\\dots$ \\\\\n",
       "\t20 & 0022 & 1 & 1 & 1B & A & 1B\\_2223 & false & 1B\\_B04 & 1B\\_B04 & $\\dots$ \\\\\n",
       "\t21 & 0023 & 1 & 1 & 1B & A & 1B\\_2154 & false & 1B\\_B04 & 1B\\_B04 & $\\dots$ \\\\\n",
       "\t22 & 0024 & 1 & 1 & 1B & A & 1B\\_2223 & false & 1B\\_B04 & 1B\\_B04 & $\\dots$ \\\\\n",
       "\t23 & 0025 & 1 & 1 & 1B & A & 1B\\_1870 & false & 1B\\_B04 & 1B\\_B04 & $\\dots$ \\\\\n",
       "\t24 & 0026 & 1 & 1 & 1B & A & 1B\\_2065 & false & 1B\\_B04 & 1B\\_B04 & $\\dots$ \\\\\n",
       "\t25 & 0027 & 1 & 1 & 1B & A & 1B\\_2239 & false & 1B\\_B04 & 1B\\_B04 & $\\dots$ \\\\\n",
       "\t26 & 0028 & 1 & 1 & 1B & A & 1B\\_1486 & false & 1B\\_B04 & 1B\\_B04 & $\\dots$ \\\\\n",
       "\t27 & 0029 & 1 & 1 & 1B & A & 1B\\_2149 & false & 1B\\_B09 & 1B\\_B09 & $\\dots$ \\\\\n",
       "\t28 & 0030 & 1 & 1 & 1B & A & 1B\\_1520 & false & 1B\\_B09 & 1B\\_B09 & $\\dots$ \\\\\n",
       "\t29 & 0031 & 1 & 1 & 1B & A & 1B\\_1784 & false & 1B\\_B09 & 1B\\_B09 & $\\dots$ \\\\\n",
       "\t30 & 0032 & 1 & 1 & 1B & A & 1B\\_2048 & false & 1B\\_B09 & 1B\\_B09 & $\\dots$ \\\\\n",
       "\t$\\dots$ & $\\dots$ & $\\dots$ & $\\dots$ & $\\dots$ & $\\dots$ & $\\dots$ & $\\dots$ & $\\dots$ & $\\dots$ &  \\\\\n",
       "\\end{tabular}\n"
      ],
      "text/plain": [
       "3181×50 DataFrame. Omitted printing of 43 columns\n",
       "│ Row  │ ID     │ Cycle │ BatchNum │ Batch  │ Company │ SowID   │ NurEnrich │\n",
       "│      │ \u001b[90mString\u001b[39m │ \u001b[90mInt64\u001b[39m │ \u001b[90mInt64\u001b[39m    │ \u001b[90mString\u001b[39m │ \u001b[90mString\u001b[39m  │ \u001b[90mString\u001b[39m  │ \u001b[90mBool\u001b[39m      │\n",
       "├──────┼────────┼───────┼──────────┼────────┼─────────┼─────────┼───────────┤\n",
       "│ 1    │ 0001   │ 1     │ 1        │ 1B     │ A       │ 1B_1715 │ false     │\n",
       "│ 2    │ 0002   │ 1     │ 1        │ 1B     │ A       │ 1B_1642 │ false     │\n",
       "│ 3    │ 0004   │ 1     │ 1        │ 1B     │ A       │ 1B_2150 │ false     │\n",
       "│ 4    │ 0005   │ 1     │ 1        │ 1B     │ A       │ 1B_1980 │ false     │\n",
       "│ 5    │ 0006   │ 1     │ 1        │ 1B     │ A       │ 1B_1902 │ false     │\n",
       "│ 6    │ 0007   │ 1     │ 1        │ 1B     │ A       │ 1B_2150 │ false     │\n",
       "│ 7    │ 0009   │ 1     │ 1        │ 1B     │ A       │ 1B_1902 │ false     │\n",
       "│ 8    │ 0010   │ 1     │ 1        │ 1B     │ A       │ 1B_1885 │ false     │\n",
       "│ 9    │ 0011   │ 1     │ 1        │ 1B     │ A       │ 1B_2097 │ false     │\n",
       "│ 10   │ 0012   │ 1     │ 1        │ 1B     │ A       │ 1B_1902 │ false     │\n",
       "⋮\n",
       "│ 3171 │ 3284   │ 7     │ 50       │ 7H     │ B       │ 74      │ false     │\n",
       "│ 3172 │ 3285   │ 7     │ 50       │ 7H     │ B       │ 40      │ false     │\n",
       "│ 3173 │ 3286   │ 7     │ 50       │ 7H     │ B       │ 24      │ false     │\n",
       "│ 3174 │ 3287   │ 7     │ 50       │ 7H     │ B       │ 29      │ true      │\n",
       "│ 3175 │ 3288   │ 7     │ 50       │ 7H     │ B       │ 26      │ true      │\n",
       "│ 3176 │ 3289   │ 7     │ 50       │ 7H     │ B       │ 42      │ true      │\n",
       "│ 3177 │ 3290   │ 7     │ 50       │ 7H     │ B       │ 67      │ true      │\n",
       "│ 3178 │ 3291   │ 7     │ 50       │ 7H     │ B       │ 76      │ false     │\n",
       "│ 3179 │ 3292   │ 7     │ 50       │ 7H     │ B       │ 15      │ false     │\n",
       "│ 3180 │ 3293   │ 7     │ 50       │ 7H     │ B       │ 1       │ false     │\n",
       "│ 3181 │ 3294   │ 7     │ 50       │ 7H     │ B       │ 5       │ false     │"
      ]
     },
     "execution_count": 3,
     "metadata": {},
     "output_type": "execute_result"
    }
   ],
   "source": [
    "phenotypes= dropmissing(phenotypes, :NurPenBatch)\n",
    "#phenotypes= dropmissing(phenotypes, :Died)"
   ]
  },
  {
   "cell_type": "code",
   "execution_count": 4,
   "metadata": {},
   "outputs": [],
   "source": [
    "Died_model_equations = \"Died_Adj = intercept + Batch + EntryAge + NurPenBatch\"\n",
    "Died_R=1.00000\n",
    "Died_model=build_model(Died_model_equations,Died_R);"
   ]
  },
  {
   "cell_type": "code",
   "execution_count": 5,
   "metadata": {},
   "outputs": [
    {
     "data": {
      "text/plain": [
       "1-element Array{Symbol,1}:\n",
       " :EntryAge"
      ]
     },
     "execution_count": 5,
     "metadata": {},
     "output_type": "execute_result"
    }
   ],
   "source": [
    "set_covariate(Died_model,\"EntryAge\")"
   ]
  },
  {
   "cell_type": "code",
   "execution_count": 6,
   "metadata": {},
   "outputs": [],
   "source": [
    "Died_G1=0.277714E-01\n",
    "set_random(Died_model,\"NurPenBatch\",Died_G1)"
   ]
  },
  {
   "cell_type": "code",
   "execution_count": 2,
   "metadata": {},
   "outputs": [
    {
     "name": "stdout",
     "output_type": "stream",
     "text": [
      " 27.547650 seconds (37.77 k allocations: 10.393 GiB, 0.07% gc time)\n"
     ]
    },
    {
     "data": {
      "text/plain": [
       "3205×435172 Array{Float64,2}:\n",
       " 0.0  2.0  0.0  2.0  2.0  0.0  2.0  2.0  …  0.0  2.0  0.0  2.0  2.0  2.0  2.0\n",
       " 1.0  2.0  0.0  2.0  2.0  0.0  1.0  2.0     0.0  2.0  1.0  2.0  2.0  2.0  2.0\n",
       " 0.0  2.0  0.0  1.0  2.0  0.0  1.0  2.0     0.0  2.0  0.0  2.0  2.0  2.0  2.0\n",
       " 1.0  2.0  0.0  1.0  2.0  0.0  1.0  2.0     0.0  2.0  1.0  2.0  2.0  2.0  2.0\n",
       " 0.0  2.0  0.0  2.0  2.0  0.0  2.0  2.0     0.0  2.0  0.0  2.0  2.0  2.0  2.0\n",
       " 1.0  1.0  1.0  0.0  1.0  1.0  0.0  1.0  …  0.0  2.0  0.0  2.0  2.0  2.0  2.0\n",
       " 0.0  2.0  0.0  1.0  2.0  0.0  1.0  2.0     0.0  2.0  0.0  2.0  2.0  2.0  2.0\n",
       " 0.0  2.0  0.0  0.0  2.0  0.0  0.0  2.0     0.0  2.0  0.0  2.0  2.0  2.0  2.0\n",
       " 1.0  2.0  0.0  0.0  2.0  0.0  0.0  2.0     0.0  2.0  0.0  2.0  2.0  2.0  2.0\n",
       " 0.0  2.0  0.0  2.0  2.0  0.0  2.0  2.0     0.0  2.0  1.0  2.0  2.0  2.0  2.0\n",
       " 1.0  1.0  0.0  1.0  2.0  0.0  0.0  2.0  …  0.0  2.0  0.0  2.0  2.0  2.0  2.0\n",
       " 0.0  2.0  0.0  0.0  2.0  0.0  0.0  2.0     0.0  2.0  0.0  2.0  2.0  2.0  2.0\n",
       " 1.0  1.0  1.0  1.0  1.0  1.0  1.0  1.0     0.0  2.0  1.0  2.0  2.0  2.0  2.0\n",
       " ⋮                        ⋮              ⋱  ⋮                        ⋮       \n",
       " 0.0  2.0  0.0  0.0  2.0  0.0  0.0  2.0     1.0  2.0  0.0  2.0  2.0  2.0  2.0\n",
       " 1.0  2.0  0.0  1.0  2.0  0.0  0.0  2.0     1.0  2.0  0.0  2.0  2.0  2.0  2.0\n",
       " 2.0  2.0  0.0  2.0  2.0  0.0  0.0  2.0  …  1.0  2.0  0.0  2.0  2.0  2.0  2.0\n",
       " 2.0  1.0  1.0  1.0  1.0  1.0  0.0  1.0     1.0  2.0  0.0  2.0  2.0  2.0  2.0\n",
       " 2.0  2.0  0.0  2.0  2.0  0.0  0.0  2.0     0.0  2.0  0.0  2.0  2.0  2.0  2.0\n",
       " 2.0  2.0  0.0  2.0  2.0  0.0  0.0  2.0     1.0  2.0  0.0  2.0  2.0  2.0  2.0\n",
       " 1.0  1.0  1.0  0.0  1.0  1.0  0.0  1.0     0.0  2.0  0.0  2.0  2.0  2.0  2.0\n",
       " 2.0  0.0  2.0  0.0  0.0  2.0  0.0  0.0  …  1.0  2.0  0.0  2.0  2.0  2.0  2.0\n",
       " 0.0  2.0  0.0  1.0  2.0  0.0  1.0  2.0     1.0  2.0  0.0  2.0  2.0  2.0  2.0\n",
       " 1.0  1.0  1.0  1.0  1.0  1.0  1.0  1.0     1.0  2.0  0.0  2.0  2.0  2.0  2.0\n",
       " 0.0  2.0  0.0  1.0  2.0  0.0  1.0  2.0     1.0  2.0  0.0  2.0  2.0  2.0  2.0\n",
       " 1.0  2.0  0.0  1.0  2.0  0.0  0.0  2.0     1.0  2.0  0.0  2.0  2.0  2.0  2.0"
      ]
     },
     "execution_count": 2,
     "metadata": {},
     "output_type": "execute_result"
    }
   ],
   "source": [
    "function readMatBin(fileName)\n",
    "    genStr = open(fileName)\n",
    "    n = read(genStr,Int64)\n",
    "    p = read(genStr,Int64)\n",
    "    M = zeros(n,p)\n",
    "    for j in 1:p\n",
    "        for i in 1:n\n",
    "            M[i,j] = read(genStr,Float64)\n",
    "        end\n",
    "    end\n",
    "    close(genStr)\n",
    "    return M\n",
    "end\n",
    "@time M = readMatBin(\"/home/jovyan/mark/JWAS_CDPQ/CDPQ_all_data/ALGP2_Cycle_1_7_Geno_Complete_Impute_JWAS.bin.gen.bin\")"
   ]
  },
  {
   "cell_type": "code",
   "execution_count": 8,
   "metadata": {},
   "outputs": [
    {
     "data": {
      "text/plain": [
       "3205-element Array{String,1}:\n",
       " \"0001\"\n",
       " \"0002\"\n",
       " \"0004\"\n",
       " \"0005\"\n",
       " \"0006\"\n",
       " \"0007\"\n",
       " \"0009\"\n",
       " \"0010\"\n",
       " \"0011\"\n",
       " \"0012\"\n",
       " \"0013\"\n",
       " \"0014\"\n",
       " \"0015\"\n",
       " ⋮     \n",
       " \"3283\"\n",
       " \"3284\"\n",
       " \"3285\"\n",
       " \"3286\"\n",
       " \"3287\"\n",
       " \"3288\"\n",
       " \"3289\"\n",
       " \"3290\"\n",
       " \"3291\"\n",
       " \"3292\"\n",
       " \"3293\"\n",
       " \"3294\""
      ]
     },
     "execution_count": 8,
     "metadata": {},
     "output_type": "execute_result"
    }
   ],
   "source": [
    "rowID = vec(readdlm(\"/home/jovyan/mark/JWAS_CDPQ/CDPQ_all_data/ALGP2_Cycle_1_7_Geno_Complete_Impute_JWAS.bin.ids.txt\",String))"
   ]
  },
  {
   "cell_type": "code",
   "execution_count": 9,
   "metadata": {},
   "outputs": [
    {
     "name": "stdout",
     "output_type": "stream",
     "text": [
      "\u001b[0m\u001b[1mThe marker IDs are set to 1,2,...,#markers\u001b[22m\n",
      "#markers: 435172; #individuals: 3205\n",
      " 14.574227 seconds (8.06 M allocations: 15.986 GiB, 1.45% gc time)\n"
     ]
    },
    {
     "data": {
      "text/plain": [
       "4.0f0"
      ]
     },
     "execution_count": 9,
     "metadata": {},
     "output_type": "execute_result"
    }
   ],
   "source": [
    "Died_G3=0.909307E-01\n",
    "@time add_genotypes(Died_model,M,Died_G3,header=false, rowID=rowID)\n",
    "#@time add_genotypes(Nur2ADG_model,\"Geno_JWAS_impute.txt\",Nur2ADG_G3,separator=' ')"
   ]
  },
  {
   "cell_type": "code",
   "execution_count": 10,
   "metadata": {
    "scrolled": false
   },
   "outputs": [
    {
     "name": "stdout",
     "output_type": "stream",
     "text": [
      "\u001b[32mThe folder results is created to save results.\u001b[39m\n",
      "\u001b[32mChecking phenotypes...\u001b[39m\n",
      "\u001b[32mIndividual IDs (strings) are provided in the first column of the phenotypic data.\u001b[39m\n",
      "\u001b[32mThe number of observations with both genotypes and phenotypes used in the analysis is 3181.\u001b[39m\n",
      "\n",
      "The prior for marker effects variance is calculated from the genetic variance and π.\n",
      "The mean of the prior for the marker effects variance is: 0.000546\n",
      "\n",
      "\n",
      "\n",
      "\u001b[0m\u001b[1mA Linear Mixed Model was build using model equations:\u001b[22m\n",
      "\n",
      "Died_Adj = intercept + Batch + EntryAge + NurPenBatch\n",
      "\n",
      "\u001b[0m\u001b[1mModel Information:\u001b[22m\n",
      "\n",
      "Term            C/F          F/R            nLevels\n",
      "intercept       factor       fixed                1\n",
      "Batch           factor       fixed               50\n",
      "EntryAge        covariate    fixed                1\n",
      "NurPenBatch     factor       random             436\n",
      "\n",
      "\u001b[0m\u001b[1mMCMC Information:\u001b[22m\n",
      "\n",
      "chain_length                                  50000\n",
      "burnin                                         5000\n",
      "starting_value                                 true\n",
      "printout_frequency                            50001\n",
      "output_samples_frequency                        100\n",
      "constraint                                    false\n",
      "missing_phenotypes                             true\n",
      "update_priors_frequency                           0\n",
      "seed                                          false\n",
      "\n",
      "\u001b[0m\u001b[1mHyper-parameters Information:\u001b[22m\n",
      "\n",
      "random effect variances (Died_Adj:NurPenBatch):              [0.028]\n",
      "residual variances:                           1.000\n",
      "\n",
      "\u001b[0m\u001b[1mGenomic Information:\u001b[22m\n",
      "\n",
      "complete genomic data (i.e., non-single-step analysis)\n",
      "\n",
      "Genomic Category                               geno\n",
      "Method                                       BayesB\n",
      "genetic variances (genomic):                  0.091\n",
      "marker effect variances:                      0.001\n",
      "π                                             0.999\n",
      "estimatePi                                     true\n",
      "estimateScale                                  true\n",
      "\n",
      "\u001b[0m\u001b[1mDegree of freedom for hyper-parameters:\u001b[22m\n",
      "\n",
      "residual variances:                           4.000\n",
      "random effect variances:                      5.000\n",
      "marker effect variances:                      4.000\n",
      "\n",
      "\n",
      "\n",
      "\u001b[32mThe file results/MCMC_samples_residual_variance.txt is created to save MCMC samples for residual_variance.\u001b[39m\n",
      "\u001b[32mThe file results/MCMC_samples_marker_effects_geno_Died_Adj.txt is created to save MCMC samples for marker_effects_geno_Died_Adj.\u001b[39m\n",
      "\u001b[32mThe file results/MCMC_samples_marker_effects_variances_geno.txt is created to save MCMC samples for marker_effects_variances_geno.\u001b[39m\n",
      "\u001b[32mThe file results/MCMC_samples_pi_geno.txt is created to save MCMC samples for pi_geno.\u001b[39m\n",
      "\u001b[32mThe file results/MCMC_samples_Died_Adj.NurPenBatch_variances.txt is created to save MCMC samples for Died_Adj:NurPenBatch_variances.\u001b[39m\n",
      "\u001b[32mThe file results/MCMC_samples_EBV_Died_Adj.txt is created to save MCMC samples for EBV_Died_Adj.\u001b[39m\n",
      "\u001b[32mThe file results/MCMC_samples_genetic_variance.txt is created to save MCMC samples for genetic_variance.\u001b[39m\n",
      "\u001b[32mThe file results/MCMC_samples_heritability.txt is created to save MCMC samples for heritability.\u001b[39m\n"
     ]
    },
    {
     "name": "stderr",
     "output_type": "stream",
     "text": [
      "\u001b[32mrunning MCMC ...100%|███████████████████████████████████| Time: 6:34:52\u001b[39m\n"
     ]
    },
    {
     "name": "stdout",
     "output_type": "stream",
     "text": [
      "\n",
      "\n",
      "\u001b[0m\u001b[1mThe version of Julia and Platform in use:\u001b[22m\n",
      "\n",
      "Julia Version 1.1.0\n",
      "Commit 80516ca202 (2019-01-21 21:24 UTC)\n",
      "Platform Info:\n",
      "  OS: Linux (x86_64-pc-linux-gnu)\n",
      "  CPU: Intel(R) Core(TM) i7-5960X CPU @ 3.00GHz\n",
      "  WORD_SIZE: 64\n",
      "  LIBM: libopenlibm\n",
      "  LLVM: libLLVM-6.0.1 (ORCJIT, haswell)\n",
      "Environment:\n",
      "  JULIA_DEPOT_PATH = /opt/julia\n",
      "  JULIA_PKGDIR = /opt/julia\n",
      "  JULIA_VERSION = 1.1.0\n",
      "\n",
      "\n",
      "\u001b[0m\u001b[1mThe analysis has finished. Results are saved in the returned \u001b[22m\u001b[0m\u001b[1mvariable and text files. MCMC samples are saved in text files.\u001b[22m\n",
      "\n",
      "\n",
      "23731.752854 seconds (90.18 G allocations: 1.776 TiB, 1.05% gc time)\n"
     ]
    },
    {
     "data": {
      "text/plain": [
       "Dict{Any,Any} with 8 entries:\n",
       "  \"ScaleEffectVargeno\"  => 1×3 DataFrame…\n",
       "  \"heritability\"        => 1×3 DataFrame…\n",
       "  \"location parameters\" => 488×5 DataFrame…\n",
       "  \"residual variance\"   => 1×3 DataFrame…\n",
       "  \"marker effects geno\" => 435172×5 DataFrame…\n",
       "  \"EBV_Died_Adj\"        => 3205×3 DataFrame…\n",
       "  \"genetic_variance\"    => 1×3 DataFrame…\n",
       "  \"pi_geno\"             => 1×3 DataFrame…"
      ]
     },
     "execution_count": 10,
     "metadata": {},
     "output_type": "execute_result"
    }
   ],
   "source": [
    "@time Died_outB=runMCMC(Died_model,phenotypes,methods=\"BayesB\", missing_phenotypes=true, Pi= 0.999, estimatePi=true, estimateScale=true, chain_length=50000,burnin = 5000,output_heritability=true,  output_samples_frequency=100)"
   ]
  },
  {
   "cell_type": "code",
   "execution_count": 11,
   "metadata": {},
   "outputs": [
    {
     "data": {
      "text/html": [
       "<table class=\"data-frame\"><thead><tr><th></th><th>iteration</th><th>Died</th></tr><tr><th></th><th>Int64</th><th>Float64</th></tr></thead><tbody><p>450 rows × 2 columns</p><tr><th>1</th><td>1</td><td>0.0785241</td></tr><tr><th>2</th><td>2</td><td>0.0826021</td></tr><tr><th>3</th><td>3</td><td>0.0922568</td></tr><tr><th>4</th><td>4</td><td>0.0812819</td></tr><tr><th>5</th><td>5</td><td>0.0863117</td></tr><tr><th>6</th><td>6</td><td>0.090341</td></tr><tr><th>7</th><td>7</td><td>0.0985591</td></tr><tr><th>8</th><td>8</td><td>0.102101</td></tr><tr><th>9</th><td>9</td><td>0.0952378</td></tr><tr><th>10</th><td>10</td><td>0.0732448</td></tr><tr><th>11</th><td>11</td><td>0.112166</td></tr><tr><th>12</th><td>12</td><td>0.0948002</td></tr><tr><th>13</th><td>13</td><td>0.103129</td></tr><tr><th>14</th><td>14</td><td>0.0804407</td></tr><tr><th>15</th><td>15</td><td>0.11204</td></tr><tr><th>16</th><td>16</td><td>0.103559</td></tr><tr><th>17</th><td>17</td><td>0.0790028</td></tr><tr><th>18</th><td>18</td><td>0.081975</td></tr><tr><th>19</th><td>19</td><td>0.0964472</td></tr><tr><th>20</th><td>20</td><td>0.129048</td></tr><tr><th>21</th><td>21</td><td>0.0957098</td></tr><tr><th>22</th><td>22</td><td>0.113309</td></tr><tr><th>23</th><td>23</td><td>0.105504</td></tr><tr><th>24</th><td>24</td><td>0.106727</td></tr><tr><th>25</th><td>25</td><td>0.0904354</td></tr><tr><th>26</th><td>26</td><td>0.0784732</td></tr><tr><th>27</th><td>27</td><td>0.0803279</td></tr><tr><th>28</th><td>28</td><td>0.0990177</td></tr><tr><th>29</th><td>29</td><td>0.0978564</td></tr><tr><th>30</th><td>30</td><td>0.0838874</td></tr><tr><th>&vellip;</th><td>&vellip;</td><td>&vellip;</td></tr></tbody></table>"
      ],
      "text/latex": [
       "\\begin{tabular}{r|cc}\n",
       "\t& iteration & Died\\\\\n",
       "\t\\hline\n",
       "\t& Int64 & Float64\\\\\n",
       "\t\\hline\n",
       "\t1 & 1 & 0.0785241 \\\\\n",
       "\t2 & 2 & 0.0826021 \\\\\n",
       "\t3 & 3 & 0.0922568 \\\\\n",
       "\t4 & 4 & 0.0812819 \\\\\n",
       "\t5 & 5 & 0.0863117 \\\\\n",
       "\t6 & 6 & 0.090341 \\\\\n",
       "\t7 & 7 & 0.0985591 \\\\\n",
       "\t8 & 8 & 0.102101 \\\\\n",
       "\t9 & 9 & 0.0952378 \\\\\n",
       "\t10 & 10 & 0.0732448 \\\\\n",
       "\t11 & 11 & 0.112166 \\\\\n",
       "\t12 & 12 & 0.0948002 \\\\\n",
       "\t13 & 13 & 0.103129 \\\\\n",
       "\t14 & 14 & 0.0804407 \\\\\n",
       "\t15 & 15 & 0.11204 \\\\\n",
       "\t16 & 16 & 0.103559 \\\\\n",
       "\t17 & 17 & 0.0790028 \\\\\n",
       "\t18 & 18 & 0.081975 \\\\\n",
       "\t19 & 19 & 0.0964472 \\\\\n",
       "\t20 & 20 & 0.129048 \\\\\n",
       "\t21 & 21 & 0.0957098 \\\\\n",
       "\t22 & 22 & 0.113309 \\\\\n",
       "\t23 & 23 & 0.105504 \\\\\n",
       "\t24 & 24 & 0.106727 \\\\\n",
       "\t25 & 25 & 0.0904354 \\\\\n",
       "\t26 & 26 & 0.0784732 \\\\\n",
       "\t27 & 27 & 0.0803279 \\\\\n",
       "\t28 & 28 & 0.0990177 \\\\\n",
       "\t29 & 29 & 0.0978564 \\\\\n",
       "\t30 & 30 & 0.0838874 \\\\\n",
       "\t$\\dots$ & $\\dots$ & $\\dots$ \\\\\n",
       "\\end{tabular}\n"
      ],
      "text/plain": [
       "450×2 DataFrame\n",
       "│ Row │ iteration │ Died      │\n",
       "│     │ \u001b[90mInt64\u001b[39m     │ \u001b[90mFloat64\u001b[39m   │\n",
       "├─────┼───────────┼───────────┤\n",
       "│ 1   │ 1         │ 0.0785241 │\n",
       "│ 2   │ 2         │ 0.0826021 │\n",
       "│ 3   │ 3         │ 0.0922568 │\n",
       "│ 4   │ 4         │ 0.0812819 │\n",
       "│ 5   │ 5         │ 0.0863117 │\n",
       "│ 6   │ 6         │ 0.090341  │\n",
       "│ 7   │ 7         │ 0.0985591 │\n",
       "│ 8   │ 8         │ 0.102101  │\n",
       "│ 9   │ 9         │ 0.0952378 │\n",
       "│ 10  │ 10        │ 0.0732448 │\n",
       "⋮\n",
       "│ 440 │ 440       │ 0.138383  │\n",
       "│ 441 │ 441       │ 0.122614  │\n",
       "│ 442 │ 442       │ 0.119005  │\n",
       "│ 443 │ 443       │ 0.119496  │\n",
       "│ 444 │ 444       │ 0.109775  │\n",
       "│ 445 │ 445       │ 0.141686  │\n",
       "│ 446 │ 446       │ 0.139884  │\n",
       "│ 447 │ 447       │ 0.147959  │\n",
       "│ 448 │ 448       │ 0.100315  │\n",
       "│ 449 │ 449       │ 0.12138   │\n",
       "│ 450 │ 450       │ 0.0836275 │"
      ]
     },
     "execution_count": 11,
     "metadata": {},
     "output_type": "execute_result"
    }
   ],
   "source": [
    "h2=CSV.read(\"MCMC_samples_heritability.txt\",delim = ' ',header=true)\n",
    "insertcols!(h2, 1, :iteration => 1:450) # Add a column called iteration"
   ]
  },
  {
   "cell_type": "code",
   "execution_count": 12,
   "metadata": {},
   "outputs": [
    {
     "data": {
      "image/svg+xml": [
       "<?xml version=\"1.0\" encoding=\"utf-8\"?>\n",
       "<svg xmlns=\"http://www.w3.org/2000/svg\" xmlns:xlink=\"http://www.w3.org/1999/xlink\" width=\"600\" height=\"400\" viewBox=\"0 0 2400 1600\">\n",
       "<defs>\n",
       "  <clipPath id=\"clip120\">\n",
       "    <rect x=\"0\" y=\"0\" width=\"2400\" height=\"1600\"/>\n",
       "  </clipPath>\n",
       "</defs>\n",
       "<path clip-path=\"url(#clip120)\" d=\"\n",
       "M0 1600 L2400 1600 L2400 0 L0 0  Z\n",
       "  \" fill=\"#ffffff\" fill-rule=\"evenodd\" fill-opacity=\"1\"/>\n",
       "<defs>\n",
       "  <clipPath id=\"clip121\">\n",
       "    <rect x=\"480\" y=\"0\" width=\"1681\" height=\"1600\"/>\n",
       "  </clipPath>\n",
       "</defs>\n",
       "<path clip-path=\"url(#clip120)\" d=\"\n",
       "M263.917 1423.18 L2352.76 1423.18 L2352.76 123.472 L263.917 123.472  Z\n",
       "  \" fill=\"#ffffff\" fill-rule=\"evenodd\" fill-opacity=\"1\"/>\n",
       "<defs>\n",
       "  <clipPath id=\"clip122\">\n",
       "    <rect x=\"263\" y=\"123\" width=\"2090\" height=\"1301\"/>\n",
       "  </clipPath>\n",
       "</defs>\n",
       "<polyline clip-path=\"url(#clip122)\" style=\"stroke:#000000; stroke-width:2; stroke-opacity:0.1; fill:none\" points=\"\n",
       "  318.646,1423.18 318.646,123.472 \n",
       "  \"/>\n",
       "<polyline clip-path=\"url(#clip122)\" style=\"stroke:#000000; stroke-width:2; stroke-opacity:0.1; fill:none\" points=\"\n",
       "  757.533,1423.18 757.533,123.472 \n",
       "  \"/>\n",
       "<polyline clip-path=\"url(#clip122)\" style=\"stroke:#000000; stroke-width:2; stroke-opacity:0.1; fill:none\" points=\"\n",
       "  1196.42,1423.18 1196.42,123.472 \n",
       "  \"/>\n",
       "<polyline clip-path=\"url(#clip122)\" style=\"stroke:#000000; stroke-width:2; stroke-opacity:0.1; fill:none\" points=\"\n",
       "  1635.31,1423.18 1635.31,123.472 \n",
       "  \"/>\n",
       "<polyline clip-path=\"url(#clip122)\" style=\"stroke:#000000; stroke-width:2; stroke-opacity:0.1; fill:none\" points=\"\n",
       "  2074.19,1423.18 2074.19,123.472 \n",
       "  \"/>\n",
       "<polyline clip-path=\"url(#clip122)\" style=\"stroke:#000000; stroke-width:2; stroke-opacity:0.1; fill:none\" points=\"\n",
       "  263.917,1368.62 2352.76,1368.62 \n",
       "  \"/>\n",
       "<polyline clip-path=\"url(#clip122)\" style=\"stroke:#000000; stroke-width:2; stroke-opacity:0.1; fill:none\" points=\"\n",
       "  263.917,1115.47 2352.76,1115.47 \n",
       "  \"/>\n",
       "<polyline clip-path=\"url(#clip122)\" style=\"stroke:#000000; stroke-width:2; stroke-opacity:0.1; fill:none\" points=\"\n",
       "  263.917,862.319 2352.76,862.319 \n",
       "  \"/>\n",
       "<polyline clip-path=\"url(#clip122)\" style=\"stroke:#000000; stroke-width:2; stroke-opacity:0.1; fill:none\" points=\"\n",
       "  263.917,609.168 2352.76,609.168 \n",
       "  \"/>\n",
       "<polyline clip-path=\"url(#clip122)\" style=\"stroke:#000000; stroke-width:2; stroke-opacity:0.1; fill:none\" points=\"\n",
       "  263.917,356.016 2352.76,356.016 \n",
       "  \"/>\n",
       "<polyline clip-path=\"url(#clip120)\" style=\"stroke:#000000; stroke-width:4; stroke-opacity:1; fill:none\" points=\"\n",
       "  263.917,1423.18 2352.76,1423.18 \n",
       "  \"/>\n",
       "<polyline clip-path=\"url(#clip120)\" style=\"stroke:#000000; stroke-width:4; stroke-opacity:1; fill:none\" points=\"\n",
       "  263.917,1423.18 263.917,123.472 \n",
       "  \"/>\n",
       "<polyline clip-path=\"url(#clip120)\" style=\"stroke:#000000; stroke-width:4; stroke-opacity:1; fill:none\" points=\"\n",
       "  318.646,1423.18 318.646,1407.58 \n",
       "  \"/>\n",
       "<polyline clip-path=\"url(#clip120)\" style=\"stroke:#000000; stroke-width:4; stroke-opacity:1; fill:none\" points=\"\n",
       "  757.533,1423.18 757.533,1407.58 \n",
       "  \"/>\n",
       "<polyline clip-path=\"url(#clip120)\" style=\"stroke:#000000; stroke-width:4; stroke-opacity:1; fill:none\" points=\"\n",
       "  1196.42,1423.18 1196.42,1407.58 \n",
       "  \"/>\n",
       "<polyline clip-path=\"url(#clip120)\" style=\"stroke:#000000; stroke-width:4; stroke-opacity:1; fill:none\" points=\"\n",
       "  1635.31,1423.18 1635.31,1407.58 \n",
       "  \"/>\n",
       "<polyline clip-path=\"url(#clip120)\" style=\"stroke:#000000; stroke-width:4; stroke-opacity:1; fill:none\" points=\"\n",
       "  2074.19,1423.18 2074.19,1407.58 \n",
       "  \"/>\n",
       "<polyline clip-path=\"url(#clip120)\" style=\"stroke:#000000; stroke-width:4; stroke-opacity:1; fill:none\" points=\"\n",
       "  263.917,1368.62 288.983,1368.62 \n",
       "  \"/>\n",
       "<polyline clip-path=\"url(#clip120)\" style=\"stroke:#000000; stroke-width:4; stroke-opacity:1; fill:none\" points=\"\n",
       "  263.917,1115.47 288.983,1115.47 \n",
       "  \"/>\n",
       "<polyline clip-path=\"url(#clip120)\" style=\"stroke:#000000; stroke-width:4; stroke-opacity:1; fill:none\" points=\"\n",
       "  263.917,862.319 288.983,862.319 \n",
       "  \"/>\n",
       "<polyline clip-path=\"url(#clip120)\" style=\"stroke:#000000; stroke-width:4; stroke-opacity:1; fill:none\" points=\"\n",
       "  263.917,609.168 288.983,609.168 \n",
       "  \"/>\n",
       "<polyline clip-path=\"url(#clip120)\" style=\"stroke:#000000; stroke-width:4; stroke-opacity:1; fill:none\" points=\"\n",
       "  263.917,356.016 288.983,356.016 \n",
       "  \"/>\n",
       "<path clip-path=\"url(#clip120)\" d=\"M 0 0 M318.646 1445.17 Q315.035 1445.17 313.206 1448.74 Q311.401 1452.28 311.401 1459.41 Q311.401 1466.51 313.206 1470.08 Q315.035 1473.62 318.646 1473.62 Q322.28 1473.62 324.086 1470.08 Q325.915 1466.51 325.915 1459.41 Q325.915 1452.28 324.086 1448.74 Q322.28 1445.17 318.646 1445.17 M318.646 1441.47 Q324.456 1441.47 327.512 1446.07 Q330.591 1450.66 330.591 1459.41 Q330.591 1468.13 327.512 1472.74 Q324.456 1477.32 318.646 1477.32 Q312.836 1477.32 309.757 1472.74 Q306.702 1468.13 306.702 1459.41 Q306.702 1450.66 309.757 1446.07 Q312.836 1441.47 318.646 1441.47 Z\" fill=\"#000000\" fill-rule=\"evenodd\" fill-opacity=\"1\" /><path clip-path=\"url(#clip120)\" d=\"M 0 0 M720.901 1472.72 L728.54 1472.72 L728.54 1446.35 L720.23 1448.02 L720.23 1443.76 L728.494 1442.09 L733.17 1442.09 L733.17 1472.72 L740.809 1472.72 L740.809 1476.65 L720.901 1476.65 L720.901 1472.72 Z\" fill=\"#000000\" fill-rule=\"evenodd\" fill-opacity=\"1\" /><path clip-path=\"url(#clip120)\" d=\"M 0 0 M755.878 1445.17 Q752.267 1445.17 750.438 1448.74 Q748.633 1452.28 748.633 1459.41 Q748.633 1466.51 750.438 1470.08 Q752.267 1473.62 755.878 1473.62 Q759.512 1473.62 761.318 1470.08 Q763.147 1466.51 763.147 1459.41 Q763.147 1452.28 761.318 1448.74 Q759.512 1445.17 755.878 1445.17 M755.878 1441.47 Q761.688 1441.47 764.744 1446.07 Q767.822 1450.66 767.822 1459.41 Q767.822 1468.13 764.744 1472.74 Q761.688 1477.32 755.878 1477.32 Q750.068 1477.32 746.989 1472.74 Q743.934 1468.13 743.934 1459.41 Q743.934 1450.66 746.989 1446.07 Q750.068 1441.47 755.878 1441.47 Z\" fill=\"#000000\" fill-rule=\"evenodd\" fill-opacity=\"1\" /><path clip-path=\"url(#clip120)\" d=\"M 0 0 M782.892 1445.17 Q779.281 1445.17 777.452 1448.74 Q775.647 1452.28 775.647 1459.41 Q775.647 1466.51 777.452 1470.08 Q779.281 1473.62 782.892 1473.62 Q786.526 1473.62 788.332 1470.08 Q790.16 1466.51 790.16 1459.41 Q790.16 1452.28 788.332 1448.74 Q786.526 1445.17 782.892 1445.17 M782.892 1441.47 Q788.702 1441.47 791.758 1446.07 Q794.836 1450.66 794.836 1459.41 Q794.836 1468.13 791.758 1472.74 Q788.702 1477.32 782.892 1477.32 Q777.082 1477.32 774.003 1472.74 Q770.947 1468.13 770.947 1459.41 Q770.947 1450.66 774.003 1446.07 Q777.082 1441.47 782.892 1441.47 Z\" fill=\"#000000\" fill-rule=\"evenodd\" fill-opacity=\"1\" /><path clip-path=\"url(#clip120)\" d=\"M 0 0 M1164.06 1472.72 L1180.38 1472.72 L1180.38 1476.65 L1158.43 1476.65 L1158.43 1472.72 Q1161.1 1469.96 1165.68 1465.33 Q1170.29 1460.68 1171.47 1459.34 Q1173.71 1456.81 1174.59 1455.08 Q1175.49 1453.32 1175.49 1451.63 Q1175.49 1448.87 1173.55 1447.14 Q1171.63 1445.4 1168.53 1445.4 Q1166.33 1445.4 1163.87 1446.17 Q1161.44 1446.93 1158.67 1448.48 L1158.67 1443.76 Q1161.49 1442.62 1163.94 1442.05 Q1166.4 1441.47 1168.43 1441.47 Q1173.8 1441.47 1177 1444.15 Q1180.19 1446.84 1180.19 1451.33 Q1180.19 1453.46 1179.38 1455.38 Q1178.6 1457.28 1176.49 1459.87 Q1175.91 1460.54 1172.81 1463.76 Q1169.71 1466.95 1164.06 1472.72 Z\" fill=\"#000000\" fill-rule=\"evenodd\" fill-opacity=\"1\" /><path clip-path=\"url(#clip120)\" d=\"M 0 0 M1195.45 1445.17 Q1191.84 1445.17 1190.01 1448.74 Q1188.2 1452.28 1188.2 1459.41 Q1188.2 1466.51 1190.01 1470.08 Q1191.84 1473.62 1195.45 1473.62 Q1199.08 1473.62 1200.89 1470.08 Q1202.72 1466.51 1202.72 1459.41 Q1202.72 1452.28 1200.89 1448.74 Q1199.08 1445.17 1195.45 1445.17 M1195.45 1441.47 Q1201.26 1441.47 1204.31 1446.07 Q1207.39 1450.66 1207.39 1459.41 Q1207.39 1468.13 1204.31 1472.74 Q1201.26 1477.32 1195.45 1477.32 Q1189.64 1477.32 1186.56 1472.74 Q1183.5 1468.13 1183.5 1459.41 Q1183.5 1450.66 1186.56 1446.07 Q1189.64 1441.47 1195.45 1441.47 Z\" fill=\"#000000\" fill-rule=\"evenodd\" fill-opacity=\"1\" /><path clip-path=\"url(#clip120)\" d=\"M 0 0 M1222.46 1445.17 Q1218.85 1445.17 1217.02 1448.74 Q1215.22 1452.28 1215.22 1459.41 Q1215.22 1466.51 1217.02 1470.08 Q1218.85 1473.62 1222.46 1473.62 Q1226.1 1473.62 1227.9 1470.08 Q1229.73 1466.51 1229.73 1459.41 Q1229.73 1452.28 1227.9 1448.74 Q1226.1 1445.17 1222.46 1445.17 M1222.46 1441.47 Q1228.27 1441.47 1231.33 1446.07 Q1234.41 1450.66 1234.41 1459.41 Q1234.41 1468.13 1231.33 1472.74 Q1228.27 1477.32 1222.46 1477.32 Q1216.65 1477.32 1213.57 1472.74 Q1210.52 1468.13 1210.52 1459.41 Q1210.52 1450.66 1213.57 1446.07 Q1216.65 1441.47 1222.46 1441.47 Z\" fill=\"#000000\" fill-rule=\"evenodd\" fill-opacity=\"1\" /><path clip-path=\"url(#clip120)\" d=\"M 0 0 M1612.54 1458.02 Q1615.9 1458.74 1617.77 1461 Q1619.67 1463.27 1619.67 1466.61 Q1619.67 1471.72 1616.15 1474.52 Q1612.63 1477.32 1606.15 1477.32 Q1603.98 1477.32 1601.66 1476.88 Q1599.37 1476.47 1596.92 1475.61 L1596.92 1471.1 Q1598.86 1472.23 1601.18 1472.81 Q1603.49 1473.39 1606.01 1473.39 Q1610.41 1473.39 1612.7 1471.65 Q1615.02 1469.92 1615.02 1466.61 Q1615.02 1463.55 1612.87 1461.84 Q1610.74 1460.1 1606.92 1460.1 L1602.89 1460.1 L1602.89 1456.26 L1607.1 1456.26 Q1610.55 1456.26 1612.38 1454.89 Q1614.21 1453.5 1614.21 1450.91 Q1614.21 1448.25 1612.31 1446.84 Q1610.43 1445.4 1606.92 1445.4 Q1604.99 1445.4 1602.8 1445.82 Q1600.6 1446.24 1597.96 1447.11 L1597.96 1442.95 Q1600.62 1442.21 1602.93 1441.84 Q1605.27 1441.47 1607.33 1441.47 Q1612.66 1441.47 1615.76 1443.9 Q1618.86 1446.3 1618.86 1450.43 Q1618.86 1453.3 1617.22 1455.29 Q1615.57 1457.25 1612.54 1458.02 Z\" fill=\"#000000\" fill-rule=\"evenodd\" fill-opacity=\"1\" /><path clip-path=\"url(#clip120)\" d=\"M 0 0 M1634.74 1445.17 Q1631.13 1445.17 1629.3 1448.74 Q1627.49 1452.28 1627.49 1459.41 Q1627.49 1466.51 1629.3 1470.08 Q1631.13 1473.62 1634.74 1473.62 Q1638.37 1473.62 1640.18 1470.08 Q1642.01 1466.51 1642.01 1459.41 Q1642.01 1452.28 1640.18 1448.74 Q1638.37 1445.17 1634.74 1445.17 M1634.74 1441.47 Q1640.55 1441.47 1643.61 1446.07 Q1646.68 1450.66 1646.68 1459.41 Q1646.68 1468.13 1643.61 1472.74 Q1640.55 1477.32 1634.74 1477.32 Q1628.93 1477.32 1625.85 1472.74 Q1622.8 1468.13 1622.8 1459.41 Q1622.8 1450.66 1625.85 1446.07 Q1628.93 1441.47 1634.74 1441.47 Z\" fill=\"#000000\" fill-rule=\"evenodd\" fill-opacity=\"1\" /><path clip-path=\"url(#clip120)\" d=\"M 0 0 M1661.75 1445.17 Q1658.14 1445.17 1656.31 1448.74 Q1654.51 1452.28 1654.51 1459.41 Q1654.51 1466.51 1656.31 1470.08 Q1658.14 1473.62 1661.75 1473.62 Q1665.39 1473.62 1667.19 1470.08 Q1669.02 1466.51 1669.02 1459.41 Q1669.02 1452.28 1667.19 1448.74 Q1665.39 1445.17 1661.75 1445.17 M1661.75 1441.47 Q1667.56 1441.47 1670.62 1446.07 Q1673.7 1450.66 1673.7 1459.41 Q1673.7 1468.13 1670.62 1472.74 Q1667.56 1477.32 1661.75 1477.32 Q1655.94 1477.32 1652.87 1472.74 Q1649.81 1468.13 1649.81 1459.41 Q1649.81 1450.66 1652.87 1446.07 Q1655.94 1441.47 1661.75 1441.47 Z\" fill=\"#000000\" fill-rule=\"evenodd\" fill-opacity=\"1\" /><path clip-path=\"url(#clip120)\" d=\"M 0 0 M2050.19 1446.17 L2038.38 1464.61 L2050.19 1464.61 L2050.19 1446.17 M2048.96 1442.09 L2054.84 1442.09 L2054.84 1464.61 L2059.77 1464.61 L2059.77 1468.5 L2054.84 1468.5 L2054.84 1476.65 L2050.19 1476.65 L2050.19 1468.5 L2034.59 1468.5 L2034.59 1463.99 L2048.96 1442.09 Z\" fill=\"#000000\" fill-rule=\"evenodd\" fill-opacity=\"1\" /><path clip-path=\"url(#clip120)\" d=\"M 0 0 M2074.84 1445.17 Q2071.23 1445.17 2069.4 1448.74 Q2067.6 1452.28 2067.6 1459.41 Q2067.6 1466.51 2069.4 1470.08 Q2071.23 1473.62 2074.84 1473.62 Q2078.48 1473.62 2080.28 1470.08 Q2082.11 1466.51 2082.11 1459.41 Q2082.11 1452.28 2080.28 1448.74 Q2078.48 1445.17 2074.84 1445.17 M2074.84 1441.47 Q2080.65 1441.47 2083.71 1446.07 Q2086.79 1450.66 2086.79 1459.41 Q2086.79 1468.13 2083.71 1472.74 Q2080.65 1477.32 2074.84 1477.32 Q2069.03 1477.32 2065.95 1472.74 Q2062.9 1468.13 2062.9 1459.41 Q2062.9 1450.66 2065.95 1446.07 Q2069.03 1441.47 2074.84 1441.47 Z\" fill=\"#000000\" fill-rule=\"evenodd\" fill-opacity=\"1\" /><path clip-path=\"url(#clip120)\" d=\"M 0 0 M2101.86 1445.17 Q2098.25 1445.17 2096.42 1448.74 Q2094.61 1452.28 2094.61 1459.41 Q2094.61 1466.51 2096.42 1470.08 Q2098.25 1473.62 2101.86 1473.62 Q2105.49 1473.62 2107.3 1470.08 Q2109.12 1466.51 2109.12 1459.41 Q2109.12 1452.28 2107.3 1448.74 Q2105.49 1445.17 2101.86 1445.17 M2101.86 1441.47 Q2107.67 1441.47 2110.72 1446.07 Q2113.8 1450.66 2113.8 1459.41 Q2113.8 1468.13 2110.72 1472.74 Q2107.67 1477.32 2101.86 1477.32 Q2096.05 1477.32 2092.97 1472.74 Q2089.91 1468.13 2089.91 1459.41 Q2089.91 1450.66 2092.97 1446.07 Q2096.05 1441.47 2101.86 1441.47 Z\" fill=\"#000000\" fill-rule=\"evenodd\" fill-opacity=\"1\" /><path clip-path=\"url(#clip120)\" d=\"M 0 0 M138.876 1354.42 Q135.265 1354.42 133.436 1357.99 Q131.63 1361.53 131.63 1368.66 Q131.63 1375.76 133.436 1379.33 Q135.265 1382.87 138.876 1382.87 Q142.51 1382.87 144.316 1379.33 Q146.144 1375.76 146.144 1368.66 Q146.144 1361.53 144.316 1357.99 Q142.51 1354.42 138.876 1354.42 M138.876 1350.72 Q144.686 1350.72 147.742 1355.32 Q150.82 1359.91 150.82 1368.66 Q150.82 1377.38 147.742 1381.99 Q144.686 1386.57 138.876 1386.57 Q133.066 1386.57 129.987 1381.99 Q126.931 1377.38 126.931 1368.66 Q126.931 1359.91 129.987 1355.32 Q133.066 1350.72 138.876 1350.72 Z\" fill=\"#000000\" fill-rule=\"evenodd\" fill-opacity=\"1\" /><path clip-path=\"url(#clip120)\" d=\"M 0 0 M155.89 1380.02 L160.774 1380.02 L160.774 1385.9 L155.89 1385.9 L155.89 1380.02 Z\" fill=\"#000000\" fill-rule=\"evenodd\" fill-opacity=\"1\" /><path clip-path=\"url(#clip120)\" d=\"M 0 0 M175.843 1354.42 Q172.232 1354.42 170.403 1357.99 Q168.598 1361.53 168.598 1368.66 Q168.598 1375.76 170.403 1379.33 Q172.232 1382.87 175.843 1382.87 Q179.477 1382.87 181.283 1379.33 Q183.112 1375.76 183.112 1368.66 Q183.112 1361.53 181.283 1357.99 Q179.477 1354.42 175.843 1354.42 M175.843 1350.72 Q181.653 1350.72 184.709 1355.32 Q187.788 1359.91 187.788 1368.66 Q187.788 1377.38 184.709 1381.99 Q181.653 1386.57 175.843 1386.57 Q170.033 1386.57 166.954 1381.99 Q163.899 1377.38 163.899 1368.66 Q163.899 1359.91 166.954 1355.32 Q170.033 1350.72 175.843 1350.72 Z\" fill=\"#000000\" fill-rule=\"evenodd\" fill-opacity=\"1\" /><path clip-path=\"url(#clip120)\" d=\"M 0 0 M191.676 1351.34 L213.899 1351.34 L213.899 1353.33 L201.352 1385.9 L196.468 1385.9 L208.274 1355.28 L191.676 1355.28 L191.676 1351.34 Z\" fill=\"#000000\" fill-rule=\"evenodd\" fill-opacity=\"1\" /><path clip-path=\"url(#clip120)\" d=\"M 0 0 M219.014 1351.34 L237.371 1351.34 L237.371 1355.28 L223.297 1355.28 L223.297 1363.75 Q224.315 1363.4 225.334 1363.24 Q226.352 1363.06 227.371 1363.06 Q233.158 1363.06 236.537 1366.23 Q239.917 1369.4 239.917 1374.81 Q239.917 1380.39 236.445 1383.5 Q232.973 1386.57 226.653 1386.57 Q224.477 1386.57 222.209 1386.2 Q219.963 1385.83 217.556 1385.09 L217.556 1380.39 Q219.639 1381.53 221.861 1382.08 Q224.084 1382.64 226.561 1382.64 Q230.565 1382.64 232.903 1380.53 Q235.241 1378.43 235.241 1374.81 Q235.241 1371.2 232.903 1369.1 Q230.565 1366.99 226.561 1366.99 Q224.686 1366.99 222.811 1367.41 Q220.959 1367.82 219.014 1368.7 L219.014 1351.34 Z\" fill=\"#000000\" fill-rule=\"evenodd\" fill-opacity=\"1\" /><path clip-path=\"url(#clip120)\" d=\"M 0 0 M138.205 1101.27 Q134.593 1101.27 132.765 1104.83 Q130.959 1108.38 130.959 1115.51 Q130.959 1122.61 132.765 1126.18 Q134.593 1129.72 138.205 1129.72 Q141.839 1129.72 143.644 1126.18 Q145.473 1122.61 145.473 1115.51 Q145.473 1108.38 143.644 1104.83 Q141.839 1101.27 138.205 1101.27 M138.205 1097.57 Q144.015 1097.57 147.07 1102.17 Q150.149 1106.76 150.149 1115.51 Q150.149 1124.23 147.07 1128.84 Q144.015 1133.42 138.205 1133.42 Q132.394 1133.42 129.316 1128.84 Q126.26 1124.23 126.26 1115.51 Q126.26 1106.76 129.316 1102.17 Q132.394 1097.57 138.205 1097.57 Z\" fill=\"#000000\" fill-rule=\"evenodd\" fill-opacity=\"1\" /><path clip-path=\"url(#clip120)\" d=\"M 0 0 M155.218 1126.87 L160.103 1126.87 L160.103 1132.75 L155.218 1132.75 L155.218 1126.87 Z\" fill=\"#000000\" fill-rule=\"evenodd\" fill-opacity=\"1\" /><path clip-path=\"url(#clip120)\" d=\"M 0 0 M165.982 1128.82 L173.621 1128.82 L173.621 1102.45 L165.311 1104.12 L165.311 1099.86 L173.575 1098.19 L178.251 1098.19 L178.251 1128.82 L185.889 1128.82 L185.889 1132.75 L165.982 1132.75 L165.982 1128.82 Z\" fill=\"#000000\" fill-rule=\"evenodd\" fill-opacity=\"1\" /><path clip-path=\"url(#clip120)\" d=\"M 0 0 M200.959 1101.27 Q197.348 1101.27 195.519 1104.83 Q193.713 1108.38 193.713 1115.51 Q193.713 1122.61 195.519 1126.18 Q197.348 1129.72 200.959 1129.72 Q204.593 1129.72 206.399 1126.18 Q208.227 1122.61 208.227 1115.51 Q208.227 1108.38 206.399 1104.83 Q204.593 1101.27 200.959 1101.27 M200.959 1097.57 Q206.769 1097.57 209.825 1102.17 Q212.903 1106.76 212.903 1115.51 Q212.903 1124.23 209.825 1128.84 Q206.769 1133.42 200.959 1133.42 Q195.149 1133.42 192.07 1128.84 Q189.014 1124.23 189.014 1115.51 Q189.014 1106.76 192.07 1102.17 Q195.149 1097.57 200.959 1097.57 Z\" fill=\"#000000\" fill-rule=\"evenodd\" fill-opacity=\"1\" /><path clip-path=\"url(#clip120)\" d=\"M 0 0 M227.973 1101.27 Q224.361 1101.27 222.533 1104.83 Q220.727 1108.38 220.727 1115.51 Q220.727 1122.61 222.533 1126.18 Q224.361 1129.72 227.973 1129.72 Q231.607 1129.72 233.412 1126.18 Q235.241 1122.61 235.241 1115.51 Q235.241 1108.38 233.412 1104.83 Q231.607 1101.27 227.973 1101.27 M227.973 1097.57 Q233.783 1097.57 236.838 1102.17 Q239.917 1106.76 239.917 1115.51 Q239.917 1124.23 236.838 1128.84 Q233.783 1133.42 227.973 1133.42 Q222.162 1133.42 219.084 1128.84 Q216.028 1124.23 216.028 1115.51 Q216.028 1106.76 219.084 1102.17 Q222.162 1097.57 227.973 1097.57 Z\" fill=\"#000000\" fill-rule=\"evenodd\" fill-opacity=\"1\" /><path clip-path=\"url(#clip120)\" d=\"M 0 0 M140.797 848.118 Q137.186 848.118 135.357 851.683 Q133.552 855.225 133.552 862.354 Q133.552 869.461 135.357 873.025 Q137.186 876.567 140.797 876.567 Q144.431 876.567 146.237 873.025 Q148.066 869.461 148.066 862.354 Q148.066 855.225 146.237 851.683 Q144.431 848.118 140.797 848.118 M140.797 844.414 Q146.607 844.414 149.663 849.021 Q152.741 853.604 152.741 862.354 Q152.741 871.081 149.663 875.687 Q146.607 880.271 140.797 880.271 Q134.987 880.271 131.908 875.687 Q128.853 871.081 128.853 862.354 Q128.853 853.604 131.908 849.021 Q134.987 844.414 140.797 844.414 Z\" fill=\"#000000\" fill-rule=\"evenodd\" fill-opacity=\"1\" /><path clip-path=\"url(#clip120)\" d=\"M 0 0 M157.811 873.72 L162.695 873.72 L162.695 879.599 L157.811 879.599 L157.811 873.72 Z\" fill=\"#000000\" fill-rule=\"evenodd\" fill-opacity=\"1\" /><path clip-path=\"url(#clip120)\" d=\"M 0 0 M168.575 875.664 L176.214 875.664 L176.214 849.299 L167.903 850.965 L167.903 846.706 L176.167 845.039 L180.843 845.039 L180.843 875.664 L188.482 875.664 L188.482 879.599 L168.575 879.599 L168.575 875.664 Z\" fill=\"#000000\" fill-rule=\"evenodd\" fill-opacity=\"1\" /><path clip-path=\"url(#clip120)\" d=\"M 0 0 M197.579 875.664 L213.899 875.664 L213.899 879.599 L191.954 879.599 L191.954 875.664 Q194.616 872.91 199.2 868.28 Q203.806 863.627 204.987 862.285 Q207.232 859.762 208.112 858.025 Q209.014 856.266 209.014 854.576 Q209.014 851.822 207.07 850.086 Q205.149 848.35 202.047 848.35 Q199.848 848.35 197.394 849.113 Q194.963 849.877 192.186 851.428 L192.186 846.706 Q195.01 845.572 197.463 844.993 Q199.917 844.414 201.954 844.414 Q207.325 844.414 210.519 847.1 Q213.713 849.785 213.713 854.275 Q213.713 856.405 212.903 858.326 Q212.116 860.225 210.01 862.817 Q209.431 863.488 206.329 866.706 Q203.227 869.9 197.579 875.664 Z\" fill=\"#000000\" fill-rule=\"evenodd\" fill-opacity=\"1\" /><path clip-path=\"url(#clip120)\" d=\"M 0 0 M219.014 845.039 L237.371 845.039 L237.371 848.975 L223.297 848.975 L223.297 857.447 Q224.315 857.1 225.334 856.938 Q226.352 856.752 227.371 856.752 Q233.158 856.752 236.537 859.924 Q239.917 863.095 239.917 868.512 Q239.917 874.09 236.445 877.192 Q232.973 880.271 226.653 880.271 Q224.477 880.271 222.209 879.9 Q219.963 879.53 217.556 878.789 L217.556 874.09 Q219.639 875.224 221.861 875.78 Q224.084 876.336 226.561 876.336 Q230.565 876.336 232.903 874.229 Q235.241 872.123 235.241 868.512 Q235.241 864.9 232.903 862.794 Q230.565 860.688 226.561 860.688 Q224.686 860.688 222.811 861.104 Q220.959 861.521 219.014 862.4 L219.014 845.039 Z\" fill=\"#000000\" fill-rule=\"evenodd\" fill-opacity=\"1\" /><path clip-path=\"url(#clip120)\" d=\"M 0 0 M139.2 594.967 Q135.589 594.967 133.76 598.531 Q131.955 602.073 131.955 609.203 Q131.955 616.309 133.76 619.874 Q135.589 623.415 139.2 623.415 Q142.834 623.415 144.64 619.874 Q146.468 616.309 146.468 609.203 Q146.468 602.073 144.64 598.531 Q142.834 594.967 139.2 594.967 M139.2 591.263 Q145.01 591.263 148.066 595.869 Q151.144 600.453 151.144 609.203 Q151.144 617.929 148.066 622.536 Q145.01 627.119 139.2 627.119 Q133.39 627.119 130.311 622.536 Q127.256 617.929 127.256 609.203 Q127.256 600.453 130.311 595.869 Q133.39 591.263 139.2 591.263 Z\" fill=\"#000000\" fill-rule=\"evenodd\" fill-opacity=\"1\" /><path clip-path=\"url(#clip120)\" d=\"M 0 0 M156.214 620.568 L161.098 620.568 L161.098 626.448 L156.214 626.448 L156.214 620.568 Z\" fill=\"#000000\" fill-rule=\"evenodd\" fill-opacity=\"1\" /><path clip-path=\"url(#clip120)\" d=\"M 0 0 M166.978 622.513 L174.616 622.513 L174.616 596.147 L166.306 597.814 L166.306 593.555 L174.57 591.888 L179.246 591.888 L179.246 622.513 L186.885 622.513 L186.885 626.448 L166.978 626.448 L166.978 622.513 Z\" fill=\"#000000\" fill-rule=\"evenodd\" fill-opacity=\"1\" /><path clip-path=\"url(#clip120)\" d=\"M 0 0 M192.001 591.888 L210.357 591.888 L210.357 595.823 L196.283 595.823 L196.283 604.295 Q197.301 603.948 198.32 603.786 Q199.338 603.601 200.357 603.601 Q206.144 603.601 209.524 606.772 Q212.903 609.943 212.903 615.36 Q212.903 620.939 209.431 624.04 Q205.959 627.119 199.639 627.119 Q197.463 627.119 195.195 626.749 Q192.95 626.378 190.542 625.638 L190.542 620.939 Q192.626 622.073 194.848 622.628 Q197.07 623.184 199.547 623.184 Q203.551 623.184 205.889 621.078 Q208.227 618.971 208.227 615.36 Q208.227 611.749 205.889 609.642 Q203.551 607.536 199.547 607.536 Q197.672 607.536 195.797 607.953 Q193.945 608.369 192.001 609.249 L192.001 591.888 Z\" fill=\"#000000\" fill-rule=\"evenodd\" fill-opacity=\"1\" /><path clip-path=\"url(#clip120)\" d=\"M 0 0 M227.973 594.967 Q224.361 594.967 222.533 598.531 Q220.727 602.073 220.727 609.203 Q220.727 616.309 222.533 619.874 Q224.361 623.415 227.973 623.415 Q231.607 623.415 233.412 619.874 Q235.241 616.309 235.241 609.203 Q235.241 602.073 233.412 598.531 Q231.607 594.967 227.973 594.967 M227.973 591.263 Q233.783 591.263 236.838 595.869 Q239.917 600.453 239.917 609.203 Q239.917 617.929 236.838 622.536 Q233.783 627.119 227.973 627.119 Q222.162 627.119 219.084 622.536 Q216.028 617.929 216.028 609.203 Q216.028 600.453 219.084 595.869 Q222.162 591.263 227.973 591.263 Z\" fill=\"#000000\" fill-rule=\"evenodd\" fill-opacity=\"1\" /><path clip-path=\"url(#clip120)\" d=\"M 0 0 M140.103 341.815 Q136.492 341.815 134.663 345.38 Q132.857 348.921 132.857 356.051 Q132.857 363.157 134.663 366.722 Q136.492 370.264 140.103 370.264 Q143.737 370.264 145.542 366.722 Q147.371 363.157 147.371 356.051 Q147.371 348.921 145.542 345.38 Q143.737 341.815 140.103 341.815 M140.103 338.111 Q145.913 338.111 148.968 342.718 Q152.047 347.301 152.047 356.051 Q152.047 364.778 148.968 369.384 Q145.913 373.968 140.103 373.968 Q134.293 373.968 131.214 369.384 Q128.158 364.778 128.158 356.051 Q128.158 347.301 131.214 342.718 Q134.293 338.111 140.103 338.111 Z\" fill=\"#000000\" fill-rule=\"evenodd\" fill-opacity=\"1\" /><path clip-path=\"url(#clip120)\" d=\"M 0 0 M157.116 367.417 L162.001 367.417 L162.001 373.296 L157.116 373.296 L157.116 367.417 Z\" fill=\"#000000\" fill-rule=\"evenodd\" fill-opacity=\"1\" /><path clip-path=\"url(#clip120)\" d=\"M 0 0 M167.88 369.361 L175.519 369.361 L175.519 342.996 L167.209 344.662 L167.209 340.403 L175.473 338.736 L180.149 338.736 L180.149 369.361 L187.788 369.361 L187.788 373.296 L167.88 373.296 L167.88 369.361 Z\" fill=\"#000000\" fill-rule=\"evenodd\" fill-opacity=\"1\" /><path clip-path=\"url(#clip120)\" d=\"M 0 0 M191.676 338.736 L213.899 338.736 L213.899 340.727 L201.352 373.296 L196.468 373.296 L208.274 342.671 L191.676 342.671 L191.676 338.736 Z\" fill=\"#000000\" fill-rule=\"evenodd\" fill-opacity=\"1\" /><path clip-path=\"url(#clip120)\" d=\"M 0 0 M219.014 338.736 L237.371 338.736 L237.371 342.671 L223.297 342.671 L223.297 351.144 Q224.315 350.796 225.334 350.634 Q226.352 350.449 227.371 350.449 Q233.158 350.449 236.537 353.621 Q239.917 356.792 239.917 362.208 Q239.917 367.787 236.445 370.889 Q232.973 373.968 226.653 373.968 Q224.477 373.968 222.209 373.597 Q219.963 373.227 217.556 372.486 L217.556 367.787 Q219.639 368.921 221.861 369.477 Q224.084 370.032 226.561 370.032 Q230.565 370.032 232.903 367.926 Q235.241 365.82 235.241 362.208 Q235.241 358.597 232.903 356.491 Q230.565 354.384 226.561 354.384 Q224.686 354.384 222.811 354.801 Q220.959 355.218 219.014 356.097 L219.014 338.736 Z\" fill=\"#000000\" fill-rule=\"evenodd\" fill-opacity=\"1\" /><path clip-path=\"url(#clip120)\" d=\"M 0 0 M1111.12 45.1919 L1111.12 72.576 L1103.66 72.576 L1103.66 45.4349 Q1103.66 38.994 1101.15 35.7938 Q1098.64 32.5936 1093.62 32.5936 Q1087.58 32.5936 1084.1 36.4419 Q1080.61 40.2903 1080.61 46.9338 L1080.61 72.576 L1073.12 72.576 L1073.12 9.54393 L1080.61 9.54393 L1080.61 34.2544 Q1083.29 30.163 1086.89 28.1376 Q1090.54 26.1121 1095.28 26.1121 Q1103.1 26.1121 1107.11 30.9732 Q1111.12 35.7938 1111.12 45.1919 Z\" fill=\"#000000\" fill-rule=\"evenodd\" fill-opacity=\"1\" /><path clip-path=\"url(#clip120)\" d=\"M 0 0 M1127.04 65.6895 L1155.6 65.6895 L1155.6 72.576 L1117.19 72.576 L1117.19 65.6895 Q1121.85 60.8689 1129.87 52.7671 Q1137.94 44.6248 1140 42.2752 Q1143.93 37.8598 1145.47 34.8216 Q1147.05 31.7429 1147.05 28.7857 Q1147.05 23.9651 1143.65 20.927 Q1140.28 17.8888 1134.86 17.8888 Q1131.01 17.8888 1126.71 19.2256 Q1122.46 20.5624 1117.6 23.2765 L1117.6 15.0127 Q1122.54 13.0277 1126.84 12.015 Q1131.13 11.0023 1134.69 11.0023 Q1144.09 11.0023 1149.68 15.7013 Q1155.27 20.4004 1155.27 28.2591 Q1155.27 31.9859 1153.86 35.3482 Q1152.48 38.6699 1148.79 43.2069 Q1147.78 44.3817 1142.35 50.0125 Q1136.92 55.6027 1127.04 65.6895 Z\" fill=\"#000000\" fill-rule=\"evenodd\" fill-opacity=\"1\" /><path clip-path=\"url(#clip120)\" d=\"M 0 0 M1197.16 14.324 L1197.16 27.2059 L1212.51 27.2059 L1212.51 32.9987 L1197.16 32.9987 L1197.16 57.6282 Q1197.16 63.1779 1198.66 64.7578 Q1200.2 66.3376 1204.86 66.3376 L1212.51 66.3376 L1212.51 72.576 L1204.86 72.576 Q1196.23 72.576 1192.95 69.3758 Q1189.67 66.1351 1189.67 57.6282 L1189.67 32.9987 L1184.2 32.9987 L1184.2 27.2059 L1189.67 27.2059 L1189.67 14.324 L1197.16 14.324 Z\" fill=\"#000000\" fill-rule=\"evenodd\" fill-opacity=\"1\" /><path clip-path=\"url(#clip120)\" d=\"M 0 0 M1246.62 34.1734 Q1245.37 33.4443 1243.87 33.1202 Q1242.41 32.7556 1240.63 32.7556 Q1234.31 32.7556 1230.9 36.8875 Q1227.54 40.9789 1227.54 48.6757 L1227.54 72.576 L1220.05 72.576 L1220.05 27.2059 L1227.54 27.2059 L1227.54 34.2544 Q1229.89 30.1225 1233.66 28.1376 Q1237.43 26.1121 1242.81 26.1121 Q1243.58 26.1121 1244.51 26.2337 Q1245.45 26.3147 1246.58 26.5172 L1246.62 34.1734 Z\" fill=\"#000000\" fill-rule=\"evenodd\" fill-opacity=\"1\" /><path clip-path=\"url(#clip120)\" d=\"M 0 0 M1275.06 49.7694 Q1266.02 49.7694 1262.54 51.8354 Q1259.06 53.9013 1259.06 58.8839 Q1259.06 62.8538 1261.65 65.2034 Q1264.28 67.5124 1268.78 67.5124 Q1274.98 67.5124 1278.7 63.1374 Q1282.47 58.7219 1282.47 51.4303 L1282.47 49.7694 L1275.06 49.7694 M1289.93 46.6907 L1289.93 72.576 L1282.47 72.576 L1282.47 65.6895 Q1279.92 69.8214 1276.11 71.8063 Q1272.3 73.7508 1266.79 73.7508 Q1259.83 73.7508 1255.69 69.8619 Q1251.6 65.9325 1251.6 59.3701 Q1251.6 51.7138 1256.71 47.825 Q1261.85 43.9361 1272.02 43.9361 L1282.47 43.9361 L1282.47 43.2069 Q1282.47 38.0623 1279.07 35.2672 Q1275.71 32.4315 1269.59 32.4315 Q1265.7 32.4315 1262.01 33.3632 Q1258.33 34.295 1254.93 36.1584 L1254.93 29.2718 Q1259.02 27.692 1262.87 26.9223 Q1266.71 26.1121 1270.36 26.1121 Q1280.2 26.1121 1285.06 31.2163 Q1289.93 36.3204 1289.93 46.6907 Z\" fill=\"#000000\" fill-rule=\"evenodd\" fill-opacity=\"1\" /><path clip-path=\"url(#clip120)\" d=\"M 0 0 M1330.39 28.9478 L1330.39 35.9153 Q1327.23 34.1734 1324.03 33.3227 Q1320.87 32.4315 1317.63 32.4315 Q1310.38 32.4315 1306.37 37.0496 Q1302.36 41.6271 1302.36 49.9314 Q1302.36 58.2358 1306.37 62.8538 Q1310.38 67.4314 1317.63 67.4314 Q1320.87 67.4314 1324.03 66.5807 Q1327.23 65.6895 1330.39 63.9476 L1330.39 70.8341 Q1327.27 72.2924 1323.91 73.0216 Q1320.59 73.7508 1316.82 73.7508 Q1306.57 73.7508 1300.54 67.3098 Q1294.5 60.8689 1294.5 49.9314 Q1294.5 38.832 1300.58 32.472 Q1306.7 26.1121 1317.31 26.1121 Q1320.75 26.1121 1324.03 26.8413 Q1327.31 27.5299 1330.39 28.9478 Z\" fill=\"#000000\" fill-rule=\"evenodd\" fill-opacity=\"1\" /><path clip-path=\"url(#clip120)\" d=\"M 0 0 M1377.02 48.0275 L1377.02 51.6733 L1342.75 51.6733 Q1343.23 59.3701 1347.37 63.421 Q1351.54 67.4314 1358.95 67.4314 Q1363.25 67.4314 1367.26 66.3781 Q1371.31 65.3249 1375.28 63.2184 L1375.28 70.267 Q1371.27 71.9684 1367.05 72.8596 Q1362.84 73.7508 1358.51 73.7508 Q1347.65 73.7508 1341.29 67.4314 Q1334.97 61.1119 1334.97 50.3365 Q1334.97 39.1965 1340.97 32.6746 Q1347 26.1121 1357.21 26.1121 Q1366.37 26.1121 1371.67 32.0264 Q1377.02 37.9003 1377.02 48.0275 M1369.57 45.84 Q1369.48 39.7232 1366.12 36.0774 Q1362.8 32.4315 1357.29 32.4315 Q1351.05 32.4315 1347.29 35.9558 Q1343.56 39.4801 1342.99 45.8805 L1369.57 45.84 Z\" fill=\"#000000\" fill-rule=\"evenodd\" fill-opacity=\"1\" /><path clip-path=\"url(#clip120)\" d=\"M 0 0 M1418.42 65.7705 L1418.42 89.8329 L1410.93 89.8329 L1410.93 27.2059 L1418.42 27.2059 L1418.42 34.0924 Q1420.77 30.0415 1424.33 28.0971 Q1427.94 26.1121 1432.92 26.1121 Q1441.19 26.1121 1446.33 32.6746 Q1451.52 39.2371 1451.52 49.9314 Q1451.52 60.6258 1446.33 67.1883 Q1441.19 73.7508 1432.92 73.7508 Q1427.94 73.7508 1424.33 71.8063 Q1420.77 69.8214 1418.42 65.7705 M1443.78 49.9314 Q1443.78 41.7081 1440.38 37.0496 Q1437.01 32.3505 1431.1 32.3505 Q1425.18 32.3505 1421.78 37.0496 Q1418.42 41.7081 1418.42 49.9314 Q1418.42 58.1548 1421.78 62.8538 Q1425.18 67.5124 1431.1 67.5124 Q1437.01 67.5124 1440.38 62.8538 Q1443.78 58.1548 1443.78 49.9314 Z\" fill=\"#000000\" fill-rule=\"evenodd\" fill-opacity=\"1\" /><path clip-path=\"url(#clip120)\" d=\"M 0 0 M1459.33 9.54393 L1466.79 9.54393 L1466.79 72.576 L1459.33 72.576 L1459.33 9.54393 Z\" fill=\"#000000\" fill-rule=\"evenodd\" fill-opacity=\"1\" /><path clip-path=\"url(#clip120)\" d=\"M 0 0 M1492.19 32.4315 Q1486.19 32.4315 1482.71 37.1306 Q1479.22 41.7891 1479.22 49.9314 Q1479.22 58.0738 1482.67 62.7728 Q1486.15 67.4314 1492.19 67.4314 Q1498.14 67.4314 1501.63 62.7323 Q1505.11 58.0333 1505.11 49.9314 Q1505.11 41.8701 1501.63 37.1711 Q1498.14 32.4315 1492.19 32.4315 M1492.19 26.1121 Q1501.91 26.1121 1507.46 32.4315 Q1513.01 38.7509 1513.01 49.9314 Q1513.01 61.0714 1507.46 67.4314 Q1501.91 73.7508 1492.19 73.7508 Q1482.42 73.7508 1476.87 67.4314 Q1471.37 61.0714 1471.37 49.9314 Q1471.37 38.7509 1476.87 32.4315 Q1482.42 26.1121 1492.19 26.1121 Z\" fill=\"#000000\" fill-rule=\"evenodd\" fill-opacity=\"1\" /><path clip-path=\"url(#clip120)\" d=\"M 0 0 M1528.2 14.324 L1528.2 27.2059 L1543.55 27.2059 L1543.55 32.9987 L1528.2 32.9987 L1528.2 57.6282 Q1528.2 63.1779 1529.7 64.7578 Q1531.24 66.3376 1535.9 66.3376 L1543.55 66.3376 L1543.55 72.576 L1535.9 72.576 Q1527.27 72.576 1523.99 69.3758 Q1520.71 66.1351 1520.71 57.6282 L1520.71 32.9987 L1515.24 32.9987 L1515.24 27.2059 L1520.71 27.2059 L1520.71 14.324 L1528.2 14.324 Z\" fill=\"#000000\" fill-rule=\"evenodd\" fill-opacity=\"1\" /><path clip-path=\"url(#clip120)\" d=\"M 0 0 M1190.63 1520.4 L1196.49 1520.4 L1196.49 1556.04 L1190.63 1556.04 L1190.63 1520.4 M1190.63 1506.52 L1196.49 1506.52 L1196.49 1513.93 L1190.63 1513.93 L1190.63 1506.52 Z\" fill=\"#000000\" fill-rule=\"evenodd\" fill-opacity=\"1\" /><path clip-path=\"url(#clip120)\" d=\"M 0 0 M1208.43 1510.27 L1208.43 1520.4 L1220.49 1520.4 L1220.49 1524.95 L1208.43 1524.95 L1208.43 1544.3 Q1208.43 1548.66 1209.6 1549.9 Q1210.81 1551.14 1214.47 1551.14 L1220.49 1551.14 L1220.49 1556.04 L1214.47 1556.04 Q1207.69 1556.04 1205.12 1553.53 Q1202.54 1550.98 1202.54 1544.3 L1202.54 1524.95 L1198.24 1524.95 L1198.24 1520.4 L1202.54 1520.4 L1202.54 1510.27 L1208.43 1510.27 Z\" fill=\"#000000\" fill-rule=\"evenodd\" fill-opacity=\"1\" /><path clip-path=\"url(#clip120)\" d=\"M 0 0 M1257.12 1536.76 L1257.12 1539.62 L1230.2 1539.62 Q1230.58 1545.67 1233.83 1548.85 Q1237.1 1552 1242.93 1552 Q1246.3 1552 1249.45 1551.17 Q1252.64 1550.35 1255.76 1548.69 L1255.76 1554.23 Q1252.6 1555.57 1249.29 1556.27 Q1245.98 1556.97 1242.58 1556.97 Q1234.05 1556.97 1229.05 1552 Q1224.09 1547.04 1224.09 1538.57 Q1224.09 1529.82 1228.8 1524.69 Q1233.54 1519.54 1241.56 1519.54 Q1248.75 1519.54 1252.92 1524.18 Q1257.12 1528.8 1257.12 1536.76 M1251.27 1535.04 Q1251.2 1530.23 1248.56 1527.37 Q1245.95 1524.5 1241.62 1524.5 Q1236.72 1524.5 1233.76 1527.27 Q1230.83 1530.04 1230.39 1535.07 L1251.27 1535.04 Z\" fill=\"#000000\" fill-rule=\"evenodd\" fill-opacity=\"1\" /><path clip-path=\"url(#clip120)\" d=\"M 0 0 M1283.92 1525.87 Q1282.94 1525.3 1281.76 1525.04 Q1280.61 1524.76 1279.21 1524.76 Q1274.25 1524.76 1271.57 1528 Q1268.93 1531.22 1268.93 1537.27 L1268.93 1556.04 L1263.04 1556.04 L1263.04 1520.4 L1268.93 1520.4 L1268.93 1525.93 Q1270.78 1522.69 1273.74 1521.13 Q1276.7 1519.54 1280.93 1519.54 Q1281.54 1519.54 1282.27 1519.63 Q1283 1519.7 1283.89 1519.85 L1283.92 1525.87 Z\" fill=\"#000000\" fill-rule=\"evenodd\" fill-opacity=\"1\" /><path clip-path=\"url(#clip120)\" d=\"M 0 0 M1306.27 1538.12 Q1299.17 1538.12 1296.43 1539.75 Q1293.7 1541.37 1293.7 1545.29 Q1293.7 1548.4 1295.73 1550.25 Q1297.8 1552.07 1301.33 1552.07 Q1306.2 1552.07 1309.13 1548.63 Q1312.09 1545.16 1312.09 1539.43 L1312.09 1538.12 L1306.27 1538.12 M1317.95 1535.71 L1317.95 1556.04 L1312.09 1556.04 L1312.09 1550.63 Q1310.09 1553.88 1307.1 1555.44 Q1304.1 1556.97 1299.77 1556.97 Q1294.3 1556.97 1291.05 1553.91 Q1287.84 1550.82 1287.84 1545.67 Q1287.84 1539.65 1291.85 1536.6 Q1295.89 1533.54 1303.88 1533.54 L1312.09 1533.54 L1312.09 1532.97 Q1312.09 1528.93 1309.42 1526.73 Q1306.78 1524.5 1301.97 1524.5 Q1298.92 1524.5 1296.02 1525.23 Q1293.12 1525.97 1290.45 1527.43 L1290.45 1522.02 Q1293.66 1520.78 1296.69 1520.17 Q1299.71 1519.54 1302.58 1519.54 Q1310.31 1519.54 1314.13 1523.55 Q1317.95 1527.56 1317.95 1535.71 Z\" fill=\"#000000\" fill-rule=\"evenodd\" fill-opacity=\"1\" /><path clip-path=\"url(#clip120)\" d=\"M 0 0 M1329.88 1510.27 L1329.88 1520.4 L1341.95 1520.4 L1341.95 1524.95 L1329.88 1524.95 L1329.88 1544.3 Q1329.88 1548.66 1331.06 1549.9 Q1332.27 1551.14 1335.93 1551.14 L1341.95 1551.14 L1341.95 1556.04 L1335.93 1556.04 Q1329.15 1556.04 1326.57 1553.53 Q1324 1550.98 1324 1544.3 L1324 1524.95 L1319.7 1524.95 L1319.7 1520.4 L1324 1520.4 L1324 1510.27 L1329.88 1510.27 Z\" fill=\"#000000\" fill-rule=\"evenodd\" fill-opacity=\"1\" /><path clip-path=\"url(#clip120)\" d=\"M 0 0 M1348.09 1520.4 L1353.95 1520.4 L1353.95 1556.04 L1348.09 1556.04 L1348.09 1520.4 M1348.09 1506.52 L1353.95 1506.52 L1353.95 1513.93 L1348.09 1513.93 L1348.09 1506.52 Z\" fill=\"#000000\" fill-rule=\"evenodd\" fill-opacity=\"1\" /><path clip-path=\"url(#clip120)\" d=\"M 0 0 M1373.9 1524.5 Q1369.19 1524.5 1366.46 1528.19 Q1363.72 1531.85 1363.72 1538.25 Q1363.72 1544.65 1366.42 1548.34 Q1369.16 1552 1373.9 1552 Q1378.58 1552 1381.32 1548.31 Q1384.06 1544.62 1384.06 1538.25 Q1384.06 1531.92 1381.32 1528.23 Q1378.58 1524.5 1373.9 1524.5 M1373.9 1519.54 Q1381.54 1519.54 1385.9 1524.5 Q1390.26 1529.47 1390.26 1538.25 Q1390.26 1547 1385.9 1552 Q1381.54 1556.97 1373.9 1556.97 Q1366.23 1556.97 1361.87 1552 Q1357.54 1547 1357.54 1538.25 Q1357.54 1529.47 1361.87 1524.5 Q1366.23 1519.54 1373.9 1519.54 Z\" fill=\"#000000\" fill-rule=\"evenodd\" fill-opacity=\"1\" /><path clip-path=\"url(#clip120)\" d=\"M 0 0 M1426.04 1534.53 L1426.04 1556.04 L1420.18 1556.04 L1420.18 1534.72 Q1420.18 1529.66 1418.21 1527.14 Q1416.24 1524.63 1412.29 1524.63 Q1407.55 1524.63 1404.81 1527.65 Q1402.07 1530.68 1402.07 1535.9 L1402.07 1556.04 L1396.18 1556.04 L1396.18 1520.4 L1402.07 1520.4 L1402.07 1525.93 Q1404.17 1522.72 1407 1521.13 Q1409.87 1519.54 1413.59 1519.54 Q1419.74 1519.54 1422.89 1523.36 Q1426.04 1527.14 1426.04 1534.53 Z\" fill=\"#000000\" fill-rule=\"evenodd\" fill-opacity=\"1\" /><path clip-path=\"url(#clip120)\" d=\"M 0 0 M66.4881 775.872 L88.0042 775.872 L88.0042 781.729 L66.679 781.729 Q61.6183 781.729 59.1038 783.702 Q56.5894 785.675 56.5894 789.622 Q56.5894 794.365 59.6131 797.102 Q62.6368 799.839 67.8567 799.839 L88.0042 799.839 L88.0042 805.727 L38.479 805.727 L38.479 799.839 L57.8944 799.839 Q54.6797 797.738 53.0883 794.906 Q51.4968 792.041 51.4968 788.317 Q51.4968 782.174 55.3163 779.023 Q59.1038 775.872 66.4881 775.872 Z\" fill=\"#000000\" fill-rule=\"evenodd\" fill-opacity=\"1\" /><path clip-path=\"url(#clip120)\" d=\"M 0 0 M82.5933 763.364 L82.5933 740.925 L88.0042 740.925 L88.0042 771.098 L82.5933 771.098 Q78.8057 767.438 72.44 761.136 Q66.0425 754.802 64.1964 753.179 Q60.7271 750.091 58.34 748.882 Q55.921 747.64 53.5975 747.64 Q49.8099 747.64 47.4228 750.314 Q45.0356 752.956 45.0356 757.221 Q45.0356 760.244 46.086 763.618 Q47.1363 766.96 49.2688 770.78 L42.7758 770.78 Q41.2162 766.897 40.4205 763.523 Q39.6248 760.149 39.6248 757.348 Q39.6248 749.964 43.3169 745.572 Q47.009 741.179 53.1837 741.179 Q56.112 741.179 58.7537 742.293 Q61.3637 743.375 64.9285 746.272 Q65.8515 747.067 70.2757 751.332 Q74.668 755.597 82.5933 763.364 Z\" fill=\"#000000\" fill-rule=\"evenodd\" fill-opacity=\"1\" /><polyline clip-path=\"url(#clip122)\" style=\"stroke:#009af9; stroke-width:4; stroke-opacity:1; fill:none\" points=\"\n",
       "  323.035,1332.94 327.424,1291.64 331.813,1193.88 336.202,1305.01 340.591,1254.08 344.979,1213.28 349.368,1130.06 353.757,1094.19 358.146,1163.69 362.535,1386.4 \n",
       "  366.924,992.279 371.313,1168.12 375.701,1083.79 380.09,1313.53 384.479,993.558 388.868,1079.44 393.257,1328.09 397.646,1297.99 402.035,1151.45 406.424,821.334 \n",
       "  410.812,1158.91 415.201,980.702 419.59,1059.73 423.979,1047.36 428.368,1212.32 432.757,1333.45 437.146,1314.67 441.535,1125.42 445.923,1137.18 450.312,1278.63 \n",
       "  454.701,1052.27 459.09,1166.9 463.479,959.827 467.868,812.888 472.257,838.076 476.646,1016.82 481.034,1066.32 485.423,1089.39 489.812,976.068 494.201,983.292 \n",
       "  498.59,1049.82 502.979,999.755 507.368,722.647 511.756,1217.02 516.145,1114.87 520.534,859.831 524.923,1282.9 529.312,1130.09 533.701,824.321 538.09,645.202 \n",
       "  542.479,1168.7 546.867,1112.27 551.256,454.628 555.645,980.894 560.034,1023.36 564.423,1356.47 568.812,942.383 573.201,1080.17 577.59,1046.48 581.978,1054.5 \n",
       "  586.367,1050.22 590.756,909.736 595.145,1171.18 599.534,1010.24 603.923,935.079 608.312,1166.51 612.7,1110.35 617.089,1128.38 621.478,795.127 625.867,950.257 \n",
       "  630.256,1073.12 634.645,915.024 639.034,904.372 643.423,766.101 647.811,1098.16 652.2,937.072 656.589,1048.68 660.978,1027.19 665.367,948.822 669.756,1164.53 \n",
       "  674.145,815.272 678.534,1009.53 682.922,1161.7 687.311,1141.33 691.7,1166.49 696.089,698.96 700.478,1082.97 704.867,1036.33 709.256,1186.27 713.644,1253.05 \n",
       "  718.033,1044.76 722.422,643.737 726.811,1074.57 731.2,1059.06 735.589,716.842 739.978,627.233 744.367,1053.74 748.755,835.589 753.144,1136.61 757.533,1140.72 \n",
       "  761.922,840.738 766.311,1037.36 770.7,698.841 775.089,1005.44 779.478,1063.88 783.866,976.204 788.255,1015.18 792.644,1114.07 797.033,845.343 801.422,823.96 \n",
       "  805.811,943.136 810.2,958.661 814.589,866.993 818.977,923.706 823.366,558.287 827.755,644.687 832.144,912.505 836.533,914.898 840.922,996.055 845.311,838.076 \n",
       "  849.699,1016.8 854.088,1046.02 858.477,1191.11 862.866,955.424 867.255,646.3 871.644,1075.53 876.033,1096.02 880.422,1050.81 884.81,1123.76 889.199,1127.02 \n",
       "  893.588,1033.89 897.977,956.166 902.366,694.084 906.755,802.555 911.144,1164.44 915.533,827.267 919.921,1131.9 924.31,948.55 928.699,739.978 933.088,958.286 \n",
       "  937.477,691.694 941.866,822.275 946.255,632.72 950.643,794.299 955.032,922.26 959.421,955.886 963.81,1062.37 968.199,830.684 972.588,1196.03 976.977,967.258 \n",
       "  981.366,744.117 985.754,934.456 990.143,1111.81 994.532,962.304 998.921,874.485 1003.31,699.739 1007.7,1084.94 1012.09,818.54 1016.48,939.093 1020.87,1065.32 \n",
       "  1025.25,1162.73 1029.64,862.882 1034.03,1074.83 1038.42,732.361 1042.81,637.135 1047.2,988.21 1051.59,904.007 1055.98,1082.72 1060.37,762.926 1064.75,1269.16 \n",
       "  1069.14,1226.1 1073.53,1090.45 1077.92,901.408 1082.31,1114.9 1086.7,746.611 1091.09,991.58 1095.48,794.671 1099.87,670.346 1104.25,714.5 1108.64,832.599 \n",
       "  1113.03,553.368 1117.42,1058.23 1121.81,974.235 1126.2,848.173 1130.59,1227.2 1134.98,567.89 1139.36,1178.07 1143.75,1092.04 1148.14,979.281 1152.53,976.433 \n",
       "  1156.92,1278.78 1161.31,977.297 1165.7,1121.14 1170.09,976.879 1174.48,957.706 1178.86,915.227 1183.25,853.195 1187.64,845.813 1192.03,516.715 1196.42,962.443 \n",
       "  1200.81,1176.6 1205.2,885.541 1209.59,450.582 1213.98,1123.76 1218.36,1167.26 1222.75,1068 1227.14,934.813 1231.53,898.378 1235.92,1009.95 1240.31,337.15 \n",
       "  1244.7,1067.29 1249.09,1042.7 1253.48,1020.12 1257.86,581.887 1262.25,662.005 1266.64,591.642 1271.03,765.163 1275.42,1080.72 1279.81,1150.87 1284.2,694.562 \n",
       "  1288.59,973.508 1292.98,926.457 1297.36,1027.03 1301.75,966.68 1306.14,879.025 1310.53,766.488 1314.92,943.503 1319.31,1037.22 1323.7,1235.11 1328.09,781.685 \n",
       "  1332.48,1025.94 1336.86,836.205 1341.25,787.469 1345.64,814.261 1350.03,1027.07 1354.42,935.912 1358.81,698.418 1363.2,1021.04 1367.59,893 1371.98,733.492 \n",
       "  1376.36,556.58 1380.75,1007.47 1385.14,969.949 1389.53,747.178 1393.92,770.755 1398.31,810.145 1402.7,878.678 1407.09,749.224 1411.47,914.811 1415.86,874.244 \n",
       "  1420.25,685.724 1424.64,806.455 1429.03,989.53 1433.42,860.251 1437.81,1074.88 1442.2,1045.56 1446.59,825.271 1450.97,892.5 1455.36,645.04 1459.75,773.006 \n",
       "  1464.14,799.507 1468.53,497.751 1472.92,790.56 1477.31,991.265 1481.7,943.896 1486.09,912.278 1490.47,898.595 1494.86,1121.34 1499.25,799.963 1503.64,858.315 \n",
       "  1508.03,694.408 1512.42,879.681 1516.81,998.225 1521.2,738.493 1525.59,926.208 1529.97,857.427 1534.36,526.258 1538.75,462.375 1543.14,1054.26 1547.53,914.32 \n",
       "  1551.92,689.766 1556.31,1073.34 1560.7,824.46 1565.09,996.691 1569.47,706.421 1573.86,655.768 1578.25,435.854 1582.64,544.706 1587.03,722.941 1591.42,559.503 \n",
       "  1595.81,664.041 1600.2,866.551 1604.59,852.281 1608.97,951.057 1613.36,914.09 1617.75,766.986 1622.14,894.152 1626.53,751.636 1630.92,1075.4 1635.31,822.257 \n",
       "  1639.7,852.934 1644.09,851.047 1648.47,936.311 1652.86,701.109 1657.25,1126.97 1661.64,1119.24 1666.03,803.417 1670.42,545.858 1674.81,1002.94 1679.2,465.747 \n",
       "  1683.58,801.647 1687.97,405.09 1692.36,719.137 1696.75,856.565 1701.14,502.593 1705.53,577.773 1709.92,424.852 1714.31,701.959 1718.7,864.004 1723.08,953.851 \n",
       "  1727.47,427.901 1731.86,833.821 1736.25,514.433 1740.64,733.734 1745.03,643.597 1749.42,213.428 1753.81,771.213 1758.2,707.239 1762.58,405.659 1766.97,698.217 \n",
       "  1771.36,866.114 1775.75,634.569 1780.14,927.556 1784.53,694.209 1788.92,930.379 1793.31,899.296 1797.7,900.114 1802.08,617.025 1806.47,901.506 1810.86,703.957 \n",
       "  1815.25,391.095 1819.64,756.386 1824.03,668.903 1828.42,664.374 1832.81,918.488 1837.2,869.881 1841.58,573.872 1845.97,726.354 1850.36,932.589 1854.75,1013.86 \n",
       "  1859.14,857.696 1863.53,586.252 1867.92,1033.31 1872.31,748.932 1876.7,1053.21 1881.08,579.755 1885.47,1095.29 1889.86,753.399 1894.25,810.138 1898.64,767.685 \n",
       "  1903.03,775.297 1907.42,772.335 1911.81,822.807 1916.19,720.619 1920.58,751.545 1924.97,820.443 1929.36,710.946 1933.75,830.292 1938.14,493.016 1942.53,1041.41 \n",
       "  1946.92,808.56 1951.31,766.279 1955.69,800.509 1960.08,747.868 1964.47,847.194 1968.86,1155.01 1973.25,1068.5 1977.64,954.985 1982.03,367.135 1986.42,1057.81 \n",
       "  1990.81,1004.71 1995.19,1126.98 1999.58,1004.16 2003.97,1079.49 2008.36,595.281 2012.75,742.85 2017.14,325.724 2021.53,765.011 2025.92,741.021 2030.31,803.166 \n",
       "  2034.69,974.287 2039.08,742.191 2043.47,949.826 2047.86,1190.61 2052.25,1058.64 2056.64,934.341 2061.03,936.064 2065.42,1022.09 2069.81,351.284 2074.19,1027.7 \n",
       "  2078.58,1040.52 2082.97,939.122 2087.36,813.686 2091.75,1043.1 2096.14,983.284 2100.53,672.084 2104.92,797.17 2109.31,820.056 2113.69,469.602 2118.08,562.164 \n",
       "  2122.47,972.224 2126.86,611.807 2131.25,1060.58 2135.64,926.979 2140.03,991.567 2144.42,787.081 2148.81,984.663 2153.19,815.437 2157.58,802.755 2161.97,742.901 \n",
       "  2166.36,733.146 2170.75,761.562 2175.14,743.355 2179.53,859.737 2183.92,729.722 2188.3,981.625 2192.69,981.272 2197.08,805.663 2201.47,1056.38 2205.86,160.256 \n",
       "  2210.25,1107.14 2214.64,1030.98 2219.03,935.38 2223.42,871.682 2227.8,853.068 2232.19,785.399 2236.58,1068.13 2240.97,559.489 2245.36,860.673 2249.75,726.805 \n",
       "  2254.14,886.484 2258.53,923.027 2262.92,918.055 2267.3,1016.49 2271.69,693.357 2276.08,711.598 2280.47,629.83 2284.86,1112.28 2289.25,898.974 2293.64,1281.26 \n",
       "  \n",
       "  \"/>\n",
       "<path clip-path=\"url(#clip120)\" d=\"\n",
       "M1989.74 327.952 L2280.76 327.952 L2280.76 206.992 L1989.74 206.992  Z\n",
       "  \" fill=\"#ffffff\" fill-rule=\"evenodd\" fill-opacity=\"1\"/>\n",
       "<polyline clip-path=\"url(#clip120)\" style=\"stroke:#000000; stroke-width:4; stroke-opacity:1; fill:none\" points=\"\n",
       "  1989.74,327.952 2280.76,327.952 2280.76,206.992 1989.74,206.992 1989.74,327.952 \n",
       "  \"/>\n",
       "<polyline clip-path=\"url(#clip120)\" style=\"stroke:#009af9; stroke-width:4; stroke-opacity:1; fill:none\" points=\"\n",
       "  2013.74,267.472 2157.74,267.472 \n",
       "  \"/>\n",
       "<path clip-path=\"url(#clip120)\" d=\"M 0 0 M2195.58 287.16 Q2193.77 291.789 2192.06 293.201 Q2190.35 294.613 2187.48 294.613 L2184.08 294.613 L2184.08 291.048 L2186.58 291.048 Q2188.33 291.048 2189.31 290.215 Q2190.28 289.382 2191.46 286.28 L2192.22 284.335 L2181.74 258.826 L2186.25 258.826 L2194.35 279.104 L2202.46 258.826 L2206.97 258.826 L2195.58 287.16 Z\" fill=\"#000000\" fill-rule=\"evenodd\" fill-opacity=\"1\" /><path clip-path=\"url(#clip120)\" d=\"M 0 0 M2212.85 280.817 L2220.49 280.817 L2220.49 254.451 L2212.18 256.118 L2212.18 251.859 L2220.44 250.192 L2225.12 250.192 L2225.12 280.817 L2232.76 280.817 L2232.76 284.752 L2212.85 284.752 L2212.85 280.817 Z\" fill=\"#000000\" fill-rule=\"evenodd\" fill-opacity=\"1\" /></svg>\n"
      ]
     },
     "execution_count": 12,
     "metadata": {},
     "output_type": "execute_result"
    }
   ],
   "source": [
    "using Plots\n",
    "x = h2[!,1]; y = h2[!,2]; # These are the plotting data\n",
    "plot(x,y, title = \"h2 trace plot\",\n",
    "        xlabel = \"iteration\", ylabel = \"h2\")"
   ]
  },
  {
   "cell_type": "code",
   "execution_count": 4,
   "metadata": {},
   "outputs": [
    {
     "name": "stdout",
     "output_type": "stream",
     "text": [
      "Compute the posterior probability of association of the genomic window that explains more than 0.001 of the total genetic variance.\n"
     ]
    },
    {
     "name": "stderr",
     "output_type": "stream",
     "text": [
      "\u001b[32mrunning GWAS...100%|████████████████████████████████████| Time: 0:20:18\u001b[39m\n"
     ]
    },
    {
     "name": "stdout",
     "output_type": "stream",
     "text": [
      "1274.766829 seconds (606.06 M allocations: 4.613 TiB, 24.89% gc time)\n"
     ]
    },
    {
     "data": {
      "text/plain": [
       "(2395×13 DataFrame. Omitted printing of 7 columns\n",
       "│ Row  │ trait │ window │ chr    │ wStart    │ wEnd      │ start_SNP │\n",
       "│      │ \u001b[90mInt64\u001b[39m │ \u001b[90mInt64\u001b[39m  │ \u001b[90mString\u001b[39m │ \u001b[90mInt64\u001b[39m     │ \u001b[90mInt64\u001b[39m     │ \u001b[90mInt64\u001b[39m     │\n",
       "├──────┼───────┼────────┼────────┼───────────┼───────────┼───────────┤\n",
       "│ 1    │ 1     │ 8      │ 1      │ 7000000   │ 8000000   │ 7002079   │\n",
       "│ 2    │ 1     │ 2168   │ 17     │ 15000000  │ 16000000  │ 15060479  │\n",
       "│ 3    │ 1     │ 408    │ 2      │ 132000000 │ 133000000 │ 132004620 │\n",
       "│ 4    │ 1     │ 1526   │ 12     │ 7000000   │ 8000000   │ 7006069   │\n",
       "│ 5    │ 1     │ 1254   │ 9      │ 25000000  │ 26000000  │ 25000259  │\n",
       "│ 6    │ 1     │ 1512   │ 11     │ 73000000  │ 74000000  │ 73004835  │\n",
       "│ 7    │ 1     │ 150    │ 1      │ 149000000 │ 150000000 │ 149002313 │\n",
       "│ 8    │ 1     │ 1609   │ 13     │ 28000000  │ 29000000  │ 28001643  │\n",
       "│ 9    │ 1     │ 837    │ 6      │ 40000000  │ 41000000  │ 40000532  │\n",
       "│ 10   │ 1     │ 1086   │ 7      │ 118000000 │ 119000000 │ 118002343 │\n",
       "⋮\n",
       "│ 2385 │ 1     │ 2384   │ 19     │ 114000000 │ 115000000 │ 114013682 │\n",
       "│ 2386 │ 1     │ 2385   │ 19     │ 115000000 │ 116000000 │ 115198893 │\n",
       "│ 2387 │ 1     │ 2386   │ 19     │ 116000000 │ 117000000 │ 116147085 │\n",
       "│ 2388 │ 1     │ 2387   │ 19     │ 117000000 │ 118000000 │ 117207666 │\n",
       "│ 2389 │ 1     │ 2388   │ 19     │ 118000000 │ 119000000 │ 118118313 │\n",
       "│ 2390 │ 1     │ 2389   │ 19     │ 119000000 │ 120000000 │ 119359015 │\n",
       "│ 2391 │ 1     │ 2390   │ 19     │ 120000000 │ 121000000 │ 120162205 │\n",
       "│ 2392 │ 1     │ 2391   │ 19     │ 121000000 │ 122000000 │ 121097039 │\n",
       "│ 2393 │ 1     │ 2392   │ 19     │ 122000000 │ 123000000 │ 122129641 │\n",
       "│ 2394 │ 1     │ 2394   │ 19     │ 124000000 │ 125000000 │ 124091310 │\n",
       "│ 2395 │ 1     │ 2395   │ 19     │ 125000000 │ 126000000 │ 125621888 │,)"
      ]
     },
     "execution_count": 4,
     "metadata": {},
     "output_type": "execute_result"
    }
   ],
   "source": [
    "@time Died_outB = GWAS(\"results/MCMC_samples_marker_effects_geno_Died_Adj.txt\",\n",
    "    \"/home/jovyan/mark/JWAS_CDPQ/CDPQ_all_data/ChrInfo_map_1_7_Complete_JWAS.txt\",\n",
    "    M;header=true,window_size=\"1 Mb\",threshold=0.001)"
   ]
  },
  {
   "cell_type": "code",
   "execution_count": 4,
   "metadata": {},
   "outputs": [
    {
     "data": {
      "text/html": [
       "<table class=\"data-frame\"><thead><tr><th></th><th>trait</th><th>window</th><th>chr</th><th>wStart</th><th>wEnd</th><th>start_SNP</th><th>end_SNP</th><th>numSNP</th><th>estimateGenVar</th></tr><tr><th></th><th>Int64</th><th>Int64</th><th>String</th><th>Int64</th><th>Int64</th><th>Int64</th><th>Int64</th><th>Int64</th><th>Float64</th></tr></thead><tbody><p>2,395 rows × 13 columns (omitted printing of 4 columns)</p><tr><th>1</th><td>1</td><td>8</td><td>1</td><td>7000000</td><td>8000000</td><td>7002079</td><td>7994976</td><td>224</td><td>0.000595689</td></tr><tr><th>2</th><td>1</td><td>2168</td><td>17</td><td>15000000</td><td>16000000</td><td>15060479</td><td>15995802</td><td>219</td><td>0.000163069</td></tr><tr><th>3</th><td>1</td><td>1526</td><td>12</td><td>7000000</td><td>8000000</td><td>7006069</td><td>7982108</td><td>270</td><td>0.000104149</td></tr><tr><th>4</th><td>1</td><td>408</td><td>2</td><td>132000000</td><td>133000000</td><td>132004620</td><td>132982619</td><td>246</td><td>0.000106574</td></tr><tr><th>5</th><td>1</td><td>1254</td><td>9</td><td>25000000</td><td>26000000</td><td>25000259</td><td>25998536</td><td>304</td><td>7.87632e-5</td></tr><tr><th>6</th><td>1</td><td>1512</td><td>11</td><td>73000000</td><td>74000000</td><td>73004835</td><td>73993401</td><td>240</td><td>7.45333e-5</td></tr><tr><th>7</th><td>1</td><td>1086</td><td>7</td><td>118000000</td><td>119000000</td><td>118002343</td><td>118995300</td><td>218</td><td>7.05582e-5</td></tr><tr><th>8</th><td>1</td><td>150</td><td>1</td><td>149000000</td><td>150000000</td><td>149002313</td><td>149993355</td><td>176</td><td>4.90459e-5</td></tr><tr><th>9</th><td>1</td><td>1731</td><td>13</td><td>150000000</td><td>151000000</td><td>150107858</td><td>150888759</td><td>159</td><td>4.18546e-5</td></tr><tr><th>10</th><td>1</td><td>1722</td><td>13</td><td>141000000</td><td>142000000</td><td>141009542</td><td>141977918</td><td>163</td><td>3.56793e-5</td></tr><tr><th>11</th><td>1</td><td>553</td><td>3</td><td>125000000</td><td>126000000</td><td>125000519</td><td>125996584</td><td>226</td><td>3.57631e-5</td></tr><tr><th>12</th><td>1</td><td>1609</td><td>13</td><td>28000000</td><td>29000000</td><td>28001643</td><td>28995961</td><td>256</td><td>3.65282e-5</td></tr><tr><th>13</th><td>1</td><td>1539</td><td>12</td><td>20000000</td><td>21000000</td><td>20024452</td><td>20977547</td><td>152</td><td>3.8526e-5</td></tr><tr><th>14</th><td>1</td><td>837</td><td>6</td><td>40000000</td><td>41000000</td><td>40000532</td><td>40994989</td><td>232</td><td>4.28131e-5</td></tr><tr><th>15</th><td>1</td><td>990</td><td>7</td><td>22000000</td><td>23000000</td><td>22003711</td><td>22970603</td><td>188</td><td>3.42798e-5</td></tr><tr><th>16</th><td>1</td><td>991</td><td>7</td><td>23000000</td><td>24000000</td><td>23001142</td><td>23999710</td><td>243</td><td>3.83633e-5</td></tr><tr><th>17</th><td>1</td><td>1072</td><td>7</td><td>104000000</td><td>105000000</td><td>104010472</td><td>104992883</td><td>228</td><td>3.19584e-5</td></tr><tr><th>18</th><td>1</td><td>766</td><td>5</td><td>74000000</td><td>75000000</td><td>74010393</td><td>74998241</td><td>176</td><td>2.67439e-5</td></tr><tr><th>19</th><td>1</td><td>1402</td><td>10</td><td>33000000</td><td>34000000</td><td>33002080</td><td>33994117</td><td>251</td><td>2.38017e-5</td></tr><tr><th>20</th><td>1</td><td>1522</td><td>12</td><td>3000000</td><td>4000000</td><td>3000825</td><td>3998905</td><td>173</td><td>2.52808e-5</td></tr><tr><th>21</th><td>1</td><td>1723</td><td>13</td><td>142000000</td><td>143000000</td><td>142000878</td><td>142998665</td><td>145</td><td>2.00395e-5</td></tr><tr><th>22</th><td>1</td><td>411</td><td>2</td><td>135000000</td><td>136000000</td><td>135005920</td><td>135998841</td><td>254</td><td>2.93446e-5</td></tr><tr><th>23</th><td>1</td><td>1566</td><td>12</td><td>47000000</td><td>48000000</td><td>47024669</td><td>47982083</td><td>176</td><td>8.72919e-6</td></tr><tr><th>24</th><td>1</td><td>1487</td><td>11</td><td>48000000</td><td>49000000</td><td>48017285</td><td>48997952</td><td>180</td><td>2.76749e-5</td></tr><tr><th>25</th><td>1</td><td>1502</td><td>11</td><td>63000000</td><td>64000000</td><td>63010760</td><td>63994069</td><td>175</td><td>2.27498e-5</td></tr><tr><th>26</th><td>1</td><td>1000</td><td>7</td><td>32000000</td><td>33000000</td><td>32001514</td><td>32998973</td><td>252</td><td>1.8161e-5</td></tr><tr><th>27</th><td>1</td><td>1050</td><td>7</td><td>82000000</td><td>83000000</td><td>82003699</td><td>82934139</td><td>179</td><td>2.47751e-5</td></tr><tr><th>28</th><td>1</td><td>2222</td><td>18</td><td>5000000</td><td>6000000</td><td>5005969</td><td>5996706</td><td>242</td><td>2.50013e-5</td></tr><tr><th>29</th><td>1</td><td>2040</td><td>15</td><td>108000000</td><td>109000000</td><td>108000102</td><td>108996231</td><td>225</td><td>2.90288e-5</td></tr><tr><th>30</th><td>1</td><td>1028</td><td>7</td><td>60000000</td><td>61000000</td><td>60023465</td><td>60997484</td><td>98</td><td>2.46644e-5</td></tr><tr><th>&vellip;</th><td>&vellip;</td><td>&vellip;</td><td>&vellip;</td><td>&vellip;</td><td>&vellip;</td><td>&vellip;</td><td>&vellip;</td><td>&vellip;</td><td>&vellip;</td></tr></tbody></table>"
      ],
      "text/latex": [
       "\\begin{tabular}{r|cccccccccc}\n",
       "\t& trait & window & chr & wStart & wEnd & start\\_SNP & end\\_SNP & numSNP & estimateGenVar & \\\\\n",
       "\t\\hline\n",
       "\t& Int64 & Int64 & String & Int64 & Int64 & Int64 & Int64 & Int64 & Float64 & \\\\\n",
       "\t\\hline\n",
       "\t1 & 1 & 8 & 1 & 7000000 & 8000000 & 7002079 & 7994976 & 224 & 0.000595689 & $\\dots$ \\\\\n",
       "\t2 & 1 & 2168 & 17 & 15000000 & 16000000 & 15060479 & 15995802 & 219 & 0.000163069 & $\\dots$ \\\\\n",
       "\t3 & 1 & 1526 & 12 & 7000000 & 8000000 & 7006069 & 7982108 & 270 & 0.000104149 & $\\dots$ \\\\\n",
       "\t4 & 1 & 408 & 2 & 132000000 & 133000000 & 132004620 & 132982619 & 246 & 0.000106574 & $\\dots$ \\\\\n",
       "\t5 & 1 & 1254 & 9 & 25000000 & 26000000 & 25000259 & 25998536 & 304 & 7.87632e-5 & $\\dots$ \\\\\n",
       "\t6 & 1 & 1512 & 11 & 73000000 & 74000000 & 73004835 & 73993401 & 240 & 7.45333e-5 & $\\dots$ \\\\\n",
       "\t7 & 1 & 1086 & 7 & 118000000 & 119000000 & 118002343 & 118995300 & 218 & 7.05582e-5 & $\\dots$ \\\\\n",
       "\t8 & 1 & 150 & 1 & 149000000 & 150000000 & 149002313 & 149993355 & 176 & 4.90459e-5 & $\\dots$ \\\\\n",
       "\t9 & 1 & 1731 & 13 & 150000000 & 151000000 & 150107858 & 150888759 & 159 & 4.18546e-5 & $\\dots$ \\\\\n",
       "\t10 & 1 & 1722 & 13 & 141000000 & 142000000 & 141009542 & 141977918 & 163 & 3.56793e-5 & $\\dots$ \\\\\n",
       "\t11 & 1 & 553 & 3 & 125000000 & 126000000 & 125000519 & 125996584 & 226 & 3.57631e-5 & $\\dots$ \\\\\n",
       "\t12 & 1 & 1609 & 13 & 28000000 & 29000000 & 28001643 & 28995961 & 256 & 3.65282e-5 & $\\dots$ \\\\\n",
       "\t13 & 1 & 1539 & 12 & 20000000 & 21000000 & 20024452 & 20977547 & 152 & 3.8526e-5 & $\\dots$ \\\\\n",
       "\t14 & 1 & 837 & 6 & 40000000 & 41000000 & 40000532 & 40994989 & 232 & 4.28131e-5 & $\\dots$ \\\\\n",
       "\t15 & 1 & 990 & 7 & 22000000 & 23000000 & 22003711 & 22970603 & 188 & 3.42798e-5 & $\\dots$ \\\\\n",
       "\t16 & 1 & 991 & 7 & 23000000 & 24000000 & 23001142 & 23999710 & 243 & 3.83633e-5 & $\\dots$ \\\\\n",
       "\t17 & 1 & 1072 & 7 & 104000000 & 105000000 & 104010472 & 104992883 & 228 & 3.19584e-5 & $\\dots$ \\\\\n",
       "\t18 & 1 & 766 & 5 & 74000000 & 75000000 & 74010393 & 74998241 & 176 & 2.67439e-5 & $\\dots$ \\\\\n",
       "\t19 & 1 & 1402 & 10 & 33000000 & 34000000 & 33002080 & 33994117 & 251 & 2.38017e-5 & $\\dots$ \\\\\n",
       "\t20 & 1 & 1522 & 12 & 3000000 & 4000000 & 3000825 & 3998905 & 173 & 2.52808e-5 & $\\dots$ \\\\\n",
       "\t21 & 1 & 1723 & 13 & 142000000 & 143000000 & 142000878 & 142998665 & 145 & 2.00395e-5 & $\\dots$ \\\\\n",
       "\t22 & 1 & 411 & 2 & 135000000 & 136000000 & 135005920 & 135998841 & 254 & 2.93446e-5 & $\\dots$ \\\\\n",
       "\t23 & 1 & 1566 & 12 & 47000000 & 48000000 & 47024669 & 47982083 & 176 & 8.72919e-6 & $\\dots$ \\\\\n",
       "\t24 & 1 & 1487 & 11 & 48000000 & 49000000 & 48017285 & 48997952 & 180 & 2.76749e-5 & $\\dots$ \\\\\n",
       "\t25 & 1 & 1502 & 11 & 63000000 & 64000000 & 63010760 & 63994069 & 175 & 2.27498e-5 & $\\dots$ \\\\\n",
       "\t26 & 1 & 1000 & 7 & 32000000 & 33000000 & 32001514 & 32998973 & 252 & 1.8161e-5 & $\\dots$ \\\\\n",
       "\t27 & 1 & 1050 & 7 & 82000000 & 83000000 & 82003699 & 82934139 & 179 & 2.47751e-5 & $\\dots$ \\\\\n",
       "\t28 & 1 & 2222 & 18 & 5000000 & 6000000 & 5005969 & 5996706 & 242 & 2.50013e-5 & $\\dots$ \\\\\n",
       "\t29 & 1 & 2040 & 15 & 108000000 & 109000000 & 108000102 & 108996231 & 225 & 2.90288e-5 & $\\dots$ \\\\\n",
       "\t30 & 1 & 1028 & 7 & 60000000 & 61000000 & 60023465 & 60997484 & 98 & 2.46644e-5 & $\\dots$ \\\\\n",
       "\t$\\dots$ & $\\dots$ & $\\dots$ & $\\dots$ & $\\dots$ & $\\dots$ & $\\dots$ & $\\dots$ & $\\dots$ & $\\dots$ &  \\\\\n",
       "\\end{tabular}\n"
      ],
      "text/plain": [
       "2395×13 DataFrame. Omitted printing of 7 columns\n",
       "│ Row  │ trait │ window │ chr    │ wStart    │ wEnd      │ start_SNP │\n",
       "│      │ \u001b[90mInt64\u001b[39m │ \u001b[90mInt64\u001b[39m  │ \u001b[90mString\u001b[39m │ \u001b[90mInt64\u001b[39m     │ \u001b[90mInt64\u001b[39m     │ \u001b[90mInt64\u001b[39m     │\n",
       "├──────┼───────┼────────┼────────┼───────────┼───────────┼───────────┤\n",
       "│ 1    │ 1     │ 8      │ 1      │ 7000000   │ 8000000   │ 7002079   │\n",
       "│ 2    │ 1     │ 2168   │ 17     │ 15000000  │ 16000000  │ 15060479  │\n",
       "│ 3    │ 1     │ 1526   │ 12     │ 7000000   │ 8000000   │ 7006069   │\n",
       "│ 4    │ 1     │ 408    │ 2      │ 132000000 │ 133000000 │ 132004620 │\n",
       "│ 5    │ 1     │ 1254   │ 9      │ 25000000  │ 26000000  │ 25000259  │\n",
       "│ 6    │ 1     │ 1512   │ 11     │ 73000000  │ 74000000  │ 73004835  │\n",
       "│ 7    │ 1     │ 1086   │ 7      │ 118000000 │ 119000000 │ 118002343 │\n",
       "│ 8    │ 1     │ 150    │ 1      │ 149000000 │ 150000000 │ 149002313 │\n",
       "│ 9    │ 1     │ 1731   │ 13     │ 150000000 │ 151000000 │ 150107858 │\n",
       "│ 10   │ 1     │ 1722   │ 13     │ 141000000 │ 142000000 │ 141009542 │\n",
       "⋮\n",
       "│ 2385 │ 1     │ 2384   │ 19     │ 114000000 │ 115000000 │ 114013682 │\n",
       "│ 2386 │ 1     │ 2385   │ 19     │ 115000000 │ 116000000 │ 115198893 │\n",
       "│ 2387 │ 1     │ 2386   │ 19     │ 116000000 │ 117000000 │ 116147085 │\n",
       "│ 2388 │ 1     │ 2387   │ 19     │ 117000000 │ 118000000 │ 117207666 │\n",
       "│ 2389 │ 1     │ 2388   │ 19     │ 118000000 │ 119000000 │ 118118313 │\n",
       "│ 2390 │ 1     │ 2389   │ 19     │ 119000000 │ 120000000 │ 119359015 │\n",
       "│ 2391 │ 1     │ 2390   │ 19     │ 120000000 │ 121000000 │ 120162205 │\n",
       "│ 2392 │ 1     │ 2391   │ 19     │ 121000000 │ 122000000 │ 121097039 │\n",
       "│ 2393 │ 1     │ 2392   │ 19     │ 122000000 │ 123000000 │ 122129641 │\n",
       "│ 2394 │ 1     │ 2394   │ 19     │ 124000000 │ 125000000 │ 124091310 │\n",
       "│ 2395 │ 1     │ 2395   │ 19     │ 125000000 │ 126000000 │ 125621888 │"
      ]
     },
     "execution_count": 4,
     "metadata": {},
     "output_type": "execute_result"
    }
   ],
   "source": [
    "sort(Died_outB, :prGenVar, rev=true)"
   ]
  },
  {
   "cell_type": "code",
   "execution_count": 6,
   "metadata": {},
   "outputs": [
    {
     "data": {
      "text/plain": [
       "\"MCMC_samples_1Mb_window_VarProps_Died_Adj.txt\""
      ]
     },
     "execution_count": 6,
     "metadata": {},
     "output_type": "execute_result"
    }
   ],
   "source": [
    "CSV.write(\"MCMC_samples_1Mb_window_VarProps_Died_Adj.txt\", Died_outB[1])"
   ]
  },
  {
   "cell_type": "code",
   "execution_count": 38,
   "metadata": {},
   "outputs": [],
   "source": [
    "#marker_effects = GWAS(\"MCMC_samples_marker_effects_FinADG.txt\";header=true) # probability of inclusion"
   ]
  },
  {
   "cell_type": "code",
   "execution_count": 39,
   "metadata": {},
   "outputs": [],
   "source": [
    "#Nur2_ADG_outBPi = GWAS(\"MCMC_samples_marker_effects_Nur2ADG.txt\",Nur2ADG_model;header=true,window_size=20,threshold=0.001,output_winVarProps=false)  # No map"
   ]
  },
  {
   "cell_type": "code",
   "execution_count": 40,
   "metadata": {
    "scrolled": false
   },
   "outputs": [],
   "source": [
    "#using DelimitedFiles\n",
    "#VL_winVarProps=readdlm(\"JWAS-WG/Haplotype/MCMC_samples_1MbwindowVarProps_Haplotype_WG-BayesB.txt\", '\\t',header=false)"
   ]
  },
  {
   "cell_type": "code",
   "execution_count": 41,
   "metadata": {},
   "outputs": [],
   "source": [
    "#res = VL_winVarProps .> 2/2400\n",
    "#ppa = sum(res,dims=1)./450"
   ]
  },
  {
   "cell_type": "code",
   "execution_count": 42,
   "metadata": {},
   "outputs": [],
   "source": [
    "#ppa[1, [261 755 1352 2185]]"
   ]
  },
  {
   "cell_type": "code",
   "execution_count": 43,
   "metadata": {
    "scrolled": true
   },
   "outputs": [],
   "source": [
    "#sort(vec(ppa))"
   ]
  }
 ],
 "metadata": {
  "kernelspec": {
   "display_name": "Julia 1.1.0",
   "language": "julia",
   "name": "julia-1.1"
  },
  "language_info": {
   "file_extension": ".jl",
   "mimetype": "application/julia",
   "name": "julia",
   "version": "1.1.0"
  }
 },
 "nbformat": 4,
 "nbformat_minor": 2
}
