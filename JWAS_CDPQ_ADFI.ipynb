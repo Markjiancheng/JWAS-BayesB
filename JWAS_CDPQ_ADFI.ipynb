{
 "cells": [
  {
   "cell_type": "code",
   "execution_count": 8,
   "metadata": {},
   "outputs": [
    {
     "name": "stdout",
     "output_type": "stream",
     "text": [
      "\u001b[32m\u001b[1m  Updating\u001b[22m\u001b[39m git-repo `https://github.com/reworkhow/JWAS.jl.git`\n",
      "\u001b[?25l\u001b[2K\u001b[?25h\u001b[32m\u001b[1m Resolving\u001b[22m\u001b[39m package versions...\n",
      "\u001b[32m\u001b[1m  Updating\u001b[22m\u001b[39m `/opt/julia/environments/v1.1/Project.toml`\n",
      " \u001b[90m [c9a035f4]\u001b[39m\u001b[93m ↑ JWAS v0.6.0 #20c1553 (https://github.com/reworkhow/JWAS.jl.git) ⇒ v0.9.0 #a154aeb (https://github.com/reworkhow/JWAS.jl.git)\u001b[39m\n",
      "\u001b[32m\u001b[1m  Updating\u001b[22m\u001b[39m `/opt/julia/environments/v1.1/Manifest.toml`\n",
      " \u001b[90m [c9a035f4]\u001b[39m\u001b[93m ↑ JWAS v0.6.0 #20c1553 (https://github.com/reworkhow/JWAS.jl.git) ⇒ v0.9.0 #a154aeb (https://github.com/reworkhow/JWAS.jl.git)\u001b[39m\n"
     ]
    }
   ],
   "source": [
    "using Pkg\n",
    "Pkg.add(PackageSpec(name=\"JWAS\",rev=\"v0.9.0\"))\n",
    "#Pkg.add(\"RecipesBase\")\n",
    "#using RecipesBase"
   ]
  },
  {
   "cell_type": "code",
   "execution_count": 6,
   "metadata": {},
   "outputs": [
    {
     "name": "stdout",
     "output_type": "stream",
     "text": [
      "\u001b[32m\u001b[1m    Status\u001b[22m\u001b[39m `/opt/julia/environments/v1.1/Project.toml`\n",
      " \u001b[90m [c9a035f4]\u001b[39m\u001b[37m JWAS v0.6.0 #20c1553 (https://github.com/reworkhow/JWAS.jl.git)\u001b[39m\n"
     ]
    }
   ],
   "source": [
    "Pkg.status(\"JWAS\")"
   ]
  },
  {
   "cell_type": "code",
   "execution_count": null,
   "metadata": {},
   "outputs": [],
   "source": [
    "#methods(add_genotypes)"
   ]
  },
  {
   "cell_type": "code",
   "execution_count": 1,
   "metadata": {},
   "outputs": [],
   "source": [
    "using DataFrames              # package for working with data sets\n",
    "using JWAS                    # package for Bayesian regression analyses, including BayesB and BayesCπ        \n",
    "#using JWAS:misc               # utility functions\n",
    "using JWAS.Datasets\n",
    "using Distributions       \n",
    "using Plots                   # package for plotting \n",
    "using CSV\n",
    "using LinearAlgebra,Statistics,Random,DelimitedFiles, DataFrames"
   ]
  },
  {
   "cell_type": "code",
   "execution_count": 10,
   "metadata": {},
   "outputs": [
    {
     "data": {
      "text/html": [
       "<table class=\"data-frame\"><thead><tr><th></th><th>ID</th><th>Cycle</th><th>BatchNum</th><th>Batch</th><th>Company</th><th>SowID</th><th>NurEnrich</th><th>QNurPenBatch</th><th>NurPenBatch</th></tr><tr><th></th><th>String</th><th>Int64</th><th>Int64</th><th>String</th><th>String</th><th>String</th><th>Bool</th><th>String</th><th>String?</th></tr></thead><tbody><p>3,205 rows × 49 columns (omitted printing of 40 columns)</p><tr><th>1</th><td>0001</td><td>1</td><td>1</td><td>1B</td><td>A</td><td>1B_1715</td><td>false</td><td>1B_D04</td><td>1B_D04</td></tr><tr><th>2</th><td>0002</td><td>1</td><td>1</td><td>1B</td><td>A</td><td>1B_1642</td><td>false</td><td>1B_D04</td><td>1B_D04</td></tr><tr><th>3</th><td>0004</td><td>1</td><td>1</td><td>1B</td><td>A</td><td>1B_2150</td><td>false</td><td>1B_D04</td><td>1B_D04</td></tr><tr><th>4</th><td>0005</td><td>1</td><td>1</td><td>1B</td><td>A</td><td>1B_1980</td><td>false</td><td>1B_D04</td><td>1B_D04</td></tr><tr><th>5</th><td>0006</td><td>1</td><td>1</td><td>1B</td><td>A</td><td>1B_1902</td><td>false</td><td>1B_D04</td><td>1B_D04</td></tr><tr><th>6</th><td>0007</td><td>1</td><td>1</td><td>1B</td><td>A</td><td>1B_2150</td><td>false</td><td>1B_D04</td><td>1B_D04</td></tr><tr><th>7</th><td>0009</td><td>1</td><td>1</td><td>1B</td><td>A</td><td>1B_1902</td><td>false</td><td>1B_D02</td><td>1B_D02</td></tr><tr><th>8</th><td>0010</td><td>1</td><td>1</td><td>1B</td><td>A</td><td>1B_1885</td><td>false</td><td>1B_D02</td><td>1B_D02</td></tr><tr><th>9</th><td>0011</td><td>1</td><td>1</td><td>1B</td><td>A</td><td>1B_2097</td><td>false</td><td>1B_D02</td><td>1B_D02</td></tr><tr><th>10</th><td>0012</td><td>1</td><td>1</td><td>1B</td><td>A</td><td>1B_1902</td><td>false</td><td>1B_D02</td><td>1B_D02</td></tr><tr><th>11</th><td>0013</td><td>1</td><td>1</td><td>1B</td><td>A</td><td>1B_1643</td><td>false</td><td>1B_D02</td><td>1B_D02</td></tr><tr><th>12</th><td>0014</td><td>1</td><td>1</td><td>1B</td><td>A</td><td>1B_2150</td><td>false</td><td>1B_D02</td><td>1B_D02</td></tr><tr><th>13</th><td>0015</td><td>1</td><td>1</td><td>1B</td><td>A</td><td>1B_1980</td><td>false</td><td>1B_B06</td><td>1B_B06</td></tr><tr><th>14</th><td>0016</td><td>1</td><td>1</td><td>1B</td><td>A</td><td>1B_1980</td><td>false</td><td>1B_B06</td><td>1B_B06</td></tr><tr><th>15</th><td>0017</td><td>1</td><td>1</td><td>1B</td><td>A</td><td>1B_2048</td><td>false</td><td>1B_B06</td><td>1B_B06</td></tr><tr><th>16</th><td>0018</td><td>1</td><td>1</td><td>1B</td><td>A</td><td>1B_1642</td><td>false</td><td>1B_B06</td><td>1B_B06</td></tr><tr><th>17</th><td>0019</td><td>1</td><td>1</td><td>1B</td><td>A</td><td>1B_2223</td><td>false</td><td>1B_B06</td><td>1B_B06</td></tr><tr><th>18</th><td>0020</td><td>1</td><td>1</td><td>1B</td><td>A</td><td>1B_1486</td><td>false</td><td>1B_B06</td><td>1B_B06</td></tr><tr><th>19</th><td>0021</td><td>1</td><td>1</td><td>1B</td><td>A</td><td>1B_1643</td><td>false</td><td>1B_B06</td><td>1B_B06</td></tr><tr><th>20</th><td>0022</td><td>1</td><td>1</td><td>1B</td><td>A</td><td>1B_2223</td><td>false</td><td>1B_B04</td><td>1B_B04</td></tr><tr><th>21</th><td>0023</td><td>1</td><td>1</td><td>1B</td><td>A</td><td>1B_2154</td><td>false</td><td>1B_B04</td><td>1B_B04</td></tr><tr><th>22</th><td>0024</td><td>1</td><td>1</td><td>1B</td><td>A</td><td>1B_2223</td><td>false</td><td>1B_B04</td><td>1B_B04</td></tr><tr><th>23</th><td>0025</td><td>1</td><td>1</td><td>1B</td><td>A</td><td>1B_1870</td><td>false</td><td>1B_B04</td><td>1B_B04</td></tr><tr><th>24</th><td>0026</td><td>1</td><td>1</td><td>1B</td><td>A</td><td>1B_2065</td><td>false</td><td>1B_B04</td><td>1B_B04</td></tr><tr><th>25</th><td>0027</td><td>1</td><td>1</td><td>1B</td><td>A</td><td>1B_2239</td><td>false</td><td>1B_B04</td><td>1B_B04</td></tr><tr><th>26</th><td>0028</td><td>1</td><td>1</td><td>1B</td><td>A</td><td>1B_1486</td><td>false</td><td>1B_B04</td><td>1B_B04</td></tr><tr><th>27</th><td>0029</td><td>1</td><td>1</td><td>1B</td><td>A</td><td>1B_2149</td><td>false</td><td>1B_B09</td><td>1B_B09</td></tr><tr><th>28</th><td>0030</td><td>1</td><td>1</td><td>1B</td><td>A</td><td>1B_1520</td><td>false</td><td>1B_B09</td><td>1B_B09</td></tr><tr><th>29</th><td>0031</td><td>1</td><td>1</td><td>1B</td><td>A</td><td>1B_1784</td><td>false</td><td>1B_B09</td><td>1B_B09</td></tr><tr><th>30</th><td>0032</td><td>1</td><td>1</td><td>1B</td><td>A</td><td>1B_2048</td><td>false</td><td>1B_B09</td><td>1B_B09</td></tr><tr><th>&vellip;</th><td>&vellip;</td><td>&vellip;</td><td>&vellip;</td><td>&vellip;</td><td>&vellip;</td><td>&vellip;</td><td>&vellip;</td><td>&vellip;</td><td>&vellip;</td></tr></tbody></table>"
      ],
      "text/latex": [
       "\\begin{tabular}{r|cccccccccc}\n",
       "\t& ID & Cycle & BatchNum & Batch & Company & SowID & NurEnrich & QNurPenBatch & NurPenBatch & \\\\\n",
       "\t\\hline\n",
       "\t& String & Int64 & Int64 & String & String & String & Bool & String & String? & \\\\\n",
       "\t\\hline\n",
       "\t1 & 0001 & 1 & 1 & 1B & A & 1B\\_1715 & false & 1B\\_D04 & 1B\\_D04 & $\\dots$ \\\\\n",
       "\t2 & 0002 & 1 & 1 & 1B & A & 1B\\_1642 & false & 1B\\_D04 & 1B\\_D04 & $\\dots$ \\\\\n",
       "\t3 & 0004 & 1 & 1 & 1B & A & 1B\\_2150 & false & 1B\\_D04 & 1B\\_D04 & $\\dots$ \\\\\n",
       "\t4 & 0005 & 1 & 1 & 1B & A & 1B\\_1980 & false & 1B\\_D04 & 1B\\_D04 & $\\dots$ \\\\\n",
       "\t5 & 0006 & 1 & 1 & 1B & A & 1B\\_1902 & false & 1B\\_D04 & 1B\\_D04 & $\\dots$ \\\\\n",
       "\t6 & 0007 & 1 & 1 & 1B & A & 1B\\_2150 & false & 1B\\_D04 & 1B\\_D04 & $\\dots$ \\\\\n",
       "\t7 & 0009 & 1 & 1 & 1B & A & 1B\\_1902 & false & 1B\\_D02 & 1B\\_D02 & $\\dots$ \\\\\n",
       "\t8 & 0010 & 1 & 1 & 1B & A & 1B\\_1885 & false & 1B\\_D02 & 1B\\_D02 & $\\dots$ \\\\\n",
       "\t9 & 0011 & 1 & 1 & 1B & A & 1B\\_2097 & false & 1B\\_D02 & 1B\\_D02 & $\\dots$ \\\\\n",
       "\t10 & 0012 & 1 & 1 & 1B & A & 1B\\_1902 & false & 1B\\_D02 & 1B\\_D02 & $\\dots$ \\\\\n",
       "\t11 & 0013 & 1 & 1 & 1B & A & 1B\\_1643 & false & 1B\\_D02 & 1B\\_D02 & $\\dots$ \\\\\n",
       "\t12 & 0014 & 1 & 1 & 1B & A & 1B\\_2150 & false & 1B\\_D02 & 1B\\_D02 & $\\dots$ \\\\\n",
       "\t13 & 0015 & 1 & 1 & 1B & A & 1B\\_1980 & false & 1B\\_B06 & 1B\\_B06 & $\\dots$ \\\\\n",
       "\t14 & 0016 & 1 & 1 & 1B & A & 1B\\_1980 & false & 1B\\_B06 & 1B\\_B06 & $\\dots$ \\\\\n",
       "\t15 & 0017 & 1 & 1 & 1B & A & 1B\\_2048 & false & 1B\\_B06 & 1B\\_B06 & $\\dots$ \\\\\n",
       "\t16 & 0018 & 1 & 1 & 1B & A & 1B\\_1642 & false & 1B\\_B06 & 1B\\_B06 & $\\dots$ \\\\\n",
       "\t17 & 0019 & 1 & 1 & 1B & A & 1B\\_2223 & false & 1B\\_B06 & 1B\\_B06 & $\\dots$ \\\\\n",
       "\t18 & 0020 & 1 & 1 & 1B & A & 1B\\_1486 & false & 1B\\_B06 & 1B\\_B06 & $\\dots$ \\\\\n",
       "\t19 & 0021 & 1 & 1 & 1B & A & 1B\\_1643 & false & 1B\\_B06 & 1B\\_B06 & $\\dots$ \\\\\n",
       "\t20 & 0022 & 1 & 1 & 1B & A & 1B\\_2223 & false & 1B\\_B04 & 1B\\_B04 & $\\dots$ \\\\\n",
       "\t21 & 0023 & 1 & 1 & 1B & A & 1B\\_2154 & false & 1B\\_B04 & 1B\\_B04 & $\\dots$ \\\\\n",
       "\t22 & 0024 & 1 & 1 & 1B & A & 1B\\_2223 & false & 1B\\_B04 & 1B\\_B04 & $\\dots$ \\\\\n",
       "\t23 & 0025 & 1 & 1 & 1B & A & 1B\\_1870 & false & 1B\\_B04 & 1B\\_B04 & $\\dots$ \\\\\n",
       "\t24 & 0026 & 1 & 1 & 1B & A & 1B\\_2065 & false & 1B\\_B04 & 1B\\_B04 & $\\dots$ \\\\\n",
       "\t25 & 0027 & 1 & 1 & 1B & A & 1B\\_2239 & false & 1B\\_B04 & 1B\\_B04 & $\\dots$ \\\\\n",
       "\t26 & 0028 & 1 & 1 & 1B & A & 1B\\_1486 & false & 1B\\_B04 & 1B\\_B04 & $\\dots$ \\\\\n",
       "\t27 & 0029 & 1 & 1 & 1B & A & 1B\\_2149 & false & 1B\\_B09 & 1B\\_B09 & $\\dots$ \\\\\n",
       "\t28 & 0030 & 1 & 1 & 1B & A & 1B\\_1520 & false & 1B\\_B09 & 1B\\_B09 & $\\dots$ \\\\\n",
       "\t29 & 0031 & 1 & 1 & 1B & A & 1B\\_1784 & false & 1B\\_B09 & 1B\\_B09 & $\\dots$ \\\\\n",
       "\t30 & 0032 & 1 & 1 & 1B & A & 1B\\_2048 & false & 1B\\_B09 & 1B\\_B09 & $\\dots$ \\\\\n",
       "\t$\\dots$ & $\\dots$ & $\\dots$ & $\\dots$ & $\\dots$ & $\\dots$ & $\\dots$ & $\\dots$ & $\\dots$ & $\\dots$ &  \\\\\n",
       "\\end{tabular}\n"
      ],
      "text/plain": [
       "3205×49 DataFrame. Omitted printing of 42 columns\n",
       "│ Row  │ ID     │ Cycle │ BatchNum │ Batch  │ Company │ SowID   │ NurEnrich │\n",
       "│      │ \u001b[90mString\u001b[39m │ \u001b[90mInt64\u001b[39m │ \u001b[90mInt64\u001b[39m    │ \u001b[90mString\u001b[39m │ \u001b[90mString\u001b[39m  │ \u001b[90mString\u001b[39m  │ \u001b[90mBool\u001b[39m      │\n",
       "├──────┼────────┼───────┼──────────┼────────┼─────────┼─────────┼───────────┤\n",
       "│ 1    │ 0001   │ 1     │ 1        │ 1B     │ A       │ 1B_1715 │ false     │\n",
       "│ 2    │ 0002   │ 1     │ 1        │ 1B     │ A       │ 1B_1642 │ false     │\n",
       "│ 3    │ 0004   │ 1     │ 1        │ 1B     │ A       │ 1B_2150 │ false     │\n",
       "│ 4    │ 0005   │ 1     │ 1        │ 1B     │ A       │ 1B_1980 │ false     │\n",
       "│ 5    │ 0006   │ 1     │ 1        │ 1B     │ A       │ 1B_1902 │ false     │\n",
       "│ 6    │ 0007   │ 1     │ 1        │ 1B     │ A       │ 1B_2150 │ false     │\n",
       "│ 7    │ 0009   │ 1     │ 1        │ 1B     │ A       │ 1B_1902 │ false     │\n",
       "│ 8    │ 0010   │ 1     │ 1        │ 1B     │ A       │ 1B_1885 │ false     │\n",
       "│ 9    │ 0011   │ 1     │ 1        │ 1B     │ A       │ 1B_2097 │ false     │\n",
       "│ 10   │ 0012   │ 1     │ 1        │ 1B     │ A       │ 1B_1902 │ false     │\n",
       "⋮\n",
       "│ 3195 │ 3284   │ 7     │ 50       │ 7H     │ B       │ 74      │ false     │\n",
       "│ 3196 │ 3285   │ 7     │ 50       │ 7H     │ B       │ 40      │ false     │\n",
       "│ 3197 │ 3286   │ 7     │ 50       │ 7H     │ B       │ 24      │ false     │\n",
       "│ 3198 │ 3287   │ 7     │ 50       │ 7H     │ B       │ 29      │ true      │\n",
       "│ 3199 │ 3288   │ 7     │ 50       │ 7H     │ B       │ 26      │ true      │\n",
       "│ 3200 │ 3289   │ 7     │ 50       │ 7H     │ B       │ 42      │ true      │\n",
       "│ 3201 │ 3290   │ 7     │ 50       │ 7H     │ B       │ 67      │ true      │\n",
       "│ 3202 │ 3291   │ 7     │ 50       │ 7H     │ B       │ 76      │ false     │\n",
       "│ 3203 │ 3292   │ 7     │ 50       │ 7H     │ B       │ 15      │ false     │\n",
       "│ 3204 │ 3293   │ 7     │ 50       │ 7H     │ B       │ 1       │ false     │\n",
       "│ 3205 │ 3294   │ 7     │ 50       │ 7H     │ B       │ 5       │ false     │"
      ]
     },
     "execution_count": 10,
     "metadata": {},
     "output_type": "execute_result"
    }
   ],
   "source": [
    "phenotypes = CSV.read(\"/home/jovyan/mark/JWAS_CDPQ/CDPQ_all_data/production_1_7_Exp_0.75_Complete.dat\", types=Dict(:ID => String), delim = ' ',header=true, missingstrings=[\"NA\"] )\n",
    "#first(phenotypes,10)"
   ]
  },
  {
   "cell_type": "code",
   "execution_count": 11,
   "metadata": {},
   "outputs": [
    {
     "data": {
      "text/html": [
       "<table class=\"data-frame\"><thead><tr><th></th><th>ID</th><th>Cycle</th><th>BatchNum</th><th>Batch</th><th>Company</th><th>SowID</th><th>NurEnrich</th><th>QNurPenBatch</th><th>NurPenBatch</th></tr><tr><th></th><th>String</th><th>Int64</th><th>Int64</th><th>String</th><th>String</th><th>String</th><th>Bool</th><th>String</th><th>String?</th></tr></thead><tbody><p>2,843 rows × 49 columns (omitted printing of 40 columns)</p><tr><th>1</th><td>0001</td><td>1</td><td>1</td><td>1B</td><td>A</td><td>1B_1715</td><td>false</td><td>1B_D04</td><td>1B_D04</td></tr><tr><th>2</th><td>0002</td><td>1</td><td>1</td><td>1B</td><td>A</td><td>1B_1642</td><td>false</td><td>1B_D04</td><td>1B_D04</td></tr><tr><th>3</th><td>0004</td><td>1</td><td>1</td><td>1B</td><td>A</td><td>1B_2150</td><td>false</td><td>1B_D04</td><td>1B_D04</td></tr><tr><th>4</th><td>0005</td><td>1</td><td>1</td><td>1B</td><td>A</td><td>1B_1980</td><td>false</td><td>1B_D04</td><td>1B_D04</td></tr><tr><th>5</th><td>0007</td><td>1</td><td>1</td><td>1B</td><td>A</td><td>1B_2150</td><td>false</td><td>1B_D04</td><td>1B_D04</td></tr><tr><th>6</th><td>0009</td><td>1</td><td>1</td><td>1B</td><td>A</td><td>1B_1902</td><td>false</td><td>1B_D02</td><td>1B_D02</td></tr><tr><th>7</th><td>0010</td><td>1</td><td>1</td><td>1B</td><td>A</td><td>1B_1885</td><td>false</td><td>1B_D02</td><td>1B_D02</td></tr><tr><th>8</th><td>0011</td><td>1</td><td>1</td><td>1B</td><td>A</td><td>1B_2097</td><td>false</td><td>1B_D02</td><td>1B_D02</td></tr><tr><th>9</th><td>0012</td><td>1</td><td>1</td><td>1B</td><td>A</td><td>1B_1902</td><td>false</td><td>1B_D02</td><td>1B_D02</td></tr><tr><th>10</th><td>0013</td><td>1</td><td>1</td><td>1B</td><td>A</td><td>1B_1643</td><td>false</td><td>1B_D02</td><td>1B_D02</td></tr><tr><th>11</th><td>0014</td><td>1</td><td>1</td><td>1B</td><td>A</td><td>1B_2150</td><td>false</td><td>1B_D02</td><td>1B_D02</td></tr><tr><th>12</th><td>0015</td><td>1</td><td>1</td><td>1B</td><td>A</td><td>1B_1980</td><td>false</td><td>1B_B06</td><td>1B_B06</td></tr><tr><th>13</th><td>0016</td><td>1</td><td>1</td><td>1B</td><td>A</td><td>1B_1980</td><td>false</td><td>1B_B06</td><td>1B_B06</td></tr><tr><th>14</th><td>0017</td><td>1</td><td>1</td><td>1B</td><td>A</td><td>1B_2048</td><td>false</td><td>1B_B06</td><td>1B_B06</td></tr><tr><th>15</th><td>0018</td><td>1</td><td>1</td><td>1B</td><td>A</td><td>1B_1642</td><td>false</td><td>1B_B06</td><td>1B_B06</td></tr><tr><th>16</th><td>0019</td><td>1</td><td>1</td><td>1B</td><td>A</td><td>1B_2223</td><td>false</td><td>1B_B06</td><td>1B_B06</td></tr><tr><th>17</th><td>0020</td><td>1</td><td>1</td><td>1B</td><td>A</td><td>1B_1486</td><td>false</td><td>1B_B06</td><td>1B_B06</td></tr><tr><th>18</th><td>0021</td><td>1</td><td>1</td><td>1B</td><td>A</td><td>1B_1643</td><td>false</td><td>1B_B06</td><td>1B_B06</td></tr><tr><th>19</th><td>0022</td><td>1</td><td>1</td><td>1B</td><td>A</td><td>1B_2223</td><td>false</td><td>1B_B04</td><td>1B_B04</td></tr><tr><th>20</th><td>0023</td><td>1</td><td>1</td><td>1B</td><td>A</td><td>1B_2154</td><td>false</td><td>1B_B04</td><td>1B_B04</td></tr><tr><th>21</th><td>0024</td><td>1</td><td>1</td><td>1B</td><td>A</td><td>1B_2223</td><td>false</td><td>1B_B04</td><td>1B_B04</td></tr><tr><th>22</th><td>0025</td><td>1</td><td>1</td><td>1B</td><td>A</td><td>1B_1870</td><td>false</td><td>1B_B04</td><td>1B_B04</td></tr><tr><th>23</th><td>0026</td><td>1</td><td>1</td><td>1B</td><td>A</td><td>1B_2065</td><td>false</td><td>1B_B04</td><td>1B_B04</td></tr><tr><th>24</th><td>0027</td><td>1</td><td>1</td><td>1B</td><td>A</td><td>1B_2239</td><td>false</td><td>1B_B04</td><td>1B_B04</td></tr><tr><th>25</th><td>0028</td><td>1</td><td>1</td><td>1B</td><td>A</td><td>1B_1486</td><td>false</td><td>1B_B04</td><td>1B_B04</td></tr><tr><th>26</th><td>0029</td><td>1</td><td>1</td><td>1B</td><td>A</td><td>1B_2149</td><td>false</td><td>1B_B09</td><td>1B_B09</td></tr><tr><th>27</th><td>0030</td><td>1</td><td>1</td><td>1B</td><td>A</td><td>1B_1520</td><td>false</td><td>1B_B09</td><td>1B_B09</td></tr><tr><th>28</th><td>0031</td><td>1</td><td>1</td><td>1B</td><td>A</td><td>1B_1784</td><td>false</td><td>1B_B09</td><td>1B_B09</td></tr><tr><th>29</th><td>0032</td><td>1</td><td>1</td><td>1B</td><td>A</td><td>1B_2048</td><td>false</td><td>1B_B09</td><td>1B_B09</td></tr><tr><th>30</th><td>0033</td><td>1</td><td>1</td><td>1B</td><td>A</td><td>1B_1780</td><td>false</td><td>1B_B09</td><td>1B_B09</td></tr><tr><th>&vellip;</th><td>&vellip;</td><td>&vellip;</td><td>&vellip;</td><td>&vellip;</td><td>&vellip;</td><td>&vellip;</td><td>&vellip;</td><td>&vellip;</td><td>&vellip;</td></tr></tbody></table>"
      ],
      "text/latex": [
       "\\begin{tabular}{r|cccccccccc}\n",
       "\t& ID & Cycle & BatchNum & Batch & Company & SowID & NurEnrich & QNurPenBatch & NurPenBatch & \\\\\n",
       "\t\\hline\n",
       "\t& String & Int64 & Int64 & String & String & String & Bool & String & String? & \\\\\n",
       "\t\\hline\n",
       "\t1 & 0001 & 1 & 1 & 1B & A & 1B\\_1715 & false & 1B\\_D04 & 1B\\_D04 & $\\dots$ \\\\\n",
       "\t2 & 0002 & 1 & 1 & 1B & A & 1B\\_1642 & false & 1B\\_D04 & 1B\\_D04 & $\\dots$ \\\\\n",
       "\t3 & 0004 & 1 & 1 & 1B & A & 1B\\_2150 & false & 1B\\_D04 & 1B\\_D04 & $\\dots$ \\\\\n",
       "\t4 & 0005 & 1 & 1 & 1B & A & 1B\\_1980 & false & 1B\\_D04 & 1B\\_D04 & $\\dots$ \\\\\n",
       "\t5 & 0007 & 1 & 1 & 1B & A & 1B\\_2150 & false & 1B\\_D04 & 1B\\_D04 & $\\dots$ \\\\\n",
       "\t6 & 0009 & 1 & 1 & 1B & A & 1B\\_1902 & false & 1B\\_D02 & 1B\\_D02 & $\\dots$ \\\\\n",
       "\t7 & 0010 & 1 & 1 & 1B & A & 1B\\_1885 & false & 1B\\_D02 & 1B\\_D02 & $\\dots$ \\\\\n",
       "\t8 & 0011 & 1 & 1 & 1B & A & 1B\\_2097 & false & 1B\\_D02 & 1B\\_D02 & $\\dots$ \\\\\n",
       "\t9 & 0012 & 1 & 1 & 1B & A & 1B\\_1902 & false & 1B\\_D02 & 1B\\_D02 & $\\dots$ \\\\\n",
       "\t10 & 0013 & 1 & 1 & 1B & A & 1B\\_1643 & false & 1B\\_D02 & 1B\\_D02 & $\\dots$ \\\\\n",
       "\t11 & 0014 & 1 & 1 & 1B & A & 1B\\_2150 & false & 1B\\_D02 & 1B\\_D02 & $\\dots$ \\\\\n",
       "\t12 & 0015 & 1 & 1 & 1B & A & 1B\\_1980 & false & 1B\\_B06 & 1B\\_B06 & $\\dots$ \\\\\n",
       "\t13 & 0016 & 1 & 1 & 1B & A & 1B\\_1980 & false & 1B\\_B06 & 1B\\_B06 & $\\dots$ \\\\\n",
       "\t14 & 0017 & 1 & 1 & 1B & A & 1B\\_2048 & false & 1B\\_B06 & 1B\\_B06 & $\\dots$ \\\\\n",
       "\t15 & 0018 & 1 & 1 & 1B & A & 1B\\_1642 & false & 1B\\_B06 & 1B\\_B06 & $\\dots$ \\\\\n",
       "\t16 & 0019 & 1 & 1 & 1B & A & 1B\\_2223 & false & 1B\\_B06 & 1B\\_B06 & $\\dots$ \\\\\n",
       "\t17 & 0020 & 1 & 1 & 1B & A & 1B\\_1486 & false & 1B\\_B06 & 1B\\_B06 & $\\dots$ \\\\\n",
       "\t18 & 0021 & 1 & 1 & 1B & A & 1B\\_1643 & false & 1B\\_B06 & 1B\\_B06 & $\\dots$ \\\\\n",
       "\t19 & 0022 & 1 & 1 & 1B & A & 1B\\_2223 & false & 1B\\_B04 & 1B\\_B04 & $\\dots$ \\\\\n",
       "\t20 & 0023 & 1 & 1 & 1B & A & 1B\\_2154 & false & 1B\\_B04 & 1B\\_B04 & $\\dots$ \\\\\n",
       "\t21 & 0024 & 1 & 1 & 1B & A & 1B\\_2223 & false & 1B\\_B04 & 1B\\_B04 & $\\dots$ \\\\\n",
       "\t22 & 0025 & 1 & 1 & 1B & A & 1B\\_1870 & false & 1B\\_B04 & 1B\\_B04 & $\\dots$ \\\\\n",
       "\t23 & 0026 & 1 & 1 & 1B & A & 1B\\_2065 & false & 1B\\_B04 & 1B\\_B04 & $\\dots$ \\\\\n",
       "\t24 & 0027 & 1 & 1 & 1B & A & 1B\\_2239 & false & 1B\\_B04 & 1B\\_B04 & $\\dots$ \\\\\n",
       "\t25 & 0028 & 1 & 1 & 1B & A & 1B\\_1486 & false & 1B\\_B04 & 1B\\_B04 & $\\dots$ \\\\\n",
       "\t26 & 0029 & 1 & 1 & 1B & A & 1B\\_2149 & false & 1B\\_B09 & 1B\\_B09 & $\\dots$ \\\\\n",
       "\t27 & 0030 & 1 & 1 & 1B & A & 1B\\_1520 & false & 1B\\_B09 & 1B\\_B09 & $\\dots$ \\\\\n",
       "\t28 & 0031 & 1 & 1 & 1B & A & 1B\\_1784 & false & 1B\\_B09 & 1B\\_B09 & $\\dots$ \\\\\n",
       "\t29 & 0032 & 1 & 1 & 1B & A & 1B\\_2048 & false & 1B\\_B09 & 1B\\_B09 & $\\dots$ \\\\\n",
       "\t30 & 0033 & 1 & 1 & 1B & A & 1B\\_1780 & false & 1B\\_B09 & 1B\\_B09 & $\\dots$ \\\\\n",
       "\t$\\dots$ & $\\dots$ & $\\dots$ & $\\dots$ & $\\dots$ & $\\dots$ & $\\dots$ & $\\dots$ & $\\dots$ & $\\dots$ &  \\\\\n",
       "\\end{tabular}\n"
      ],
      "text/plain": [
       "2843×49 DataFrame. Omitted printing of 42 columns\n",
       "│ Row  │ ID     │ Cycle │ BatchNum │ Batch  │ Company │ SowID   │ NurEnrich │\n",
       "│      │ \u001b[90mString\u001b[39m │ \u001b[90mInt64\u001b[39m │ \u001b[90mInt64\u001b[39m    │ \u001b[90mString\u001b[39m │ \u001b[90mString\u001b[39m  │ \u001b[90mString\u001b[39m  │ \u001b[90mBool\u001b[39m      │\n",
       "├──────┼────────┼───────┼──────────┼────────┼─────────┼─────────┼───────────┤\n",
       "│ 1    │ 0001   │ 1     │ 1        │ 1B     │ A       │ 1B_1715 │ false     │\n",
       "│ 2    │ 0002   │ 1     │ 1        │ 1B     │ A       │ 1B_1642 │ false     │\n",
       "│ 3    │ 0004   │ 1     │ 1        │ 1B     │ A       │ 1B_2150 │ false     │\n",
       "│ 4    │ 0005   │ 1     │ 1        │ 1B     │ A       │ 1B_1980 │ false     │\n",
       "│ 5    │ 0007   │ 1     │ 1        │ 1B     │ A       │ 1B_2150 │ false     │\n",
       "│ 6    │ 0009   │ 1     │ 1        │ 1B     │ A       │ 1B_1902 │ false     │\n",
       "│ 7    │ 0010   │ 1     │ 1        │ 1B     │ A       │ 1B_1885 │ false     │\n",
       "│ 8    │ 0011   │ 1     │ 1        │ 1B     │ A       │ 1B_2097 │ false     │\n",
       "│ 9    │ 0012   │ 1     │ 1        │ 1B     │ A       │ 1B_1902 │ false     │\n",
       "│ 10   │ 0013   │ 1     │ 1        │ 1B     │ A       │ 1B_1643 │ false     │\n",
       "⋮\n",
       "│ 2833 │ 3284   │ 7     │ 50       │ 7H     │ B       │ 74      │ false     │\n",
       "│ 2834 │ 3285   │ 7     │ 50       │ 7H     │ B       │ 40      │ false     │\n",
       "│ 2835 │ 3286   │ 7     │ 50       │ 7H     │ B       │ 24      │ false     │\n",
       "│ 2836 │ 3287   │ 7     │ 50       │ 7H     │ B       │ 29      │ true      │\n",
       "│ 2837 │ 3288   │ 7     │ 50       │ 7H     │ B       │ 26      │ true      │\n",
       "│ 2838 │ 3289   │ 7     │ 50       │ 7H     │ B       │ 42      │ true      │\n",
       "│ 2839 │ 3290   │ 7     │ 50       │ 7H     │ B       │ 67      │ true      │\n",
       "│ 2840 │ 3291   │ 7     │ 50       │ 7H     │ B       │ 76      │ false     │\n",
       "│ 2841 │ 3292   │ 7     │ 50       │ 7H     │ B       │ 15      │ false     │\n",
       "│ 2842 │ 3293   │ 7     │ 50       │ 7H     │ B       │ 1       │ false     │\n",
       "│ 2843 │ 3294   │ 7     │ 50       │ 7H     │ B       │ 5       │ false     │"
      ]
     },
     "execution_count": 11,
     "metadata": {},
     "output_type": "execute_result"
    }
   ],
   "source": [
    "phenotypes= dropmissing(phenotypes, :FinPenBatch)\n",
    "phenotypes"
   ]
  },
  {
   "cell_type": "code",
   "execution_count": 12,
   "metadata": {},
   "outputs": [],
   "source": [
    "ADFI_model_equations = \"ADFI = intercept + Batch + Died + EntryAge + FinPenBatch + SowID\"\n",
    "ADFI_R=0.491671E-01\n",
    "ADFI_model=build_model(ADFI_model_equations,ADFI_R);"
   ]
  },
  {
   "cell_type": "code",
   "execution_count": 13,
   "metadata": {},
   "outputs": [
    {
     "data": {
      "text/plain": [
       "1-element Array{Symbol,1}:\n",
       " :EntryAge"
      ]
     },
     "execution_count": 13,
     "metadata": {},
     "output_type": "execute_result"
    }
   ],
   "source": [
    "set_covariate(ADFI_model,\"EntryAge\")"
   ]
  },
  {
   "cell_type": "code",
   "execution_count": 14,
   "metadata": {},
   "outputs": [],
   "source": [
    "ADFI_G1=0.569986E-02\n",
    "set_random(ADFI_model,\"FinPenBatch\",ADFI_G1)"
   ]
  },
  {
   "cell_type": "code",
   "execution_count": 15,
   "metadata": {},
   "outputs": [],
   "source": [
    "ADFI_G2=0.360955E-02\n",
    "set_random(ADFI_model,\"SowID\",ADFI_G2)"
   ]
  },
  {
   "cell_type": "code",
   "execution_count": 2,
   "metadata": {},
   "outputs": [
    {
     "name": "stdout",
     "output_type": "stream",
     "text": [
      " 24.958094 seconds (37.77 k allocations: 10.393 GiB, 0.09% gc time)\n"
     ]
    },
    {
     "data": {
      "text/plain": [
       "3205×435172 Array{Float64,2}:\n",
       " 0.0  2.0  0.0  2.0  2.0  0.0  2.0  2.0  …  0.0  2.0  0.0  2.0  2.0  2.0  2.0\n",
       " 1.0  2.0  0.0  2.0  2.0  0.0  1.0  2.0     0.0  2.0  1.0  2.0  2.0  2.0  2.0\n",
       " 0.0  2.0  0.0  1.0  2.0  0.0  1.0  2.0     0.0  2.0  0.0  2.0  2.0  2.0  2.0\n",
       " 1.0  2.0  0.0  1.0  2.0  0.0  1.0  2.0     0.0  2.0  1.0  2.0  2.0  2.0  2.0\n",
       " 0.0  2.0  0.0  2.0  2.0  0.0  2.0  2.0     0.0  2.0  0.0  2.0  2.0  2.0  2.0\n",
       " 1.0  1.0  1.0  0.0  1.0  1.0  0.0  1.0  …  0.0  2.0  0.0  2.0  2.0  2.0  2.0\n",
       " 0.0  2.0  0.0  1.0  2.0  0.0  1.0  2.0     0.0  2.0  0.0  2.0  2.0  2.0  2.0\n",
       " 0.0  2.0  0.0  0.0  2.0  0.0  0.0  2.0     0.0  2.0  0.0  2.0  2.0  2.0  2.0\n",
       " 1.0  2.0  0.0  0.0  2.0  0.0  0.0  2.0     0.0  2.0  0.0  2.0  2.0  2.0  2.0\n",
       " 0.0  2.0  0.0  2.0  2.0  0.0  2.0  2.0     0.0  2.0  1.0  2.0  2.0  2.0  2.0\n",
       " 1.0  1.0  0.0  1.0  2.0  0.0  0.0  2.0  …  0.0  2.0  0.0  2.0  2.0  2.0  2.0\n",
       " 0.0  2.0  0.0  0.0  2.0  0.0  0.0  2.0     0.0  2.0  0.0  2.0  2.0  2.0  2.0\n",
       " 1.0  1.0  1.0  1.0  1.0  1.0  1.0  1.0     0.0  2.0  1.0  2.0  2.0  2.0  2.0\n",
       " ⋮                        ⋮              ⋱  ⋮                        ⋮       \n",
       " 0.0  2.0  0.0  0.0  2.0  0.0  0.0  2.0     1.0  2.0  0.0  2.0  2.0  2.0  2.0\n",
       " 1.0  2.0  0.0  1.0  2.0  0.0  0.0  2.0     1.0  2.0  0.0  2.0  2.0  2.0  2.0\n",
       " 2.0  2.0  0.0  2.0  2.0  0.0  0.0  2.0  …  1.0  2.0  0.0  2.0  2.0  2.0  2.0\n",
       " 2.0  1.0  1.0  1.0  1.0  1.0  0.0  1.0     1.0  2.0  0.0  2.0  2.0  2.0  2.0\n",
       " 2.0  2.0  0.0  2.0  2.0  0.0  0.0  2.0     0.0  2.0  0.0  2.0  2.0  2.0  2.0\n",
       " 2.0  2.0  0.0  2.0  2.0  0.0  0.0  2.0     1.0  2.0  0.0  2.0  2.0  2.0  2.0\n",
       " 1.0  1.0  1.0  0.0  1.0  1.0  0.0  1.0     0.0  2.0  0.0  2.0  2.0  2.0  2.0\n",
       " 2.0  0.0  2.0  0.0  0.0  2.0  0.0  0.0  …  1.0  2.0  0.0  2.0  2.0  2.0  2.0\n",
       " 0.0  2.0  0.0  1.0  2.0  0.0  1.0  2.0     1.0  2.0  0.0  2.0  2.0  2.0  2.0\n",
       " 1.0  1.0  1.0  1.0  1.0  1.0  1.0  1.0     1.0  2.0  0.0  2.0  2.0  2.0  2.0\n",
       " 0.0  2.0  0.0  1.0  2.0  0.0  1.0  2.0     1.0  2.0  0.0  2.0  2.0  2.0  2.0\n",
       " 1.0  2.0  0.0  1.0  2.0  0.0  0.0  2.0     1.0  2.0  0.0  2.0  2.0  2.0  2.0"
      ]
     },
     "execution_count": 2,
     "metadata": {},
     "output_type": "execute_result"
    }
   ],
   "source": [
    "function readMatBin(fileName)\n",
    "    genStr = open(fileName)\n",
    "    n = read(genStr,Int64)\n",
    "    p = read(genStr,Int64)\n",
    "    M = zeros(n,p)\n",
    "    for j in 1:p\n",
    "        for i in 1:n\n",
    "            M[i,j] = read(genStr,Float64)\n",
    "        end\n",
    "    end\n",
    "    close(genStr)\n",
    "    return M\n",
    "end\n",
    "@time M = readMatBin(\"/home/jovyan/mark/JWAS_CDPQ/CDPQ_all_data/ALGP2_Cycle_1_7_Geno_Complete_Impute_JWAS.bin.gen.bin\")"
   ]
  },
  {
   "cell_type": "code",
   "execution_count": 17,
   "metadata": {},
   "outputs": [
    {
     "data": {
      "text/plain": [
       "3205-element Array{String,1}:\n",
       " \"0001\"\n",
       " \"0002\"\n",
       " \"0004\"\n",
       " \"0005\"\n",
       " \"0006\"\n",
       " \"0007\"\n",
       " \"0009\"\n",
       " \"0010\"\n",
       " \"0011\"\n",
       " \"0012\"\n",
       " \"0013\"\n",
       " \"0014\"\n",
       " \"0015\"\n",
       " ⋮     \n",
       " \"3283\"\n",
       " \"3284\"\n",
       " \"3285\"\n",
       " \"3286\"\n",
       " \"3287\"\n",
       " \"3288\"\n",
       " \"3289\"\n",
       " \"3290\"\n",
       " \"3291\"\n",
       " \"3292\"\n",
       " \"3293\"\n",
       " \"3294\""
      ]
     },
     "execution_count": 17,
     "metadata": {},
     "output_type": "execute_result"
    }
   ],
   "source": [
    "rowID = vec(readdlm(\"/home/jovyan/mark/JWAS_CDPQ/CDPQ_all_data/ALGP2_Cycle_1_7_Geno_Complete_Impute_JWAS.bin.ids.txt\",String))"
   ]
  },
  {
   "cell_type": "code",
   "execution_count": 18,
   "metadata": {},
   "outputs": [
    {
     "name": "stdout",
     "output_type": "stream",
     "text": [
      "\u001b[0m\u001b[1mThe header (marker IDs) is set to 1,2,...,#markers\u001b[22m\n",
      "435172 markers on 3205 individuals were added.\n",
      "  8.154287 seconds (4.31 M allocations: 21.012 GiB, 2.88% gc time)\n"
     ]
    }
   ],
   "source": [
    "ADFI_G3=0.288430E-01\n",
    "@time add_genotypes(ADFI_model,M,ADFI_G3,header=false, rowID=rowID)\n",
    "#@time add_genotypes(Nur2ADG_model,\"Geno_JWAS_impute.txt\",Nur2ADG_G3,separator=' ')"
   ]
  },
  {
   "cell_type": "code",
   "execution_count": 12,
   "metadata": {},
   "outputs": [
    {
     "name": "stdout",
     "output_type": "stream",
     "text": [
      "\u001b[32mChecking phenotypes...\u001b[39m\n",
      "\u001b[32mIndividual IDs (strings) are provided in the first column of the phenotypic data.\u001b[39m\n",
      "\u001b[31mPhenotypes for all traits included in the model for individual 0058 in the row 54 are missing. This record is deleted.\u001b[39m\n",
      "\u001b[31mPhenotypes for all traits included in the model for individual 0065 in the row 59 are missing. This record is deleted.\u001b[39m\n",
      "\u001b[31mPhenotypes for all traits included in the model for individual 0084 in the row 78 are missing. This record is deleted.\u001b[39m\n",
      "\u001b[31mPhenotypes for all traits included in the model for individual 0086 in the row 80 are missing. This record is deleted.\u001b[39m\n",
      "\u001b[31mPhenotypes for all traits included in the model for individual 0098 in the row 89 are missing. This record is deleted.\u001b[39m\n",
      "\u001b[31mPhenotypes for all traits included in the model for individual 0101 in the row 91 are missing. This record is deleted.\u001b[39m\n",
      "\u001b[31mPhenotypes for all traits included in the model for individual 0108 in the row 98 are missing. This record is deleted.\u001b[39m\n",
      "\u001b[31mPhenotypes for all traits included in the model for individual 0110 in the row 100 are missing. This record is deleted.\u001b[39m\n",
      "\u001b[31mPhenotypes for all traits included in the model for individual 0116 in the row 106 are missing. This record is deleted.\u001b[39m\n",
      "\u001b[31mPhenotypes for all traits included in the model for individual 0117 in the row 107 are missing. This record is deleted.\u001b[39m\n",
      "\u001b[31mPhenotypes for all traits included in the model for individual 0123 in the row 113 are missing. This record is deleted.\u001b[39m\n",
      "\u001b[31mPhenotypes for all traits included in the model for individual 0125 in the row 115 are missing. This record is deleted.\u001b[39m\n",
      "\u001b[31mPhenotypes for all traits included in the model for individual 0126 in the row 116 are missing. This record is deleted.\u001b[39m\n",
      "\u001b[31mPhenotypes for all traits included in the model for individual 0127 in the row 117 are missing. This record is deleted.\u001b[39m\n",
      "\u001b[31mPhenotypes for all traits included in the model for individual 0130 in the row 120 are missing. This record is deleted.\u001b[39m\n",
      "\u001b[31mPhenotypes for all traits included in the model for individual 0134 in the row 124 are missing. This record is deleted.\u001b[39m\n",
      "\u001b[31mPhenotypes for all traits included in the model for individual 0137 in the row 127 are missing. This record is deleted.\u001b[39m\n",
      "\u001b[31mPhenotypes for all traits included in the model for individual 0143 in the row 133 are missing. This record is deleted.\u001b[39m\n",
      "\u001b[31mPhenotypes for all traits included in the model for individual 0148 in the row 137 are missing. This record is deleted.\u001b[39m\n",
      "\u001b[31mPhenotypes for all traits included in the model for individual 0149 in the row 138 are missing. This record is deleted.\u001b[39m\n",
      "\u001b[31mPhenotypes for all traits included in the model for individual 0151 in the row 140 are missing. This record is deleted.\u001b[39m\n",
      "\u001b[31mPhenotypes for all traits included in the model for individual 0152 in the row 141 are missing. This record is deleted.\u001b[39m\n",
      "\u001b[31mPhenotypes for all traits included in the model for individual 0153 in the row 142 are missing. This record is deleted.\u001b[39m\n",
      "\u001b[31mPhenotypes for all traits included in the model for individual 0164 in the row 152 are missing. This record is deleted.\u001b[39m\n",
      "\u001b[31mPhenotypes for all traits included in the model for individual 0173 in the row 160 are missing. This record is deleted.\u001b[39m\n",
      "\u001b[31mPhenotypes for all traits included in the model for individual 0180 in the row 167 are missing. This record is deleted.\u001b[39m\n",
      "\u001b[31mPhenotypes for all traits included in the model for individual 0182 in the row 168 are missing. This record is deleted.\u001b[39m\n",
      "\u001b[31mPhenotypes for all traits included in the model for individual 0193 in the row 177 are missing. This record is deleted.\u001b[39m\n",
      "\u001b[31mPhenotypes for all traits included in the model for individual 0194 in the row 178 are missing. This record is deleted.\u001b[39m\n",
      "\u001b[31mPhenotypes for all traits included in the model for individual 0195 in the row 179 are missing. This record is deleted.\u001b[39m\n",
      "\u001b[31mPhenotypes for all traits included in the model for individual 0196 in the row 180 are missing. This record is deleted.\u001b[39m\n",
      "\u001b[31mPhenotypes for all traits included in the model for individual 0198 in the row 182 are missing. This record is deleted.\u001b[39m\n",
      "\u001b[31mPhenotypes for all traits included in the model for individual 0204 in the row 185 are missing. This record is deleted.\u001b[39m\n",
      "\u001b[31mPhenotypes for all traits included in the model for individual 0208 in the row 186 are missing. This record is deleted.\u001b[39m\n",
      "\u001b[31mPhenotypes for all traits included in the model for individual 0210 in the row 188 are missing. This record is deleted.\u001b[39m\n",
      "\u001b[31mPhenotypes for all traits included in the model for individual 0211 in the row 189 are missing. This record is deleted.\u001b[39m\n",
      "\u001b[31mPhenotypes for all traits included in the model for individual 0214 in the row 192 are missing. This record is deleted.\u001b[39m\n",
      "\u001b[31mPhenotypes for all traits included in the model for individual 0217 in the row 195 are missing. This record is deleted.\u001b[39m\n",
      "\u001b[31mPhenotypes for all traits included in the model for individual 0220 in the row 198 are missing. This record is deleted.\u001b[39m\n",
      "\u001b[31mPhenotypes for all traits included in the model for individual 0222 in the row 200 are missing. This record is deleted.\u001b[39m\n",
      "\u001b[31mPhenotypes for all traits included in the model for individual 0223 in the row 201 are missing. This record is deleted.\u001b[39m\n",
      "\u001b[31mPhenotypes for all traits included in the model for individual 0226 in the row 204 are missing. This record is deleted.\u001b[39m\n",
      "\u001b[31mPhenotypes for all traits included in the model for individual 0227 in the row 205 are missing. This record is deleted.\u001b[39m\n",
      "\u001b[31mPhenotypes for all traits included in the model for individual 0229 in the row 207 are missing. This record is deleted.\u001b[39m\n",
      "\u001b[31mPhenotypes for all traits included in the model for individual 0230 in the row 208 are missing. This record is deleted.\u001b[39m\n",
      "\u001b[31mPhenotypes for all traits included in the model for individual 0233 in the row 210 are missing. This record is deleted.\u001b[39m\n",
      "\u001b[31mPhenotypes for all traits included in the model for individual 0234 in the row 211 are missing. This record is deleted.\u001b[39m\n",
      "\u001b[31mPhenotypes for all traits included in the model for individual 0236 in the row 213 are missing. This record is deleted.\u001b[39m\n",
      "\u001b[31mPhenotypes for all traits included in the model for individual 0237 in the row 214 are missing. This record is deleted.\u001b[39m\n",
      "\u001b[31mPhenotypes for all traits included in the model for individual 0239 in the row 216 are missing. This record is deleted.\u001b[39m\n",
      "\u001b[31mPhenotypes for all traits included in the model for individual 0240 in the row 217 are missing. This record is deleted.\u001b[39m\n",
      "\u001b[31mPhenotypes for all traits included in the model for individual 0241 in the row 218 are missing. This record is deleted.\u001b[39m\n",
      "\u001b[31mPhenotypes for all traits included in the model for individual 0242 in the row 219 are missing. This record is deleted.\u001b[39m\n",
      "\u001b[31mPhenotypes for all traits included in the model for individual 0244 in the row 220 are missing. This record is deleted.\u001b[39m\n",
      "\u001b[31mPhenotypes for all traits included in the model for individual 0246 in the row 222 are missing. This record is deleted.\u001b[39m\n",
      "\u001b[31mPhenotypes for all traits included in the model for individual 0250 in the row 226 are missing. This record is deleted.\u001b[39m\n",
      "\u001b[31mPhenotypes for all traits included in the model for individual 0251 in the row 227 are missing. This record is deleted.\u001b[39m\n",
      "\u001b[31mPhenotypes for all traits included in the model for individual 0254 in the row 230 are missing. This record is deleted.\u001b[39m\n",
      "\u001b[31mPhenotypes for all traits included in the model for individual 0255 in the row 231 are missing. This record is deleted.\u001b[39m\n",
      "\u001b[31mPhenotypes for all traits included in the model for individual 0258 in the row 234 are missing. This record is deleted.\u001b[39m\n",
      "\u001b[31mPhenotypes for all traits included in the model for individual 0259 in the row 235 are missing. This record is deleted.\u001b[39m\n",
      "\u001b[31mPhenotypes for all traits included in the model for individual 0261 in the row 237 are missing. This record is deleted.\u001b[39m\n",
      "\u001b[31mPhenotypes for all traits included in the model for individual 0262 in the row 238 are missing. This record is deleted.\u001b[39m\n",
      "\u001b[31mPhenotypes for all traits included in the model for individual 0265 in the row 240 are missing. This record is deleted.\u001b[39m\n",
      "\u001b[31mPhenotypes for all traits included in the model for individual 0272 in the row 247 are missing. This record is deleted.\u001b[39m\n",
      "\u001b[31mPhenotypes for all traits included in the model for individual 0274 in the row 248 are missing. This record is deleted.\u001b[39m\n",
      "\u001b[31mPhenotypes for all traits included in the model for individual 0276 in the row 250 are missing. This record is deleted.\u001b[39m\n",
      "\u001b[31mPhenotypes for all traits included in the model for individual 0279 in the row 252 are missing. This record is deleted.\u001b[39m\n",
      "\u001b[31mPhenotypes for all traits included in the model for individual 0282 in the row 255 are missing. This record is deleted.\u001b[39m\n",
      "\u001b[31mPhenotypes for all traits included in the model for individual 0283 in the row 256 are missing. This record is deleted.\u001b[39m\n",
      "\u001b[31mPhenotypes for all traits included in the model for individual 0284 in the row 257 are missing. This record is deleted.\u001b[39m\n",
      "\u001b[31mPhenotypes for all traits included in the model for individual 0285 in the row 258 are missing. This record is deleted.\u001b[39m\n",
      "\u001b[31mPhenotypes for all traits included in the model for individual 0286 in the row 259 are missing. This record is deleted.\u001b[39m\n",
      "\u001b[31mPhenotypes for all traits included in the model for individual 0288 in the row 260 are missing. This record is deleted.\u001b[39m\n",
      "\u001b[31mPhenotypes for all traits included in the model for individual 0290 in the row 261 are missing. This record is deleted.\u001b[39m\n",
      "\u001b[31mPhenotypes for all traits included in the model for individual 0292 in the row 263 are missing. This record is deleted.\u001b[39m\n",
      "\u001b[31mPhenotypes for all traits included in the model for individual 0296 in the row 264 are missing. This record is deleted.\u001b[39m\n",
      "\u001b[31mPhenotypes for all traits included in the model for individual 0297 in the row 265 are missing. This record is deleted.\u001b[39m\n",
      "\u001b[31mPhenotypes for all traits included in the model for individual 0299 in the row 267 are missing. This record is deleted.\u001b[39m\n",
      "\u001b[31mPhenotypes for all traits included in the model for individual 0301 in the row 269 are missing. This record is deleted.\u001b[39m\n",
      "\u001b[31mPhenotypes for all traits included in the model for individual 0302 in the row 270 are missing. This record is deleted.\u001b[39m\n",
      "\u001b[31mPhenotypes for all traits included in the model for individual 0306 in the row 273 are missing. This record is deleted.\u001b[39m\n",
      "\u001b[31mPhenotypes for all traits included in the model for individual 0307 in the row 274 are missing. This record is deleted.\u001b[39m\n",
      "\u001b[31mPhenotypes for all traits included in the model for individual 0308 in the row 275 are missing. This record is deleted.\u001b[39m\n",
      "\u001b[31mPhenotypes for all traits included in the model for individual 0309 in the row 276 are missing. This record is deleted.\u001b[39m\n",
      "\u001b[31mPhenotypes for all traits included in the model for individual 0310 in the row 277 are missing. This record is deleted.\u001b[39m\n",
      "\u001b[31mPhenotypes for all traits included in the model for individual 0316 in the row 282 are missing. This record is deleted.\u001b[39m\n",
      "\u001b[31mPhenotypes for all traits included in the model for individual 0317 in the row 283 are missing. This record is deleted.\u001b[39m\n",
      "\u001b[31mPhenotypes for all traits included in the model for individual 0324 in the row 289 are missing. This record is deleted.\u001b[39m\n",
      "\u001b[31mPhenotypes for all traits included in the model for individual 0326 in the row 291 are missing. This record is deleted.\u001b[39m\n",
      "\u001b[31mPhenotypes for all traits included in the model for individual 0327 in the row 292 are missing. This record is deleted.\u001b[39m\n",
      "\u001b[31mPhenotypes for all traits included in the model for individual 0328 in the row 293 are missing. This record is deleted.\u001b[39m\n",
      "\u001b[31mPhenotypes for all traits included in the model for individual 0329 in the row 294 are missing. This record is deleted.\u001b[39m\n",
      "\u001b[31mPhenotypes for all traits included in the model for individual 0333 in the row 296 are missing. This record is deleted.\u001b[39m\n",
      "\u001b[31mPhenotypes for all traits included in the model for individual 0334 in the row 297 are missing. This record is deleted.\u001b[39m\n",
      "\u001b[31mPhenotypes for all traits included in the model for individual 0344 in the row 303 are missing. This record is deleted.\u001b[39m\n",
      "\u001b[31mPhenotypes for all traits included in the model for individual 0346 in the row 305 are missing. This record is deleted.\u001b[39m\n",
      "\u001b[31mPhenotypes for all traits included in the model for individual 0350 in the row 308 are missing. This record is deleted.\u001b[39m\n",
      "\u001b[31mPhenotypes for all traits included in the model for individual 0352 in the row 310 are missing. This record is deleted.\u001b[39m\n",
      "\u001b[31mPhenotypes for all traits included in the model for individual 0355 in the row 311 are missing. This record is deleted.\u001b[39m\n",
      "\u001b[31mPhenotypes for all traits included in the model for individual 0356 in the row 312 are missing. This record is deleted.\u001b[39m\n",
      "\u001b[31mPhenotypes for all traits included in the model for individual 0367 in the row 323 are missing. This record is deleted.\u001b[39m\n",
      "\u001b[31mPhenotypes for all traits included in the model for individual 0368 in the row 324 are missing. This record is deleted.\u001b[39m\n",
      "\u001b[31mPhenotypes for all traits included in the model for individual 0370 in the row 325 are missing. This record is deleted.\u001b[39m\n",
      "\u001b[31mPhenotypes for all traits included in the model for individual 0371 in the row 326 are missing. This record is deleted.\u001b[39m\n",
      "\u001b[31mPhenotypes for all traits included in the model for individual 0379 in the row 332 are missing. This record is deleted.\u001b[39m\n",
      "\u001b[31mPhenotypes for all traits included in the model for individual 0381 in the row 334 are missing. This record is deleted.\u001b[39m\n",
      "\u001b[31mPhenotypes for all traits included in the model for individual 0389 in the row 341 are missing. This record is deleted.\u001b[39m\n",
      "\u001b[31mPhenotypes for all traits included in the model for individual 0415 in the row 362 are missing. This record is deleted.\u001b[39m\n",
      "\u001b[31mPhenotypes for all traits included in the model for individual 0427 in the row 372 are missing. This record is deleted.\u001b[39m\n",
      "\u001b[31mPhenotypes for all traits included in the model for individual 0432 in the row 377 are missing. This record is deleted.\u001b[39m\n",
      "\u001b[31mPhenotypes for all traits included in the model for individual 0443 in the row 385 are missing. This record is deleted.\u001b[39m\n",
      "\u001b[31mPhenotypes for all traits included in the model for individual 0448 in the row 390 are missing. This record is deleted.\u001b[39m\n",
      "\u001b[31mPhenotypes for all traits included in the model for individual 0449 in the row 391 are missing. This record is deleted.\u001b[39m\n",
      "\u001b[31mPhenotypes for all traits included in the model for individual 0452 in the row 394 are missing. This record is deleted.\u001b[39m\n",
      "\u001b[31mPhenotypes for all traits included in the model for individual 0457 in the row 399 are missing. This record is deleted.\u001b[39m\n",
      "\u001b[31mPhenotypes for all traits included in the model for individual 0476 in the row 418 are missing. This record is deleted.\u001b[39m\n",
      "\u001b[31mPhenotypes for all traits included in the model for individual 0479 in the row 421 are missing. This record is deleted.\u001b[39m\n",
      "\u001b[31mPhenotypes for all traits included in the model for individual 0485 in the row 427 are missing. This record is deleted.\u001b[39m\n",
      "\u001b[31mPhenotypes for all traits included in the model for individual 0492 in the row 433 are missing. This record is deleted.\u001b[39m\n",
      "\u001b[31mPhenotypes for all traits included in the model for individual 0496 in the row 437 are missing. This record is deleted.\u001b[39m\n",
      "\u001b[31mPhenotypes for all traits included in the model for individual 0511 in the row 451 are missing. This record is deleted.\u001b[39m\n",
      "\u001b[31mPhenotypes for all traits included in the model for individual 0532 in the row 472 are missing. This record is deleted.\u001b[39m\n",
      "\u001b[31mPhenotypes for all traits included in the model for individual 0566 in the row 504 are missing. This record is deleted.\u001b[39m\n",
      "\u001b[31mPhenotypes for all traits included in the model for individual 0573 in the row 511 are missing. This record is deleted.\u001b[39m\n",
      "\u001b[31mPhenotypes for all traits included in the model for individual 0589 in the row 527 are missing. This record is deleted.\u001b[39m\n",
      "\u001b[31mPhenotypes for all traits included in the model for individual 0590 in the row 528 are missing. This record is deleted.\u001b[39m\n",
      "\u001b[31mPhenotypes for all traits included in the model for individual 0605 in the row 543 are missing. This record is deleted.\u001b[39m\n",
      "\u001b[31mPhenotypes for all traits included in the model for individual 0610 in the row 548 are missing. This record is deleted.\u001b[39m\n",
      "\u001b[31mPhenotypes for all traits included in the model for individual 0616 in the row 554 are missing. This record is deleted.\u001b[39m\n",
      "\u001b[31mPhenotypes for all traits included in the model for individual 0638 in the row 576 are missing. This record is deleted.\u001b[39m\n",
      "\u001b[31mPhenotypes for all traits included in the model for individual 0645 in the row 582 are missing. This record is deleted.\u001b[39m\n",
      "\u001b[31mPhenotypes for all traits included in the model for individual 0655 in the row 590 are missing. This record is deleted.\u001b[39m\n",
      "\u001b[31mPhenotypes for all traits included in the model for individual 0670 in the row 605 are missing. This record is deleted.\u001b[39m\n",
      "\u001b[31mPhenotypes for all traits included in the model for individual 0672 in the row 607 are missing. This record is deleted.\u001b[39m\n",
      "\u001b[31mPhenotypes for all traits included in the model for individual 0680 in the row 615 are missing. This record is deleted.\u001b[39m\n",
      "\u001b[31mPhenotypes for all traits included in the model for individual 0682 in the row 617 are missing. This record is deleted.\u001b[39m\n",
      "\u001b[31mPhenotypes for all traits included in the model for individual 0689 in the row 624 are missing. This record is deleted.\u001b[39m\n",
      "\u001b[31mPhenotypes for all traits included in the model for individual 0692 in the row 627 are missing. This record is deleted.\u001b[39m\n",
      "\u001b[31mPhenotypes for all traits included in the model for individual 0699 in the row 634 are missing. This record is deleted.\u001b[39m\n",
      "\u001b[31mPhenotypes for all traits included in the model for individual 0714 in the row 648 are missing. This record is deleted.\u001b[39m\n",
      "\u001b[31mPhenotypes for all traits included in the model for individual 0724 in the row 658 are missing. This record is deleted.\u001b[39m\n",
      "\u001b[31mPhenotypes for all traits included in the model for individual 0726 in the row 660 are missing. This record is deleted.\u001b[39m\n",
      "\u001b[31mPhenotypes for all traits included in the model for individual 0727 in the row 661 are missing. This record is deleted.\u001b[39m\n",
      "\u001b[31mPhenotypes for all traits included in the model for individual 0728 in the row 662 are missing. This record is deleted.\u001b[39m\n",
      "\u001b[31mPhenotypes for all traits included in the model for individual 0729 in the row 663 are missing. This record is deleted.\u001b[39m\n",
      "\u001b[31mPhenotypes for all traits included in the model for individual 0730 in the row 664 are missing. This record is deleted.\u001b[39m\n",
      "\u001b[31mPhenotypes for all traits included in the model for individual 0731 in the row 665 are missing. This record is deleted.\u001b[39m\n",
      "\u001b[31mPhenotypes for all traits included in the model for individual 0732 in the row 666 are missing. This record is deleted.\u001b[39m\n",
      "\u001b[31mPhenotypes for all traits included in the model for individual 0733 in the row 667 are missing. This record is deleted.\u001b[39m\n",
      "\u001b[31mPhenotypes for all traits included in the model for individual 0734 in the row 668 are missing. This record is deleted.\u001b[39m\n",
      "\u001b[31mPhenotypes for all traits included in the model for individual 0735 in the row 669 are missing. This record is deleted.\u001b[39m\n",
      "\u001b[31mPhenotypes for all traits included in the model for individual 0736 in the row 670 are missing. This record is deleted.\u001b[39m\n",
      "\u001b[31mPhenotypes for all traits included in the model for individual 0737 in the row 671 are missing. This record is deleted.\u001b[39m\n",
      "\u001b[31mPhenotypes for all traits included in the model for individual 0738 in the row 672 are missing. This record is deleted.\u001b[39m\n",
      "\u001b[31mPhenotypes for all traits included in the model for individual 0739 in the row 673 are missing. This record is deleted.\u001b[39m\n",
      "\u001b[31mPhenotypes for all traits included in the model for individual 0740 in the row 674 are missing. This record is deleted.\u001b[39m\n",
      "\u001b[31mPhenotypes for all traits included in the model for individual 0741 in the row 675 are missing. This record is deleted.\u001b[39m\n",
      "\u001b[31mPhenotypes for all traits included in the model for individual 0742 in the row 676 are missing. This record is deleted.\u001b[39m\n",
      "\u001b[31mPhenotypes for all traits included in the model for individual 0743 in the row 677 are missing. This record is deleted.\u001b[39m\n",
      "\u001b[31mPhenotypes for all traits included in the model for individual 0744 in the row 678 are missing. This record is deleted.\u001b[39m\n",
      "\u001b[31mPhenotypes for all traits included in the model for individual 0745 in the row 679 are missing. This record is deleted.\u001b[39m\n",
      "\u001b[31mPhenotypes for all traits included in the model for individual 0746 in the row 680 are missing. This record is deleted.\u001b[39m\n",
      "\u001b[31mPhenotypes for all traits included in the model for individual 0747 in the row 681 are missing. This record is deleted.\u001b[39m\n",
      "\u001b[31mPhenotypes for all traits included in the model for individual 0748 in the row 682 are missing. This record is deleted.\u001b[39m\n",
      "\u001b[31mPhenotypes for all traits included in the model for individual 0749 in the row 683 are missing. This record is deleted.\u001b[39m\n",
      "\u001b[31mPhenotypes for all traits included in the model for individual 0750 in the row 684 are missing. This record is deleted.\u001b[39m\n",
      "\u001b[31mPhenotypes for all traits included in the model for individual 0751 in the row 685 are missing. This record is deleted.\u001b[39m\n",
      "\u001b[31mPhenotypes for all traits included in the model for individual 0752 in the row 686 are missing. This record is deleted.\u001b[39m\n",
      "\u001b[31mPhenotypes for all traits included in the model for individual 0753 in the row 687 are missing. This record is deleted.\u001b[39m\n",
      "\u001b[31mPhenotypes for all traits included in the model for individual 0762 in the row 694 are missing. This record is deleted.\u001b[39m\n",
      "\u001b[31mPhenotypes for all traits included in the model for individual 0768 in the row 700 are missing. This record is deleted.\u001b[39m\n",
      "\u001b[31mPhenotypes for all traits included in the model for individual 0785 in the row 717 are missing. This record is deleted.\u001b[39m\n",
      "\u001b[31mPhenotypes for all traits included in the model for individual 0795 in the row 725 are missing. This record is deleted.\u001b[39m\n",
      "\u001b[31mPhenotypes for all traits included in the model for individual 0816 in the row 745 are missing. This record is deleted.\u001b[39m\n",
      "\u001b[31mPhenotypes for all traits included in the model for individual 0821 in the row 750 are missing. This record is deleted.\u001b[39m\n",
      "\u001b[31mPhenotypes for all traits included in the model for individual 0834 in the row 763 are missing. This record is deleted.\u001b[39m\n",
      "\u001b[31mPhenotypes for all traits included in the model for individual 0847 in the row 775 are missing. This record is deleted.\u001b[39m\n",
      "\u001b[31mPhenotypes for all traits included in the model for individual 0852 in the row 780 are missing. This record is deleted.\u001b[39m\n",
      "\u001b[31mPhenotypes for all traits included in the model for individual 0870 in the row 796 are missing. This record is deleted.\u001b[39m\n",
      "\u001b[31mPhenotypes for all traits included in the model for individual 0883 in the row 808 are missing. This record is deleted.\u001b[39m\n",
      "\u001b[31mPhenotypes for all traits included in the model for individual 0889 in the row 813 are missing. This record is deleted.\u001b[39m\n",
      "\u001b[31mPhenotypes for all traits included in the model for individual 0891 in the row 815 are missing. This record is deleted.\u001b[39m\n",
      "\u001b[31mPhenotypes for all traits included in the model for individual 0894 in the row 818 are missing. This record is deleted.\u001b[39m\n",
      "\u001b[31mPhenotypes for all traits included in the model for individual 0905 in the row 828 are missing. This record is deleted.\u001b[39m\n",
      "\u001b[31mPhenotypes for all traits included in the model for individual 0926 in the row 845 are missing. This record is deleted.\u001b[39m\n",
      "\u001b[31mPhenotypes for all traits included in the model for individual 0952 in the row 870 are missing. This record is deleted.\u001b[39m\n",
      "\u001b[31mPhenotypes for all traits included in the model for individual 0974 in the row 891 are missing. This record is deleted.\u001b[39m\n",
      "\u001b[31mPhenotypes for all traits included in the model for individual 0988 in the row 901 are missing. This record is deleted.\u001b[39m\n",
      "\u001b[31mPhenotypes for all traits included in the model for individual 1037 in the row 944 are missing. This record is deleted.\u001b[39m\n",
      "\u001b[31mPhenotypes for all traits included in the model for individual 1059 in the row 965 are missing. This record is deleted.\u001b[39m\n",
      "\u001b[31mPhenotypes for all traits included in the model for individual 1066 in the row 972 are missing. This record is deleted.\u001b[39m\n",
      "\u001b[31mPhenotypes for all traits included in the model for individual 1075 in the row 979 are missing. This record is deleted.\u001b[39m\n",
      "\u001b[31mPhenotypes for all traits included in the model for individual 1090 in the row 992 are missing. This record is deleted.\u001b[39m\n",
      "\u001b[31mPhenotypes for all traits included in the model for individual 1091 in the row 993 are missing. This record is deleted.\u001b[39m\n",
      "\u001b[31mPhenotypes for all traits included in the model for individual 1108 in the row 1005 are missing. This record is deleted.\u001b[39m\n",
      "\u001b[31mPhenotypes for all traits included in the model for individual 1113 in the row 1008 are missing. This record is deleted.\u001b[39m\n",
      "\u001b[31mPhenotypes for all traits included in the model for individual 1119 in the row 1011 are missing. This record is deleted.\u001b[39m\n",
      "\u001b[31mPhenotypes for all traits included in the model for individual 1133 in the row 1020 are missing. This record is deleted.\u001b[39m\n",
      "\u001b[31mPhenotypes for all traits included in the model for individual 1135 in the row 1022 are missing. This record is deleted.\u001b[39m\n",
      "\u001b[31mPhenotypes for all traits included in the model for individual 1136 in the row 1023 are missing. This record is deleted.\u001b[39m\n",
      "\u001b[31mPhenotypes for all traits included in the model for individual 1141 in the row 1027 are missing. This record is deleted.\u001b[39m\n",
      "\u001b[31mPhenotypes for all traits included in the model for individual 1154 in the row 1036 are missing. This record is deleted.\u001b[39m\n",
      "\u001b[31mPhenotypes for all traits included in the model for individual 1167 in the row 1048 are missing. This record is deleted.\u001b[39m\n",
      "\u001b[31mPhenotypes for all traits included in the model for individual 1169 in the row 1049 are missing. This record is deleted.\u001b[39m\n",
      "\u001b[31mPhenotypes for all traits included in the model for individual 1171 in the row 1051 are missing. This record is deleted.\u001b[39m\n",
      "\u001b[31mPhenotypes for all traits included in the model for individual 1175 in the row 1054 are missing. This record is deleted.\u001b[39m\n",
      "\u001b[31mPhenotypes for all traits included in the model for individual 1178 in the row 1056 are missing. This record is deleted.\u001b[39m\n",
      "\u001b[31mPhenotypes for all traits included in the model for individual 1179 in the row 1057 are missing. This record is deleted.\u001b[39m\n",
      "\u001b[31mPhenotypes for all traits included in the model for individual 1196 in the row 1072 are missing. This record is deleted.\u001b[39m\n",
      "\u001b[31mPhenotypes for all traits included in the model for individual 1199 in the row 1074 are missing. This record is deleted.\u001b[39m\n",
      "\u001b[31mPhenotypes for all traits included in the model for individual 1201 in the row 1075 are missing. This record is deleted.\u001b[39m\n",
      "\u001b[31mPhenotypes for all traits included in the model for individual 1203 in the row 1077 are missing. This record is deleted.\u001b[39m\n",
      "\u001b[31mPhenotypes for all traits included in the model for individual 1204 in the row 1078 are missing. This record is deleted.\u001b[39m\n",
      "\u001b[31mPhenotypes for all traits included in the model for individual 1205 in the row 1079 are missing. This record is deleted.\u001b[39m\n",
      "\u001b[31mPhenotypes for all traits included in the model for individual 1207 in the row 1080 are missing. This record is deleted.\u001b[39m\n",
      "\u001b[31mPhenotypes for all traits included in the model for individual 1215 in the row 1086 are missing. This record is deleted.\u001b[39m\n",
      "\u001b[31mPhenotypes for all traits included in the model for individual 1226 in the row 1095 are missing. This record is deleted.\u001b[39m\n",
      "\u001b[31mPhenotypes for all traits included in the model for individual 1227 in the row 1096 are missing. This record is deleted.\u001b[39m\n",
      "\u001b[31mPhenotypes for all traits included in the model for individual 1230 in the row 1098 are missing. This record is deleted.\u001b[39m\n",
      "\u001b[31mPhenotypes for all traits included in the model for individual 1240 in the row 1106 are missing. This record is deleted.\u001b[39m\n",
      "\u001b[31mPhenotypes for all traits included in the model for individual 1249 in the row 1112 are missing. This record is deleted.\u001b[39m\n",
      "\u001b[31mPhenotypes for all traits included in the model for individual 1254 in the row 1117 are missing. This record is deleted.\u001b[39m\n",
      "\u001b[31mPhenotypes for all traits included in the model for individual 1261 in the row 1124 are missing. This record is deleted.\u001b[39m\n",
      "\u001b[31mPhenotypes for all traits included in the model for individual 1268 in the row 1130 are missing. This record is deleted.\u001b[39m\n",
      "\u001b[31mPhenotypes for all traits included in the model for individual 1273 in the row 1134 are missing. This record is deleted.\u001b[39m\n",
      "\u001b[31mPhenotypes for all traits included in the model for individual 1289 in the row 1146 are missing. This record is deleted.\u001b[39m\n",
      "\u001b[31mPhenotypes for all traits included in the model for individual 1291 in the row 1148 are missing. This record is deleted.\u001b[39m\n",
      "\u001b[31mPhenotypes for all traits included in the model for individual 1295 in the row 1151 are missing. This record is deleted.\u001b[39m\n",
      "\u001b[31mPhenotypes for all traits included in the model for individual 1296 in the row 1152 are missing. This record is deleted.\u001b[39m\n",
      "\u001b[31mPhenotypes for all traits included in the model for individual 1297 in the row 1153 are missing. This record is deleted.\u001b[39m\n",
      "\u001b[31mPhenotypes for all traits included in the model for individual 1300 in the row 1156 are missing. This record is deleted.\u001b[39m\n",
      "\u001b[31mPhenotypes for all traits included in the model for individual 1301 in the row 1157 are missing. This record is deleted.\u001b[39m\n",
      "\u001b[31mPhenotypes for all traits included in the model for individual 1303 in the row 1158 are missing. This record is deleted.\u001b[39m\n",
      "\u001b[31mPhenotypes for all traits included in the model for individual 1304 in the row 1159 are missing. This record is deleted.\u001b[39m\n",
      "\u001b[31mPhenotypes for all traits included in the model for individual 1312 in the row 1165 are missing. This record is deleted.\u001b[39m\n",
      "\u001b[31mPhenotypes for all traits included in the model for individual 1315 in the row 1167 are missing. This record is deleted.\u001b[39m\n",
      "\u001b[31mPhenotypes for all traits included in the model for individual 1321 in the row 1172 are missing. This record is deleted.\u001b[39m\n",
      "\u001b[31mPhenotypes for all traits included in the model for individual 1329 in the row 1179 are missing. This record is deleted.\u001b[39m\n",
      "\u001b[31mPhenotypes for all traits included in the model for individual 1335 in the row 1184 are missing. This record is deleted.\u001b[39m\n",
      "\u001b[31mPhenotypes for all traits included in the model for individual 1352 in the row 1194 are missing. This record is deleted.\u001b[39m\n",
      "\u001b[31mPhenotypes for all traits included in the model for individual 1355 in the row 1196 are missing. This record is deleted.\u001b[39m\n",
      "\u001b[31mPhenotypes for all traits included in the model for individual 1358 in the row 1198 are missing. This record is deleted.\u001b[39m\n",
      "\u001b[31mPhenotypes for all traits included in the model for individual 1364 in the row 1203 are missing. This record is deleted.\u001b[39m\n",
      "\u001b[31mPhenotypes for all traits included in the model for individual 1370 in the row 1206 are missing. This record is deleted.\u001b[39m\n",
      "\u001b[31mPhenotypes for all traits included in the model for individual 1373 in the row 1208 are missing. This record is deleted.\u001b[39m\n",
      "\u001b[31mPhenotypes for all traits included in the model for individual 1379 in the row 1212 are missing. This record is deleted.\u001b[39m\n",
      "\u001b[31mPhenotypes for all traits included in the model for individual 1383 in the row 1216 are missing. This record is deleted.\u001b[39m\n",
      "\u001b[31mPhenotypes for all traits included in the model for individual 1387 in the row 1218 are missing. This record is deleted.\u001b[39m\n",
      "\u001b[31mPhenotypes for all traits included in the model for individual 1389 in the row 1219 are missing. This record is deleted.\u001b[39m\n",
      "\u001b[31mPhenotypes for all traits included in the model for individual 1394 in the row 1224 are missing. This record is deleted.\u001b[39m\n",
      "\u001b[31mPhenotypes for all traits included in the model for individual 1403 in the row 1228 are missing. This record is deleted.\u001b[39m\n",
      "\u001b[31mPhenotypes for all traits included in the model for individual 1404 in the row 1229 are missing. This record is deleted.\u001b[39m\n",
      "\u001b[31mPhenotypes for all traits included in the model for individual 1405 in the row 1230 are missing. This record is deleted.\u001b[39m\n",
      "\u001b[31mPhenotypes for all traits included in the model for individual 1407 in the row 1232 are missing. This record is deleted.\u001b[39m\n",
      "\u001b[31mPhenotypes for all traits included in the model for individual 1408 in the row 1233 are missing. This record is deleted.\u001b[39m\n",
      "\u001b[31mPhenotypes for all traits included in the model for individual 1414 in the row 1235 are missing. This record is deleted.\u001b[39m\n",
      "\u001b[31mPhenotypes for all traits included in the model for individual 1420 in the row 1241 are missing. This record is deleted.\u001b[39m\n",
      "\u001b[31mPhenotypes for all traits included in the model for individual 1436 in the row 1254 are missing. This record is deleted.\u001b[39m\n",
      "\u001b[31mPhenotypes for all traits included in the model for individual 1441 in the row 1258 are missing. This record is deleted.\u001b[39m\n",
      "\u001b[31mPhenotypes for all traits included in the model for individual 1442 in the row 1259 are missing. This record is deleted.\u001b[39m\n",
      "\u001b[31mPhenotypes for all traits included in the model for individual 1444 in the row 1261 are missing. This record is deleted.\u001b[39m\n",
      "\u001b[31mPhenotypes for all traits included in the model for individual 1451 in the row 1266 are missing. This record is deleted.\u001b[39m\n",
      "\u001b[31mPhenotypes for all traits included in the model for individual 1455 in the row 1269 are missing. This record is deleted.\u001b[39m\n",
      "\u001b[31mPhenotypes for all traits included in the model for individual 1460 in the row 1273 are missing. This record is deleted.\u001b[39m\n",
      "\u001b[31mPhenotypes for all traits included in the model for individual 1488 in the row 1295 are missing. This record is deleted.\u001b[39m\n",
      "\u001b[31mPhenotypes for all traits included in the model for individual 1492 in the row 1298 are missing. This record is deleted.\u001b[39m\n",
      "\u001b[31mPhenotypes for all traits included in the model for individual 1499 in the row 1304 are missing. This record is deleted.\u001b[39m\n",
      "\u001b[31mPhenotypes for all traits included in the model for individual 1516 in the row 1315 are missing. This record is deleted.\u001b[39m\n",
      "\u001b[31mPhenotypes for all traits included in the model for individual 1546 in the row 1338 are missing. This record is deleted.\u001b[39m\n",
      "\u001b[31mPhenotypes for all traits included in the model for individual 1550 in the row 1342 are missing. This record is deleted.\u001b[39m\n",
      "\u001b[31mPhenotypes for all traits included in the model for individual 1561 in the row 1353 are missing. This record is deleted.\u001b[39m\n",
      "\u001b[31mPhenotypes for all traits included in the model for individual 1566 in the row 1357 are missing. This record is deleted.\u001b[39m\n",
      "\u001b[31mPhenotypes for all traits included in the model for individual 1586 in the row 1374 are missing. This record is deleted.\u001b[39m\n",
      "\u001b[31mPhenotypes for all traits included in the model for individual 1610 in the row 1394 are missing. This record is deleted.\u001b[39m\n",
      "\u001b[31mPhenotypes for all traits included in the model for individual 1615 in the row 1399 are missing. This record is deleted.\u001b[39m\n",
      "\u001b[31mPhenotypes for all traits included in the model for individual 1620 in the row 1403 are missing. This record is deleted.\u001b[39m\n",
      "\u001b[31mPhenotypes for all traits included in the model for individual 1636 in the row 1419 are missing. This record is deleted.\u001b[39m\n",
      "\u001b[31mPhenotypes for all traits included in the model for individual 1641 in the row 1424 are missing. This record is deleted.\u001b[39m\n",
      "\u001b[31mPhenotypes for all traits included in the model for individual 1656 in the row 1439 are missing. This record is deleted.\u001b[39m\n",
      "\u001b[31mPhenotypes for all traits included in the model for individual 1743 in the row 1519 are missing. This record is deleted.\u001b[39m\n",
      "\u001b[31mPhenotypes for all traits included in the model for individual 1745 in the row 1520 are missing. This record is deleted.\u001b[39m\n",
      "\u001b[31mPhenotypes for all traits included in the model for individual 1746 in the row 1521 are missing. This record is deleted.\u001b[39m\n",
      "\u001b[31mPhenotypes for all traits included in the model for individual 1756 in the row 1530 are missing. This record is deleted.\u001b[39m\n",
      "\u001b[31mPhenotypes for all traits included in the model for individual 1777 in the row 1548 are missing. This record is deleted.\u001b[39m\n",
      "\u001b[31mPhenotypes for all traits included in the model for individual 1786 in the row 1557 are missing. This record is deleted.\u001b[39m\n",
      "\u001b[31mPhenotypes for all traits included in the model for individual 1788 in the row 1559 are missing. This record is deleted.\u001b[39m\n",
      "\u001b[31mPhenotypes for all traits included in the model for individual 1791 in the row 1562 are missing. This record is deleted.\u001b[39m\n",
      "\u001b[31mPhenotypes for all traits included in the model for individual 1795 in the row 1566 are missing. This record is deleted.\u001b[39m\n",
      "\u001b[31mPhenotypes for all traits included in the model for individual 1817 in the row 1588 are missing. This record is deleted.\u001b[39m\n",
      "\u001b[31mPhenotypes for all traits included in the model for individual 1823 in the row 1593 are missing. This record is deleted.\u001b[39m\n",
      "\u001b[31mPhenotypes for all traits included in the model for individual 1834 in the row 1603 are missing. This record is deleted.\u001b[39m\n",
      "\u001b[31mPhenotypes for all traits included in the model for individual 1845 in the row 1613 are missing. This record is deleted.\u001b[39m\n",
      "\u001b[31mPhenotypes for all traits included in the model for individual 1847 in the row 1615 are missing. This record is deleted.\u001b[39m\n",
      "\u001b[31mPhenotypes for all traits included in the model for individual 1878 in the row 1642 are missing. This record is deleted.\u001b[39m\n",
      "\u001b[31mPhenotypes for all traits included in the model for individual 1880 in the row 1644 are missing. This record is deleted.\u001b[39m\n",
      "\u001b[31mPhenotypes for all traits included in the model for individual 1883 in the row 1647 are missing. This record is deleted.\u001b[39m\n",
      "\u001b[31mPhenotypes for all traits included in the model for individual 1896 in the row 1659 are missing. This record is deleted.\u001b[39m\n",
      "\u001b[31mPhenotypes for all traits included in the model for individual 1900 in the row 1662 are missing. This record is deleted.\u001b[39m\n",
      "\u001b[31mPhenotypes for all traits included in the model for individual 1902 in the row 1664 are missing. This record is deleted.\u001b[39m\n",
      "\u001b[31mPhenotypes for all traits included in the model for individual 1907 in the row 1668 are missing. This record is deleted.\u001b[39m\n",
      "\u001b[31mPhenotypes for all traits included in the model for individual 1914 in the row 1674 are missing. This record is deleted.\u001b[39m\n",
      "\u001b[31mPhenotypes for all traits included in the model for individual 1936 in the row 1695 are missing. This record is deleted.\u001b[39m\n",
      "\u001b[31mPhenotypes for all traits included in the model for individual 1951 in the row 1710 are missing. This record is deleted.\u001b[39m\n",
      "\u001b[31mPhenotypes for all traits included in the model for individual 1957 in the row 1716 are missing. This record is deleted.\u001b[39m\n",
      "\u001b[31mPhenotypes for all traits included in the model for individual 1967 in the row 1726 are missing. This record is deleted.\u001b[39m\n",
      "\u001b[31mPhenotypes for all traits included in the model for individual 1970 in the row 1729 are missing. This record is deleted.\u001b[39m\n",
      "\u001b[31mPhenotypes for all traits included in the model for individual 1971 in the row 1730 are missing. This record is deleted.\u001b[39m\n",
      "\u001b[31mPhenotypes for all traits included in the model for individual 1973 in the row 1732 are missing. This record is deleted.\u001b[39m\n",
      "\u001b[31mPhenotypes for all traits included in the model for individual 1981 in the row 1739 are missing. This record is deleted.\u001b[39m\n",
      "\u001b[31mPhenotypes for all traits included in the model for individual 1991 in the row 1746 are missing. This record is deleted.\u001b[39m\n",
      "\u001b[31mPhenotypes for all traits included in the model for individual 2000 in the row 1755 are missing. This record is deleted.\u001b[39m\n",
      "\u001b[31mPhenotypes for all traits included in the model for individual 2022 in the row 1771 are missing. This record is deleted.\u001b[39m\n",
      "\u001b[31mPhenotypes for all traits included in the model for individual 2042 in the row 1780 are missing. This record is deleted.\u001b[39m\n",
      "\u001b[31mPhenotypes for all traits included in the model for individual 2043 in the row 1781 are missing. This record is deleted.\u001b[39m\n",
      "\u001b[31mPhenotypes for all traits included in the model for individual 2055 in the row 1787 are missing. This record is deleted.\u001b[39m\n",
      "\u001b[31mPhenotypes for all traits included in the model for individual 2064 in the row 1793 are missing. This record is deleted.\u001b[39m\n",
      "\u001b[31mPhenotypes for all traits included in the model for individual 2072 in the row 1797 are missing. This record is deleted.\u001b[39m\n",
      "\u001b[31mPhenotypes for all traits included in the model for individual 2080 in the row 1800 are missing. This record is deleted.\u001b[39m\n",
      "\u001b[31mPhenotypes for all traits included in the model for individual 2083 in the row 1802 are missing. This record is deleted.\u001b[39m\n",
      "\u001b[31mPhenotypes for all traits included in the model for individual 2085 in the row 1803 are missing. This record is deleted.\u001b[39m\n",
      "\u001b[31mPhenotypes for all traits included in the model for individual 2088 in the row 1805 are missing. This record is deleted.\u001b[39m\n",
      "\u001b[31mPhenotypes for all traits included in the model for individual 2093 in the row 1809 are missing. This record is deleted.\u001b[39m\n",
      "\u001b[31mPhenotypes for all traits included in the model for individual 2106 in the row 1817 are missing. This record is deleted.\u001b[39m\n",
      "\u001b[31mPhenotypes for all traits included in the model for individual 2115 in the row 1825 are missing. This record is deleted.\u001b[39m\n",
      "\u001b[31mPhenotypes for all traits included in the model for individual 2118 in the row 1827 are missing. This record is deleted.\u001b[39m\n",
      "\u001b[31mPhenotypes for all traits included in the model for individual 2121 in the row 1830 are missing. This record is deleted.\u001b[39m\n",
      "\u001b[31mPhenotypes for all traits included in the model for individual 2124 in the row 1833 are missing. This record is deleted.\u001b[39m\n",
      "\u001b[31mPhenotypes for all traits included in the model for individual 2134 in the row 1838 are missing. This record is deleted.\u001b[39m\n",
      "\u001b[31mPhenotypes for all traits included in the model for individual 2142 in the row 1843 are missing. This record is deleted.\u001b[39m\n",
      "\u001b[31mPhenotypes for all traits included in the model for individual 2144 in the row 1844 are missing. This record is deleted.\u001b[39m\n",
      "\u001b[31mPhenotypes for all traits included in the model for individual 2145 in the row 1845 are missing. This record is deleted.\u001b[39m\n",
      "\u001b[31mPhenotypes for all traits included in the model for individual 2146 in the row 1846 are missing. This record is deleted.\u001b[39m\n",
      "\u001b[31mPhenotypes for all traits included in the model for individual 2153 in the row 1852 are missing. This record is deleted.\u001b[39m\n",
      "\u001b[31mPhenotypes for all traits included in the model for individual 2163 in the row 1861 are missing. This record is deleted.\u001b[39m\n",
      "\u001b[31mPhenotypes for all traits included in the model for individual 2166 in the row 1863 are missing. This record is deleted.\u001b[39m\n",
      "\u001b[31mPhenotypes for all traits included in the model for individual 2169 in the row 1866 are missing. This record is deleted.\u001b[39m\n",
      "\u001b[31mPhenotypes for all traits included in the model for individual 2172 in the row 1868 are missing. This record is deleted.\u001b[39m\n",
      "\u001b[31mPhenotypes for all traits included in the model for individual 2174 in the row 1869 are missing. This record is deleted.\u001b[39m\n",
      "\u001b[31mPhenotypes for all traits included in the model for individual 2176 in the row 1871 are missing. This record is deleted.\u001b[39m\n",
      "\u001b[31mPhenotypes for all traits included in the model for individual 2180 in the row 1875 are missing. This record is deleted.\u001b[39m\n",
      "\u001b[31mPhenotypes for all traits included in the model for individual 2191 in the row 1884 are missing. This record is deleted.\u001b[39m\n",
      "\u001b[31mPhenotypes for all traits included in the model for individual 2195 in the row 1887 are missing. This record is deleted.\u001b[39m\n",
      "\u001b[31mPhenotypes for all traits included in the model for individual 2200 in the row 1890 are missing. This record is deleted.\u001b[39m\n",
      "\u001b[31mPhenotypes for all traits included in the model for individual 2205 in the row 1894 are missing. This record is deleted.\u001b[39m\n",
      "\u001b[31mPhenotypes for all traits included in the model for individual 2221 in the row 1905 are missing. This record is deleted.\u001b[39m\n",
      "\u001b[31mPhenotypes for all traits included in the model for individual 2227 in the row 1911 are missing. This record is deleted.\u001b[39m\n",
      "\u001b[31mPhenotypes for all traits included in the model for individual 2233 in the row 1917 are missing. This record is deleted.\u001b[39m\n",
      "\u001b[31mPhenotypes for all traits included in the model for individual 2246 in the row 1929 are missing. This record is deleted.\u001b[39m\n",
      "\u001b[31mPhenotypes for all traits included in the model for individual 2283 in the row 1955 are missing. This record is deleted.\u001b[39m\n",
      "\u001b[31mPhenotypes for all traits included in the model for individual 2291 in the row 1961 are missing. This record is deleted.\u001b[39m\n",
      "\u001b[31mPhenotypes for all traits included in the model for individual 2297 in the row 1966 are missing. This record is deleted.\u001b[39m\n",
      "\u001b[31mPhenotypes for all traits included in the model for individual 2306 in the row 1972 are missing. This record is deleted.\u001b[39m\n",
      "\u001b[31mPhenotypes for all traits included in the model for individual 2308 in the row 1973 are missing. This record is deleted.\u001b[39m\n",
      "\u001b[31mPhenotypes for all traits included in the model for individual 2317 in the row 1979 are missing. This record is deleted.\u001b[39m\n",
      "\u001b[31mPhenotypes for all traits included in the model for individual 2324 in the row 1983 are missing. This record is deleted.\u001b[39m\n",
      "\u001b[31mPhenotypes for all traits included in the model for individual 2325 in the row 1984 are missing. This record is deleted.\u001b[39m\n",
      "\u001b[31mPhenotypes for all traits included in the model for individual 2327 in the row 1985 are missing. This record is deleted.\u001b[39m\n",
      "\u001b[31mPhenotypes for all traits included in the model for individual 2341 in the row 1997 are missing. This record is deleted.\u001b[39m\n",
      "\u001b[31mPhenotypes for all traits included in the model for individual 2403 in the row 2055 are missing. This record is deleted.\u001b[39m\n",
      "\u001b[31mPhenotypes for all traits included in the model for individual 2405 in the row 2057 are missing. This record is deleted.\u001b[39m\n",
      "\u001b[31mPhenotypes for all traits included in the model for individual 2408 in the row 2060 are missing. This record is deleted.\u001b[39m\n",
      "\u001b[31mPhenotypes for all traits included in the model for individual 2426 in the row 2077 are missing. This record is deleted.\u001b[39m\n",
      "\u001b[31mPhenotypes for all traits included in the model for individual 2449 in the row 2098 are missing. This record is deleted.\u001b[39m\n",
      "\u001b[31mPhenotypes for all traits included in the model for individual 2482 in the row 2130 are missing. This record is deleted.\u001b[39m\n",
      "\u001b[31mPhenotypes for all traits included in the model for individual 2516 in the row 2158 are missing. This record is deleted.\u001b[39m\n",
      "\u001b[31mPhenotypes for all traits included in the model for individual 2530 in the row 2171 are missing. This record is deleted.\u001b[39m\n",
      "\u001b[31mPhenotypes for all traits included in the model for individual 2543 in the row 2181 are missing. This record is deleted.\u001b[39m\n",
      "\u001b[31mPhenotypes for all traits included in the model for individual 2551 in the row 2188 are missing. This record is deleted.\u001b[39m\n",
      "\u001b[31mPhenotypes for all traits included in the model for individual 2553 in the row 2190 are missing. This record is deleted.\u001b[39m\n",
      "\u001b[31mPhenotypes for all traits included in the model for individual 2556 in the row 2193 are missing. This record is deleted.\u001b[39m\n",
      "\u001b[31mPhenotypes for all traits included in the model for individual 2558 in the row 2195 are missing. This record is deleted.\u001b[39m\n",
      "\u001b[31mPhenotypes for all traits included in the model for individual 2564 in the row 2201 are missing. This record is deleted.\u001b[39m\n",
      "\u001b[31mPhenotypes for all traits included in the model for individual 2566 in the row 2203 are missing. This record is deleted.\u001b[39m\n",
      "\u001b[31mPhenotypes for all traits included in the model for individual 2573 in the row 2208 are missing. This record is deleted.\u001b[39m\n",
      "\u001b[31mPhenotypes for all traits included in the model for individual 2578 in the row 2213 are missing. This record is deleted.\u001b[39m\n",
      "\u001b[31mPhenotypes for all traits included in the model for individual 2584 in the row 2219 are missing. This record is deleted.\u001b[39m\n",
      "\u001b[31mPhenotypes for all traits included in the model for individual 2599 in the row 2233 are missing. This record is deleted.\u001b[39m\n",
      "\u001b[31mPhenotypes for all traits included in the model for individual 2611 in the row 2245 are missing. This record is deleted.\u001b[39m\n",
      "\u001b[31mPhenotypes for all traits included in the model for individual 2640 in the row 2274 are missing. This record is deleted.\u001b[39m\n",
      "\u001b[31mPhenotypes for all traits included in the model for individual 2655 in the row 2288 are missing. This record is deleted.\u001b[39m\n",
      "\u001b[31mPhenotypes for all traits included in the model for individual 2673 in the row 2303 are missing. This record is deleted.\u001b[39m\n",
      "\u001b[31mPhenotypes for all traits included in the model for individual 2685 in the row 2314 are missing. This record is deleted.\u001b[39m\n",
      "\u001b[31mPhenotypes for all traits included in the model for individual 2687 in the row 2316 are missing. This record is deleted.\u001b[39m\n",
      "\u001b[31mPhenotypes for all traits included in the model for individual 2701 in the row 2329 are missing. This record is deleted.\u001b[39m\n",
      "\u001b[31mPhenotypes for all traits included in the model for individual 2739 in the row 2361 are missing. This record is deleted.\u001b[39m\n",
      "\u001b[31mPhenotypes for all traits included in the model for individual 2745 in the row 2367 are missing. This record is deleted.\u001b[39m\n",
      "\u001b[31mPhenotypes for all traits included in the model for individual 2747 in the row 2369 are missing. This record is deleted.\u001b[39m\n",
      "\u001b[31mPhenotypes for all traits included in the model for individual 2757 in the row 2377 are missing. This record is deleted.\u001b[39m\n",
      "\u001b[31mPhenotypes for all traits included in the model for individual 2758 in the row 2378 are missing. This record is deleted.\u001b[39m\n",
      "\u001b[31mPhenotypes for all traits included in the model for individual 2759 in the row 2379 are missing. This record is deleted.\u001b[39m\n",
      "\u001b[31mPhenotypes for all traits included in the model for individual 2761 in the row 2381 are missing. This record is deleted.\u001b[39m\n",
      "\u001b[31mPhenotypes for all traits included in the model for individual 2764 in the row 2384 are missing. This record is deleted.\u001b[39m\n",
      "\u001b[31mPhenotypes for all traits included in the model for individual 2767 in the row 2386 are missing. This record is deleted.\u001b[39m\n",
      "\u001b[31mPhenotypes for all traits included in the model for individual 2775 in the row 2394 are missing. This record is deleted.\u001b[39m\n",
      "\u001b[31mPhenotypes for all traits included in the model for individual 2777 in the row 2396 are missing. This record is deleted.\u001b[39m\n",
      "\u001b[31mPhenotypes for all traits included in the model for individual 2781 in the row 2399 are missing. This record is deleted.\u001b[39m\n",
      "\u001b[31mPhenotypes for all traits included in the model for individual 2783 in the row 2401 are missing. This record is deleted.\u001b[39m\n",
      "\u001b[31mPhenotypes for all traits included in the model for individual 2797 in the row 2412 are missing. This record is deleted.\u001b[39m\n",
      "\u001b[31mPhenotypes for all traits included in the model for individual 2803 in the row 2418 are missing. This record is deleted.\u001b[39m\n",
      "\u001b[31mPhenotypes for all traits included in the model for individual 2810 in the row 2424 are missing. This record is deleted.\u001b[39m\n",
      "\u001b[31mPhenotypes for all traits included in the model for individual 2816 in the row 2430 are missing. This record is deleted.\u001b[39m\n",
      "\u001b[31mPhenotypes for all traits included in the model for individual 2817 in the row 2431 are missing. This record is deleted.\u001b[39m\n",
      "\u001b[31mPhenotypes for all traits included in the model for individual 2819 in the row 2433 are missing. This record is deleted.\u001b[39m\n",
      "\u001b[31mPhenotypes for all traits included in the model for individual 2820 in the row 2434 are missing. This record is deleted.\u001b[39m\n",
      "\u001b[31mPhenotypes for all traits included in the model for individual 2826 in the row 2439 are missing. This record is deleted.\u001b[39m\n",
      "\u001b[31mPhenotypes for all traits included in the model for individual 2833 in the row 2445 are missing. This record is deleted.\u001b[39m\n",
      "\u001b[31mPhenotypes for all traits included in the model for individual 2835 in the row 2447 are missing. This record is deleted.\u001b[39m\n",
      "\u001b[31mPhenotypes for all traits included in the model for individual 2836 in the row 2448 are missing. This record is deleted.\u001b[39m\n",
      "\u001b[31mPhenotypes for all traits included in the model for individual 2850 in the row 2461 are missing. This record is deleted.\u001b[39m\n",
      "\u001b[31mPhenotypes for all traits included in the model for individual 2852 in the row 2463 are missing. This record is deleted.\u001b[39m\n",
      "\u001b[31mPhenotypes for all traits included in the model for individual 2865 in the row 2473 are missing. This record is deleted.\u001b[39m\n",
      "\u001b[31mPhenotypes for all traits included in the model for individual 2870 in the row 2477 are missing. This record is deleted.\u001b[39m\n",
      "\u001b[31mPhenotypes for all traits included in the model for individual 2882 in the row 2487 are missing. This record is deleted.\u001b[39m\n",
      "\u001b[31mPhenotypes for all traits included in the model for individual 2883 in the row 2488 are missing. This record is deleted.\u001b[39m\n",
      "\u001b[31mPhenotypes for all traits included in the model for individual 2884 in the row 2489 are missing. This record is deleted.\u001b[39m\n",
      "\u001b[31mPhenotypes for all traits included in the model for individual 2904 in the row 2508 are missing. This record is deleted.\u001b[39m\n",
      "\u001b[31mPhenotypes for all traits included in the model for individual 2909 in the row 2513 are missing. This record is deleted.\u001b[39m\n",
      "\u001b[31mPhenotypes for all traits included in the model for individual 2910 in the row 2514 are missing. This record is deleted.\u001b[39m\n",
      "\u001b[31mPhenotypes for all traits included in the model for individual 2917 in the row 2520 are missing. This record is deleted.\u001b[39m\n",
      "\u001b[31mPhenotypes for all traits included in the model for individual 2924 in the row 2526 are missing. This record is deleted.\u001b[39m\n",
      "\u001b[31mPhenotypes for all traits included in the model for individual 2965 in the row 2564 are missing. This record is deleted.\u001b[39m\n",
      "\u001b[31mPhenotypes for all traits included in the model for individual 2986 in the row 2583 are missing. This record is deleted.\u001b[39m\n",
      "\u001b[31mPhenotypes for all traits included in the model for individual 2988 in the row 2585 are missing. This record is deleted.\u001b[39m\n",
      "\u001b[31mPhenotypes for all traits included in the model for individual 2993 in the row 2589 are missing. This record is deleted.\u001b[39m\n",
      "\u001b[31mPhenotypes for all traits included in the model for individual 2997 in the row 2592 are missing. This record is deleted.\u001b[39m\n",
      "\u001b[31mPhenotypes for all traits included in the model for individual 3005 in the row 2598 are missing. This record is deleted.\u001b[39m\n",
      "\u001b[31mPhenotypes for all traits included in the model for individual 3006 in the row 2599 are missing. This record is deleted.\u001b[39m\n",
      "\u001b[31mPhenotypes for all traits included in the model for individual 3010 in the row 2603 are missing. This record is deleted.\u001b[39m\n",
      "\u001b[31mPhenotypes for all traits included in the model for individual 3014 in the row 2606 are missing. This record is deleted.\u001b[39m\n",
      "\u001b[31mPhenotypes for all traits included in the model for individual 3015 in the row 2607 are missing. This record is deleted.\u001b[39m\n",
      "\u001b[31mPhenotypes for all traits included in the model for individual 3025 in the row 2611 are missing. This record is deleted.\u001b[39m\n",
      "\u001b[31mPhenotypes for all traits included in the model for individual 3051 in the row 2632 are missing. This record is deleted.\u001b[39m\n",
      "\u001b[31mPhenotypes for all traits included in the model for individual 3054 in the row 2634 are missing. This record is deleted.\u001b[39m\n",
      "\u001b[31mPhenotypes for all traits included in the model for individual 3069 in the row 2647 are missing. This record is deleted.\u001b[39m\n",
      "\u001b[31mPhenotypes for all traits included in the model for individual 3083 in the row 2659 are missing. This record is deleted.\u001b[39m\n",
      "\u001b[31mPhenotypes for all traits included in the model for individual 3097 in the row 2666 are missing. This record is deleted.\u001b[39m\n",
      "\u001b[31mPhenotypes for all traits included in the model for individual 3098 in the row 2667 are missing. This record is deleted.\u001b[39m\n",
      "\u001b[31mPhenotypes for all traits included in the model for individual 3111 in the row 2679 are missing. This record is deleted.\u001b[39m\n",
      "\u001b[31mPhenotypes for all traits included in the model for individual 3115 in the row 2681 are missing. This record is deleted.\u001b[39m\n",
      "\u001b[31mPhenotypes for all traits included in the model for individual 3118 in the row 2684 are missing. This record is deleted.\u001b[39m\n",
      "\u001b[31mPhenotypes for all traits included in the model for individual 3120 in the row 2686 are missing. This record is deleted.\u001b[39m\n",
      "\u001b[31mPhenotypes for all traits included in the model for individual 3121 in the row 2687 are missing. This record is deleted.\u001b[39m\n",
      "\u001b[31mPhenotypes for all traits included in the model for individual 3122 in the row 2688 are missing. This record is deleted.\u001b[39m\n",
      "\u001b[31mPhenotypes for all traits included in the model for individual 3123 in the row 2689 are missing. This record is deleted.\u001b[39m\n",
      "\u001b[31mPhenotypes for all traits included in the model for individual 3124 in the row 2690 are missing. This record is deleted.\u001b[39m\n",
      "\u001b[31mPhenotypes for all traits included in the model for individual 3126 in the row 2692 are missing. This record is deleted.\u001b[39m\n",
      "\u001b[31mPhenotypes for all traits included in the model for individual 3131 in the row 2696 are missing. This record is deleted.\u001b[39m\n",
      "\u001b[31mPhenotypes for all traits included in the model for individual 3132 in the row 2697 are missing. This record is deleted.\u001b[39m\n",
      "\u001b[31mPhenotypes for all traits included in the model for individual 3135 in the row 2700 are missing. This record is deleted.\u001b[39m\n",
      "\u001b[31mPhenotypes for all traits included in the model for individual 3136 in the row 2701 are missing. This record is deleted.\u001b[39m\n",
      "\u001b[31mPhenotypes for all traits included in the model for individual 3144 in the row 2708 are missing. This record is deleted.\u001b[39m\n",
      "\u001b[31mPhenotypes for all traits included in the model for individual 3146 in the row 2710 are missing. This record is deleted.\u001b[39m\n",
      "\u001b[31mPhenotypes for all traits included in the model for individual 3162 in the row 2722 are missing. This record is deleted.\u001b[39m\n",
      "\u001b[31mPhenotypes for all traits included in the model for individual 3168 in the row 2728 are missing. This record is deleted.\u001b[39m\n",
      "\u001b[31mPhenotypes for all traits included in the model for individual 3171 in the row 2731 are missing. This record is deleted.\u001b[39m\n",
      "\u001b[31mPhenotypes for all traits included in the model for individual 3176 in the row 2735 are missing. This record is deleted.\u001b[39m\n",
      "\u001b[31mPhenotypes for all traits included in the model for individual 3194 in the row 2750 are missing. This record is deleted.\u001b[39m\n",
      "\u001b[31mPhenotypes for all traits included in the model for individual 3210 in the row 2765 are missing. This record is deleted.\u001b[39m\n",
      "\u001b[31mPhenotypes for all traits included in the model for individual 3226 in the row 2778 are missing. This record is deleted.\u001b[39m\n",
      "\u001b[31mPhenotypes for all traits included in the model for individual 3232 in the row 2784 are missing. This record is deleted.\u001b[39m\n",
      "\u001b[31mPhenotypes for all traits included in the model for individual 3250 in the row 2801 are missing. This record is deleted.\u001b[39m\n",
      "\u001b[31mPhenotypes for all traits included in the model for individual 3279 in the row 2828 are missing. This record is deleted.\u001b[39m\n",
      "\u001b[31mPhenotypes for all traits included in the model for individual 3287 in the row 2836 are missing. This record is deleted.\u001b[39m\n",
      "\u001b[31mPhenotypes for all traits included in the model for individual 3288 in the row 2837 are missing. This record is deleted.\u001b[39m\n",
      "\u001b[31mPhenotypes for all traits included in the model for individual 3291 in the row 2840 are missing. This record is deleted.\u001b[39m\n",
      "\u001b[32mThe number of observations with both genotypes and phenotypes used in the analysis is 2377.\u001b[39m\n",
      "\n",
      "The prior for marker effects variance is calculated from the genetic variance and π.\n",
      "The mean of the prior for the marker effects variance is: 0.0\n",
      "\n",
      "\n",
      "\n",
      "\u001b[0m\u001b[1mA Linear Mixed Model was build using model equations:\u001b[22m\n",
      "\n",
      "ADFI = intercept + Batch + Died + EntryAge + FinPenBatch + SowID\n",
      "\n",
      "\u001b[0m\u001b[1mModel Information:\u001b[22m\n",
      "\n",
      "Term            C/F          F/R            nLevels\n",
      "intercept       factor       fixed                1\n",
      "Batch           factor       fixed               49\n",
      "Died            factor       fixed                2\n",
      "EntryAge        covariate    fixed                1\n",
      "FinPenBatch     factor       random             214\n",
      "SowID           factor       random            1018\n",
      "\n",
      "\u001b[0m\u001b[1mMCMC Information:\u001b[22m\n",
      "\n",
      "chain_length                                  50000\n",
      "burnin                                         5000\n",
      "starting_value                                false\n",
      "printout_frequency                            50001\n",
      "output_samples_frequency                        100\n",
      "constraint                                    false\n",
      "missing_phenotypes                             true\n",
      "update_priors_frequency                           0\n",
      "seed                                          false\n",
      "\n",
      "\u001b[0m\u001b[1mHyper-parameters Information:\u001b[22m\n",
      "\n",
      "random effect variances (ADFI:FinPenBatch):              [0.006]\n",
      "random effect variances (ADFI:SowID):              [0.004]\n",
      "residual variances:                           0.049\n",
      "\n",
      "\u001b[0m\u001b[1mGenomic Information:\u001b[22m\n",
      "\n",
      "complete genomic data (i.e., non-single-step analysis)\n",
      "\n",
      "Genomic Category                               geno\n",
      "Method                                       BayesC\n",
      "genetic variances (genomic):                  0.029\n",
      "marker effect variances:                      0.000\n",
      "π                                               0.0\n",
      "estimatePi                                    false\n",
      "estimateScale                                  true\n",
      "\n",
      "\u001b[0m\u001b[1mDegree of freedom for hyper-parameters:\u001b[22m\n",
      "\n",
      "residual variances:                           4.000\n",
      "random effect variances:                      5.000\n",
      "random effect variances:                      5.000\n",
      "marker effect variances:                      4.000\n",
      "\n",
      "\n",
      "\n",
      "\u001b[31mThe file MCMC_samples_residual_variance.txt already exists!!! It is overwritten by the new output.\u001b[39m\n",
      "\u001b[32mThe file MCMC_samples_marker_effects_geno_ADFI.txt is created to save MCMC samples for marker_effects_geno_ADFI.\u001b[39m\n",
      "\u001b[32mThe file MCMC_samples_marker_effects_variances_geno.txt is created to save MCMC samples for marker_effects_variances_geno.\u001b[39m\n",
      "\u001b[32mThe file MCMC_samples_pi_geno.txt is created to save MCMC samples for pi_geno.\u001b[39m\n",
      "\u001b[32mThe file MCMC_samples_ADFI.FinPenBatch_variances.txt is created to save MCMC samples for ADFI:FinPenBatch_variances.\u001b[39m\n",
      "\u001b[32mThe file MCMC_samples_ADFI.SowID_variances.txt is created to save MCMC samples for ADFI:SowID_variances.\u001b[39m\n",
      "\u001b[31mThe file MCMC_samples_EBV_ADFI.txt already exists!!! It is overwritten by the new output.\u001b[39m\n",
      "\u001b[31mThe file MCMC_samples_genetic_variance.txt already exists!!! It is overwritten by the new output.\u001b[39m\n",
      "\u001b[31mThe file MCMC_samples_heritability.txt already exists!!! It is overwritten by the new output.\u001b[39m\n"
     ]
    },
    {
     "name": "stderr",
     "output_type": "stream",
     "text": [
      "\u001b[32mrunning MCMC ...100%|███████████████████████████████████| Time: 5:30:18\u001b[39m\n"
     ]
    },
    {
     "ename": "ErrorException",
     "evalue": "type Genotypes has no field meanScaleVar",
     "output_type": "error",
     "traceback": [
      "type Genotypes has no field meanScaleVar",
      "",
      "Stacktrace:",
      " [1] getproperty(::Any, ::Symbol) at ./sysimg.jl:18",
      " [2] output_result(::JWAS.MME, ::String, ::Array{Float64,1}, ::Float64, ::Bool, ::Array{Float64,1}, ::Float64, ::Bool) at /opt/julia/packages/JWAS/p3j8J/src/1.JWAS/src/output.jl:93",
      " [3] #MCMC_BayesianAlphabet#32(::Array{Float32,1}, ::Int64, ::Bool, ::Array{Float32,1}, ::Int64, ::Int64, ::String, ::Int64, ::Bool, ::typeof(JWAS.MCMC_BayesianAlphabet), ::Int64, ::JWAS.MME, ::DataFrame) at /opt/julia/packages/JWAS/p3j8J/src/1.JWAS/src/MCMC/MCMC_BayesianAlphabet.jl:265",
      " [4] (::getfield(JWAS, Symbol(\"#kw##MCMC_BayesianAlphabet\")))(::NamedTuple{(:Rinv, :burnin, :estimate_variance, :starting_value, :outFreq, :output_samples_frequency, :output_file, :update_priors_frequency, :categorical_trait),Tuple{Array{Float32,1},Int64,Bool,Array{Float32,1},Int64,Int64,String,Int64,Bool}}, ::typeof(JWAS.MCMC_BayesianAlphabet), ::Int64, ::JWAS.MME, ::DataFrame) at ./none:0",
      " [5] #runMCMC#62(::Bool, ::Int64, ::Bool, ::Int64, ::Int64, ::Int64, ::Bool, ::Bool, ::Bool, ::Bool, ::Bool, ::Bool, ::Bool, ::Bool, ::Bool, ::Bool, ::Bool, ::Bool, ::Int64, ::Bool, ::Bool, ::String, ::Bool, ::String, ::Float64, ::Bool, ::Bool, ::typeof(runMCMC), ::JWAS.MME, ::DataFrame) at /opt/julia/packages/JWAS/p3j8J/src/1.JWAS/src/JWAS.jl:276",
      " [6] (::getfield(JWAS, Symbol(\"#kw##runMCMC\")))(::NamedTuple{(:methods, :missing_phenotypes, :estimatePi, :estimateScale, :chain_length, :burnin, :output_heritability, :output_samples_frequency),Tuple{String,Bool,Bool,Bool,Int64,Int64,Bool,Int64}}, ::typeof(runMCMC), ::JWAS.MME, ::DataFrame) at ./none:0",
      " [7] top-level scope at util.jl:156",
      " [8] top-level scope at In[12]:1"
     ]
    }
   ],
   "source": [
    "@time ADFI_outCPi=runMCMC(ADFI_model,phenotypes,methods=\"BayesC\", missing_phenotypes=true, estimatePi=false,estimateScale=true,chain_length=50000,burnin = 5000,output_heritability=true,  output_samples_frequency=100)"
   ]
  },
  {
   "cell_type": "code",
   "execution_count": 13,
   "metadata": {},
   "outputs": [
    {
     "ename": "UndefVarError",
     "evalue": "UndefVarError: ADFI_outCPi not defined",
     "output_type": "error",
     "traceback": [
      "UndefVarError: ADFI_outCPi not defined",
      "",
      "Stacktrace:",
      " [1] top-level scope at In[13]:1"
     ]
    }
   ],
   "source": [
    "keys(ADFI_outCPi)"
   ]
  },
  {
   "cell_type": "code",
   "execution_count": 14,
   "metadata": {},
   "outputs": [
    {
     "data": {
      "text/plain": [
       "0.02050602929462501"
      ]
     },
     "execution_count": 14,
     "metadata": {},
     "output_type": "execute_result"
    }
   ],
   "source": [
    "marker=CSV.read(\"MCMC_samples_genetic_variance.txt\",delim = ' ',header=true)\n",
    "Va=mean(marker[!, 1])"
   ]
  },
  {
   "cell_type": "code",
   "execution_count": 15,
   "metadata": {},
   "outputs": [
    {
     "data": {
      "text/plain": [
       "0.004254548480858814"
      ]
     },
     "execution_count": 15,
     "metadata": {},
     "output_type": "execute_result"
    }
   ],
   "source": [
    "Sow=CSV.read(\"MCMC_samples_SowID_variances.txt\",delim = ' ',header=true)\n",
    "Vs=mean(Sow[!, 1])"
   ]
  },
  {
   "cell_type": "code",
   "execution_count": 16,
   "metadata": {},
   "outputs": [
    {
     "data": {
      "text/plain": [
       "0.0025800722112114846"
      ]
     },
     "execution_count": 16,
     "metadata": {},
     "output_type": "execute_result"
    }
   ],
   "source": [
    "pen=CSV.read(\"MCMC_samples_FinPenBatch_variances.txt\",delim = ' ',header=true)\n",
    "Vs=mean(pen[!, 1])"
   ]
  },
  {
   "cell_type": "code",
   "execution_count": 17,
   "metadata": {},
   "outputs": [
    {
     "data": {
      "text/plain": [
       "0.05573206314044709"
      ]
     },
     "execution_count": 17,
     "metadata": {},
     "output_type": "execute_result"
    }
   ],
   "source": [
    "Res=CSV.read(\"MCMC_samples_residual_variance.txt\",delim = ' ',header=true)\n",
    "Ve=mean(Res[!, 1])"
   ]
  },
  {
   "cell_type": "code",
   "execution_count": 18,
   "metadata": {},
   "outputs": [
    {
     "data": {
      "text/plain": [
       "0.26016882512617484"
      ]
     },
     "execution_count": 18,
     "metadata": {},
     "output_type": "execute_result"
    }
   ],
   "source": [
    "h2=Va/(Va+Vs+Ve)"
   ]
  },
  {
   "cell_type": "code",
   "execution_count": 18,
   "metadata": {},
   "outputs": [
    {
     "data": {
      "text/html": [
       "<table class=\"data-frame\"><thead><tr><th></th><th>π</th><th>Estimate</th><th>Std_Error</th></tr><tr><th></th><th>Any</th><th>Any</th><th>Any</th></tr></thead><tbody><p>1 rows × 3 columns</p><tr><th>1</th><td>π</td><td>0.988988</td><td>0.0151926</td></tr></tbody></table>"
      ],
      "text/latex": [
       "\\begin{tabular}{r|ccc}\n",
       "\t& π & Estimate & Std\\_Error\\\\\n",
       "\t\\hline\n",
       "\t& Any & Any & Any\\\\\n",
       "\t\\hline\n",
       "\t1 & π & 0.988988 & 0.0151926 \\\\\n",
       "\\end{tabular}\n"
      ],
      "text/plain": [
       "1×3 DataFrame\n",
       "│ Row │ π   │ Estimate │ Std_Error │\n",
       "│     │ \u001b[90mAny\u001b[39m │ \u001b[90mAny\u001b[39m      │ \u001b[90mAny\u001b[39m       │\n",
       "├─────┼─────┼──────────┼───────────┤\n",
       "│ 1   │ π   │ 0.988988 │ 0.0151926 │"
      ]
     },
     "execution_count": 18,
     "metadata": {},
     "output_type": "execute_result"
    }
   ],
   "source": [
    "Pi=ADFI_outCPi[\"Pi\"]"
   ]
  },
  {
   "cell_type": "code",
   "execution_count": 24,
   "metadata": {},
   "outputs": [
    {
     "data": {
      "text/html": [
       "<table class=\"data-frame\"><thead><tr><th></th><th>iteration</th><th>Column1</th></tr><tr><th></th><th>Int64</th><th>Float64</th></tr></thead><tbody><p>450 rows × 2 columns</p><tr><th>1</th><td>1</td><td>0.989549</td></tr><tr><th>2</th><td>2</td><td>0.991203</td></tr><tr><th>3</th><td>3</td><td>0.991483</td></tr><tr><th>4</th><td>4</td><td>0.992245</td></tr><tr><th>5</th><td>5</td><td>0.992705</td></tr><tr><th>6</th><td>6</td><td>0.994845</td></tr><tr><th>7</th><td>7</td><td>0.995283</td></tr><tr><th>8</th><td>8</td><td>0.998019</td></tr><tr><th>9</th><td>9</td><td>0.998236</td></tr><tr><th>10</th><td>10</td><td>0.998238</td></tr><tr><th>11</th><td>11</td><td>0.998871</td></tr><tr><th>12</th><td>12</td><td>0.999432</td></tr><tr><th>13</th><td>13</td><td>0.998974</td></tr><tr><th>14</th><td>14</td><td>0.998669</td></tr><tr><th>15</th><td>15</td><td>0.999496</td></tr><tr><th>16</th><td>16</td><td>0.999338</td></tr><tr><th>17</th><td>17</td><td>0.999258</td></tr><tr><th>18</th><td>18</td><td>0.999581</td></tr><tr><th>19</th><td>19</td><td>0.999794</td></tr><tr><th>20</th><td>20</td><td>0.999643</td></tr><tr><th>21</th><td>21</td><td>0.999699</td></tr><tr><th>22</th><td>22</td><td>0.999698</td></tr><tr><th>23</th><td>23</td><td>0.999103</td></tr><tr><th>24</th><td>24</td><td>0.999103</td></tr><tr><th>25</th><td>25</td><td>0.999482</td></tr><tr><th>26</th><td>26</td><td>0.999502</td></tr><tr><th>27</th><td>27</td><td>0.999881</td></tr><tr><th>28</th><td>28</td><td>0.999654</td></tr><tr><th>29</th><td>29</td><td>0.999813</td></tr><tr><th>30</th><td>30</td><td>0.999743</td></tr><tr><th>&vellip;</th><td>&vellip;</td><td>&vellip;</td></tr></tbody></table>"
      ],
      "text/latex": [
       "\\begin{tabular}{r|cc}\n",
       "\t& iteration & Column1\\\\\n",
       "\t\\hline\n",
       "\t& Int64 & Float64\\\\\n",
       "\t\\hline\n",
       "\t1 & 1 & 0.989549 \\\\\n",
       "\t2 & 2 & 0.991203 \\\\\n",
       "\t3 & 3 & 0.991483 \\\\\n",
       "\t4 & 4 & 0.992245 \\\\\n",
       "\t5 & 5 & 0.992705 \\\\\n",
       "\t6 & 6 & 0.994845 \\\\\n",
       "\t7 & 7 & 0.995283 \\\\\n",
       "\t8 & 8 & 0.998019 \\\\\n",
       "\t9 & 9 & 0.998236 \\\\\n",
       "\t10 & 10 & 0.998238 \\\\\n",
       "\t11 & 11 & 0.998871 \\\\\n",
       "\t12 & 12 & 0.999432 \\\\\n",
       "\t13 & 13 & 0.998974 \\\\\n",
       "\t14 & 14 & 0.998669 \\\\\n",
       "\t15 & 15 & 0.999496 \\\\\n",
       "\t16 & 16 & 0.999338 \\\\\n",
       "\t17 & 17 & 0.999258 \\\\\n",
       "\t18 & 18 & 0.999581 \\\\\n",
       "\t19 & 19 & 0.999794 \\\\\n",
       "\t20 & 20 & 0.999643 \\\\\n",
       "\t21 & 21 & 0.999699 \\\\\n",
       "\t22 & 22 & 0.999698 \\\\\n",
       "\t23 & 23 & 0.999103 \\\\\n",
       "\t24 & 24 & 0.999103 \\\\\n",
       "\t25 & 25 & 0.999482 \\\\\n",
       "\t26 & 26 & 0.999502 \\\\\n",
       "\t27 & 27 & 0.999881 \\\\\n",
       "\t28 & 28 & 0.999654 \\\\\n",
       "\t29 & 29 & 0.999813 \\\\\n",
       "\t30 & 30 & 0.999743 \\\\\n",
       "\t$\\dots$ & $\\dots$ & $\\dots$ \\\\\n",
       "\\end{tabular}\n"
      ],
      "text/plain": [
       "450×2 DataFrame\n",
       "│ Row │ iteration │ Column1  │\n",
       "│     │ \u001b[90mInt64\u001b[39m     │ \u001b[90mFloat64\u001b[39m  │\n",
       "├─────┼───────────┼──────────┤\n",
       "│ 1   │ 1         │ 0.989549 │\n",
       "│ 2   │ 2         │ 0.991203 │\n",
       "│ 3   │ 3         │ 0.991483 │\n",
       "│ 4   │ 4         │ 0.992245 │\n",
       "│ 5   │ 5         │ 0.992705 │\n",
       "│ 6   │ 6         │ 0.994845 │\n",
       "│ 7   │ 7         │ 0.995283 │\n",
       "│ 8   │ 8         │ 0.998019 │\n",
       "│ 9   │ 9         │ 0.998236 │\n",
       "│ 10  │ 10        │ 0.998238 │\n",
       "⋮\n",
       "│ 440 │ 440       │ 0.992057 │\n",
       "│ 441 │ 441       │ 0.991438 │\n",
       "│ 442 │ 442       │ 0.992229 │\n",
       "│ 443 │ 443       │ 0.994537 │\n",
       "│ 444 │ 444       │ 0.993201 │\n",
       "│ 445 │ 445       │ 0.995952 │\n",
       "│ 446 │ 446       │ 0.99396  │\n",
       "│ 447 │ 447       │ 0.993239 │\n",
       "│ 448 │ 448       │ 0.995368 │\n",
       "│ 449 │ 449       │ 0.99545  │\n",
       "│ 450 │ 450       │ 0.99605  │"
      ]
     },
     "execution_count": 24,
     "metadata": {},
     "output_type": "execute_result"
    }
   ],
   "source": [
    "Pi=CSV.read(\"MCMC_samples_pi.txt\",delim = ' ',header=false)\n",
    "insertcols!(Pi, 1, :iteration => 1:450) # Add a column called iteration"
   ]
  },
  {
   "cell_type": "code",
   "execution_count": 25,
   "metadata": {},
   "outputs": [
    {
     "data": {
      "image/svg+xml": [
       "<?xml version=\"1.0\" encoding=\"utf-8\"?>\n",
       "<svg xmlns=\"http://www.w3.org/2000/svg\" xmlns:xlink=\"http://www.w3.org/1999/xlink\" width=\"600\" height=\"400\" viewBox=\"0 0 2400 1600\">\n",
       "<defs>\n",
       "  <clipPath id=\"clip0500\">\n",
       "    <rect x=\"0\" y=\"0\" width=\"2400\" height=\"1600\"/>\n",
       "  </clipPath>\n",
       "</defs>\n",
       "<path clip-path=\"url(#clip0500)\" d=\"\n",
       "M0 1600 L2400 1600 L2400 0 L0 0  Z\n",
       "  \" fill=\"#ffffff\" fill-rule=\"evenodd\" fill-opacity=\"1\"/>\n",
       "<defs>\n",
       "  <clipPath id=\"clip0501\">\n",
       "    <rect x=\"480\" y=\"0\" width=\"1681\" height=\"1600\"/>\n",
       "  </clipPath>\n",
       "</defs>\n",
       "<path clip-path=\"url(#clip0500)\" d=\"\n",
       "M296.041 1425.62 L2352.76 1425.62 L2352.76 121.675 L296.041 121.675  Z\n",
       "  \" fill=\"#ffffff\" fill-rule=\"evenodd\" fill-opacity=\"1\"/>\n",
       "<defs>\n",
       "  <clipPath id=\"clip0502\">\n",
       "    <rect x=\"296\" y=\"121\" width=\"2058\" height=\"1305\"/>\n",
       "  </clipPath>\n",
       "</defs>\n",
       "<polyline clip-path=\"url(#clip0502)\" style=\"stroke:#000000; stroke-width:2; stroke-opacity:0.1; fill:none\" points=\"\n",
       "  349.929,1425.62 349.929,121.675 \n",
       "  \"/>\n",
       "<polyline clip-path=\"url(#clip0502)\" style=\"stroke:#000000; stroke-width:2; stroke-opacity:0.1; fill:none\" points=\"\n",
       "  782.066,1425.62 782.066,121.675 \n",
       "  \"/>\n",
       "<polyline clip-path=\"url(#clip0502)\" style=\"stroke:#000000; stroke-width:2; stroke-opacity:0.1; fill:none\" points=\"\n",
       "  1214.2,1425.62 1214.2,121.675 \n",
       "  \"/>\n",
       "<polyline clip-path=\"url(#clip0502)\" style=\"stroke:#000000; stroke-width:2; stroke-opacity:0.1; fill:none\" points=\"\n",
       "  1646.34,1425.62 1646.34,121.675 \n",
       "  \"/>\n",
       "<polyline clip-path=\"url(#clip0502)\" style=\"stroke:#000000; stroke-width:2; stroke-opacity:0.1; fill:none\" points=\"\n",
       "  2078.48,1425.62 2078.48,121.675 \n",
       "  \"/>\n",
       "<polyline clip-path=\"url(#clip0502)\" style=\"stroke:#000000; stroke-width:2; stroke-opacity:0.1; fill:none\" points=\"\n",
       "  296.041,1335.31 2352.76,1335.31 \n",
       "  \"/>\n",
       "<polyline clip-path=\"url(#clip0502)\" style=\"stroke:#000000; stroke-width:2; stroke-opacity:0.1; fill:none\" points=\"\n",
       "  296.041,1039.38 2352.76,1039.38 \n",
       "  \"/>\n",
       "<polyline clip-path=\"url(#clip0502)\" style=\"stroke:#000000; stroke-width:2; stroke-opacity:0.1; fill:none\" points=\"\n",
       "  296.041,743.443 2352.76,743.443 \n",
       "  \"/>\n",
       "<polyline clip-path=\"url(#clip0502)\" style=\"stroke:#000000; stroke-width:2; stroke-opacity:0.1; fill:none\" points=\"\n",
       "  296.041,447.509 2352.76,447.509 \n",
       "  \"/>\n",
       "<polyline clip-path=\"url(#clip0502)\" style=\"stroke:#000000; stroke-width:2; stroke-opacity:0.1; fill:none\" points=\"\n",
       "  296.041,151.574 2352.76,151.574 \n",
       "  \"/>\n",
       "<polyline clip-path=\"url(#clip0500)\" style=\"stroke:#000000; stroke-width:4; stroke-opacity:1; fill:none\" points=\"\n",
       "  296.041,1425.62 2352.76,1425.62 \n",
       "  \"/>\n",
       "<polyline clip-path=\"url(#clip0500)\" style=\"stroke:#000000; stroke-width:4; stroke-opacity:1; fill:none\" points=\"\n",
       "  296.041,1425.62 296.041,121.675 \n",
       "  \"/>\n",
       "<polyline clip-path=\"url(#clip0500)\" style=\"stroke:#000000; stroke-width:4; stroke-opacity:1; fill:none\" points=\"\n",
       "  349.929,1425.62 349.929,1406.06 \n",
       "  \"/>\n",
       "<polyline clip-path=\"url(#clip0500)\" style=\"stroke:#000000; stroke-width:4; stroke-opacity:1; fill:none\" points=\"\n",
       "  782.066,1425.62 782.066,1406.06 \n",
       "  \"/>\n",
       "<polyline clip-path=\"url(#clip0500)\" style=\"stroke:#000000; stroke-width:4; stroke-opacity:1; fill:none\" points=\"\n",
       "  1214.2,1425.62 1214.2,1406.06 \n",
       "  \"/>\n",
       "<polyline clip-path=\"url(#clip0500)\" style=\"stroke:#000000; stroke-width:4; stroke-opacity:1; fill:none\" points=\"\n",
       "  1646.34,1425.62 1646.34,1406.06 \n",
       "  \"/>\n",
       "<polyline clip-path=\"url(#clip0500)\" style=\"stroke:#000000; stroke-width:4; stroke-opacity:1; fill:none\" points=\"\n",
       "  2078.48,1425.62 2078.48,1406.06 \n",
       "  \"/>\n",
       "<polyline clip-path=\"url(#clip0500)\" style=\"stroke:#000000; stroke-width:4; stroke-opacity:1; fill:none\" points=\"\n",
       "  296.041,1335.31 326.892,1335.31 \n",
       "  \"/>\n",
       "<polyline clip-path=\"url(#clip0500)\" style=\"stroke:#000000; stroke-width:4; stroke-opacity:1; fill:none\" points=\"\n",
       "  296.041,1039.38 326.892,1039.38 \n",
       "  \"/>\n",
       "<polyline clip-path=\"url(#clip0500)\" style=\"stroke:#000000; stroke-width:4; stroke-opacity:1; fill:none\" points=\"\n",
       "  296.041,743.443 326.892,743.443 \n",
       "  \"/>\n",
       "<polyline clip-path=\"url(#clip0500)\" style=\"stroke:#000000; stroke-width:4; stroke-opacity:1; fill:none\" points=\"\n",
       "  296.041,447.509 326.892,447.509 \n",
       "  \"/>\n",
       "<polyline clip-path=\"url(#clip0500)\" style=\"stroke:#000000; stroke-width:4; stroke-opacity:1; fill:none\" points=\"\n",
       "  296.041,151.574 326.892,151.574 \n",
       "  \"/>\n",
       "<g clip-path=\"url(#clip0500)\">\n",
       "<text style=\"fill:#000000; fill-opacity:1; font-family:Arial,Helvetica Neue,Helvetica,sans-serif; font-size:48px; text-anchor:middle;\" transform=\"rotate(0, 349.929, 1479.62)\" x=\"349.929\" y=\"1479.62\">0</text>\n",
       "</g>\n",
       "<g clip-path=\"url(#clip0500)\">\n",
       "<text style=\"fill:#000000; fill-opacity:1; font-family:Arial,Helvetica Neue,Helvetica,sans-serif; font-size:48px; text-anchor:middle;\" transform=\"rotate(0, 782.066, 1479.62)\" x=\"782.066\" y=\"1479.62\">100</text>\n",
       "</g>\n",
       "<g clip-path=\"url(#clip0500)\">\n",
       "<text style=\"fill:#000000; fill-opacity:1; font-family:Arial,Helvetica Neue,Helvetica,sans-serif; font-size:48px; text-anchor:middle;\" transform=\"rotate(0, 1214.2, 1479.62)\" x=\"1214.2\" y=\"1479.62\">200</text>\n",
       "</g>\n",
       "<g clip-path=\"url(#clip0500)\">\n",
       "<text style=\"fill:#000000; fill-opacity:1; font-family:Arial,Helvetica Neue,Helvetica,sans-serif; font-size:48px; text-anchor:middle;\" transform=\"rotate(0, 1646.34, 1479.62)\" x=\"1646.34\" y=\"1479.62\">300</text>\n",
       "</g>\n",
       "<g clip-path=\"url(#clip0500)\">\n",
       "<text style=\"fill:#000000; fill-opacity:1; font-family:Arial,Helvetica Neue,Helvetica,sans-serif; font-size:48px; text-anchor:middle;\" transform=\"rotate(0, 2078.48, 1479.62)\" x=\"2078.48\" y=\"1479.62\">400</text>\n",
       "</g>\n",
       "<g clip-path=\"url(#clip0500)\">\n",
       "<text style=\"fill:#000000; fill-opacity:1; font-family:Arial,Helvetica Neue,Helvetica,sans-serif; font-size:48px; text-anchor:end;\" transform=\"rotate(0, 272.041, 1352.81)\" x=\"272.041\" y=\"1352.81\">0.9900</text>\n",
       "</g>\n",
       "<g clip-path=\"url(#clip0500)\">\n",
       "<text style=\"fill:#000000; fill-opacity:1; font-family:Arial,Helvetica Neue,Helvetica,sans-serif; font-size:48px; text-anchor:end;\" transform=\"rotate(0, 272.041, 1056.88)\" x=\"272.041\" y=\"1056.88\">0.9925</text>\n",
       "</g>\n",
       "<g clip-path=\"url(#clip0500)\">\n",
       "<text style=\"fill:#000000; fill-opacity:1; font-family:Arial,Helvetica Neue,Helvetica,sans-serif; font-size:48px; text-anchor:end;\" transform=\"rotate(0, 272.041, 760.943)\" x=\"272.041\" y=\"760.943\">0.9950</text>\n",
       "</g>\n",
       "<g clip-path=\"url(#clip0500)\">\n",
       "<text style=\"fill:#000000; fill-opacity:1; font-family:Arial,Helvetica Neue,Helvetica,sans-serif; font-size:48px; text-anchor:end;\" transform=\"rotate(0, 272.041, 465.009)\" x=\"272.041\" y=\"465.009\">0.9975</text>\n",
       "</g>\n",
       "<g clip-path=\"url(#clip0500)\">\n",
       "<text style=\"fill:#000000; fill-opacity:1; font-family:Arial,Helvetica Neue,Helvetica,sans-serif; font-size:48px; text-anchor:end;\" transform=\"rotate(0, 272.041, 169.074)\" x=\"272.041\" y=\"169.074\">1.0000</text>\n",
       "</g>\n",
       "<g clip-path=\"url(#clip0500)\">\n",
       "<text style=\"fill:#000000; fill-opacity:1; font-family:Arial,Helvetica Neue,Helvetica,sans-serif; font-size:84px; text-anchor:middle;\" transform=\"rotate(0, 1324.4, 73.2)\" x=\"1324.4\" y=\"73.2\">Pi trace plot</text>\n",
       "</g>\n",
       "<g clip-path=\"url(#clip0500)\">\n",
       "<text style=\"fill:#000000; fill-opacity:1; font-family:Arial,Helvetica Neue,Helvetica,sans-serif; font-size:66px; text-anchor:middle;\" transform=\"rotate(0, 1324.4, 1559.48)\" x=\"1324.4\" y=\"1559.48\">iteration</text>\n",
       "</g>\n",
       "<g clip-path=\"url(#clip0500)\">\n",
       "<text style=\"fill:#000000; fill-opacity:1; font-family:Arial,Helvetica Neue,Helvetica,sans-serif; font-size:66px; text-anchor:middle;\" transform=\"rotate(-90, 89.2861, 773.647)\" x=\"89.2861\" y=\"773.647\">Pi</text>\n",
       "</g>\n",
       "<polyline clip-path=\"url(#clip0502)\" style=\"stroke:#009af9; stroke-width:4; stroke-opacity:1; fill:none\" points=\"\n",
       "  354.25,1388.71 358.571,1192.95 362.893,1159.76 367.214,1069.58 371.536,1015.16 375.857,761.772 380.178,709.891 384.5,386.059 388.821,360.392 393.142,360.173 \n",
       "  397.464,285.19 401.785,218.786 406.107,273.051 410.428,309.08 414.749,211.265 419.071,229.928 423.392,239.352 427.713,201.213 432.035,175.988 436.356,193.828 \n",
       "  440.677,187.206 444.999,187.338 449.32,257.721 453.642,257.723 457.963,212.87 462.284,210.57 466.606,165.719 470.927,192.564 475.248,173.759 479.57,181.967 \n",
       "  483.891,201.979 488.213,249.556 492.534,235.872 496.855,264.129 501.177,168.984 505.498,181.597 509.819,188.31 514.141,175.861 518.462,207.92 522.784,266.464 \n",
       "  527.105,372.284 531.426,433.205 535.748,330.025 540.069,298.3 544.39,281.426 548.712,263.576 553.033,295.415 557.355,407.115 561.676,419.236 565.997,295.543 \n",
       "  570.319,407.997 574.64,604.686 578.961,585.328 583.283,703.359 587.604,346.025 591.926,346.996 596.247,385.933 600.568,446.433 604.89,373.335 609.211,372.105 \n",
       "  613.532,295.875 617.854,303.17 622.175,226.73 626.497,165.353 630.818,216.416 635.139,233.614 639.461,285.296 643.782,249.766 648.103,215.966 652.425,309.728 \n",
       "  656.746,416.954 661.068,311.408 665.389,221.947 669.71,193.34 674.032,170.831 678.353,178.102 682.674,205.487 686.996,202.979 691.317,231.622 695.639,217.178 \n",
       "  699.96,198.741 704.281,318.042 708.603,309.697 712.924,574.773 717.245,556.675 721.567,605.358 725.888,611.684 730.21,462.465 734.531,448.308 738.852,303.98 \n",
       "  743.174,308.921 747.495,263.744 751.816,287.145 756.138,560.92 760.459,541.512 764.781,439.798 769.102,557.367 773.423,804.911 777.745,811.417 782.066,848.787 \n",
       "  786.387,528.536 790.709,489.822 795.03,508.753 799.352,445.198 803.673,683.354 807.994,655.873 812.316,500.27 816.637,452.607 820.958,465.957 825.28,383.691 \n",
       "  829.601,430.398 833.923,322.727 838.244,347.988 842.565,396.688 846.887,406.095 851.208,337.758 855.529,263.932 859.851,263.903 864.172,309.558 868.494,407.172 \n",
       "  872.815,322.427 877.136,202.466 881.458,172.3 885.779,196.643 890.1,178.796 894.422,228.909 898.743,190.746 903.065,198.099 907.386,189.609 911.707,189.762 \n",
       "  916.029,194.795 920.35,236.169 924.671,188.947 928.993,190.003 933.314,181.25 937.636,246.978 941.957,216.209 946.278,192.994 950.6,223.526 954.921,166.785 \n",
       "  959.242,195.614 963.564,172.263 967.885,189.729 972.207,173.06 976.528,181.885 980.849,190.152 985.171,179.061 989.492,208.314 993.813,211.408 998.135,180.31 \n",
       "  1002.46,197.516 1006.78,182.147 1011.1,199.172 1015.42,235.896 1019.74,183.481 1024.06,245.253 1028.38,382.514 1032.71,419.375 1037.03,500.409 1041.35,378.2 \n",
       "  1045.67,450.639 1049.99,647.74 1054.31,622.989 1058.63,684.295 1062.96,603 1067.28,808.878 1071.6,436.501 1075.92,584.951 1080.24,676.062 1084.56,731.546 \n",
       "  1088.88,677.634 1093.2,676.724 1097.53,548.166 1101.85,531.163 1106.17,471.11 1110.49,372.292 1114.81,190.035 1119.13,216.815 1123.45,184.087 1127.78,206.835 \n",
       "  1132.1,188.974 1136.42,285.258 1140.74,203.192 1145.06,175.948 1149.38,187.739 1153.7,214.97 1158.03,258.714 1162.35,251.438 1166.67,289.422 1170.99,365.296 \n",
       "  1175.31,210.73 1179.63,239.85 1183.95,237.887 1188.28,275.504 1192.6,378.85 1196.92,253.698 1201.24,242.388 1205.56,223.524 1209.88,206.294 1214.2,183.835 \n",
       "  1218.52,169.086 1222.85,237.772 1227.17,200.187 1231.49,194.407 1235.81,196.644 1240.13,210.79 1244.45,167.811 1248.77,221.804 1253.1,222.5 1257.42,250.058 \n",
       "  1261.74,260.345 1266.06,211.003 1270.38,194.562 1274.7,216.176 1279.02,200.102 1283.35,197.673 1287.67,274.139 1291.99,226.959 1296.31,227.267 1300.63,262.81 \n",
       "  1304.95,357.884 1309.27,186.682 1313.6,181.647 1317.92,346.934 1322.24,312.871 1326.56,402.325 1330.88,479.611 1335.2,501.906 1339.52,722.964 1343.84,768.013 \n",
       "  1348.17,832.543 1352.49,942.582 1356.81,927.702 1361.13,991.886 1365.45,1184.05 1369.77,988.524 1374.09,1043.1 1378.42,772.563 1382.74,716.677 1387.06,681.152 \n",
       "  1391.38,665.738 1395.7,498.891 1400.02,423.981 1404.34,371.962 1408.67,462.445 1412.99,471.677 1417.31,443.75 1421.63,316.217 1425.95,296.621 1430.27,175.301 \n",
       "  1434.59,186.222 1438.91,196.074 1443.24,215.03 1447.56,233.917 1451.88,251.846 1456.2,286.278 1460.52,199.823 1464.84,200.444 1469.16,240.385 1473.49,306.491 \n",
       "  1477.81,326.404 1482.13,302.786 1486.45,504.156 1490.77,506.357 1495.09,630.056 1499.41,775.165 1503.74,770.377 1508.06,651.227 1512.38,676.953 1516.7,708.102 \n",
       "  1521.02,761.657 1525.34,640.864 1529.66,636.252 1533.99,770.187 1538.31,765.798 1542.63,590.693 1546.95,420.363 1551.27,510.242 1555.59,733.689 1559.91,991.52 \n",
       "  1564.23,1148.8 1568.56,826.47 1572.88,893.645 1577.2,1159.89 1581.52,1004.25 1585.84,792.37 1590.16,706.631 1594.48,1001.67 1598.81,798.49 1603.13,488.399 \n",
       "  1607.45,520.903 1611.77,543.741 1616.09,620.163 1620.41,838.693 1624.73,1042.69 1629.06,1066.79 1633.38,666.511 1637.7,536.022 1642.02,686.585 1646.34,739.916 \n",
       "  1650.66,728.477 1654.98,485.198 1659.3,487.842 1663.63,431.414 1667.95,501.131 1672.27,394.195 1676.59,260.079 1680.91,221.491 1685.23,287.01 1689.55,304.183 \n",
       "  1693.88,238.696 1698.2,278.121 1702.52,264.419 1706.84,185.31 1711.16,212.584 1715.48,206.032 1719.8,200.481 1724.13,206.785 1728.45,227.366 1732.77,201.521 \n",
       "  1737.09,388.381 1741.41,490.793 1745.73,351.919 1750.05,315.93 1754.38,325.718 1758.7,282.882 1763.02,289.177 1767.34,312.08 1771.66,373.44 1775.98,418.374 \n",
       "  1780.3,354.917 1784.62,313.837 1788.95,336.761 1793.27,357.072 1797.59,549.587 1801.91,619.289 1806.23,829.751 1810.55,799.462 1814.87,525.369 1819.2,432.587 \n",
       "  1823.52,367.947 1827.84,364.769 1832.16,378.545 1836.48,545.385 1840.8,489.217 1845.12,651.21 1849.45,723.307 1853.77,683.601 1858.09,658.756 1862.41,620.988 \n",
       "  1866.73,625.941 1871.05,698.08 1875.37,558.156 1879.7,636.155 1884.02,743.576 1888.34,854.86 1892.66,667.294 1896.98,537.142 1901.3,720.677 1905.62,719.134 \n",
       "  1909.94,744.052 1914.27,725.753 1918.59,747.256 1922.91,834.192 1927.23,969.846 1931.55,945.51 1935.87,677.168 1940.19,756.743 1944.52,733.933 1948.84,485.873 \n",
       "  1953.16,439.685 1957.48,358.577 1961.8,253.304 1966.12,344.126 1970.44,266.487 1974.77,246.994 1979.09,382.384 1983.41,340.9 1987.73,375.924 1992.05,450.439 \n",
       "  1996.37,403.948 2000.69,434.893 2005.01,372.295 2009.34,608.991 2013.66,566.526 2017.98,494 2022.3,558.13 2026.62,666.95 2030.94,569.958 2035.26,632.66 \n",
       "  2039.59,413.607 2043.91,591.521 2048.23,413.734 2052.55,441.216 2056.87,543.153 2061.19,434.156 2065.51,367.878 2069.84,327.576 2074.16,473.027 2078.48,392.668 \n",
       "  2082.8,248.79 2087.12,334.917 2091.44,364.191 2095.76,293.163 2100.09,275.351 2104.41,320.298 2108.73,350.232 2113.05,341.904 2117.37,587.559 2121.69,432.35 \n",
       "  2126.01,616.337 2130.33,401.733 2134.66,254.671 2138.98,264.83 2143.3,213.533 2147.62,231.373 2151.94,170.932 2156.26,197.062 2160.58,214.87 2164.91,163.956 \n",
       "  2169.23,158.579 2173.55,186.387 2177.87,221.742 2182.19,290.259 2186.51,237.893 2190.83,303.59 2195.16,420.911 2199.48,446.488 2203.8,514.479 2208.12,496.343 \n",
       "  2212.44,359.495 2216.76,432.64 2221.08,524.189 2225.41,598.407 2229.73,858.672 2234.05,824.345 2238.37,836.901 2242.69,1120.5 2247.01,1083.13 2251.33,1091.85 \n",
       "  2255.65,1165.09 2259.98,1071.41 2264.3,798.208 2268.62,956.454 2272.94,630.793 2277.26,866.57 2281.58,951.865 2285.9,699.907 2290.23,690.166 2294.55,619.165 \n",
       "  \n",
       "  \"/>\n",
       "<path clip-path=\"url(#clip0500)\" d=\"\n",
       "M1989.93 326.155 L2280.76 326.155 L2280.76 205.195 L1989.93 205.195  Z\n",
       "  \" fill=\"#ffffff\" fill-rule=\"evenodd\" fill-opacity=\"1\"/>\n",
       "<polyline clip-path=\"url(#clip0500)\" style=\"stroke:#000000; stroke-width:4; stroke-opacity:1; fill:none\" points=\"\n",
       "  1989.93,326.155 2280.76,326.155 2280.76,205.195 1989.93,205.195 1989.93,326.155 \n",
       "  \"/>\n",
       "<polyline clip-path=\"url(#clip0500)\" style=\"stroke:#009af9; stroke-width:4; stroke-opacity:1; fill:none\" points=\"\n",
       "  2013.93,265.675 2157.93,265.675 \n",
       "  \"/>\n",
       "<g clip-path=\"url(#clip0500)\">\n",
       "<text style=\"fill:#000000; fill-opacity:1; font-family:Arial,Helvetica Neue,Helvetica,sans-serif; font-size:48px; text-anchor:start;\" transform=\"rotate(0, 2181.93, 283.175)\" x=\"2181.93\" y=\"283.175\">y1</text>\n",
       "</g>\n",
       "</svg>\n"
      ]
     },
     "execution_count": 25,
     "metadata": {},
     "output_type": "execute_result"
    }
   ],
   "source": [
    "using Plots\n",
    "x = Pi[!,1]; y = Pi[!,2]; # These are the plotting data\n",
    "plot(x,y, title = \"Pi trace plot\",\n",
    "        xlabel = \"iteration\", ylabel = \"Pi\")"
   ]
  },
  {
   "cell_type": "code",
   "execution_count": 19,
   "metadata": {},
   "outputs": [
    {
     "data": {
      "text/html": [
       "<table class=\"data-frame\"><thead><tr><th></th><th>iteration</th><th>ADFI</th></tr><tr><th></th><th>Int64</th><th>Float64</th></tr></thead><tbody><p>450 rows × 2 columns</p><tr><th>1</th><td>1</td><td>0.114405</td></tr><tr><th>2</th><td>2</td><td>0.114031</td></tr><tr><th>3</th><td>3</td><td>0.129403</td></tr><tr><th>4</th><td>4</td><td>0.120854</td></tr><tr><th>5</th><td>5</td><td>0.194701</td></tr><tr><th>6</th><td>6</td><td>0.147831</td></tr><tr><th>7</th><td>7</td><td>0.122831</td></tr><tr><th>8</th><td>8</td><td>0.129074</td></tr><tr><th>9</th><td>9</td><td>0.121954</td></tr><tr><th>10</th><td>10</td><td>0.0970305</td></tr><tr><th>11</th><td>11</td><td>0.115898</td></tr><tr><th>12</th><td>12</td><td>0.15739</td></tr><tr><th>13</th><td>13</td><td>0.15549</td></tr><tr><th>14</th><td>14</td><td>0.125415</td></tr><tr><th>15</th><td>15</td><td>0.15132</td></tr><tr><th>16</th><td>16</td><td>0.125325</td></tr><tr><th>17</th><td>17</td><td>0.164388</td></tr><tr><th>18</th><td>18</td><td>0.130557</td></tr><tr><th>19</th><td>19</td><td>0.0911968</td></tr><tr><th>20</th><td>20</td><td>0.128811</td></tr><tr><th>21</th><td>21</td><td>0.101326</td></tr><tr><th>22</th><td>22</td><td>0.128461</td></tr><tr><th>23</th><td>23</td><td>0.13412</td></tr><tr><th>24</th><td>24</td><td>0.126002</td></tr><tr><th>25</th><td>25</td><td>0.151513</td></tr><tr><th>26</th><td>26</td><td>0.145776</td></tr><tr><th>27</th><td>27</td><td>0.137814</td></tr><tr><th>28</th><td>28</td><td>0.134846</td></tr><tr><th>29</th><td>29</td><td>0.106743</td></tr><tr><th>30</th><td>30</td><td>0.128796</td></tr><tr><th>&vellip;</th><td>&vellip;</td><td>&vellip;</td></tr></tbody></table>"
      ],
      "text/latex": [
       "\\begin{tabular}{r|cc}\n",
       "\t& iteration & ADFI\\\\\n",
       "\t\\hline\n",
       "\t& Int64 & Float64\\\\\n",
       "\t\\hline\n",
       "\t1 & 1 & 0.114405 \\\\\n",
       "\t2 & 2 & 0.114031 \\\\\n",
       "\t3 & 3 & 0.129403 \\\\\n",
       "\t4 & 4 & 0.120854 \\\\\n",
       "\t5 & 5 & 0.194701 \\\\\n",
       "\t6 & 6 & 0.147831 \\\\\n",
       "\t7 & 7 & 0.122831 \\\\\n",
       "\t8 & 8 & 0.129074 \\\\\n",
       "\t9 & 9 & 0.121954 \\\\\n",
       "\t10 & 10 & 0.0970305 \\\\\n",
       "\t11 & 11 & 0.115898 \\\\\n",
       "\t12 & 12 & 0.15739 \\\\\n",
       "\t13 & 13 & 0.15549 \\\\\n",
       "\t14 & 14 & 0.125415 \\\\\n",
       "\t15 & 15 & 0.15132 \\\\\n",
       "\t16 & 16 & 0.125325 \\\\\n",
       "\t17 & 17 & 0.164388 \\\\\n",
       "\t18 & 18 & 0.130557 \\\\\n",
       "\t19 & 19 & 0.0911968 \\\\\n",
       "\t20 & 20 & 0.128811 \\\\\n",
       "\t21 & 21 & 0.101326 \\\\\n",
       "\t22 & 22 & 0.128461 \\\\\n",
       "\t23 & 23 & 0.13412 \\\\\n",
       "\t24 & 24 & 0.126002 \\\\\n",
       "\t25 & 25 & 0.151513 \\\\\n",
       "\t26 & 26 & 0.145776 \\\\\n",
       "\t27 & 27 & 0.137814 \\\\\n",
       "\t28 & 28 & 0.134846 \\\\\n",
       "\t29 & 29 & 0.106743 \\\\\n",
       "\t30 & 30 & 0.128796 \\\\\n",
       "\t$\\dots$ & $\\dots$ & $\\dots$ \\\\\n",
       "\\end{tabular}\n"
      ],
      "text/plain": [
       "450×2 DataFrame\n",
       "│ Row │ iteration │ ADFI      │\n",
       "│     │ \u001b[90mInt64\u001b[39m     │ \u001b[90mFloat64\u001b[39m   │\n",
       "├─────┼───────────┼───────────┤\n",
       "│ 1   │ 1         │ 0.114405  │\n",
       "│ 2   │ 2         │ 0.114031  │\n",
       "│ 3   │ 3         │ 0.129403  │\n",
       "│ 4   │ 4         │ 0.120854  │\n",
       "│ 5   │ 5         │ 0.194701  │\n",
       "│ 6   │ 6         │ 0.147831  │\n",
       "│ 7   │ 7         │ 0.122831  │\n",
       "│ 8   │ 8         │ 0.129074  │\n",
       "│ 9   │ 9         │ 0.121954  │\n",
       "│ 10  │ 10        │ 0.0970305 │\n",
       "⋮\n",
       "│ 440 │ 440       │ 0.122706  │\n",
       "│ 441 │ 441       │ 0.157693  │\n",
       "│ 442 │ 442       │ 0.109063  │\n",
       "│ 443 │ 443       │ 0.0822586 │\n",
       "│ 444 │ 444       │ 0.0954197 │\n",
       "│ 445 │ 445       │ 0.0868249 │\n",
       "│ 446 │ 446       │ 0.132855  │\n",
       "│ 447 │ 447       │ 0.130614  │\n",
       "│ 448 │ 448       │ 0.112037  │\n",
       "│ 449 │ 449       │ 0.0678342 │\n",
       "│ 450 │ 450       │ 0.118021  │"
      ]
     },
     "execution_count": 19,
     "metadata": {},
     "output_type": "execute_result"
    }
   ],
   "source": [
    "h2=CSV.read(\"MCMC_samples_heritability.txt\",delim = ' ',header=true)\n",
    "insertcols!(h2, 1, :iteration => 1:450) # Add a column called iteration"
   ]
  },
  {
   "cell_type": "code",
   "execution_count": 20,
   "metadata": {},
   "outputs": [
    {
     "data": {
      "image/svg+xml": [
       "<?xml version=\"1.0\" encoding=\"utf-8\"?>\n",
       "<svg xmlns=\"http://www.w3.org/2000/svg\" xmlns:xlink=\"http://www.w3.org/1999/xlink\" width=\"600\" height=\"400\" viewBox=\"0 0 2400 1600\">\n",
       "<defs>\n",
       "  <clipPath id=\"clip0100\">\n",
       "    <rect x=\"0\" y=\"0\" width=\"2400\" height=\"1600\"/>\n",
       "  </clipPath>\n",
       "</defs>\n",
       "<path clip-path=\"url(#clip0100)\" d=\"\n",
       "M0 1600 L2400 1600 L2400 0 L0 0  Z\n",
       "  \" fill=\"#ffffff\" fill-rule=\"evenodd\" fill-opacity=\"1\"/>\n",
       "<defs>\n",
       "  <clipPath id=\"clip0101\">\n",
       "    <rect x=\"480\" y=\"0\" width=\"1681\" height=\"1600\"/>\n",
       "  </clipPath>\n",
       "</defs>\n",
       "<path clip-path=\"url(#clip0100)\" d=\"\n",
       "M242.516 1425.62 L2352.76 1425.62 L2352.76 121.675 L242.516 121.675  Z\n",
       "  \" fill=\"#ffffff\" fill-rule=\"evenodd\" fill-opacity=\"1\"/>\n",
       "<defs>\n",
       "  <clipPath id=\"clip0102\">\n",
       "    <rect x=\"242\" y=\"121\" width=\"2111\" height=\"1305\"/>\n",
       "  </clipPath>\n",
       "</defs>\n",
       "<polyline clip-path=\"url(#clip0102)\" style=\"stroke:#000000; stroke-width:2; stroke-opacity:0.1; fill:none\" points=\"\n",
       "  297.806,1425.62 297.806,121.675 \n",
       "  \"/>\n",
       "<polyline clip-path=\"url(#clip0102)\" style=\"stroke:#000000; stroke-width:2; stroke-opacity:0.1; fill:none\" points=\"\n",
       "  741.19,1425.62 741.19,121.675 \n",
       "  \"/>\n",
       "<polyline clip-path=\"url(#clip0102)\" style=\"stroke:#000000; stroke-width:2; stroke-opacity:0.1; fill:none\" points=\"\n",
       "  1184.57,1425.62 1184.57,121.675 \n",
       "  \"/>\n",
       "<polyline clip-path=\"url(#clip0102)\" style=\"stroke:#000000; stroke-width:2; stroke-opacity:0.1; fill:none\" points=\"\n",
       "  1627.96,1425.62 1627.96,121.675 \n",
       "  \"/>\n",
       "<polyline clip-path=\"url(#clip0102)\" style=\"stroke:#000000; stroke-width:2; stroke-opacity:0.1; fill:none\" points=\"\n",
       "  2071.34,1425.62 2071.34,121.675 \n",
       "  \"/>\n",
       "<polyline clip-path=\"url(#clip0102)\" style=\"stroke:#000000; stroke-width:2; stroke-opacity:0.1; fill:none\" points=\"\n",
       "  242.516,1340.39 2352.76,1340.39 \n",
       "  \"/>\n",
       "<polyline clip-path=\"url(#clip0102)\" style=\"stroke:#000000; stroke-width:2; stroke-opacity:0.1; fill:none\" points=\"\n",
       "  242.516,1042.94 2352.76,1042.94 \n",
       "  \"/>\n",
       "<polyline clip-path=\"url(#clip0102)\" style=\"stroke:#000000; stroke-width:2; stroke-opacity:0.1; fill:none\" points=\"\n",
       "  242.516,745.488 2352.76,745.488 \n",
       "  \"/>\n",
       "<polyline clip-path=\"url(#clip0102)\" style=\"stroke:#000000; stroke-width:2; stroke-opacity:0.1; fill:none\" points=\"\n",
       "  242.516,448.035 2352.76,448.035 \n",
       "  \"/>\n",
       "<polyline clip-path=\"url(#clip0102)\" style=\"stroke:#000000; stroke-width:2; stroke-opacity:0.1; fill:none\" points=\"\n",
       "  242.516,150.582 2352.76,150.582 \n",
       "  \"/>\n",
       "<polyline clip-path=\"url(#clip0100)\" style=\"stroke:#000000; stroke-width:4; stroke-opacity:1; fill:none\" points=\"\n",
       "  242.516,1425.62 2352.76,1425.62 \n",
       "  \"/>\n",
       "<polyline clip-path=\"url(#clip0100)\" style=\"stroke:#000000; stroke-width:4; stroke-opacity:1; fill:none\" points=\"\n",
       "  242.516,1425.62 242.516,121.675 \n",
       "  \"/>\n",
       "<polyline clip-path=\"url(#clip0100)\" style=\"stroke:#000000; stroke-width:4; stroke-opacity:1; fill:none\" points=\"\n",
       "  297.806,1425.62 297.806,1406.06 \n",
       "  \"/>\n",
       "<polyline clip-path=\"url(#clip0100)\" style=\"stroke:#000000; stroke-width:4; stroke-opacity:1; fill:none\" points=\"\n",
       "  741.19,1425.62 741.19,1406.06 \n",
       "  \"/>\n",
       "<polyline clip-path=\"url(#clip0100)\" style=\"stroke:#000000; stroke-width:4; stroke-opacity:1; fill:none\" points=\"\n",
       "  1184.57,1425.62 1184.57,1406.06 \n",
       "  \"/>\n",
       "<polyline clip-path=\"url(#clip0100)\" style=\"stroke:#000000; stroke-width:4; stroke-opacity:1; fill:none\" points=\"\n",
       "  1627.96,1425.62 1627.96,1406.06 \n",
       "  \"/>\n",
       "<polyline clip-path=\"url(#clip0100)\" style=\"stroke:#000000; stroke-width:4; stroke-opacity:1; fill:none\" points=\"\n",
       "  2071.34,1425.62 2071.34,1406.06 \n",
       "  \"/>\n",
       "<polyline clip-path=\"url(#clip0100)\" style=\"stroke:#000000; stroke-width:4; stroke-opacity:1; fill:none\" points=\"\n",
       "  242.516,1340.39 274.17,1340.39 \n",
       "  \"/>\n",
       "<polyline clip-path=\"url(#clip0100)\" style=\"stroke:#000000; stroke-width:4; stroke-opacity:1; fill:none\" points=\"\n",
       "  242.516,1042.94 274.17,1042.94 \n",
       "  \"/>\n",
       "<polyline clip-path=\"url(#clip0100)\" style=\"stroke:#000000; stroke-width:4; stroke-opacity:1; fill:none\" points=\"\n",
       "  242.516,745.488 274.17,745.488 \n",
       "  \"/>\n",
       "<polyline clip-path=\"url(#clip0100)\" style=\"stroke:#000000; stroke-width:4; stroke-opacity:1; fill:none\" points=\"\n",
       "  242.516,448.035 274.17,448.035 \n",
       "  \"/>\n",
       "<polyline clip-path=\"url(#clip0100)\" style=\"stroke:#000000; stroke-width:4; stroke-opacity:1; fill:none\" points=\"\n",
       "  242.516,150.582 274.17,150.582 \n",
       "  \"/>\n",
       "<g clip-path=\"url(#clip0100)\">\n",
       "<text style=\"fill:#000000; fill-opacity:1; font-family:Arial,Helvetica Neue,Helvetica,sans-serif; font-size:48px; text-anchor:middle;\" transform=\"rotate(0, 297.806, 1479.62)\" x=\"297.806\" y=\"1479.62\">0</text>\n",
       "</g>\n",
       "<g clip-path=\"url(#clip0100)\">\n",
       "<text style=\"fill:#000000; fill-opacity:1; font-family:Arial,Helvetica Neue,Helvetica,sans-serif; font-size:48px; text-anchor:middle;\" transform=\"rotate(0, 741.19, 1479.62)\" x=\"741.19\" y=\"1479.62\">100</text>\n",
       "</g>\n",
       "<g clip-path=\"url(#clip0100)\">\n",
       "<text style=\"fill:#000000; fill-opacity:1; font-family:Arial,Helvetica Neue,Helvetica,sans-serif; font-size:48px; text-anchor:middle;\" transform=\"rotate(0, 1184.57, 1479.62)\" x=\"1184.57\" y=\"1479.62\">200</text>\n",
       "</g>\n",
       "<g clip-path=\"url(#clip0100)\">\n",
       "<text style=\"fill:#000000; fill-opacity:1; font-family:Arial,Helvetica Neue,Helvetica,sans-serif; font-size:48px; text-anchor:middle;\" transform=\"rotate(0, 1627.96, 1479.62)\" x=\"1627.96\" y=\"1479.62\">300</text>\n",
       "</g>\n",
       "<g clip-path=\"url(#clip0100)\">\n",
       "<text style=\"fill:#000000; fill-opacity:1; font-family:Arial,Helvetica Neue,Helvetica,sans-serif; font-size:48px; text-anchor:middle;\" transform=\"rotate(0, 2071.34, 1479.62)\" x=\"2071.34\" y=\"1479.62\">400</text>\n",
       "</g>\n",
       "<g clip-path=\"url(#clip0100)\">\n",
       "<text style=\"fill:#000000; fill-opacity:1; font-family:Arial,Helvetica Neue,Helvetica,sans-serif; font-size:48px; text-anchor:end;\" transform=\"rotate(0, 218.516, 1357.89)\" x=\"218.516\" y=\"1357.89\">0.05</text>\n",
       "</g>\n",
       "<g clip-path=\"url(#clip0100)\">\n",
       "<text style=\"fill:#000000; fill-opacity:1; font-family:Arial,Helvetica Neue,Helvetica,sans-serif; font-size:48px; text-anchor:end;\" transform=\"rotate(0, 218.516, 1060.44)\" x=\"218.516\" y=\"1060.44\">0.10</text>\n",
       "</g>\n",
       "<g clip-path=\"url(#clip0100)\">\n",
       "<text style=\"fill:#000000; fill-opacity:1; font-family:Arial,Helvetica Neue,Helvetica,sans-serif; font-size:48px; text-anchor:end;\" transform=\"rotate(0, 218.516, 762.988)\" x=\"218.516\" y=\"762.988\">0.15</text>\n",
       "</g>\n",
       "<g clip-path=\"url(#clip0100)\">\n",
       "<text style=\"fill:#000000; fill-opacity:1; font-family:Arial,Helvetica Neue,Helvetica,sans-serif; font-size:48px; text-anchor:end;\" transform=\"rotate(0, 218.516, 465.535)\" x=\"218.516\" y=\"465.535\">0.20</text>\n",
       "</g>\n",
       "<g clip-path=\"url(#clip0100)\">\n",
       "<text style=\"fill:#000000; fill-opacity:1; font-family:Arial,Helvetica Neue,Helvetica,sans-serif; font-size:48px; text-anchor:end;\" transform=\"rotate(0, 218.516, 168.082)\" x=\"218.516\" y=\"168.082\">0.25</text>\n",
       "</g>\n",
       "<g clip-path=\"url(#clip0100)\">\n",
       "<text style=\"fill:#000000; fill-opacity:1; font-family:Arial,Helvetica Neue,Helvetica,sans-serif; font-size:84px; text-anchor:middle;\" transform=\"rotate(0, 1297.64, 73.2)\" x=\"1297.64\" y=\"73.2\">h2 trace plot</text>\n",
       "</g>\n",
       "<g clip-path=\"url(#clip0100)\">\n",
       "<text style=\"fill:#000000; fill-opacity:1; font-family:Arial,Helvetica Neue,Helvetica,sans-serif; font-size:66px; text-anchor:middle;\" transform=\"rotate(0, 1297.64, 1559.48)\" x=\"1297.64\" y=\"1559.48\">iteration</text>\n",
       "</g>\n",
       "<g clip-path=\"url(#clip0100)\">\n",
       "<text style=\"fill:#000000; fill-opacity:1; font-family:Arial,Helvetica Neue,Helvetica,sans-serif; font-size:66px; text-anchor:middle;\" transform=\"rotate(-90, 89.2861, 773.647)\" x=\"89.2861\" y=\"773.647\">h2</text>\n",
       "</g>\n",
       "<polyline clip-path=\"url(#clip0102)\" style=\"stroke:#009af9; stroke-width:4; stroke-opacity:1; fill:none\" points=\"\n",
       "  302.24,957.247 306.674,959.472 311.108,868.02 315.542,918.879 319.976,479.559 324.409,758.392 328.843,907.12 333.277,869.975 337.711,912.335 342.145,1060.61 \n",
       "  346.579,948.361 351.012,701.525 355.446,712.826 359.88,891.749 364.314,737.635 368.748,892.28 373.182,659.89 377.615,861.156 382.049,1095.31 386.483,871.546 \n",
       "  390.917,1035.05 395.351,873.626 399.785,839.959 404.218,888.252 408.652,736.486 413.086,770.619 417.52,817.986 421.954,835.638 426.388,1002.83 430.821,871.631 \n",
       "  435.255,726.476 439.689,921.658 444.123,1170.49 448.557,1206.97 452.991,1388.71 457.424,970.113 461.858,985.629 466.292,839.325 470.726,904.559 475.16,770.916 \n",
       "  479.594,743.885 484.027,924.011 488.461,1057.99 492.895,877.37 497.329,850.436 501.763,566.717 506.197,975.647 510.63,844.208 515.064,790.734 519.498,1272.99 \n",
       "  523.932,950.927 528.366,923.093 532.8,819.934 537.233,651.534 541.667,902.007 546.101,964.013 550.535,838.893 554.969,755.396 559.403,1078.1 563.836,864.352 \n",
       "  568.27,772.677 572.704,158.579 577.138,938.578 581.572,1066.47 586.006,758.314 590.439,752.143 594.873,962.045 599.307,786.58 603.741,744.869 608.175,950.739 \n",
       "  612.609,1107.13 617.042,891.677 621.476,930.991 625.91,1077.39 630.344,1012.91 634.778,924.537 639.212,984.274 643.645,782.642 648.079,914.125 652.513,719.396 \n",
       "  656.947,949.452 661.381,843.364 665.815,1113.98 670.248,873.642 674.682,955.615 679.116,1131.74 683.55,754.038 687.984,979.373 692.418,507.422 696.852,781.438 \n",
       "  701.285,717.978 705.719,1064.82 710.153,1118.52 714.587,713.053 719.021,987.333 723.455,1050.04 727.888,931.9 732.322,616.95 736.756,724.875 741.19,890.063 \n",
       "  745.624,965.324 750.058,1219.88 754.491,1109.29 758.925,1003.77 763.359,892.172 767.793,720.263 772.227,935.879 776.661,712.057 781.094,866.934 785.528,1119.74 \n",
       "  789.962,976.545 794.396,931.711 798.83,956.579 803.264,749.002 807.697,616.591 812.131,773.181 816.565,926.721 820.999,810.331 825.433,1067.45 829.867,879.29 \n",
       "  834.3,609.196 838.734,955.238 843.168,894.813 847.602,1037.8 852.036,1254.58 856.47,806.415 860.903,1177.81 865.337,925.331 869.771,888.887 874.205,1098.34 \n",
       "  878.639,1019.7 883.073,487.778 887.506,1150.63 891.94,832.906 896.374,975.644 900.808,1003.22 905.242,885.961 909.676,1034.34 914.109,693.28 918.543,1193.24 \n",
       "  922.977,621.588 927.411,1224.55 931.845,976.435 936.279,870.913 940.712,1103.35 945.146,1087.28 949.58,1197.38 954.014,756.194 958.448,680.488 962.882,992.325 \n",
       "  967.315,657.362 971.749,1025.73 976.183,946.593 980.617,819.136 985.051,1149.79 989.485,860.515 993.918,757.438 998.352,1081.02 1002.79,931.041 1007.22,1238.44 \n",
       "  1011.65,1038.67 1016.09,638.161 1020.52,970.653 1024.96,643.679 1029.39,778.195 1033.82,838.6 1038.26,916.25 1042.69,1206.68 1047.12,955.01 1051.56,801.869 \n",
       "  1055.99,1036.2 1060.43,1053.49 1064.86,833.941 1069.29,1196.46 1073.73,856.622 1078.16,942.648 1082.6,768.519 1087.03,900.578 1091.46,1075.85 1095.9,800.72 \n",
       "  1100.33,727.853 1104.76,462.337 1109.2,587.803 1113.63,746.145 1118.07,766.705 1122.5,728.111 1126.93,1243.44 1131.37,675.559 1135.8,915.312 1140.24,872.438 \n",
       "  1144.67,1046.77 1149.1,944.277 1153.54,923.082 1157.97,593.944 1162.4,922.564 1166.84,571.531 1171.27,984.609 1175.71,795.814 1180.14,870.441 1184.57,1031.61 \n",
       "  1189.01,1152.57 1193.44,857.052 1197.87,925.288 1202.31,808.599 1206.74,841.58 1211.18,766.177 1215.61,1156.54 1220.04,602.288 1224.48,843.121 1228.91,898.847 \n",
       "  1233.35,943.743 1237.78,969.854 1242.21,728.894 1246.65,940.117 1251.08,970.507 1255.51,926.293 1259.95,839.602 1264.38,907.051 1268.82,941.148 1273.25,745.724 \n",
       "  1277.68,755.517 1282.12,1039.22 1286.55,1103.12 1290.99,622.444 1295.42,893.371 1299.85,877.691 1304.29,699.395 1308.72,1099.27 1313.15,952.726 1317.59,966.076 \n",
       "  1322.02,997.45 1326.46,924.095 1330.89,929.014 1335.32,870.169 1339.76,856.057 1344.19,1034.02 1348.63,1058.04 1353.06,1075.41 1357.49,1129.87 1361.93,1134.22 \n",
       "  1366.36,873.142 1370.79,1003.11 1375.23,977.86 1379.66,950.294 1384.1,604.246 1388.53,652.072 1392.96,837.019 1397.4,1090.88 1401.83,513.095 1406.27,1087.79 \n",
       "  1410.7,1255.79 1415.13,1014.7 1419.57,551.406 1424,1063.62 1428.43,933.472 1432.87,684.688 1437.3,1115.71 1441.74,876.471 1446.17,722.052 1450.6,853.754 \n",
       "  1455.04,1230.12 1459.47,849.996 1463.9,1041.99 1468.34,1082.38 1472.77,766.551 1477.21,925.372 1481.64,1046.18 1486.07,976.015 1490.51,995.357 1494.94,1024.68 \n",
       "  1499.38,1034.57 1503.81,879.376 1508.24,947.234 1512.68,1021.98 1517.11,626.385 1521.54,937.335 1525.98,989.866 1530.41,872.603 1534.85,827.586 1539.28,1198.84 \n",
       "  1543.71,777.09 1548.15,1123.49 1552.58,1082.63 1557.02,685.834 1561.45,824.21 1565.88,750.349 1570.32,1091.33 1574.75,793.712 1579.18,826.89 1583.62,869.41 \n",
       "  1588.05,1090.11 1592.49,305.459 1596.92,663.319 1601.35,701.299 1605.79,990.189 1610.22,1016.09 1614.66,1108.46 1619.09,951.731 1623.52,969.902 1627.96,877.85 \n",
       "  1632.39,795.515 1636.82,1024.34 1641.26,866.266 1645.69,1037.06 1650.13,710.568 1654.56,850.436 1658.99,964.668 1663.43,963.668 1667.86,834.51 1672.3,581.406 \n",
       "  1676.73,624.871 1681.16,706.337 1685.6,821.899 1690.03,1050.74 1694.46,670.434 1698.9,841.991 1703.33,642.404 1707.77,798.538 1712.2,846.613 1716.63,906.764 \n",
       "  1721.07,624.042 1725.5,850.912 1729.94,756.072 1734.37,860.381 1738.8,549.58 1743.24,1109.59 1747.67,988.897 1752.1,963.578 1756.54,804.996 1760.97,740.565 \n",
       "  1765.41,1138.71 1769.84,870.661 1774.27,1202.47 1778.71,951.563 1783.14,1077.66 1787.57,1031.03 1792.01,956.681 1796.44,699.503 1800.88,1073.88 1805.31,937.267 \n",
       "  1809.74,690.981 1814.18,980.267 1818.61,1129.78 1823.05,820.338 1827.48,1050.89 1831.91,988.939 1836.35,758.764 1840.78,753.218 1845.21,919.546 1849.65,1155.65 \n",
       "  1854.08,1099.57 1858.52,785.375 1862.95,942.623 1867.38,831.208 1871.82,924.745 1876.25,790.949 1880.69,765.35 1885.12,821.116 1889.55,670.633 1893.99,969.271 \n",
       "  1898.42,889.716 1902.85,860.951 1907.29,1040.62 1911.72,1054.19 1916.16,500.484 1920.59,751.537 1925.02,1163.05 1929.46,869.281 1933.89,977.123 1938.33,778.167 \n",
       "  1942.76,763.383 1947.19,842.677 1951.63,1041.99 1956.06,924.147 1960.49,774.076 1964.93,804.632 1969.36,949.615 1973.8,485.955 1978.23,765.506 1982.66,793.46 \n",
       "  1987.1,938.945 1991.53,882.956 1995.97,1030.23 2000.4,764.857 2004.83,1268.23 2009.27,937.471 2013.7,919.117 2018.13,762.135 2022.57,1066.2 2027,801.567 \n",
       "  2031.44,882.918 2035.87,628.186 2040.3,906.987 2044.74,891.665 2049.17,1026.69 2053.61,1190.52 2058.04,843.862 2062.47,1078.39 2066.91,797.915 2071.34,942.596 \n",
       "  2075.77,1059.22 2080.21,918.872 2084.64,968.045 2089.08,961.799 2093.51,1094.94 2097.94,689.325 2102.38,750.659 2106.81,876.757 2111.24,709.788 2115.68,1085.49 \n",
       "  2120.11,717.492 2124.55,940.572 2128.98,776.978 2133.41,829.279 2137.85,942.103 2142.28,704.524 2146.72,1245.04 2151.15,746.439 2155.58,892.7 2160.02,1199.66 \n",
       "  2164.45,1249.98 2168.88,1040.67 2173.32,844.734 2177.75,608.191 2182.19,1012.39 2186.62,1109.59 2191.05,674.174 2195.49,1067.54 2199.92,791.413 2204.36,897.591 \n",
       "  2208.79,990.788 2213.22,862.011 2217.66,626.146 2222.09,769.236 2226.52,949.639 2230.96,1145.55 2235.39,1327.59 2239.83,1016.25 2244.26,1008.44 2248.69,907.862 \n",
       "  2253.13,699.722 2257.56,989.023 2262,1148.49 2266.43,1070.19 2270.86,1121.32 2275.3,847.487 2279.73,860.814 2284.16,971.335 2288.6,1234.3 2293.03,935.733 \n",
       "  \n",
       "  \"/>\n",
       "<path clip-path=\"url(#clip0100)\" d=\"\n",
       "M1989.93 326.155 L2280.76 326.155 L2280.76 205.195 L1989.93 205.195  Z\n",
       "  \" fill=\"#ffffff\" fill-rule=\"evenodd\" fill-opacity=\"1\"/>\n",
       "<polyline clip-path=\"url(#clip0100)\" style=\"stroke:#000000; stroke-width:4; stroke-opacity:1; fill:none\" points=\"\n",
       "  1989.93,326.155 2280.76,326.155 2280.76,205.195 1989.93,205.195 1989.93,326.155 \n",
       "  \"/>\n",
       "<polyline clip-path=\"url(#clip0100)\" style=\"stroke:#009af9; stroke-width:4; stroke-opacity:1; fill:none\" points=\"\n",
       "  2013.93,265.675 2157.93,265.675 \n",
       "  \"/>\n",
       "<g clip-path=\"url(#clip0100)\">\n",
       "<text style=\"fill:#000000; fill-opacity:1; font-family:Arial,Helvetica Neue,Helvetica,sans-serif; font-size:48px; text-anchor:start;\" transform=\"rotate(0, 2181.93, 283.175)\" x=\"2181.93\" y=\"283.175\">y1</text>\n",
       "</g>\n",
       "</svg>\n"
      ]
     },
     "execution_count": 20,
     "metadata": {},
     "output_type": "execute_result"
    }
   ],
   "source": [
    "using Plots\n",
    "x = h2[!,1]; y = h2[!,2]; # These are the plotting data\n",
    "plot(x,y, title = \"h2 trace plot\",\n",
    "        xlabel = \"iteration\", ylabel = \"h2\")"
   ]
  },
  {
   "cell_type": "code",
   "execution_count": 50,
   "metadata": {},
   "outputs": [],
   "source": [
    "ADFI_model_equations = \"ADFI = intercept + Batch + Died + EntryAge + FinPenBatch + SowID\"\n",
    "ADFI_R=0.05573206314044709\n",
    "ADFI_model=build_model(ADFI_model_equations,ADFI_R);"
   ]
  },
  {
   "cell_type": "code",
   "execution_count": 51,
   "metadata": {},
   "outputs": [
    {
     "data": {
      "text/plain": [
       "1-element Array{Symbol,1}:\n",
       " :EntryAge"
      ]
     },
     "execution_count": 51,
     "metadata": {},
     "output_type": "execute_result"
    }
   ],
   "source": [
    "set_covariate(ADFI_model,\"EntryAge\")"
   ]
  },
  {
   "cell_type": "code",
   "execution_count": 52,
   "metadata": {},
   "outputs": [],
   "source": [
    "ADFI_G1=0.0025800722112114846\n",
    "set_random(ADFI_model,\"FinPenBatch\",ADFI_G1)"
   ]
  },
  {
   "cell_type": "code",
   "execution_count": 53,
   "metadata": {},
   "outputs": [],
   "source": [
    "ADFI_G2=0.004254548480858814\n",
    "set_random(ADFI_model,\"SowID\",ADFI_G2)"
   ]
  },
  {
   "cell_type": "code",
   "execution_count": 54,
   "metadata": {},
   "outputs": [
    {
     "name": "stdout",
     "output_type": "stream",
     "text": [
      "\u001b[0m\u001b[1mThe header (marker IDs) is set to 1,2,...,#markers\u001b[22m\n",
      "435172 markers on 3205 individuals were added.\n",
      "  7.268726 seconds (870.68 k allocations: 20.848 GiB, 1.38% gc time)\n"
     ]
    }
   ],
   "source": [
    "ADFI_G3=0.02050602929462501\n",
    "@time add_genotypes(ADFI_model,M,ADFI_G3,header=true, rowID=rowID)"
   ]
  },
  {
   "cell_type": "code",
   "execution_count": 55,
   "metadata": {},
   "outputs": [
    {
     "name": "stdout",
     "output_type": "stream",
     "text": [
      "\n",
      "The prior for marker effects variance is calculated from the genetic variance and π.\n",
      "The mean of the prior for the marker effects variance is: 1.0e-6\n",
      "\n",
      "\n",
      "\n",
      "\u001b[0m\u001b[1mA Linear Mixed Model was build using model equations:\u001b[22m\n",
      "\n",
      "ADFI = intercept + Batch + Died + EntryAge + FinPenBatch + SowID\n",
      "\n",
      "\u001b[0m\u001b[1mModel Information:\u001b[22m\n",
      "\n",
      "Term            C/F          F/R            nLevels\n",
      "intercept       factor       fixed                1\n",
      "Batch           factor       fixed               50\n",
      "Died            factor       fixed                2\n",
      "EntryAge        covariate    fixed                1\n",
      "FinPenBatch     factor       random             261\n",
      "SowID           factor       random            1100\n",
      "\n",
      "\u001b[0m\u001b[1mMCMC Information:\u001b[22m\n",
      "\n",
      "methods                                      BayesB\n",
      "                              complete genomic data\n",
      "                   (i.e., non-single-step analysis)\n",
      "chain_length                                  50000\n",
      "burnin                                         5000\n",
      "estimatePi                                    false\n",
      "estimateScale                                  true\n",
      "starting_value                                false\n",
      "printout_frequency                            50001\n",
      "output_samples_frequency                        100\n",
      "constraint                                    false\n",
      "missing_phenotypes                             true\n",
      "update_priors_frequency                           0\n",
      "seed                                          false\n",
      "\n",
      "\u001b[0m\u001b[1mHyper-parameters Information:\u001b[22m\n",
      "\n",
      "random effect variances (FinPenBatch):              [0.003]\n",
      "random effect variances (SowID):              [0.004]\n",
      "residual variances:                           0.056\n",
      "genetic variances (genomic):                  0.021\n",
      "marker effect variances:                      0.000\n",
      "π                                               0.9\n",
      "\n",
      "\u001b[0m\u001b[1mDegree of freedom for hyper-parameters:\u001b[22m\n",
      "\n",
      "residual variances:                           4.000\n",
      "iid random effect variances:                  4.000\n",
      "marker effect variances:                      4.000\n",
      "\n",
      "\n",
      "\n",
      "\u001b[31mThe file MCMC_samples_residual_variance.txt already exists!!! It is overwritten by the new output.\u001b[39m\n",
      "\u001b[31mThe file MCMC_samples_marker_effects_ADFI.txt already exists!!! It is overwritten by the new output.\u001b[39m\n",
      "\u001b[31mThe file MCMC_samples_marker_effects_variances.txt already exists!!! It is overwritten by the new output.\u001b[39m\n",
      "\u001b[31mThe file MCMC_samples_pi.txt already exists!!! It is overwritten by the new output.\u001b[39m\n",
      "\u001b[31mThe file MCMC_samples_FinPenBatch_variances.txt already exists!!! It is overwritten by the new output.\u001b[39m\n",
      "\u001b[31mThe file MCMC_samples_SowID_variances.txt already exists!!! It is overwritten by the new output.\u001b[39m\n",
      "\u001b[31mThe file MCMC_samples_EBV_ADFI.txt already exists!!! It is overwritten by the new output.\u001b[39m\n",
      "\u001b[31mThe file MCMC_samples_genetic_variance.txt already exists!!! It is overwritten by the new output.\u001b[39m\n",
      "\u001b[31mThe file MCMC_samples_heritability.txt already exists!!! It is overwritten by the new output.\u001b[39m\n"
     ]
    },
    {
     "name": "stderr",
     "output_type": "stream",
     "text": [
      "\u001b[32mrunning MCMC for BayesB...100%|█████████████████████████| Time: 11:46:55\u001b[39m\n"
     ]
    },
    {
     "name": "stdout",
     "output_type": "stream",
     "text": [
      "\n",
      "\n",
      "\u001b[0m\u001b[1mThe version of Julia and Platform in use:\u001b[22m\n",
      "\n",
      "Julia Version 1.1.0\n",
      "Commit 80516ca202 (2019-01-21 21:24 UTC)\n",
      "Platform Info:\n",
      "  OS: Linux (x86_64-pc-linux-gnu)\n",
      "  CPU: Intel(R) Core(TM) i7-5960X CPU @ 3.00GHz\n",
      "  WORD_SIZE: 64\n",
      "  LIBM: libopenlibm\n",
      "  LLVM: libLLVM-6.0.1 (ORCJIT, haswell)\n",
      "Environment:\n",
      "  JULIA_DEPOT_PATH = /opt/julia\n",
      "  JULIA_PKGDIR = /opt/julia\n",
      "  JULIA_VERSION = 1.1.0\n",
      "\n",
      "\n",
      "\u001b[0m\u001b[1mThe analysis has finished. Results are saved in the returned \u001b[22m\u001b[0m\u001b[1mvariable and text files. MCMC samples are saved in text files.\u001b[22m\n",
      "\n",
      "\n",
      "42431.078567 seconds (112.40 G allocations: 2.396 TiB, 0.90% gc time)\n"
     ]
    },
    {
     "data": {
      "text/plain": [
       "Dict{Any,Any} with 8 entries:\n",
       "  \"marker effects\"          => 435172×5 DataFrame…\n",
       "  \"EBV_ADFI\"                => 3205×3 DataFrame…\n",
       "  \"heritability\"            => 1×3 DataFrame…\n",
       "  \"location parameters\"     => 1415×5 DataFrame…\n",
       "  \"residual variance\"       => 1×3 DataFrame…\n",
       "  \"ScaleEffectVar\"          => 1×3 DataFrame…\n",
       "  \"genetic_variance\"        => 1×3 DataFrame…\n",
       "  \"marker effects variance\" => 1×3 DataFrame…"
      ]
     },
     "execution_count": 55,
     "metadata": {},
     "output_type": "execute_result"
    }
   ],
   "source": [
    "@time ADFI_outB=runMCMC(ADFI_model,phenotypes,methods=\"BayesB\", missing_phenotypes=true, Pi=0.9, estimateScale=true, chain_length=50000,burnin = 5000,output_heritability=true,  output_samples_frequency=100)"
   ]
  },
  {
   "cell_type": "code",
   "execution_count": 56,
   "metadata": {},
   "outputs": [
    {
     "data": {
      "text/plain": [
       "0.01592004912661847"
      ]
     },
     "execution_count": 56,
     "metadata": {},
     "output_type": "execute_result"
    }
   ],
   "source": [
    "marker=CSV.read(\"MCMC_samples_genetic_variance.txt\",delim = ' ',header=true)\n",
    "Va=mean(marker[!, 1])"
   ]
  },
  {
   "cell_type": "code",
   "execution_count": 57,
   "metadata": {},
   "outputs": [
    {
     "data": {
      "text/plain": [
       "0.004268771832912233"
      ]
     },
     "execution_count": 57,
     "metadata": {},
     "output_type": "execute_result"
    }
   ],
   "source": [
    "Sow=CSV.read(\"MCMC_samples_SowID_variances.txt\",delim = ' ',header=true)\n",
    "Vs=mean(Sow[!, 1])"
   ]
  },
  {
   "cell_type": "code",
   "execution_count": 58,
   "metadata": {},
   "outputs": [
    {
     "data": {
      "text/plain": [
       "0.0017481231485765476"
      ]
     },
     "execution_count": 58,
     "metadata": {},
     "output_type": "execute_result"
    }
   ],
   "source": [
    "pen=CSV.read(\"MCMC_samples_FinPenBatch_variances.txt\",delim = ' ',header=true)\n",
    "Vs=mean(pen[!, 1])"
   ]
  },
  {
   "cell_type": "code",
   "execution_count": 59,
   "metadata": {},
   "outputs": [
    {
     "data": {
      "text/plain": [
       "0.10047017788902875"
      ]
     },
     "execution_count": 59,
     "metadata": {},
     "output_type": "execute_result"
    }
   ],
   "source": [
    "Res=CSV.read(\"MCMC_samples_residual_variance.txt\",delim = ' ',header=true)\n",
    "Ve=mean(Res[!, 1])"
   ]
  },
  {
   "cell_type": "code",
   "execution_count": 60,
   "metadata": {},
   "outputs": [
    {
     "data": {
      "text/plain": [
       "0.13475767271582903"
      ]
     },
     "execution_count": 60,
     "metadata": {},
     "output_type": "execute_result"
    }
   ],
   "source": [
    "h2=Va/(Va+Vs+Ve)"
   ]
  },
  {
   "cell_type": "code",
   "execution_count": 61,
   "metadata": {},
   "outputs": [
    {
     "data": {
      "text/html": [
       "<table class=\"data-frame\"><thead><tr><th></th><th>iteration</th><th>ADFI</th></tr><tr><th></th><th>Int64</th><th>Float64</th></tr></thead><tbody><p>450 rows × 2 columns</p><tr><th>1</th><td>1</td><td>0.152944</td></tr><tr><th>2</th><td>2</td><td>0.150819</td></tr><tr><th>3</th><td>3</td><td>0.154763</td></tr><tr><th>4</th><td>4</td><td>0.151924</td></tr><tr><th>5</th><td>5</td><td>0.165101</td></tr><tr><th>6</th><td>6</td><td>0.159543</td></tr><tr><th>7</th><td>7</td><td>0.153591</td></tr><tr><th>8</th><td>8</td><td>0.160191</td></tr><tr><th>9</th><td>9</td><td>0.153181</td></tr><tr><th>10</th><td>10</td><td>0.156773</td></tr><tr><th>11</th><td>11</td><td>0.140308</td></tr><tr><th>12</th><td>12</td><td>0.170705</td></tr><tr><th>13</th><td>13</td><td>0.16098</td></tr><tr><th>14</th><td>14</td><td>0.149489</td></tr><tr><th>15</th><td>15</td><td>0.149379</td></tr><tr><th>16</th><td>16</td><td>0.169875</td></tr><tr><th>17</th><td>17</td><td>0.143738</td></tr><tr><th>18</th><td>18</td><td>0.151839</td></tr><tr><th>19</th><td>19</td><td>0.170152</td></tr><tr><th>20</th><td>20</td><td>0.16971</td></tr><tr><th>21</th><td>21</td><td>0.157703</td></tr><tr><th>22</th><td>22</td><td>0.152177</td></tr><tr><th>23</th><td>23</td><td>0.159484</td></tr><tr><th>24</th><td>24</td><td>0.149213</td></tr><tr><th>25</th><td>25</td><td>0.160764</td></tr><tr><th>26</th><td>26</td><td>0.136239</td></tr><tr><th>27</th><td>27</td><td>0.136253</td></tr><tr><th>28</th><td>28</td><td>0.144528</td></tr><tr><th>29</th><td>29</td><td>0.132795</td></tr><tr><th>30</th><td>30</td><td>0.15377</td></tr><tr><th>&vellip;</th><td>&vellip;</td><td>&vellip;</td></tr></tbody></table>"
      ],
      "text/latex": [
       "\\begin{tabular}{r|cc}\n",
       "\t& iteration & ADFI\\\\\n",
       "\t\\hline\n",
       "\t& Int64 & Float64\\\\\n",
       "\t\\hline\n",
       "\t1 & 1 & 0.152944 \\\\\n",
       "\t2 & 2 & 0.150819 \\\\\n",
       "\t3 & 3 & 0.154763 \\\\\n",
       "\t4 & 4 & 0.151924 \\\\\n",
       "\t5 & 5 & 0.165101 \\\\\n",
       "\t6 & 6 & 0.159543 \\\\\n",
       "\t7 & 7 & 0.153591 \\\\\n",
       "\t8 & 8 & 0.160191 \\\\\n",
       "\t9 & 9 & 0.153181 \\\\\n",
       "\t10 & 10 & 0.156773 \\\\\n",
       "\t11 & 11 & 0.140308 \\\\\n",
       "\t12 & 12 & 0.170705 \\\\\n",
       "\t13 & 13 & 0.16098 \\\\\n",
       "\t14 & 14 & 0.149489 \\\\\n",
       "\t15 & 15 & 0.149379 \\\\\n",
       "\t16 & 16 & 0.169875 \\\\\n",
       "\t17 & 17 & 0.143738 \\\\\n",
       "\t18 & 18 & 0.151839 \\\\\n",
       "\t19 & 19 & 0.170152 \\\\\n",
       "\t20 & 20 & 0.16971 \\\\\n",
       "\t21 & 21 & 0.157703 \\\\\n",
       "\t22 & 22 & 0.152177 \\\\\n",
       "\t23 & 23 & 0.159484 \\\\\n",
       "\t24 & 24 & 0.149213 \\\\\n",
       "\t25 & 25 & 0.160764 \\\\\n",
       "\t26 & 26 & 0.136239 \\\\\n",
       "\t27 & 27 & 0.136253 \\\\\n",
       "\t28 & 28 & 0.144528 \\\\\n",
       "\t29 & 29 & 0.132795 \\\\\n",
       "\t30 & 30 & 0.15377 \\\\\n",
       "\t$\\dots$ & $\\dots$ & $\\dots$ \\\\\n",
       "\\end{tabular}\n"
      ],
      "text/plain": [
       "450×2 DataFrame\n",
       "│ Row │ iteration │ ADFI     │\n",
       "│     │ \u001b[90mInt64\u001b[39m     │ \u001b[90mFloat64\u001b[39m  │\n",
       "├─────┼───────────┼──────────┤\n",
       "│ 1   │ 1         │ 0.152944 │\n",
       "│ 2   │ 2         │ 0.150819 │\n",
       "│ 3   │ 3         │ 0.154763 │\n",
       "│ 4   │ 4         │ 0.151924 │\n",
       "│ 5   │ 5         │ 0.165101 │\n",
       "│ 6   │ 6         │ 0.159543 │\n",
       "│ 7   │ 7         │ 0.153591 │\n",
       "│ 8   │ 8         │ 0.160191 │\n",
       "│ 9   │ 9         │ 0.153181 │\n",
       "│ 10  │ 10        │ 0.156773 │\n",
       "⋮\n",
       "│ 440 │ 440       │ 0.117919 │\n",
       "│ 441 │ 441       │ 0.111584 │\n",
       "│ 442 │ 442       │ 0.101073 │\n",
       "│ 443 │ 443       │ 0.102183 │\n",
       "│ 444 │ 444       │ 0.125363 │\n",
       "│ 445 │ 445       │ 0.105216 │\n",
       "│ 446 │ 446       │ 0.104852 │\n",
       "│ 447 │ 447       │ 0.109657 │\n",
       "│ 448 │ 448       │ 0.100288 │\n",
       "│ 449 │ 449       │ 0.113154 │\n",
       "│ 450 │ 450       │ 0.109654 │"
      ]
     },
     "execution_count": 61,
     "metadata": {},
     "output_type": "execute_result"
    }
   ],
   "source": [
    "h2=CSV.read(\"MCMC_samples_heritability.txt\",delim = ' ',header=true)\n",
    "insertcols!(h2, 1, :iteration => 1:450) # Add a column called iteration"
   ]
  },
  {
   "cell_type": "code",
   "execution_count": 63,
   "metadata": {},
   "outputs": [
    {
     "name": "stdout",
     "output_type": "stream",
     "text": [
      "\u001b[32m\u001b[1m  Building\u001b[22m\u001b[39m MbedTLS → `/opt/julia/packages/MbedTLS/X4xar/deps/build.log`\n",
      "\u001b[32m\u001b[1m  Building\u001b[22m\u001b[39m GR ─────→ `/opt/julia/packages/GR/Atztx/deps/build.log`\n"
     ]
    }
   ],
   "source": [
    "using Pkg\n",
    "Pkg.build(\"GR\")"
   ]
  },
  {
   "cell_type": "code",
   "execution_count": 64,
   "metadata": {},
   "outputs": [
    {
     "data": {
      "image/svg+xml": [
       "<?xml version=\"1.0\" encoding=\"utf-8\"?>\n",
       "<svg xmlns=\"http://www.w3.org/2000/svg\" xmlns:xlink=\"http://www.w3.org/1999/xlink\" width=\"600\" height=\"400\" viewBox=\"0 0 2400 1600\">\n",
       "<defs>\n",
       "  <clipPath id=\"clip280\">\n",
       "    <rect x=\"0\" y=\"0\" width=\"2400\" height=\"1600\"/>\n",
       "  </clipPath>\n",
       "</defs>\n",
       "<path clip-path=\"url(#clip280)\" d=\"\n",
       "M0 1600 L2400 1600 L2400 0 L0 0  Z\n",
       "  \" fill=\"#ffffff\" fill-rule=\"evenodd\" fill-opacity=\"1\"/>\n",
       "<defs>\n",
       "  <clipPath id=\"clip281\">\n",
       "    <rect x=\"480\" y=\"0\" width=\"1681\" height=\"1600\"/>\n",
       "  </clipPath>\n",
       "</defs>\n",
       "<path clip-path=\"url(#clip280)\" d=\"\n",
       "M237.389 1423.18 L2352.76 1423.18 L2352.76 123.472 L237.389 123.472  Z\n",
       "  \" fill=\"#ffffff\" fill-rule=\"evenodd\" fill-opacity=\"1\"/>\n",
       "<defs>\n",
       "  <clipPath id=\"clip282\">\n",
       "    <rect x=\"237\" y=\"123\" width=\"2116\" height=\"1301\"/>\n",
       "  </clipPath>\n",
       "</defs>\n",
       "<polyline clip-path=\"url(#clip282)\" style=\"stroke:#000000; stroke-width:2; stroke-opacity:0.1; fill:none\" points=\"\n",
       "  292.814,1423.18 292.814,123.472 \n",
       "  \"/>\n",
       "<polyline clip-path=\"url(#clip282)\" style=\"stroke:#000000; stroke-width:2; stroke-opacity:0.1; fill:none\" points=\"\n",
       "  737.274,1423.18 737.274,123.472 \n",
       "  \"/>\n",
       "<polyline clip-path=\"url(#clip282)\" style=\"stroke:#000000; stroke-width:2; stroke-opacity:0.1; fill:none\" points=\"\n",
       "  1181.74,1423.18 1181.74,123.472 \n",
       "  \"/>\n",
       "<polyline clip-path=\"url(#clip282)\" style=\"stroke:#000000; stroke-width:2; stroke-opacity:0.1; fill:none\" points=\"\n",
       "  1626.2,1423.18 1626.2,123.472 \n",
       "  \"/>\n",
       "<polyline clip-path=\"url(#clip282)\" style=\"stroke:#000000; stroke-width:2; stroke-opacity:0.1; fill:none\" points=\"\n",
       "  2070.66,1423.18 2070.66,123.472 \n",
       "  \"/>\n",
       "<polyline clip-path=\"url(#clip282)\" style=\"stroke:#000000; stroke-width:2; stroke-opacity:0.1; fill:none\" points=\"\n",
       "  237.389,1274.73 2352.76,1274.73 \n",
       "  \"/>\n",
       "<polyline clip-path=\"url(#clip282)\" style=\"stroke:#000000; stroke-width:2; stroke-opacity:0.1; fill:none\" points=\"\n",
       "  237.389,1041.05 2352.76,1041.05 \n",
       "  \"/>\n",
       "<polyline clip-path=\"url(#clip282)\" style=\"stroke:#000000; stroke-width:2; stroke-opacity:0.1; fill:none\" points=\"\n",
       "  237.389,807.373 2352.76,807.373 \n",
       "  \"/>\n",
       "<polyline clip-path=\"url(#clip282)\" style=\"stroke:#000000; stroke-width:2; stroke-opacity:0.1; fill:none\" points=\"\n",
       "  237.389,573.696 2352.76,573.696 \n",
       "  \"/>\n",
       "<polyline clip-path=\"url(#clip282)\" style=\"stroke:#000000; stroke-width:2; stroke-opacity:0.1; fill:none\" points=\"\n",
       "  237.389,340.02 2352.76,340.02 \n",
       "  \"/>\n",
       "<polyline clip-path=\"url(#clip280)\" style=\"stroke:#000000; stroke-width:4; stroke-opacity:1; fill:none\" points=\"\n",
       "  237.389,1423.18 2352.76,1423.18 \n",
       "  \"/>\n",
       "<polyline clip-path=\"url(#clip280)\" style=\"stroke:#000000; stroke-width:4; stroke-opacity:1; fill:none\" points=\"\n",
       "  237.389,1423.18 237.389,123.472 \n",
       "  \"/>\n",
       "<polyline clip-path=\"url(#clip280)\" style=\"stroke:#000000; stroke-width:4; stroke-opacity:1; fill:none\" points=\"\n",
       "  292.814,1423.18 292.814,1407.58 \n",
       "  \"/>\n",
       "<polyline clip-path=\"url(#clip280)\" style=\"stroke:#000000; stroke-width:4; stroke-opacity:1; fill:none\" points=\"\n",
       "  737.274,1423.18 737.274,1407.58 \n",
       "  \"/>\n",
       "<polyline clip-path=\"url(#clip280)\" style=\"stroke:#000000; stroke-width:4; stroke-opacity:1; fill:none\" points=\"\n",
       "  1181.74,1423.18 1181.74,1407.58 \n",
       "  \"/>\n",
       "<polyline clip-path=\"url(#clip280)\" style=\"stroke:#000000; stroke-width:4; stroke-opacity:1; fill:none\" points=\"\n",
       "  1626.2,1423.18 1626.2,1407.58 \n",
       "  \"/>\n",
       "<polyline clip-path=\"url(#clip280)\" style=\"stroke:#000000; stroke-width:4; stroke-opacity:1; fill:none\" points=\"\n",
       "  2070.66,1423.18 2070.66,1407.58 \n",
       "  \"/>\n",
       "<polyline clip-path=\"url(#clip280)\" style=\"stroke:#000000; stroke-width:4; stroke-opacity:1; fill:none\" points=\"\n",
       "  237.389,1274.73 262.774,1274.73 \n",
       "  \"/>\n",
       "<polyline clip-path=\"url(#clip280)\" style=\"stroke:#000000; stroke-width:4; stroke-opacity:1; fill:none\" points=\"\n",
       "  237.389,1041.05 262.774,1041.05 \n",
       "  \"/>\n",
       "<polyline clip-path=\"url(#clip280)\" style=\"stroke:#000000; stroke-width:4; stroke-opacity:1; fill:none\" points=\"\n",
       "  237.389,807.373 262.774,807.373 \n",
       "  \"/>\n",
       "<polyline clip-path=\"url(#clip280)\" style=\"stroke:#000000; stroke-width:4; stroke-opacity:1; fill:none\" points=\"\n",
       "  237.389,573.696 262.774,573.696 \n",
       "  \"/>\n",
       "<polyline clip-path=\"url(#clip280)\" style=\"stroke:#000000; stroke-width:4; stroke-opacity:1; fill:none\" points=\"\n",
       "  237.389,340.02 262.774,340.02 \n",
       "  \"/>\n",
       "<path clip-path=\"url(#clip280)\" d=\"M 0 0 M292.814 1445.17 Q289.202 1445.17 287.374 1448.74 Q285.568 1452.28 285.568 1459.41 Q285.568 1466.51 287.374 1470.08 Q289.202 1473.62 292.814 1473.62 Q296.448 1473.62 298.253 1470.08 Q300.082 1466.51 300.082 1459.41 Q300.082 1452.28 298.253 1448.74 Q296.448 1445.17 292.814 1445.17 M292.814 1441.47 Q298.624 1441.47 301.679 1446.07 Q304.758 1450.66 304.758 1459.41 Q304.758 1468.13 301.679 1472.74 Q298.624 1477.32 292.814 1477.32 Q287.003 1477.32 283.925 1472.74 Q280.869 1468.13 280.869 1459.41 Q280.869 1450.66 283.925 1446.07 Q287.003 1441.47 292.814 1441.47 Z\" fill=\"#000000\" fill-rule=\"evenodd\" fill-opacity=\"1\" /><path clip-path=\"url(#clip280)\" d=\"M 0 0 M700.643 1472.72 L708.281 1472.72 L708.281 1446.35 L699.971 1448.02 L699.971 1443.76 L708.235 1442.09 L712.911 1442.09 L712.911 1472.72 L720.55 1472.72 L720.55 1476.65 L700.643 1476.65 L700.643 1472.72 Z\" fill=\"#000000\" fill-rule=\"evenodd\" fill-opacity=\"1\" /><path clip-path=\"url(#clip280)\" d=\"M 0 0 M735.619 1445.17 Q732.008 1445.17 730.179 1448.74 Q728.374 1452.28 728.374 1459.41 Q728.374 1466.51 730.179 1470.08 Q732.008 1473.62 735.619 1473.62 Q739.254 1473.62 741.059 1470.08 Q742.888 1466.51 742.888 1459.41 Q742.888 1452.28 741.059 1448.74 Q739.254 1445.17 735.619 1445.17 M735.619 1441.47 Q741.429 1441.47 744.485 1446.07 Q747.564 1450.66 747.564 1459.41 Q747.564 1468.13 744.485 1472.74 Q741.429 1477.32 735.619 1477.32 Q729.809 1477.32 726.73 1472.74 Q723.675 1468.13 723.675 1459.41 Q723.675 1450.66 726.73 1446.07 Q729.809 1441.47 735.619 1441.47 Z\" fill=\"#000000\" fill-rule=\"evenodd\" fill-opacity=\"1\" /><path clip-path=\"url(#clip280)\" d=\"M 0 0 M762.633 1445.17 Q759.022 1445.17 757.193 1448.74 Q755.388 1452.28 755.388 1459.41 Q755.388 1466.51 757.193 1470.08 Q759.022 1473.62 762.633 1473.62 Q766.267 1473.62 768.073 1470.08 Q769.901 1466.51 769.901 1459.41 Q769.901 1452.28 768.073 1448.74 Q766.267 1445.17 762.633 1445.17 M762.633 1441.47 Q768.443 1441.47 771.499 1446.07 Q774.577 1450.66 774.577 1459.41 Q774.577 1468.13 771.499 1472.74 Q768.443 1477.32 762.633 1477.32 Q756.823 1477.32 753.744 1472.74 Q750.689 1468.13 750.689 1459.41 Q750.689 1450.66 753.744 1446.07 Q756.823 1441.47 762.633 1441.47 Z\" fill=\"#000000\" fill-rule=\"evenodd\" fill-opacity=\"1\" /><path clip-path=\"url(#clip280)\" d=\"M 0 0 M1149.37 1472.72 L1165.69 1472.72 L1165.69 1476.65 L1143.75 1476.65 L1143.75 1472.72 Q1146.41 1469.96 1150.99 1465.33 Q1155.6 1460.68 1156.78 1459.34 Q1159.03 1456.81 1159.91 1455.08 Q1160.81 1453.32 1160.81 1451.63 Q1160.81 1448.87 1158.86 1447.14 Q1156.94 1445.4 1153.84 1445.4 Q1151.64 1445.4 1149.19 1446.17 Q1146.76 1446.93 1143.98 1448.48 L1143.98 1443.76 Q1146.8 1442.62 1149.26 1442.05 Q1151.71 1441.47 1153.75 1441.47 Q1159.12 1441.47 1162.31 1444.15 Q1165.51 1446.84 1165.51 1451.33 Q1165.51 1453.46 1164.7 1455.38 Q1163.91 1457.28 1161.8 1459.87 Q1161.23 1460.54 1158.12 1463.76 Q1155.02 1466.95 1149.37 1472.72 Z\" fill=\"#000000\" fill-rule=\"evenodd\" fill-opacity=\"1\" /><path clip-path=\"url(#clip280)\" d=\"M 0 0 M1180.76 1445.17 Q1177.15 1445.17 1175.32 1448.74 Q1173.52 1452.28 1173.52 1459.41 Q1173.52 1466.51 1175.32 1470.08 Q1177.15 1473.62 1180.76 1473.62 Q1184.4 1473.62 1186.2 1470.08 Q1188.03 1466.51 1188.03 1459.41 Q1188.03 1452.28 1186.2 1448.74 Q1184.4 1445.17 1180.76 1445.17 M1180.76 1441.47 Q1186.57 1441.47 1189.63 1446.07 Q1192.71 1450.66 1192.71 1459.41 Q1192.71 1468.13 1189.63 1472.74 Q1186.57 1477.32 1180.76 1477.32 Q1174.95 1477.32 1171.87 1472.74 Q1168.82 1468.13 1168.82 1459.41 Q1168.82 1450.66 1171.87 1446.07 Q1174.95 1441.47 1180.76 1441.47 Z\" fill=\"#000000\" fill-rule=\"evenodd\" fill-opacity=\"1\" /><path clip-path=\"url(#clip280)\" d=\"M 0 0 M1207.78 1445.17 Q1204.17 1445.17 1202.34 1448.74 Q1200.53 1452.28 1200.53 1459.41 Q1200.53 1466.51 1202.34 1470.08 Q1204.17 1473.62 1207.78 1473.62 Q1211.41 1473.62 1213.22 1470.08 Q1215.05 1466.51 1215.05 1459.41 Q1215.05 1452.28 1213.22 1448.74 Q1211.41 1445.17 1207.78 1445.17 M1207.78 1441.47 Q1213.59 1441.47 1216.64 1446.07 Q1219.72 1450.66 1219.72 1459.41 Q1219.72 1468.13 1216.64 1472.74 Q1213.59 1477.32 1207.78 1477.32 Q1201.97 1477.32 1198.89 1472.74 Q1195.83 1468.13 1195.83 1459.41 Q1195.83 1450.66 1198.89 1446.07 Q1201.97 1441.47 1207.78 1441.47 Z\" fill=\"#000000\" fill-rule=\"evenodd\" fill-opacity=\"1\" /><path clip-path=\"url(#clip280)\" d=\"M 0 0 M1603.43 1458.02 Q1606.79 1458.74 1608.66 1461 Q1610.56 1463.27 1610.56 1466.61 Q1610.56 1471.72 1607.04 1474.52 Q1603.52 1477.32 1597.04 1477.32 Q1594.87 1477.32 1592.55 1476.88 Q1590.26 1476.47 1587.8 1475.61 L1587.8 1471.1 Q1589.75 1472.23 1592.06 1472.81 Q1594.38 1473.39 1596.9 1473.39 Q1601.3 1473.39 1603.59 1471.65 Q1605.91 1469.92 1605.91 1466.61 Q1605.91 1463.55 1603.75 1461.84 Q1601.62 1460.1 1597.8 1460.1 L1593.78 1460.1 L1593.78 1456.26 L1597.99 1456.26 Q1601.44 1456.26 1603.27 1454.89 Q1605.1 1453.5 1605.1 1450.91 Q1605.1 1448.25 1603.2 1446.84 Q1601.32 1445.4 1597.8 1445.4 Q1595.88 1445.4 1593.68 1445.82 Q1591.49 1446.24 1588.85 1447.11 L1588.85 1442.95 Q1591.51 1442.21 1593.82 1441.84 Q1596.16 1441.47 1598.22 1441.47 Q1603.55 1441.47 1606.65 1443.9 Q1609.75 1446.3 1609.75 1450.43 Q1609.75 1453.3 1608.11 1455.29 Q1606.46 1457.25 1603.43 1458.02 Z\" fill=\"#000000\" fill-rule=\"evenodd\" fill-opacity=\"1\" /><path clip-path=\"url(#clip280)\" d=\"M 0 0 M1625.63 1445.17 Q1622.02 1445.17 1620.19 1448.74 Q1618.38 1452.28 1618.38 1459.41 Q1618.38 1466.51 1620.19 1470.08 Q1622.02 1473.62 1625.63 1473.62 Q1629.26 1473.62 1631.07 1470.08 Q1632.9 1466.51 1632.9 1459.41 Q1632.9 1452.28 1631.07 1448.74 Q1629.26 1445.17 1625.63 1445.17 M1625.63 1441.47 Q1631.44 1441.47 1634.49 1446.07 Q1637.57 1450.66 1637.57 1459.41 Q1637.57 1468.13 1634.49 1472.74 Q1631.44 1477.32 1625.63 1477.32 Q1619.82 1477.32 1616.74 1472.74 Q1613.68 1468.13 1613.68 1459.41 Q1613.68 1450.66 1616.74 1446.07 Q1619.82 1441.47 1625.63 1441.47 Z\" fill=\"#000000\" fill-rule=\"evenodd\" fill-opacity=\"1\" /><path clip-path=\"url(#clip280)\" d=\"M 0 0 M1652.64 1445.17 Q1649.03 1445.17 1647.2 1448.74 Q1645.4 1452.28 1645.4 1459.41 Q1645.4 1466.51 1647.2 1470.08 Q1649.03 1473.62 1652.64 1473.62 Q1656.28 1473.62 1658.08 1470.08 Q1659.91 1466.51 1659.91 1459.41 Q1659.91 1452.28 1658.08 1448.74 Q1656.28 1445.17 1652.64 1445.17 M1652.64 1441.47 Q1658.45 1441.47 1661.51 1446.07 Q1664.59 1450.66 1664.59 1459.41 Q1664.59 1468.13 1661.51 1472.74 Q1658.45 1477.32 1652.64 1477.32 Q1646.83 1477.32 1643.75 1472.74 Q1640.7 1468.13 1640.7 1459.41 Q1640.7 1450.66 1643.75 1446.07 Q1646.83 1441.47 1652.64 1441.47 Z\" fill=\"#000000\" fill-rule=\"evenodd\" fill-opacity=\"1\" /><path clip-path=\"url(#clip280)\" d=\"M 0 0 M2046.65 1446.17 L2034.85 1464.61 L2046.65 1464.61 L2046.65 1446.17 M2045.43 1442.09 L2051.3 1442.09 L2051.3 1464.61 L2056.24 1464.61 L2056.24 1468.5 L2051.3 1468.5 L2051.3 1476.65 L2046.65 1476.65 L2046.65 1468.5 L2031.05 1468.5 L2031.05 1463.99 L2045.43 1442.09 Z\" fill=\"#000000\" fill-rule=\"evenodd\" fill-opacity=\"1\" /><path clip-path=\"url(#clip280)\" d=\"M 0 0 M2071.3 1445.17 Q2067.69 1445.17 2065.87 1448.74 Q2064.06 1452.28 2064.06 1459.41 Q2064.06 1466.51 2065.87 1470.08 Q2067.69 1473.62 2071.3 1473.62 Q2074.94 1473.62 2076.74 1470.08 Q2078.57 1466.51 2078.57 1459.41 Q2078.57 1452.28 2076.74 1448.74 Q2074.94 1445.17 2071.3 1445.17 M2071.3 1441.47 Q2077.11 1441.47 2080.17 1446.07 Q2083.25 1450.66 2083.25 1459.41 Q2083.25 1468.13 2080.17 1472.74 Q2077.11 1477.32 2071.3 1477.32 Q2065.49 1477.32 2062.42 1472.74 Q2059.36 1468.13 2059.36 1459.41 Q2059.36 1450.66 2062.42 1446.07 Q2065.49 1441.47 2071.3 1441.47 Z\" fill=\"#000000\" fill-rule=\"evenodd\" fill-opacity=\"1\" /><path clip-path=\"url(#clip280)\" d=\"M 0 0 M2098.32 1445.17 Q2094.71 1445.17 2092.88 1448.74 Q2091.07 1452.28 2091.07 1459.41 Q2091.07 1466.51 2092.88 1470.08 Q2094.71 1473.62 2098.32 1473.62 Q2101.95 1473.62 2103.76 1470.08 Q2105.59 1466.51 2105.59 1459.41 Q2105.59 1452.28 2103.76 1448.74 Q2101.95 1445.17 2098.32 1445.17 M2098.32 1441.47 Q2104.13 1441.47 2107.18 1446.07 Q2110.26 1450.66 2110.26 1459.41 Q2110.26 1468.13 2107.18 1472.74 Q2104.13 1477.32 2098.32 1477.32 Q2092.51 1477.32 2089.43 1472.74 Q2086.37 1468.13 2086.37 1459.41 Q2086.37 1450.66 2089.43 1446.07 Q2092.51 1441.47 2098.32 1441.47 Z\" fill=\"#000000\" fill-rule=\"evenodd\" fill-opacity=\"1\" /><path clip-path=\"url(#clip280)\" d=\"M 0 0 M138.691 1260.52 Q135.08 1260.52 133.251 1264.09 Q131.445 1267.63 131.445 1274.76 Q131.445 1281.87 133.251 1285.43 Q135.08 1288.97 138.691 1288.97 Q142.325 1288.97 144.13 1285.43 Q145.959 1281.87 145.959 1274.76 Q145.959 1267.63 144.13 1264.09 Q142.325 1260.52 138.691 1260.52 M138.691 1256.82 Q144.501 1256.82 147.556 1261.43 Q150.635 1266.01 150.635 1274.76 Q150.635 1283.49 147.556 1288.09 Q144.501 1292.68 138.691 1292.68 Q132.88 1292.68 129.802 1288.09 Q126.746 1283.49 126.746 1274.76 Q126.746 1266.01 129.802 1261.43 Q132.88 1256.82 138.691 1256.82 Z\" fill=\"#000000\" fill-rule=\"evenodd\" fill-opacity=\"1\" /><path clip-path=\"url(#clip280)\" d=\"M 0 0 M155.704 1286.13 L160.589 1286.13 L160.589 1292.01 L155.704 1292.01 L155.704 1286.13 Z\" fill=\"#000000\" fill-rule=\"evenodd\" fill-opacity=\"1\" /><path clip-path=\"url(#clip280)\" d=\"M 0 0 M166.468 1288.07 L174.107 1288.07 L174.107 1261.71 L165.797 1263.37 L165.797 1259.11 L174.061 1257.45 L178.737 1257.45 L178.737 1288.07 L186.376 1288.07 L186.376 1292.01 L166.468 1292.01 L166.468 1288.07 Z\" fill=\"#000000\" fill-rule=\"evenodd\" fill-opacity=\"1\" /><path clip-path=\"url(#clip280)\" d=\"M 0 0 M201.445 1260.52 Q197.834 1260.52 196.005 1264.09 Q194.2 1267.63 194.2 1274.76 Q194.2 1281.87 196.005 1285.43 Q197.834 1288.97 201.445 1288.97 Q205.079 1288.97 206.885 1285.43 Q208.713 1281.87 208.713 1274.76 Q208.713 1267.63 206.885 1264.09 Q205.079 1260.52 201.445 1260.52 M201.445 1256.82 Q207.255 1256.82 210.311 1261.43 Q213.389 1266.01 213.389 1274.76 Q213.389 1283.49 210.311 1288.09 Q207.255 1292.68 201.445 1292.68 Q195.635 1292.68 192.556 1288.09 Q189.501 1283.49 189.501 1274.76 Q189.501 1266.01 192.556 1261.43 Q195.635 1256.82 201.445 1256.82 Z\" fill=\"#000000\" fill-rule=\"evenodd\" fill-opacity=\"1\" /><path clip-path=\"url(#clip280)\" d=\"M 0 0 M140.288 1026.85 Q136.677 1026.85 134.848 1030.41 Q133.043 1033.95 133.043 1041.08 Q133.043 1048.19 134.848 1051.76 Q136.677 1055.3 140.288 1055.3 Q143.922 1055.3 145.728 1051.76 Q147.556 1048.19 147.556 1041.08 Q147.556 1033.95 145.728 1030.41 Q143.922 1026.85 140.288 1026.85 M140.288 1023.14 Q146.098 1023.14 149.154 1027.75 Q152.232 1032.33 152.232 1041.08 Q152.232 1049.81 149.154 1054.42 Q146.098 1059 140.288 1059 Q134.478 1059 131.399 1054.42 Q128.343 1049.81 128.343 1041.08 Q128.343 1032.33 131.399 1027.75 Q134.478 1023.14 140.288 1023.14 Z\" fill=\"#000000\" fill-rule=\"evenodd\" fill-opacity=\"1\" /><path clip-path=\"url(#clip280)\" d=\"M 0 0 M157.302 1052.45 L162.186 1052.45 L162.186 1058.33 L157.302 1058.33 L157.302 1052.45 Z\" fill=\"#000000\" fill-rule=\"evenodd\" fill-opacity=\"1\" /><path clip-path=\"url(#clip280)\" d=\"M 0 0 M168.065 1054.39 L175.704 1054.39 L175.704 1028.03 L167.394 1029.7 L167.394 1025.44 L175.658 1023.77 L180.334 1023.77 L180.334 1054.39 L187.973 1054.39 L187.973 1058.33 L168.065 1058.33 L168.065 1054.39 Z\" fill=\"#000000\" fill-rule=\"evenodd\" fill-opacity=\"1\" /><path clip-path=\"url(#clip280)\" d=\"M 0 0 M197.07 1054.39 L213.389 1054.39 L213.389 1058.33 L191.445 1058.33 L191.445 1054.39 Q194.107 1051.64 198.69 1047.01 Q203.297 1042.36 204.477 1041.01 Q206.723 1038.49 207.602 1036.76 Q208.505 1035 208.505 1033.31 Q208.505 1030.55 206.561 1028.82 Q204.639 1027.08 201.538 1027.08 Q199.338 1027.08 196.885 1027.84 Q194.454 1028.61 191.676 1030.16 L191.676 1025.44 Q194.501 1024.3 196.954 1023.72 Q199.408 1023.14 201.445 1023.14 Q206.815 1023.14 210.01 1025.83 Q213.204 1028.51 213.204 1033.01 Q213.204 1035.14 212.394 1037.06 Q211.607 1038.95 209.5 1041.55 Q208.922 1042.22 205.82 1045.44 Q202.718 1048.63 197.07 1054.39 Z\" fill=\"#000000\" fill-rule=\"evenodd\" fill-opacity=\"1\" /><path clip-path=\"url(#clip280)\" d=\"M 0 0 M138.205 793.172 Q134.593 793.172 132.765 796.737 Q130.959 800.278 130.959 807.408 Q130.959 814.514 132.765 818.079 Q134.593 821.621 138.205 821.621 Q141.839 821.621 143.644 818.079 Q145.473 814.514 145.473 807.408 Q145.473 800.278 143.644 796.737 Q141.839 793.172 138.205 793.172 M138.205 789.468 Q144.015 789.468 147.07 794.075 Q150.149 798.658 150.149 807.408 Q150.149 816.135 147.07 820.741 Q144.015 825.324 138.205 825.324 Q132.394 825.324 129.316 820.741 Q126.26 816.135 126.26 807.408 Q126.26 798.658 129.316 794.075 Q132.394 789.468 138.205 789.468 Z\" fill=\"#000000\" fill-rule=\"evenodd\" fill-opacity=\"1\" /><path clip-path=\"url(#clip280)\" d=\"M 0 0 M155.218 818.773 L160.103 818.773 L160.103 824.653 L155.218 824.653 L155.218 818.773 Z\" fill=\"#000000\" fill-rule=\"evenodd\" fill-opacity=\"1\" /><path clip-path=\"url(#clip280)\" d=\"M 0 0 M165.982 820.718 L173.621 820.718 L173.621 794.352 L165.311 796.019 L165.311 791.76 L173.575 790.093 L178.251 790.093 L178.251 820.718 L185.889 820.718 L185.889 824.653 L165.982 824.653 L165.982 820.718 Z\" fill=\"#000000\" fill-rule=\"evenodd\" fill-opacity=\"1\" /><path clip-path=\"url(#clip280)\" d=\"M 0 0 M203.806 794.167 L192.001 812.616 L203.806 812.616 L203.806 794.167 M202.579 790.093 L208.459 790.093 L208.459 812.616 L213.389 812.616 L213.389 816.505 L208.459 816.505 L208.459 824.653 L203.806 824.653 L203.806 816.505 L188.204 816.505 L188.204 811.991 L202.579 790.093 Z\" fill=\"#000000\" fill-rule=\"evenodd\" fill-opacity=\"1\" /><path clip-path=\"url(#clip280)\" d=\"M 0 0 M138.529 559.495 Q134.918 559.495 133.089 563.06 Q131.283 566.602 131.283 573.731 Q131.283 580.838 133.089 584.402 Q134.918 587.944 138.529 587.944 Q142.163 587.944 143.968 584.402 Q145.797 580.838 145.797 573.731 Q145.797 566.602 143.968 563.06 Q142.163 559.495 138.529 559.495 M138.529 555.791 Q144.339 555.791 147.394 560.398 Q150.473 564.981 150.473 573.731 Q150.473 582.458 147.394 587.064 Q144.339 591.648 138.529 591.648 Q132.718 591.648 129.64 587.064 Q126.584 582.458 126.584 573.731 Q126.584 564.981 129.64 560.398 Q132.718 555.791 138.529 555.791 Z\" fill=\"#000000\" fill-rule=\"evenodd\" fill-opacity=\"1\" /><path clip-path=\"url(#clip280)\" d=\"M 0 0 M155.542 585.097 L160.427 585.097 L160.427 590.976 L155.542 590.976 L155.542 585.097 Z\" fill=\"#000000\" fill-rule=\"evenodd\" fill-opacity=\"1\" /><path clip-path=\"url(#clip280)\" d=\"M 0 0 M166.306 587.041 L173.945 587.041 L173.945 560.676 L165.635 562.342 L165.635 558.083 L173.899 556.416 L178.575 556.416 L178.575 587.041 L186.214 587.041 L186.214 590.976 L166.306 590.976 L166.306 587.041 Z\" fill=\"#000000\" fill-rule=\"evenodd\" fill-opacity=\"1\" /><path clip-path=\"url(#clip280)\" d=\"M 0 0 M201.862 571.833 Q198.713 571.833 196.862 573.986 Q195.033 576.139 195.033 579.889 Q195.033 583.615 196.862 585.791 Q198.713 587.944 201.862 587.944 Q205.01 587.944 206.838 585.791 Q208.69 583.615 208.69 579.889 Q208.69 576.139 206.838 573.986 Q205.01 571.833 201.862 571.833 M211.144 557.18 L211.144 561.44 Q209.385 560.606 207.579 560.166 Q205.797 559.727 204.038 559.727 Q199.408 559.727 196.954 562.852 Q194.524 565.977 194.176 572.296 Q195.542 570.282 197.602 569.217 Q199.663 568.129 202.139 568.129 Q207.348 568.129 210.357 571.301 Q213.389 574.449 213.389 579.889 Q213.389 585.213 210.241 588.43 Q207.093 591.648 201.862 591.648 Q195.866 591.648 192.695 587.064 Q189.524 582.458 189.524 573.731 Q189.524 565.537 193.413 560.676 Q197.301 555.791 203.852 555.791 Q205.612 555.791 207.394 556.139 Q209.2 556.486 211.144 557.18 Z\" fill=\"#000000\" fill-rule=\"evenodd\" fill-opacity=\"1\" /><path clip-path=\"url(#clip280)\" d=\"M 0 0 M138.783 325.819 Q135.172 325.819 133.343 329.383 Q131.538 332.925 131.538 340.055 Q131.538 347.161 133.343 350.726 Q135.172 354.268 138.783 354.268 Q142.417 354.268 144.223 350.726 Q146.052 347.161 146.052 340.055 Q146.052 332.925 144.223 329.383 Q142.417 325.819 138.783 325.819 M138.783 322.115 Q144.593 322.115 147.649 326.721 Q150.728 331.305 150.728 340.055 Q150.728 348.781 147.649 353.388 Q144.593 357.971 138.783 357.971 Q132.973 357.971 129.894 353.388 Q126.839 348.781 126.839 340.055 Q126.839 331.305 129.894 326.721 Q132.973 322.115 138.783 322.115 Z\" fill=\"#000000\" fill-rule=\"evenodd\" fill-opacity=\"1\" /><path clip-path=\"url(#clip280)\" d=\"M 0 0 M155.797 351.42 L160.681 351.42 L160.681 357.3 L155.797 357.3 L155.797 351.42 Z\" fill=\"#000000\" fill-rule=\"evenodd\" fill-opacity=\"1\" /><path clip-path=\"url(#clip280)\" d=\"M 0 0 M166.561 353.365 L174.2 353.365 L174.2 326.999 L165.89 328.666 L165.89 324.407 L174.153 322.74 L178.829 322.74 L178.829 353.365 L186.468 353.365 L186.468 357.3 L166.561 357.3 L166.561 353.365 Z\" fill=\"#000000\" fill-rule=\"evenodd\" fill-opacity=\"1\" /><path clip-path=\"url(#clip280)\" d=\"M 0 0 M201.538 340.888 Q198.204 340.888 196.283 342.67 Q194.385 344.453 194.385 347.578 Q194.385 350.703 196.283 352.485 Q198.204 354.268 201.538 354.268 Q204.871 354.268 206.792 352.485 Q208.713 350.68 208.713 347.578 Q208.713 344.453 206.792 342.67 Q204.894 340.888 201.538 340.888 M196.862 338.897 Q193.852 338.156 192.163 336.096 Q190.496 334.036 190.496 331.073 Q190.496 326.93 193.436 324.522 Q196.399 322.115 201.538 322.115 Q206.7 322.115 209.639 324.522 Q212.579 326.93 212.579 331.073 Q212.579 334.036 210.889 336.096 Q209.223 338.156 206.237 338.897 Q209.616 339.684 211.491 341.976 Q213.389 344.268 213.389 347.578 Q213.389 352.601 210.311 355.286 Q207.255 357.971 201.538 357.971 Q195.82 357.971 192.741 355.286 Q189.686 352.601 189.686 347.578 Q189.686 344.268 191.584 341.976 Q193.482 339.684 196.862 338.897 M195.149 331.513 Q195.149 334.198 196.815 335.703 Q198.505 337.207 201.538 337.207 Q204.547 337.207 206.237 335.703 Q207.95 334.198 207.95 331.513 Q207.95 328.828 206.237 327.323 Q204.547 325.819 201.538 325.819 Q198.505 325.819 196.815 327.323 Q195.149 328.828 195.149 331.513 Z\" fill=\"#000000\" fill-rule=\"evenodd\" fill-opacity=\"1\" /><path clip-path=\"url(#clip280)\" d=\"M 0 0 M1097.85 45.1919 L1097.85 72.576 L1090.4 72.576 L1090.4 45.4349 Q1090.4 38.994 1087.89 35.7938 Q1085.38 32.5936 1080.35 32.5936 Q1074.32 32.5936 1070.83 36.4419 Q1067.35 40.2903 1067.35 46.9338 L1067.35 72.576 L1059.86 72.576 L1059.86 9.54393 L1067.35 9.54393 L1067.35 34.2544 Q1070.02 30.163 1073.63 28.1376 Q1077.28 26.1121 1082.02 26.1121 Q1089.83 26.1121 1093.84 30.9732 Q1097.85 35.7938 1097.85 45.1919 Z\" fill=\"#000000\" fill-rule=\"evenodd\" fill-opacity=\"1\" /><path clip-path=\"url(#clip280)\" d=\"M 0 0 M1113.77 65.6895 L1142.33 65.6895 L1142.33 72.576 L1103.93 72.576 L1103.93 65.6895 Q1108.59 60.8689 1116.61 52.7671 Q1124.67 44.6248 1126.74 42.2752 Q1130.67 37.8598 1132.21 34.8216 Q1133.79 31.7429 1133.79 28.7857 Q1133.79 23.9651 1130.38 20.927 Q1127.02 17.8888 1121.59 17.8888 Q1117.74 17.8888 1113.45 19.2256 Q1109.2 20.5624 1104.34 23.2765 L1104.34 15.0127 Q1109.28 13.0277 1113.57 12.015 Q1117.87 11.0023 1121.43 11.0023 Q1130.83 11.0023 1136.42 15.7013 Q1142.01 20.4004 1142.01 28.2591 Q1142.01 31.9859 1140.59 35.3482 Q1139.21 38.6699 1135.53 43.2069 Q1134.52 44.3817 1129.09 50.0125 Q1123.66 55.6027 1113.77 65.6895 Z\" fill=\"#000000\" fill-rule=\"evenodd\" fill-opacity=\"1\" /><path clip-path=\"url(#clip280)\" d=\"M 0 0 M1183.9 14.324 L1183.9 27.2059 L1199.25 27.2059 L1199.25 32.9987 L1183.9 32.9987 L1183.9 57.6282 Q1183.9 63.1779 1185.39 64.7578 Q1186.93 66.3376 1191.59 66.3376 L1199.25 66.3376 L1199.25 72.576 L1191.59 72.576 Q1182.96 72.576 1179.68 69.3758 Q1176.4 66.1351 1176.4 57.6282 L1176.4 32.9987 L1170.93 32.9987 L1170.93 27.2059 L1176.4 27.2059 L1176.4 14.324 L1183.9 14.324 Z\" fill=\"#000000\" fill-rule=\"evenodd\" fill-opacity=\"1\" /><path clip-path=\"url(#clip280)\" d=\"M 0 0 M1233.36 34.1734 Q1232.1 33.4443 1230.6 33.1202 Q1229.14 32.7556 1227.36 32.7556 Q1221.04 32.7556 1217.64 36.8875 Q1214.28 40.9789 1214.28 48.6757 L1214.28 72.576 L1206.78 72.576 L1206.78 27.2059 L1214.28 27.2059 L1214.28 34.2544 Q1216.63 30.1225 1220.39 28.1376 Q1224.16 26.1121 1229.55 26.1121 Q1230.32 26.1121 1231.25 26.2337 Q1232.18 26.3147 1233.32 26.5172 L1233.36 34.1734 Z\" fill=\"#000000\" fill-rule=\"evenodd\" fill-opacity=\"1\" /><path clip-path=\"url(#clip280)\" d=\"M 0 0 M1261.79 49.7694 Q1252.76 49.7694 1249.28 51.8354 Q1245.79 53.9013 1245.79 58.8839 Q1245.79 62.8538 1248.39 65.2034 Q1251.02 67.5124 1255.52 67.5124 Q1261.71 67.5124 1265.44 63.1374 Q1269.21 58.7219 1269.21 51.4303 L1269.21 49.7694 L1261.79 49.7694 M1276.66 46.6907 L1276.66 72.576 L1269.21 72.576 L1269.21 65.6895 Q1266.66 69.8214 1262.85 71.8063 Q1259.04 73.7508 1253.53 73.7508 Q1246.56 73.7508 1242.43 69.8619 Q1238.34 65.9325 1238.34 59.3701 Q1238.34 51.7138 1243.44 47.825 Q1248.59 43.9361 1258.76 43.9361 L1269.21 43.9361 L1269.21 43.2069 Q1269.21 38.0623 1265.8 35.2672 Q1262.44 32.4315 1256.33 32.4315 Q1252.44 32.4315 1248.75 33.3632 Q1245.06 34.295 1241.66 36.1584 L1241.66 29.2718 Q1245.75 27.692 1249.6 26.9223 Q1253.45 26.1121 1257.1 26.1121 Q1266.94 26.1121 1271.8 31.2163 Q1276.66 36.3204 1276.66 46.6907 Z\" fill=\"#000000\" fill-rule=\"evenodd\" fill-opacity=\"1\" /><path clip-path=\"url(#clip280)\" d=\"M 0 0 M1317.13 28.9478 L1317.13 35.9153 Q1313.97 34.1734 1310.77 33.3227 Q1307.61 32.4315 1304.37 32.4315 Q1297.12 32.4315 1293.11 37.0496 Q1289.1 41.6271 1289.1 49.9314 Q1289.1 58.2358 1293.11 62.8538 Q1297.12 67.4314 1304.37 67.4314 Q1307.61 67.4314 1310.77 66.5807 Q1313.97 65.6895 1317.13 63.9476 L1317.13 70.8341 Q1314.01 72.2924 1310.65 73.0216 Q1307.33 73.7508 1303.56 73.7508 Q1293.31 73.7508 1287.27 67.3098 Q1281.24 60.8689 1281.24 49.9314 Q1281.24 38.832 1287.32 32.472 Q1293.43 26.1121 1304.05 26.1121 Q1307.49 26.1121 1310.77 26.8413 Q1314.05 27.5299 1317.13 28.9478 Z\" fill=\"#000000\" fill-rule=\"evenodd\" fill-opacity=\"1\" /><path clip-path=\"url(#clip280)\" d=\"M 0 0 M1363.76 48.0275 L1363.76 51.6733 L1329.49 51.6733 Q1329.97 59.3701 1334.1 63.421 Q1338.28 67.4314 1345.69 67.4314 Q1349.98 67.4314 1353.99 66.3781 Q1358.04 65.3249 1362.01 63.2184 L1362.01 70.267 Q1358 71.9684 1353.79 72.8596 Q1349.58 73.7508 1345.24 73.7508 Q1334.39 73.7508 1328.03 67.4314 Q1321.71 61.1119 1321.71 50.3365 Q1321.71 39.1965 1327.7 32.6746 Q1333.74 26.1121 1343.95 26.1121 Q1353.1 26.1121 1358.41 32.0264 Q1363.76 37.9003 1363.76 48.0275 M1356.3 45.84 Q1356.22 39.7232 1352.86 36.0774 Q1349.54 32.4315 1344.03 32.4315 Q1337.79 32.4315 1334.02 35.9558 Q1330.3 39.4801 1329.73 45.8805 L1356.3 45.84 Z\" fill=\"#000000\" fill-rule=\"evenodd\" fill-opacity=\"1\" /><path clip-path=\"url(#clip280)\" d=\"M 0 0 M1405.16 65.7705 L1405.16 89.8329 L1397.66 89.8329 L1397.66 27.2059 L1405.16 27.2059 L1405.16 34.0924 Q1407.51 30.0415 1411.07 28.0971 Q1414.68 26.1121 1419.66 26.1121 Q1427.92 26.1121 1433.07 32.6746 Q1438.25 39.2371 1438.25 49.9314 Q1438.25 60.6258 1433.07 67.1883 Q1427.92 73.7508 1419.66 73.7508 Q1414.68 73.7508 1411.07 71.8063 Q1407.51 69.8214 1405.16 65.7705 M1430.51 49.9314 Q1430.51 41.7081 1427.11 37.0496 Q1423.75 32.3505 1417.84 32.3505 Q1411.92 32.3505 1408.52 37.0496 Q1405.16 41.7081 1405.16 49.9314 Q1405.16 58.1548 1408.52 62.8538 Q1411.92 67.5124 1417.84 67.5124 Q1423.75 67.5124 1427.11 62.8538 Q1430.51 58.1548 1430.51 49.9314 Z\" fill=\"#000000\" fill-rule=\"evenodd\" fill-opacity=\"1\" /><path clip-path=\"url(#clip280)\" d=\"M 0 0 M1446.07 9.54393 L1453.52 9.54393 L1453.52 72.576 L1446.07 72.576 L1446.07 9.54393 Z\" fill=\"#000000\" fill-rule=\"evenodd\" fill-opacity=\"1\" /><path clip-path=\"url(#clip280)\" d=\"M 0 0 M1478.92 32.4315 Q1472.93 32.4315 1469.44 37.1306 Q1465.96 41.7891 1465.96 49.9314 Q1465.96 58.0738 1469.4 62.7728 Q1472.89 67.4314 1478.92 67.4314 Q1484.88 67.4314 1488.36 62.7323 Q1491.85 58.0333 1491.85 49.9314 Q1491.85 41.8701 1488.36 37.1711 Q1484.88 32.4315 1478.92 32.4315 M1478.92 26.1121 Q1488.65 26.1121 1494.19 32.4315 Q1499.74 38.7509 1499.74 49.9314 Q1499.74 61.0714 1494.19 67.4314 Q1488.65 73.7508 1478.92 73.7508 Q1469.16 73.7508 1463.61 67.4314 Q1458.1 61.0714 1458.1 49.9314 Q1458.1 38.7509 1463.61 32.4315 Q1469.16 26.1121 1478.92 26.1121 Z\" fill=\"#000000\" fill-rule=\"evenodd\" fill-opacity=\"1\" /><path clip-path=\"url(#clip280)\" d=\"M 0 0 M1514.94 14.324 L1514.94 27.2059 L1530.29 27.2059 L1530.29 32.9987 L1514.94 32.9987 L1514.94 57.6282 Q1514.94 63.1779 1516.43 64.7578 Q1517.97 66.3376 1522.63 66.3376 L1530.29 66.3376 L1530.29 72.576 L1522.63 72.576 Q1514 72.576 1510.72 69.3758 Q1507.44 66.1351 1507.44 57.6282 L1507.44 32.9987 L1501.97 32.9987 L1501.97 27.2059 L1507.44 27.2059 L1507.44 14.324 L1514.94 14.324 Z\" fill=\"#000000\" fill-rule=\"evenodd\" fill-opacity=\"1\" /><path clip-path=\"url(#clip280)\" d=\"M 0 0 M1177.37 1520.4 L1183.23 1520.4 L1183.23 1556.04 L1177.37 1556.04 L1177.37 1520.4 M1177.37 1506.52 L1183.23 1506.52 L1183.23 1513.93 L1177.37 1513.93 L1177.37 1506.52 Z\" fill=\"#000000\" fill-rule=\"evenodd\" fill-opacity=\"1\" /><path clip-path=\"url(#clip280)\" d=\"M 0 0 M1195.16 1510.27 L1195.16 1520.4 L1207.23 1520.4 L1207.23 1524.95 L1195.16 1524.95 L1195.16 1544.3 Q1195.16 1548.66 1196.34 1549.9 Q1197.55 1551.14 1201.21 1551.14 L1207.23 1551.14 L1207.23 1556.04 L1201.21 1556.04 Q1194.43 1556.04 1191.85 1553.53 Q1189.27 1550.98 1189.27 1544.3 L1189.27 1524.95 L1184.98 1524.95 L1184.98 1520.4 L1189.27 1520.4 L1189.27 1510.27 L1195.16 1510.27 Z\" fill=\"#000000\" fill-rule=\"evenodd\" fill-opacity=\"1\" /><path clip-path=\"url(#clip280)\" d=\"M 0 0 M1243.86 1536.76 L1243.86 1539.62 L1216.93 1539.62 Q1217.32 1545.67 1220.56 1548.85 Q1223.84 1552 1229.66 1552 Q1233.04 1552 1236.19 1551.17 Q1239.37 1550.35 1242.49 1548.69 L1242.49 1554.23 Q1239.34 1555.57 1236.03 1556.27 Q1232.72 1556.97 1229.31 1556.97 Q1220.78 1556.97 1215.79 1552 Q1210.82 1547.04 1210.82 1538.57 Q1210.82 1529.82 1215.53 1524.69 Q1220.28 1519.54 1228.3 1519.54 Q1235.49 1519.54 1239.66 1524.18 Q1243.86 1528.8 1243.86 1536.76 M1238 1535.04 Q1237.94 1530.23 1235.3 1527.37 Q1232.69 1524.5 1228.36 1524.5 Q1223.46 1524.5 1220.5 1527.27 Q1217.57 1530.04 1217.12 1535.07 L1238 1535.04 Z\" fill=\"#000000\" fill-rule=\"evenodd\" fill-opacity=\"1\" /><path clip-path=\"url(#clip280)\" d=\"M 0 0 M1270.66 1525.87 Q1269.67 1525.3 1268.5 1525.04 Q1267.35 1524.76 1265.95 1524.76 Q1260.98 1524.76 1258.31 1528 Q1255.67 1531.22 1255.67 1537.27 L1255.67 1556.04 L1249.78 1556.04 L1249.78 1520.4 L1255.67 1520.4 L1255.67 1525.93 Q1257.51 1522.69 1260.47 1521.13 Q1263.44 1519.54 1267.67 1519.54 Q1268.27 1519.54 1269.01 1519.63 Q1269.74 1519.7 1270.63 1519.85 L1270.66 1525.87 Z\" fill=\"#000000\" fill-rule=\"evenodd\" fill-opacity=\"1\" /><path clip-path=\"url(#clip280)\" d=\"M 0 0 M1293 1538.12 Q1285.91 1538.12 1283.17 1539.75 Q1280.43 1541.37 1280.43 1545.29 Q1280.43 1548.4 1282.47 1550.25 Q1284.54 1552.07 1288.07 1552.07 Q1292.94 1552.07 1295.87 1548.63 Q1298.83 1545.16 1298.83 1539.43 L1298.83 1538.12 L1293 1538.12 M1304.68 1535.71 L1304.68 1556.04 L1298.83 1556.04 L1298.83 1550.63 Q1296.82 1553.88 1293.83 1555.44 Q1290.84 1556.97 1286.51 1556.97 Q1281.04 1556.97 1277.79 1553.91 Q1274.58 1550.82 1274.58 1545.67 Q1274.58 1539.65 1278.59 1536.6 Q1282.63 1533.54 1290.62 1533.54 L1298.83 1533.54 L1298.83 1532.97 Q1298.83 1528.93 1296.15 1526.73 Q1293.51 1524.5 1288.71 1524.5 Q1285.65 1524.5 1282.75 1525.23 Q1279.86 1525.97 1277.18 1527.43 L1277.18 1522.02 Q1280.4 1520.78 1283.42 1520.17 Q1286.45 1519.54 1289.31 1519.54 Q1297.05 1519.54 1300.87 1523.55 Q1304.68 1527.56 1304.68 1535.71 Z\" fill=\"#000000\" fill-rule=\"evenodd\" fill-opacity=\"1\" /><path clip-path=\"url(#clip280)\" d=\"M 0 0 M1316.62 1510.27 L1316.62 1520.4 L1328.68 1520.4 L1328.68 1524.95 L1316.62 1524.95 L1316.62 1544.3 Q1316.62 1548.66 1317.8 1549.9 Q1319.01 1551.14 1322.67 1551.14 L1328.68 1551.14 L1328.68 1556.04 L1322.67 1556.04 Q1315.89 1556.04 1313.31 1553.53 Q1310.73 1550.98 1310.73 1544.3 L1310.73 1524.95 L1306.44 1524.95 L1306.44 1520.4 L1310.73 1520.4 L1310.73 1510.27 L1316.62 1510.27 Z\" fill=\"#000000\" fill-rule=\"evenodd\" fill-opacity=\"1\" /><path clip-path=\"url(#clip280)\" d=\"M 0 0 M1334.83 1520.4 L1340.68 1520.4 L1340.68 1556.04 L1334.83 1556.04 L1334.83 1520.4 M1334.83 1506.52 L1340.68 1506.52 L1340.68 1513.93 L1334.83 1513.93 L1334.83 1506.52 Z\" fill=\"#000000\" fill-rule=\"evenodd\" fill-opacity=\"1\" /><path clip-path=\"url(#clip280)\" d=\"M 0 0 M1360.64 1524.5 Q1355.93 1524.5 1353.19 1528.19 Q1350.45 1531.85 1350.45 1538.25 Q1350.45 1544.65 1353.16 1548.34 Q1355.9 1552 1360.64 1552 Q1365.32 1552 1368.06 1548.31 Q1370.79 1544.62 1370.79 1538.25 Q1370.79 1531.92 1368.06 1528.23 Q1365.32 1524.5 1360.64 1524.5 M1360.64 1519.54 Q1368.28 1519.54 1372.64 1524.5 Q1377 1529.47 1377 1538.25 Q1377 1547 1372.64 1552 Q1368.28 1556.97 1360.64 1556.97 Q1352.97 1556.97 1348.61 1552 Q1344.28 1547 1344.28 1538.25 Q1344.28 1529.47 1348.61 1524.5 Q1352.97 1519.54 1360.64 1519.54 Z\" fill=\"#000000\" fill-rule=\"evenodd\" fill-opacity=\"1\" /><path clip-path=\"url(#clip280)\" d=\"M 0 0 M1412.77 1534.53 L1412.77 1556.04 L1406.92 1556.04 L1406.92 1534.72 Q1406.92 1529.66 1404.94 1527.14 Q1402.97 1524.63 1399.02 1524.63 Q1394.28 1524.63 1391.54 1527.65 Q1388.81 1530.68 1388.81 1535.9 L1388.81 1556.04 L1382.92 1556.04 L1382.92 1520.4 L1388.81 1520.4 L1388.81 1525.93 Q1390.91 1522.72 1393.74 1521.13 Q1396.61 1519.54 1400.33 1519.54 Q1406.47 1519.54 1409.62 1523.36 Q1412.77 1527.14 1412.77 1534.53 Z\" fill=\"#000000\" fill-rule=\"evenodd\" fill-opacity=\"1\" /><path clip-path=\"url(#clip280)\" d=\"M 0 0 M66.4881 775.872 L88.0042 775.872 L88.0042 781.729 L66.679 781.729 Q61.6183 781.729 59.1038 783.702 Q56.5894 785.675 56.5894 789.622 Q56.5894 794.365 59.6131 797.102 Q62.6368 799.839 67.8567 799.839 L88.0042 799.839 L88.0042 805.727 L38.479 805.727 L38.479 799.839 L57.8944 799.839 Q54.6797 797.738 53.0883 794.906 Q51.4968 792.041 51.4968 788.317 Q51.4968 782.174 55.3163 779.023 Q59.1038 775.872 66.4881 775.872 Z\" fill=\"#000000\" fill-rule=\"evenodd\" fill-opacity=\"1\" /><path clip-path=\"url(#clip280)\" d=\"M 0 0 M82.5933 763.364 L82.5933 740.925 L88.0042 740.925 L88.0042 771.098 L82.5933 771.098 Q78.8057 767.438 72.44 761.136 Q66.0425 754.802 64.1964 753.179 Q60.7271 750.091 58.34 748.882 Q55.921 747.64 53.5975 747.64 Q49.8099 747.64 47.4228 750.314 Q45.0356 752.956 45.0356 757.221 Q45.0356 760.244 46.086 763.618 Q47.1363 766.96 49.2688 770.78 L42.7758 770.78 Q41.2162 766.897 40.4205 763.523 Q39.6248 760.149 39.6248 757.348 Q39.6248 749.964 43.3169 745.572 Q47.009 741.179 53.1837 741.179 Q56.112 741.179 58.7537 742.293 Q61.3637 743.375 64.9285 746.272 Q65.8515 747.067 70.2757 751.332 Q74.668 755.597 82.5933 763.364 Z\" fill=\"#000000\" fill-rule=\"evenodd\" fill-opacity=\"1\" /><polyline clip-path=\"url(#clip282)\" style=\"stroke:#009af9; stroke-width:4; stroke-opacity:1; fill:none\" points=\"\n",
       "  297.258,656.137 301.703,680.965 306.147,634.884 310.592,668.054 315.037,514.097 319.481,579.04 323.926,648.58 328.37,571.459 332.815,653.37 337.26,611.404 \n",
       "  341.704,803.769 346.149,448.616 350.593,562.243 355.038,696.509 359.483,697.788 363.927,458.322 368.372,763.697 372.817,669.048 377.261,455.081 381.706,460.243 \n",
       "  386.15,600.529 390.595,665.097 395.04,579.724 399.484,699.733 403.929,564.767 408.373,851.319 412.818,851.152 417.263,754.466 421.707,891.558 426.152,646.49 \n",
       "  430.596,603.628 435.041,410.084 439.486,816.882 443.93,925.368 448.375,952.597 452.819,725.24 457.264,830.444 461.709,822.172 466.153,874.922 470.598,761.57 \n",
       "  475.042,667.88 479.487,530.281 483.932,809.676 488.376,629.244 492.821,881.612 497.266,781.822 501.71,896.797 506.155,872.955 510.599,614.087 515.044,824.918 \n",
       "  519.489,497.047 523.933,724.925 528.378,790.843 532.822,764.169 537.267,733.067 541.712,703.444 546.156,819.584 550.601,820.616 555.045,846.79 559.49,796.297 \n",
       "  563.935,707.449 568.379,652.168 572.824,870.064 577.268,839.23 581.713,744.072 586.158,524.559 590.602,552.554 595.047,835.431 599.492,761.164 603.936,981.487 \n",
       "  608.381,872.167 612.825,793.03 617.27,748.423 621.715,514.944 626.159,644.227 630.604,939.495 635.048,746.691 639.493,843.501 643.938,591.508 648.382,553.871 \n",
       "  652.827,408.127 657.271,437.361 661.716,657.993 666.161,740.538 670.605,464.281 675.05,563.933 679.494,792.178 683.939,701.631 688.384,732.288 692.828,828.244 \n",
       "  697.273,600.723 701.717,858.315 706.162,847.455 710.607,688.908 715.051,571.208 719.496,586.964 723.941,835.667 728.385,814.478 732.83,686.956 737.274,823.86 \n",
       "  741.719,852.141 746.164,568.838 750.608,848.069 755.053,781.325 759.497,748.806 763.942,795.543 768.387,371.239 772.831,867.414 777.276,625.597 781.72,752.494 \n",
       "  786.165,641.187 790.61,597.842 795.054,391.08 799.499,736.519 803.943,472.717 808.388,717.107 812.833,435.372 817.277,622.505 821.722,292.225 826.167,552.489 \n",
       "  830.611,594.626 835.056,437.243 839.5,663.444 843.945,346.27 848.39,536.241 852.834,728.574 857.279,716.17 861.723,762.411 866.168,381.553 870.613,551.626 \n",
       "  875.057,543.799 879.502,550.85 883.946,287.774 888.391,543.446 892.836,666.886 897.28,757.848 901.725,443.743 906.169,644.329 910.614,437.415 915.059,160.256 \n",
       "  919.503,682.072 923.948,672.684 928.392,765.68 932.837,525 937.282,630.589 941.726,733.137 946.171,621.814 950.616,561.097 955.06,424.519 959.505,754.577 \n",
       "  963.949,790.595 968.394,388.961 972.839,549.335 977.283,545.772 981.728,590.435 986.172,615.76 990.617,531.721 995.062,750.263 999.506,698.601 1003.95,634.704 \n",
       "  1008.4,838.25 1012.84,917.775 1017.28,781.84 1021.73,874.129 1026.17,752.692 1030.62,910.598 1035.06,874.859 1039.51,777.298 1043.95,549.811 1048.4,752.837 \n",
       "  1052.84,680.159 1057.29,660.86 1061.73,333.05 1066.18,478.984 1070.62,371.043 1075.06,736.515 1079.51,852.863 1083.95,769.903 1088.4,798.948 1092.84,805.321 \n",
       "  1097.29,816.617 1101.73,751.327 1106.18,824.206 1110.62,912.823 1115.07,865.179 1119.51,703.536 1123.96,784.453 1128.4,679.708 1132.84,741.736 1137.29,780.585 \n",
       "  1141.73,967.475 1146.18,763.763 1150.62,693.739 1155.07,780.524 1159.51,701.56 1163.96,903.719 1168.4,742.514 1172.85,917.933 1177.29,1098.34 1181.74,947.796 \n",
       "  1186.18,770.557 1190.62,792.675 1195.07,719.234 1199.51,689.958 1203.96,906.366 1208.4,872.335 1212.85,792.093 1217.29,965.016 1221.74,701.549 1226.18,743.809 \n",
       "  1230.63,907.269 1235.07,807.834 1239.52,835.738 1243.96,930.496 1248.4,875.281 1252.85,759.878 1257.29,984.664 1261.74,865.019 1266.18,716.906 1270.63,908.948 \n",
       "  1275.07,820.255 1279.52,1113.67 1283.96,876.484 1288.41,892.953 1292.85,602.388 1297.29,761.217 1301.74,888.18 1306.18,624.345 1310.63,745.159 1315.07,791.719 \n",
       "  1319.52,746.895 1323.96,680.849 1328.41,1003.88 1332.85,754.684 1337.3,865.229 1341.74,967.242 1346.19,794.208 1350.63,877.505 1355.07,883.669 1359.52,933.55 \n",
       "  1363.96,1023.92 1368.41,758.861 1372.85,904.996 1377.3,959.646 1381.74,581.305 1386.19,853.272 1390.63,630.633 1395.08,693.187 1399.52,768.661 1403.97,540.933 \n",
       "  1408.41,597.68 1412.85,910.236 1417.3,943.212 1421.74,553.945 1426.19,409.771 1430.63,703.439 1435.08,828.419 1439.52,865.429 1443.97,967.89 1448.41,532.225 \n",
       "  1452.86,703.804 1457.3,811.388 1461.75,805.63 1466.19,908.821 1470.63,769.838 1475.08,712.298 1479.52,641.114 1483.97,818.5 1488.41,786.743 1492.86,802.348 \n",
       "  1497.3,844.817 1501.75,885.952 1506.19,810.178 1510.64,771.221 1515.08,574.535 1519.53,654.185 1523.97,813.445 1528.41,915.109 1532.86,749.295 1537.3,783.971 \n",
       "  1541.75,786.069 1546.19,801.134 1550.64,515.004 1555.08,755.372 1559.53,831.379 1563.97,861.724 1568.42,831.54 1572.86,725.989 1577.31,767.902 1581.75,994.27 \n",
       "  1586.19,955.576 1590.64,939.676 1595.08,767.713 1599.53,881.221 1603.97,801.997 1608.42,919.607 1612.86,971.798 1617.31,834.643 1621.75,867.438 1626.2,641.78 \n",
       "  1630.64,849.398 1635.09,1038.44 1639.53,972.377 1643.97,1056.58 1648.42,812.816 1652.86,811.251 1657.31,976.977 1661.75,844.784 1666.2,931.871 1670.64,1026.13 \n",
       "  1675.09,1030.03 1679.53,991.016 1683.98,1136.99 1688.42,917.382 1692.87,1064.46 1697.31,1039.49 1701.75,972.021 1706.2,1149.51 1710.64,987.727 1715.09,801.851 \n",
       "  1719.53,1063.49 1723.98,791.895 1728.42,927.584 1732.87,1141.38 1737.31,1043.74 1741.76,1097.15 1746.2,1027.04 1750.64,1138.46 1755.09,882.636 1759.53,1049.69 \n",
       "  1763.98,991.196 1768.42,915.576 1772.87,1054.5 1777.31,903.73 1781.76,988.458 1786.2,1113.18 1790.65,930.923 1795.09,1281.25 1799.54,1115.93 1803.98,1051.25 \n",
       "  1808.42,1224.06 1812.87,1158.5 1817.31,1262.1 1821.76,857.552 1826.2,1138.91 1830.65,872.424 1835.09,1177.85 1839.54,1132.46 1843.98,1184.03 1848.43,1246.99 \n",
       "  1852.87,1056.5 1857.32,1196.5 1861.76,1079.22 1866.2,1134.21 1870.65,1150.33 1875.09,1157.34 1879.54,921.979 1883.98,910.58 1888.43,1129.62 1892.87,933.42 \n",
       "  1897.32,1362.72 1901.76,1065.03 1906.21,908.933 1910.65,1112.82 1915.1,1188.4 1919.54,895.031 1923.98,1136.09 1928.43,983.068 1932.87,1091.27 1937.32,1156.5 \n",
       "  1941.76,1003.21 1946.21,998.714 1950.65,955.489 1955.1,989.222 1959.54,1140.06 1963.99,1189.45 1968.43,974.22 1972.88,1127.91 1977.32,1137.39 1981.76,954.192 \n",
       "  1986.21,1006.01 1990.65,1009.57 1995.1,1249.14 1999.54,976.809 2003.99,1211.83 2008.43,1261.27 2012.88,1250.18 2017.32,1248.65 2021.77,1106.15 2026.21,1049.37 \n",
       "  2030.66,1046.58 2035.1,1185.04 2039.54,997.698 2043.99,1300.02 2048.43,962.847 2052.88,1238.37 2057.32,1080.29 2061.77,1211.1 2066.21,1010.57 2070.66,1017.97 \n",
       "  2075.1,1169.26 2079.55,1148.15 2083.99,1130.45 2088.44,1131.37 2092.88,1162.22 2097.32,1128.22 2101.77,1182.31 2106.21,1177.08 2110.66,1052.74 2115.1,1173.82 \n",
       "  2119.55,1155.06 2123.99,969.297 2128.44,1189.14 2132.88,1131.98 2137.33,1183.91 2141.77,1085.02 2146.21,1299.2 2150.66,1085.84 2155.1,1076.02 2159.55,1146.39 \n",
       "  2163.99,1152.05 2168.44,1255.53 2172.88,1040.37 2177.33,1159.59 2181.77,998.157 2186.22,1133.14 2190.66,1386.4 2195.11,1068.89 2199.55,1314.89 2203.99,1073.31 \n",
       "  2208.44,1207.28 2212.88,1006.25 2217.33,1070.6 2221.77,1145.91 2226.22,1172.58 2230.66,1262.22 2235.11,1270.81 2239.55,1234.98 2244,1170.44 2248.44,1065.36 \n",
       "  2252.89,1139.38 2257.33,1262.19 2261.77,1249.22 2266.22,978.388 2270.66,1213.79 2275.11,1218.04 2279.55,1161.9 2284,1271.36 2288.44,1121.04 2292.89,1161.93 \n",
       "  \n",
       "  \"/>\n",
       "<path clip-path=\"url(#clip280)\" d=\"\n",
       "M1989.74 327.952 L2280.76 327.952 L2280.76 206.992 L1989.74 206.992  Z\n",
       "  \" fill=\"#ffffff\" fill-rule=\"evenodd\" fill-opacity=\"1\"/>\n",
       "<polyline clip-path=\"url(#clip280)\" style=\"stroke:#000000; stroke-width:4; stroke-opacity:1; fill:none\" points=\"\n",
       "  1989.74,327.952 2280.76,327.952 2280.76,206.992 1989.74,206.992 1989.74,327.952 \n",
       "  \"/>\n",
       "<polyline clip-path=\"url(#clip280)\" style=\"stroke:#009af9; stroke-width:4; stroke-opacity:1; fill:none\" points=\"\n",
       "  2013.74,267.472 2157.74,267.472 \n",
       "  \"/>\n",
       "<path clip-path=\"url(#clip280)\" d=\"M 0 0 M2195.58 287.16 Q2193.77 291.789 2192.06 293.201 Q2190.35 294.613 2187.48 294.613 L2184.08 294.613 L2184.08 291.048 L2186.58 291.048 Q2188.33 291.048 2189.31 290.215 Q2190.28 289.382 2191.46 286.28 L2192.22 284.335 L2181.74 258.826 L2186.25 258.826 L2194.35 279.104 L2202.46 258.826 L2206.97 258.826 L2195.58 287.16 Z\" fill=\"#000000\" fill-rule=\"evenodd\" fill-opacity=\"1\" /><path clip-path=\"url(#clip280)\" d=\"M 0 0 M2212.85 280.817 L2220.49 280.817 L2220.49 254.451 L2212.18 256.118 L2212.18 251.859 L2220.44 250.192 L2225.12 250.192 L2225.12 280.817 L2232.76 280.817 L2232.76 284.752 L2212.85 284.752 L2212.85 280.817 Z\" fill=\"#000000\" fill-rule=\"evenodd\" fill-opacity=\"1\" /></svg>\n"
      ]
     },
     "execution_count": 64,
     "metadata": {},
     "output_type": "execute_result"
    }
   ],
   "source": [
    "using Plots\n",
    "x = h2[!,1]; y = h2[!,2]; # These are the plotting data\n",
    "plot(x,y, title = \"h2 trace plot\",\n",
    "        xlabel = \"iteration\", ylabel = \"h2\")"
   ]
  },
  {
   "cell_type": "code",
   "execution_count": null,
   "metadata": {},
   "outputs": [
    {
     "name": "stdout",
     "output_type": "stream",
     "text": [
      "Compute the posterior probability of association of the genomic window that explains more than 0.001 of the total genetic variance.\n"
     ]
    }
   ],
   "source": [
    "@time ADFI_outB,ADFI_winVarProps = GWAS(\"MCMC_samples_marker_effects_ADFI.txt\",\n",
    "    \"/home/jovyan/mark/JWAS_CDPQ/CDPQ_all_data/ChrInfo_map_1_7_Complete_JWAS.txt\",\n",
    "    M;header=true,window_size=\"1 Mb\",threshold=0.001)"
   ]
  },
  {
   "cell_type": "code",
   "execution_count": 27,
   "metadata": {},
   "outputs": [
    {
     "data": {
      "text/html": [
       "<table class=\"data-frame\"><thead><tr><th></th><th>window</th><th>chr</th><th>wStart</th><th>wEnd</th><th>start_SNP</th><th>end_SNP</th><th>numSNP</th><th>prGenVar</th><th>WPPA</th></tr><tr><th></th><th>Int64</th><th>String</th><th>Int64</th><th>Int64</th><th>Int64</th><th>Int64</th><th>Int64</th><th>Float64</th><th>Float64</th></tr></thead><tbody><p>2,398 rows × 10 columns (omitted printing of 1 columns)</p><tr><th>1</th><td>1061</td><td>7</td><td>93000000</td><td>94000000</td><td>93000355</td><td>93980818</td><td>228</td><td>1.57</td><td>0.433333</td></tr><tr><th>2</th><td>118</td><td>1</td><td>117000000</td><td>118000000</td><td>117001841</td><td>117988311</td><td>182</td><td>0.36</td><td>0.257778</td></tr><tr><th>3</th><td>1018</td><td>7</td><td>50000000</td><td>51000000</td><td>50001617</td><td>50996708</td><td>251</td><td>0.33</td><td>0.377778</td></tr><tr><th>4</th><td>990</td><td>7</td><td>22000000</td><td>23000000</td><td>22003711</td><td>22970603</td><td>188</td><td>0.32</td><td>0.215556</td></tr><tr><th>5</th><td>2183</td><td>17</td><td>30000000</td><td>31000000</td><td>30002660</td><td>30993815</td><td>252</td><td>0.31</td><td>0.244444</td></tr><tr><th>6</th><td>119</td><td>1</td><td>118000000</td><td>119000000</td><td>118001042</td><td>118999237</td><td>107</td><td>0.31</td><td>0.208889</td></tr><tr><th>7</th><td>120</td><td>1</td><td>119000000</td><td>120000000</td><td>119009467</td><td>119998335</td><td>128</td><td>0.28</td><td>0.202222</td></tr><tr><th>8</th><td>2076</td><td>16</td><td>3000000</td><td>4000000</td><td>3001996</td><td>3998921</td><td>245</td><td>0.27</td><td>0.257778</td></tr><tr><th>9</th><td>162</td><td>1</td><td>161000000</td><td>162000000</td><td>161005018</td><td>161999307</td><td>223</td><td>0.24</td><td>0.231111</td></tr><tr><th>10</th><td>1611</td><td>13</td><td>30000000</td><td>31000000</td><td>30068506</td><td>30958102</td><td>148</td><td>0.23</td><td>0.204444</td></tr><tr><th>11</th><td>1560</td><td>12</td><td>41000000</td><td>42000000</td><td>41001232</td><td>41950202</td><td>230</td><td>0.22</td><td>0.246667</td></tr><tr><th>12</th><td>167</td><td>1</td><td>166000000</td><td>167000000</td><td>166003026</td><td>166999086</td><td>196</td><td>0.22</td><td>0.197778</td></tr><tr><th>13</th><td>1934</td><td>15</td><td>2000000</td><td>3000000</td><td>2001206</td><td>2997811</td><td>229</td><td>0.2</td><td>0.186667</td></tr><tr><th>14</th><td>651</td><td>4</td><td>90000000</td><td>91000000</td><td>90001950</td><td>90995247</td><td>248</td><td>0.2</td><td>0.182222</td></tr><tr><th>15</th><td>690</td><td>4</td><td>129000000</td><td>130000000</td><td>129000232</td><td>129997909</td><td>271</td><td>0.19</td><td>0.295556</td></tr><tr><th>16</th><td>1253</td><td>9</td><td>24000000</td><td>25000000</td><td>24004093</td><td>24994001</td><td>284</td><td>0.19</td><td>0.237778</td></tr><tr><th>17</th><td>411</td><td>2</td><td>135000000</td><td>136000000</td><td>135005920</td><td>135998841</td><td>254</td><td>0.18</td><td>0.233333</td></tr><tr><th>18</th><td>2090</td><td>16</td><td>17000000</td><td>18000000</td><td>17001516</td><td>17996098</td><td>250</td><td>0.18</td><td>0.2</td></tr><tr><th>19</th><td>1933</td><td>15</td><td>1000000</td><td>2000000</td><td>1001402</td><td>1999028</td><td>248</td><td>0.18</td><td>0.182222</td></tr><tr><th>20</th><td>619</td><td>4</td><td>58000000</td><td>59000000</td><td>58000723</td><td>58996669</td><td>173</td><td>0.18</td><td>0.162222</td></tr><tr><th>21</th><td>875</td><td>6</td><td>78000000</td><td>79000000</td><td>78000385</td><td>78999521</td><td>271</td><td>0.17</td><td>0.273333</td></tr><tr><th>22</th><td>317</td><td>2</td><td>41000000</td><td>42000000</td><td>41003027</td><td>41994631</td><td>255</td><td>0.17</td><td>0.24</td></tr><tr><th>23</th><td>657</td><td>4</td><td>96000000</td><td>97000000</td><td>96001092</td><td>96996272</td><td>242</td><td>0.17</td><td>0.197778</td></tr><tr><th>24</th><td>270</td><td>1</td><td>269000000</td><td>270000000</td><td>269000418</td><td>269999953</td><td>208</td><td>0.17</td><td>0.153333</td></tr><tr><th>25</th><td>1019</td><td>7</td><td>51000000</td><td>52000000</td><td>51000085</td><td>51999459</td><td>270</td><td>0.15</td><td>0.251111</td></tr><tr><th>26</th><td>1020</td><td>7</td><td>52000000</td><td>53000000</td><td>52002198</td><td>52999923</td><td>214</td><td>0.15</td><td>0.231111</td></tr><tr><th>27</th><td>994</td><td>7</td><td>26000000</td><td>27000000</td><td>26007598</td><td>26997638</td><td>265</td><td>0.15</td><td>0.228889</td></tr><tr><th>28</th><td>2073</td><td>16</td><td>0</td><td>1000000</td><td>57109</td><td>992635</td><td>191</td><td>0.15</td><td>0.202222</td></tr><tr><th>29</th><td>700</td><td>5</td><td>8000000</td><td>9000000</td><td>8004360</td><td>8998287</td><td>223</td><td>0.15</td><td>0.173333</td></tr><tr><th>30</th><td>166</td><td>1</td><td>165000000</td><td>166000000</td><td>165001760</td><td>165994631</td><td>142</td><td>0.15</td><td>0.146667</td></tr><tr><th>&vellip;</th><td>&vellip;</td><td>&vellip;</td><td>&vellip;</td><td>&vellip;</td><td>&vellip;</td><td>&vellip;</td><td>&vellip;</td><td>&vellip;</td><td>&vellip;</td></tr></tbody></table>"
      ],
      "text/latex": [
       "\\begin{tabular}{r|cccccccccc}\n",
       "\t& window & chr & wStart & wEnd & start\\_SNP & end\\_SNP & numSNP & prGenVar & WPPA & \\\\\n",
       "\t\\hline\n",
       "\t& Int64 & String & Int64 & Int64 & Int64 & Int64 & Int64 & Float64 & Float64 & \\\\\n",
       "\t\\hline\n",
       "\t1 & 1061 & 7 & 93000000 & 94000000 & 93000355 & 93980818 & 228 & 1.57 & 0.433333 & $\\dots$ \\\\\n",
       "\t2 & 118 & 1 & 117000000 & 118000000 & 117001841 & 117988311 & 182 & 0.36 & 0.257778 & $\\dots$ \\\\\n",
       "\t3 & 1018 & 7 & 50000000 & 51000000 & 50001617 & 50996708 & 251 & 0.33 & 0.377778 & $\\dots$ \\\\\n",
       "\t4 & 990 & 7 & 22000000 & 23000000 & 22003711 & 22970603 & 188 & 0.32 & 0.215556 & $\\dots$ \\\\\n",
       "\t5 & 2183 & 17 & 30000000 & 31000000 & 30002660 & 30993815 & 252 & 0.31 & 0.244444 & $\\dots$ \\\\\n",
       "\t6 & 119 & 1 & 118000000 & 119000000 & 118001042 & 118999237 & 107 & 0.31 & 0.208889 & $\\dots$ \\\\\n",
       "\t7 & 120 & 1 & 119000000 & 120000000 & 119009467 & 119998335 & 128 & 0.28 & 0.202222 & $\\dots$ \\\\\n",
       "\t8 & 2076 & 16 & 3000000 & 4000000 & 3001996 & 3998921 & 245 & 0.27 & 0.257778 & $\\dots$ \\\\\n",
       "\t9 & 162 & 1 & 161000000 & 162000000 & 161005018 & 161999307 & 223 & 0.24 & 0.231111 & $\\dots$ \\\\\n",
       "\t10 & 1611 & 13 & 30000000 & 31000000 & 30068506 & 30958102 & 148 & 0.23 & 0.204444 & $\\dots$ \\\\\n",
       "\t11 & 1560 & 12 & 41000000 & 42000000 & 41001232 & 41950202 & 230 & 0.22 & 0.246667 & $\\dots$ \\\\\n",
       "\t12 & 167 & 1 & 166000000 & 167000000 & 166003026 & 166999086 & 196 & 0.22 & 0.197778 & $\\dots$ \\\\\n",
       "\t13 & 1934 & 15 & 2000000 & 3000000 & 2001206 & 2997811 & 229 & 0.2 & 0.186667 & $\\dots$ \\\\\n",
       "\t14 & 651 & 4 & 90000000 & 91000000 & 90001950 & 90995247 & 248 & 0.2 & 0.182222 & $\\dots$ \\\\\n",
       "\t15 & 690 & 4 & 129000000 & 130000000 & 129000232 & 129997909 & 271 & 0.19 & 0.295556 & $\\dots$ \\\\\n",
       "\t16 & 1253 & 9 & 24000000 & 25000000 & 24004093 & 24994001 & 284 & 0.19 & 0.237778 & $\\dots$ \\\\\n",
       "\t17 & 411 & 2 & 135000000 & 136000000 & 135005920 & 135998841 & 254 & 0.18 & 0.233333 & $\\dots$ \\\\\n",
       "\t18 & 2090 & 16 & 17000000 & 18000000 & 17001516 & 17996098 & 250 & 0.18 & 0.2 & $\\dots$ \\\\\n",
       "\t19 & 1933 & 15 & 1000000 & 2000000 & 1001402 & 1999028 & 248 & 0.18 & 0.182222 & $\\dots$ \\\\\n",
       "\t20 & 619 & 4 & 58000000 & 59000000 & 58000723 & 58996669 & 173 & 0.18 & 0.162222 & $\\dots$ \\\\\n",
       "\t21 & 875 & 6 & 78000000 & 79000000 & 78000385 & 78999521 & 271 & 0.17 & 0.273333 & $\\dots$ \\\\\n",
       "\t22 & 317 & 2 & 41000000 & 42000000 & 41003027 & 41994631 & 255 & 0.17 & 0.24 & $\\dots$ \\\\\n",
       "\t23 & 657 & 4 & 96000000 & 97000000 & 96001092 & 96996272 & 242 & 0.17 & 0.197778 & $\\dots$ \\\\\n",
       "\t24 & 270 & 1 & 269000000 & 270000000 & 269000418 & 269999953 & 208 & 0.17 & 0.153333 & $\\dots$ \\\\\n",
       "\t25 & 1019 & 7 & 51000000 & 52000000 & 51000085 & 51999459 & 270 & 0.15 & 0.251111 & $\\dots$ \\\\\n",
       "\t26 & 1020 & 7 & 52000000 & 53000000 & 52002198 & 52999923 & 214 & 0.15 & 0.231111 & $\\dots$ \\\\\n",
       "\t27 & 994 & 7 & 26000000 & 27000000 & 26007598 & 26997638 & 265 & 0.15 & 0.228889 & $\\dots$ \\\\\n",
       "\t28 & 2073 & 16 & 0 & 1000000 & 57109 & 992635 & 191 & 0.15 & 0.202222 & $\\dots$ \\\\\n",
       "\t29 & 700 & 5 & 8000000 & 9000000 & 8004360 & 8998287 & 223 & 0.15 & 0.173333 & $\\dots$ \\\\\n",
       "\t30 & 166 & 1 & 165000000 & 166000000 & 165001760 & 165994631 & 142 & 0.15 & 0.146667 & $\\dots$ \\\\\n",
       "\t$\\dots$ & $\\dots$ & $\\dots$ & $\\dots$ & $\\dots$ & $\\dots$ & $\\dots$ & $\\dots$ & $\\dots$ & $\\dots$ &  \\\\\n",
       "\\end{tabular}\n"
      ],
      "text/plain": [
       "2398×10 DataFrame. Omitted printing of 4 columns\n",
       "│ Row  │ window │ chr    │ wStart    │ wEnd      │ start_SNP │ end_SNP   │\n",
       "│      │ \u001b[90mInt64\u001b[39m  │ \u001b[90mString\u001b[39m │ \u001b[90mInt64\u001b[39m     │ \u001b[90mInt64\u001b[39m     │ \u001b[90mInt64\u001b[39m     │ \u001b[90mInt64\u001b[39m     │\n",
       "├──────┼────────┼────────┼───────────┼───────────┼───────────┼───────────┤\n",
       "│ 1    │ 1061   │ 7      │ 93000000  │ 94000000  │ 93000355  │ 93980818  │\n",
       "│ 2    │ 118    │ 1      │ 117000000 │ 118000000 │ 117001841 │ 117988311 │\n",
       "│ 3    │ 1018   │ 7      │ 50000000  │ 51000000  │ 50001617  │ 50996708  │\n",
       "│ 4    │ 990    │ 7      │ 22000000  │ 23000000  │ 22003711  │ 22970603  │\n",
       "│ 5    │ 2183   │ 17     │ 30000000  │ 31000000  │ 30002660  │ 30993815  │\n",
       "│ 6    │ 119    │ 1      │ 118000000 │ 119000000 │ 118001042 │ 118999237 │\n",
       "│ 7    │ 120    │ 1      │ 119000000 │ 120000000 │ 119009467 │ 119998335 │\n",
       "│ 8    │ 2076   │ 16     │ 3000000   │ 4000000   │ 3001996   │ 3998921   │\n",
       "│ 9    │ 162    │ 1      │ 161000000 │ 162000000 │ 161005018 │ 161999307 │\n",
       "│ 10   │ 1611   │ 13     │ 30000000  │ 31000000  │ 30068506  │ 30958102  │\n",
       "⋮\n",
       "│ 2388 │ 2387   │ 19     │ 114000000 │ 115000000 │ 114013682 │ 114817733 │\n",
       "│ 2389 │ 2388   │ 19     │ 115000000 │ 116000000 │ 115198893 │ 115789333 │\n",
       "│ 2390 │ 2389   │ 19     │ 116000000 │ 117000000 │ 116147085 │ 116473082 │\n",
       "│ 2391 │ 2390   │ 19     │ 117000000 │ 118000000 │ 117207666 │ 117938555 │\n",
       "│ 2392 │ 2391   │ 19     │ 118000000 │ 119000000 │ 118118313 │ 118993807 │\n",
       "│ 2393 │ 2392   │ 19     │ 119000000 │ 120000000 │ 119359015 │ 119944128 │\n",
       "│ 2394 │ 2394   │ 19     │ 121000000 │ 122000000 │ 121097039 │ 121811040 │\n",
       "│ 2395 │ 2395   │ 19     │ 122000000 │ 123000000 │ 122129641 │ 122242047 │\n",
       "│ 2396 │ 2396   │ 19     │ 123000000 │ 124000000 │ 123114154 │ 123980725 │\n",
       "│ 2397 │ 2397   │ 19     │ 124000000 │ 125000000 │ 124091310 │ 124725806 │\n",
       "│ 2398 │ 2398   │ 19     │ 125000000 │ 126000000 │ 125621888 │ 125621888 │"
      ]
     },
     "execution_count": 27,
     "metadata": {},
     "output_type": "execute_result"
    }
   ],
   "source": [
    "sort(ADFI_outB, :prGenVar, rev=true)"
   ]
  },
  {
   "cell_type": "code",
   "execution_count": 28,
   "metadata": {},
   "outputs": [
    {
     "data": {
      "text/plain": [
       "99.01000000000005"
      ]
     },
     "execution_count": 28,
     "metadata": {},
     "output_type": "execute_result"
    }
   ],
   "source": [
    "sum(ADFI_outB[!, 8])"
   ]
  },
  {
   "cell_type": "code",
   "execution_count": null,
   "metadata": {},
   "outputs": [],
   "source": [
    "CSV.write(\"MCMC_samples_1Mb_window_VarProps_ADFI.txt\", ADFI_outB)"
   ]
  },
  {
   "cell_type": "code",
   "execution_count": null,
   "metadata": {},
   "outputs": [],
   "source": [
    "#marker_effects = GWAS(\"MCMC_samples_marker_effects_FinADG.txt\";header=true) # probability of inclusion"
   ]
  },
  {
   "cell_type": "code",
   "execution_count": null,
   "metadata": {},
   "outputs": [],
   "source": [
    "#Nur2_ADG_outBPi = GWAS(\"MCMC_samples_marker_effects_Nur2ADG.txt\",Nur2ADG_model;header=true,window_size=20,threshold=0.001,output_winVarProps=false)  # No map"
   ]
  },
  {
   "cell_type": "code",
   "execution_count": null,
   "metadata": {
    "scrolled": false
   },
   "outputs": [],
   "source": [
    "#using DelimitedFiles\n",
    "#VL_winVarProps=readdlm(\"JWAS-WG/Haplotype/MCMC_samples_1MbwindowVarProps_Haplotype_WG-BayesB.txt\", '\\t',header=false)"
   ]
  },
  {
   "cell_type": "code",
   "execution_count": null,
   "metadata": {},
   "outputs": [],
   "source": [
    "#res = VL_winVarProps .> 2/2400\n",
    "#ppa = sum(res,dims=1)./450"
   ]
  },
  {
   "cell_type": "code",
   "execution_count": null,
   "metadata": {},
   "outputs": [],
   "source": [
    "#ppa[1, [261 755 1352 2185]]"
   ]
  },
  {
   "cell_type": "code",
   "execution_count": null,
   "metadata": {
    "scrolled": true
   },
   "outputs": [],
   "source": [
    "#sort(vec(ppa))"
   ]
  }
 ],
 "metadata": {
  "kernelspec": {
   "display_name": "Julia 1.1.0",
   "language": "julia",
   "name": "julia-1.1"
  },
  "language_info": {
   "file_extension": ".jl",
   "mimetype": "application/julia",
   "name": "julia",
   "version": "1.1.0"
  }
 },
 "nbformat": 4,
 "nbformat_minor": 2
}
